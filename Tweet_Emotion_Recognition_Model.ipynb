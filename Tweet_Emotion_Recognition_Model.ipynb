{
  "nbformat": 4,
  "nbformat_minor": 0,
  "metadata": {
    "accelerator": "GPU",
    "colab": {
      "name": "Tweet Emotion Recognition Model.ipynb",
      "provenance": [],
      "collapsed_sections": [],
      "include_colab_link": true
    },
    "kernelspec": {
      "display_name": "Python 3",
      "language": "python",
      "name": "python3"
    },
    "language_info": {
      "codemirror_mode": {
        "name": "ipython",
        "version": 3
      },
      "file_extension": ".py",
      "mimetype": "text/x-python",
      "name": "python",
      "nbconvert_exporter": "python",
      "pygments_lexer": "ipython3",
      "version": "3.8.3"
    },
    "gpuClass": "standard",
    "widgets": {
      "application/vnd.jupyter.widget-state+json": {
        "57a347b6cc19487389e81a3a884b5a52": {
          "model_module": "@jupyter-widgets/controls",
          "model_name": "HBoxModel",
          "model_module_version": "1.5.0",
          "state": {
            "_dom_classes": [],
            "_model_module": "@jupyter-widgets/controls",
            "_model_module_version": "1.5.0",
            "_model_name": "HBoxModel",
            "_view_count": null,
            "_view_module": "@jupyter-widgets/controls",
            "_view_module_version": "1.5.0",
            "_view_name": "HBoxView",
            "box_style": "",
            "children": [
              "IPY_MODEL_46d6a006e74b450b8309b5e38cc363c6",
              "IPY_MODEL_28b77f5c9e164b609d1971f5618802cb",
              "IPY_MODEL_d29f3dd21b5f4d3f8fc642b0566730ff"
            ],
            "layout": "IPY_MODEL_63951eb3d969413c87d6fdad485580b3"
          }
        },
        "46d6a006e74b450b8309b5e38cc363c6": {
          "model_module": "@jupyter-widgets/controls",
          "model_name": "HTMLModel",
          "model_module_version": "1.5.0",
          "state": {
            "_dom_classes": [],
            "_model_module": "@jupyter-widgets/controls",
            "_model_module_version": "1.5.0",
            "_model_name": "HTMLModel",
            "_view_count": null,
            "_view_module": "@jupyter-widgets/controls",
            "_view_module_version": "1.5.0",
            "_view_name": "HTMLView",
            "description": "",
            "description_tooltip": null,
            "layout": "IPY_MODEL_9cfb11a261af4a139797e0a0bdc24422",
            "placeholder": "​",
            "style": "IPY_MODEL_5de9af1d673b4c2bb3989b4b54a4dd12",
            "value": "Downloading: 100%"
          }
        },
        "28b77f5c9e164b609d1971f5618802cb": {
          "model_module": "@jupyter-widgets/controls",
          "model_name": "FloatProgressModel",
          "model_module_version": "1.5.0",
          "state": {
            "_dom_classes": [],
            "_model_module": "@jupyter-widgets/controls",
            "_model_module_version": "1.5.0",
            "_model_name": "FloatProgressModel",
            "_view_count": null,
            "_view_module": "@jupyter-widgets/controls",
            "_view_module_version": "1.5.0",
            "_view_name": "ProgressView",
            "bar_style": "success",
            "description": "",
            "description_tooltip": null,
            "layout": "IPY_MODEL_2dd72da904904b51a8034b18bbf20b31",
            "max": 3406,
            "min": 0,
            "orientation": "horizontal",
            "style": "IPY_MODEL_de46a19f9ad84e2dbb5b39b06a44cb7e",
            "value": 3406
          }
        },
        "d29f3dd21b5f4d3f8fc642b0566730ff": {
          "model_module": "@jupyter-widgets/controls",
          "model_name": "HTMLModel",
          "model_module_version": "1.5.0",
          "state": {
            "_dom_classes": [],
            "_model_module": "@jupyter-widgets/controls",
            "_model_module_version": "1.5.0",
            "_model_name": "HTMLModel",
            "_view_count": null,
            "_view_module": "@jupyter-widgets/controls",
            "_view_module_version": "1.5.0",
            "_view_name": "HTMLView",
            "description": "",
            "description_tooltip": null,
            "layout": "IPY_MODEL_668d818d54d34be4bed37458d45cdb9d",
            "placeholder": "​",
            "style": "IPY_MODEL_3843b629a4f04138a0a08a0e2d230f21",
            "value": " 3.41k/3.41k [00:00&lt;00:00, 92.8kB/s]"
          }
        },
        "63951eb3d969413c87d6fdad485580b3": {
          "model_module": "@jupyter-widgets/base",
          "model_name": "LayoutModel",
          "model_module_version": "1.2.0",
          "state": {
            "_model_module": "@jupyter-widgets/base",
            "_model_module_version": "1.2.0",
            "_model_name": "LayoutModel",
            "_view_count": null,
            "_view_module": "@jupyter-widgets/base",
            "_view_module_version": "1.2.0",
            "_view_name": "LayoutView",
            "align_content": null,
            "align_items": null,
            "align_self": null,
            "border": null,
            "bottom": null,
            "display": null,
            "flex": null,
            "flex_flow": null,
            "grid_area": null,
            "grid_auto_columns": null,
            "grid_auto_flow": null,
            "grid_auto_rows": null,
            "grid_column": null,
            "grid_gap": null,
            "grid_row": null,
            "grid_template_areas": null,
            "grid_template_columns": null,
            "grid_template_rows": null,
            "height": null,
            "justify_content": null,
            "justify_items": null,
            "left": null,
            "margin": null,
            "max_height": null,
            "max_width": null,
            "min_height": null,
            "min_width": null,
            "object_fit": null,
            "object_position": null,
            "order": null,
            "overflow": null,
            "overflow_x": null,
            "overflow_y": null,
            "padding": null,
            "right": null,
            "top": null,
            "visibility": null,
            "width": null
          }
        },
        "9cfb11a261af4a139797e0a0bdc24422": {
          "model_module": "@jupyter-widgets/base",
          "model_name": "LayoutModel",
          "model_module_version": "1.2.0",
          "state": {
            "_model_module": "@jupyter-widgets/base",
            "_model_module_version": "1.2.0",
            "_model_name": "LayoutModel",
            "_view_count": null,
            "_view_module": "@jupyter-widgets/base",
            "_view_module_version": "1.2.0",
            "_view_name": "LayoutView",
            "align_content": null,
            "align_items": null,
            "align_self": null,
            "border": null,
            "bottom": null,
            "display": null,
            "flex": null,
            "flex_flow": null,
            "grid_area": null,
            "grid_auto_columns": null,
            "grid_auto_flow": null,
            "grid_auto_rows": null,
            "grid_column": null,
            "grid_gap": null,
            "grid_row": null,
            "grid_template_areas": null,
            "grid_template_columns": null,
            "grid_template_rows": null,
            "height": null,
            "justify_content": null,
            "justify_items": null,
            "left": null,
            "margin": null,
            "max_height": null,
            "max_width": null,
            "min_height": null,
            "min_width": null,
            "object_fit": null,
            "object_position": null,
            "order": null,
            "overflow": null,
            "overflow_x": null,
            "overflow_y": null,
            "padding": null,
            "right": null,
            "top": null,
            "visibility": null,
            "width": null
          }
        },
        "5de9af1d673b4c2bb3989b4b54a4dd12": {
          "model_module": "@jupyter-widgets/controls",
          "model_name": "DescriptionStyleModel",
          "model_module_version": "1.5.0",
          "state": {
            "_model_module": "@jupyter-widgets/controls",
            "_model_module_version": "1.5.0",
            "_model_name": "DescriptionStyleModel",
            "_view_count": null,
            "_view_module": "@jupyter-widgets/base",
            "_view_module_version": "1.2.0",
            "_view_name": "StyleView",
            "description_width": ""
          }
        },
        "2dd72da904904b51a8034b18bbf20b31": {
          "model_module": "@jupyter-widgets/base",
          "model_name": "LayoutModel",
          "model_module_version": "1.2.0",
          "state": {
            "_model_module": "@jupyter-widgets/base",
            "_model_module_version": "1.2.0",
            "_model_name": "LayoutModel",
            "_view_count": null,
            "_view_module": "@jupyter-widgets/base",
            "_view_module_version": "1.2.0",
            "_view_name": "LayoutView",
            "align_content": null,
            "align_items": null,
            "align_self": null,
            "border": null,
            "bottom": null,
            "display": null,
            "flex": null,
            "flex_flow": null,
            "grid_area": null,
            "grid_auto_columns": null,
            "grid_auto_flow": null,
            "grid_auto_rows": null,
            "grid_column": null,
            "grid_gap": null,
            "grid_row": null,
            "grid_template_areas": null,
            "grid_template_columns": null,
            "grid_template_rows": null,
            "height": null,
            "justify_content": null,
            "justify_items": null,
            "left": null,
            "margin": null,
            "max_height": null,
            "max_width": null,
            "min_height": null,
            "min_width": null,
            "object_fit": null,
            "object_position": null,
            "order": null,
            "overflow": null,
            "overflow_x": null,
            "overflow_y": null,
            "padding": null,
            "right": null,
            "top": null,
            "visibility": null,
            "width": null
          }
        },
        "de46a19f9ad84e2dbb5b39b06a44cb7e": {
          "model_module": "@jupyter-widgets/controls",
          "model_name": "ProgressStyleModel",
          "model_module_version": "1.5.0",
          "state": {
            "_model_module": "@jupyter-widgets/controls",
            "_model_module_version": "1.5.0",
            "_model_name": "ProgressStyleModel",
            "_view_count": null,
            "_view_module": "@jupyter-widgets/base",
            "_view_module_version": "1.2.0",
            "_view_name": "StyleView",
            "bar_color": null,
            "description_width": ""
          }
        },
        "668d818d54d34be4bed37458d45cdb9d": {
          "model_module": "@jupyter-widgets/base",
          "model_name": "LayoutModel",
          "model_module_version": "1.2.0",
          "state": {
            "_model_module": "@jupyter-widgets/base",
            "_model_module_version": "1.2.0",
            "_model_name": "LayoutModel",
            "_view_count": null,
            "_view_module": "@jupyter-widgets/base",
            "_view_module_version": "1.2.0",
            "_view_name": "LayoutView",
            "align_content": null,
            "align_items": null,
            "align_self": null,
            "border": null,
            "bottom": null,
            "display": null,
            "flex": null,
            "flex_flow": null,
            "grid_area": null,
            "grid_auto_columns": null,
            "grid_auto_flow": null,
            "grid_auto_rows": null,
            "grid_column": null,
            "grid_gap": null,
            "grid_row": null,
            "grid_template_areas": null,
            "grid_template_columns": null,
            "grid_template_rows": null,
            "height": null,
            "justify_content": null,
            "justify_items": null,
            "left": null,
            "margin": null,
            "max_height": null,
            "max_width": null,
            "min_height": null,
            "min_width": null,
            "object_fit": null,
            "object_position": null,
            "order": null,
            "overflow": null,
            "overflow_x": null,
            "overflow_y": null,
            "padding": null,
            "right": null,
            "top": null,
            "visibility": null,
            "width": null
          }
        },
        "3843b629a4f04138a0a08a0e2d230f21": {
          "model_module": "@jupyter-widgets/controls",
          "model_name": "DescriptionStyleModel",
          "model_module_version": "1.5.0",
          "state": {
            "_model_module": "@jupyter-widgets/controls",
            "_model_module_version": "1.5.0",
            "_model_name": "DescriptionStyleModel",
            "_view_count": null,
            "_view_module": "@jupyter-widgets/base",
            "_view_module_version": "1.2.0",
            "_view_name": "StyleView",
            "description_width": ""
          }
        },
        "4e827d2651f94cc2a35725c827d97814": {
          "model_module": "@jupyter-widgets/controls",
          "model_name": "HBoxModel",
          "model_module_version": "1.5.0",
          "state": {
            "_dom_classes": [],
            "_model_module": "@jupyter-widgets/controls",
            "_model_module_version": "1.5.0",
            "_model_name": "HBoxModel",
            "_view_count": null,
            "_view_module": "@jupyter-widgets/controls",
            "_view_module_version": "1.5.0",
            "_view_name": "HBoxView",
            "box_style": "",
            "children": [
              "IPY_MODEL_635bb40dc65c40b187e6f91289f2c65d",
              "IPY_MODEL_d891c95560db434c8d4d5f65cc5d24d0",
              "IPY_MODEL_dc0bb5c03fd84fe5b8846aeba739719c"
            ],
            "layout": "IPY_MODEL_95867fa38b894118bb485377754a7744"
          }
        },
        "635bb40dc65c40b187e6f91289f2c65d": {
          "model_module": "@jupyter-widgets/controls",
          "model_name": "HTMLModel",
          "model_module_version": "1.5.0",
          "state": {
            "_dom_classes": [],
            "_model_module": "@jupyter-widgets/controls",
            "_model_module_version": "1.5.0",
            "_model_name": "HTMLModel",
            "_view_count": null,
            "_view_module": "@jupyter-widgets/controls",
            "_view_module_version": "1.5.0",
            "_view_name": "HTMLView",
            "description": "",
            "description_tooltip": null,
            "layout": "IPY_MODEL_f1370b6248d446d6b12720b9953e4c3b",
            "placeholder": "​",
            "style": "IPY_MODEL_f7c311aadfcc4b318a6a79334d8831e5",
            "value": "Downloading: 100%"
          }
        },
        "d891c95560db434c8d4d5f65cc5d24d0": {
          "model_module": "@jupyter-widgets/controls",
          "model_name": "FloatProgressModel",
          "model_module_version": "1.5.0",
          "state": {
            "_dom_classes": [],
            "_model_module": "@jupyter-widgets/controls",
            "_model_module_version": "1.5.0",
            "_model_name": "FloatProgressModel",
            "_view_count": null,
            "_view_module": "@jupyter-widgets/controls",
            "_view_module_version": "1.5.0",
            "_view_name": "ProgressView",
            "bar_style": "success",
            "description": "",
            "description_tooltip": null,
            "layout": "IPY_MODEL_460462ac0ff34bb7ab4a3c8ebad6881e",
            "max": 6011,
            "min": 0,
            "orientation": "horizontal",
            "style": "IPY_MODEL_8600a3d842b8402eaccbf2217da12355",
            "value": 6011
          }
        },
        "dc0bb5c03fd84fe5b8846aeba739719c": {
          "model_module": "@jupyter-widgets/controls",
          "model_name": "HTMLModel",
          "model_module_version": "1.5.0",
          "state": {
            "_dom_classes": [],
            "_model_module": "@jupyter-widgets/controls",
            "_model_module_version": "1.5.0",
            "_model_name": "HTMLModel",
            "_view_count": null,
            "_view_module": "@jupyter-widgets/controls",
            "_view_module_version": "1.5.0",
            "_view_name": "HTMLView",
            "description": "",
            "description_tooltip": null,
            "layout": "IPY_MODEL_fb3365186b01492c94b35bf01dbc2ae3",
            "placeholder": "​",
            "style": "IPY_MODEL_1e47b7890f344d2f81597a5e0ad8cfac",
            "value": " 6.01k/6.01k [00:00&lt;00:00, 132kB/s]"
          }
        },
        "95867fa38b894118bb485377754a7744": {
          "model_module": "@jupyter-widgets/base",
          "model_name": "LayoutModel",
          "model_module_version": "1.2.0",
          "state": {
            "_model_module": "@jupyter-widgets/base",
            "_model_module_version": "1.2.0",
            "_model_name": "LayoutModel",
            "_view_count": null,
            "_view_module": "@jupyter-widgets/base",
            "_view_module_version": "1.2.0",
            "_view_name": "LayoutView",
            "align_content": null,
            "align_items": null,
            "align_self": null,
            "border": null,
            "bottom": null,
            "display": null,
            "flex": null,
            "flex_flow": null,
            "grid_area": null,
            "grid_auto_columns": null,
            "grid_auto_flow": null,
            "grid_auto_rows": null,
            "grid_column": null,
            "grid_gap": null,
            "grid_row": null,
            "grid_template_areas": null,
            "grid_template_columns": null,
            "grid_template_rows": null,
            "height": null,
            "justify_content": null,
            "justify_items": null,
            "left": null,
            "margin": null,
            "max_height": null,
            "max_width": null,
            "min_height": null,
            "min_width": null,
            "object_fit": null,
            "object_position": null,
            "order": null,
            "overflow": null,
            "overflow_x": null,
            "overflow_y": null,
            "padding": null,
            "right": null,
            "top": null,
            "visibility": null,
            "width": null
          }
        },
        "f1370b6248d446d6b12720b9953e4c3b": {
          "model_module": "@jupyter-widgets/base",
          "model_name": "LayoutModel",
          "model_module_version": "1.2.0",
          "state": {
            "_model_module": "@jupyter-widgets/base",
            "_model_module_version": "1.2.0",
            "_model_name": "LayoutModel",
            "_view_count": null,
            "_view_module": "@jupyter-widgets/base",
            "_view_module_version": "1.2.0",
            "_view_name": "LayoutView",
            "align_content": null,
            "align_items": null,
            "align_self": null,
            "border": null,
            "bottom": null,
            "display": null,
            "flex": null,
            "flex_flow": null,
            "grid_area": null,
            "grid_auto_columns": null,
            "grid_auto_flow": null,
            "grid_auto_rows": null,
            "grid_column": null,
            "grid_gap": null,
            "grid_row": null,
            "grid_template_areas": null,
            "grid_template_columns": null,
            "grid_template_rows": null,
            "height": null,
            "justify_content": null,
            "justify_items": null,
            "left": null,
            "margin": null,
            "max_height": null,
            "max_width": null,
            "min_height": null,
            "min_width": null,
            "object_fit": null,
            "object_position": null,
            "order": null,
            "overflow": null,
            "overflow_x": null,
            "overflow_y": null,
            "padding": null,
            "right": null,
            "top": null,
            "visibility": null,
            "width": null
          }
        },
        "f7c311aadfcc4b318a6a79334d8831e5": {
          "model_module": "@jupyter-widgets/controls",
          "model_name": "DescriptionStyleModel",
          "model_module_version": "1.5.0",
          "state": {
            "_model_module": "@jupyter-widgets/controls",
            "_model_module_version": "1.5.0",
            "_model_name": "DescriptionStyleModel",
            "_view_count": null,
            "_view_module": "@jupyter-widgets/base",
            "_view_module_version": "1.2.0",
            "_view_name": "StyleView",
            "description_width": ""
          }
        },
        "460462ac0ff34bb7ab4a3c8ebad6881e": {
          "model_module": "@jupyter-widgets/base",
          "model_name": "LayoutModel",
          "model_module_version": "1.2.0",
          "state": {
            "_model_module": "@jupyter-widgets/base",
            "_model_module_version": "1.2.0",
            "_model_name": "LayoutModel",
            "_view_count": null,
            "_view_module": "@jupyter-widgets/base",
            "_view_module_version": "1.2.0",
            "_view_name": "LayoutView",
            "align_content": null,
            "align_items": null,
            "align_self": null,
            "border": null,
            "bottom": null,
            "display": null,
            "flex": null,
            "flex_flow": null,
            "grid_area": null,
            "grid_auto_columns": null,
            "grid_auto_flow": null,
            "grid_auto_rows": null,
            "grid_column": null,
            "grid_gap": null,
            "grid_row": null,
            "grid_template_areas": null,
            "grid_template_columns": null,
            "grid_template_rows": null,
            "height": null,
            "justify_content": null,
            "justify_items": null,
            "left": null,
            "margin": null,
            "max_height": null,
            "max_width": null,
            "min_height": null,
            "min_width": null,
            "object_fit": null,
            "object_position": null,
            "order": null,
            "overflow": null,
            "overflow_x": null,
            "overflow_y": null,
            "padding": null,
            "right": null,
            "top": null,
            "visibility": null,
            "width": null
          }
        },
        "8600a3d842b8402eaccbf2217da12355": {
          "model_module": "@jupyter-widgets/controls",
          "model_name": "ProgressStyleModel",
          "model_module_version": "1.5.0",
          "state": {
            "_model_module": "@jupyter-widgets/controls",
            "_model_module_version": "1.5.0",
            "_model_name": "ProgressStyleModel",
            "_view_count": null,
            "_view_module": "@jupyter-widgets/base",
            "_view_module_version": "1.2.0",
            "_view_name": "StyleView",
            "bar_color": null,
            "description_width": ""
          }
        },
        "fb3365186b01492c94b35bf01dbc2ae3": {
          "model_module": "@jupyter-widgets/base",
          "model_name": "LayoutModel",
          "model_module_version": "1.2.0",
          "state": {
            "_model_module": "@jupyter-widgets/base",
            "_model_module_version": "1.2.0",
            "_model_name": "LayoutModel",
            "_view_count": null,
            "_view_module": "@jupyter-widgets/base",
            "_view_module_version": "1.2.0",
            "_view_name": "LayoutView",
            "align_content": null,
            "align_items": null,
            "align_self": null,
            "border": null,
            "bottom": null,
            "display": null,
            "flex": null,
            "flex_flow": null,
            "grid_area": null,
            "grid_auto_columns": null,
            "grid_auto_flow": null,
            "grid_auto_rows": null,
            "grid_column": null,
            "grid_gap": null,
            "grid_row": null,
            "grid_template_areas": null,
            "grid_template_columns": null,
            "grid_template_rows": null,
            "height": null,
            "justify_content": null,
            "justify_items": null,
            "left": null,
            "margin": null,
            "max_height": null,
            "max_width": null,
            "min_height": null,
            "min_width": null,
            "object_fit": null,
            "object_position": null,
            "order": null,
            "overflow": null,
            "overflow_x": null,
            "overflow_y": null,
            "padding": null,
            "right": null,
            "top": null,
            "visibility": null,
            "width": null
          }
        },
        "1e47b7890f344d2f81597a5e0ad8cfac": {
          "model_module": "@jupyter-widgets/controls",
          "model_name": "DescriptionStyleModel",
          "model_module_version": "1.5.0",
          "state": {
            "_model_module": "@jupyter-widgets/controls",
            "_model_module_version": "1.5.0",
            "_model_name": "DescriptionStyleModel",
            "_view_count": null,
            "_view_module": "@jupyter-widgets/base",
            "_view_module_version": "1.2.0",
            "_view_name": "StyleView",
            "description_width": ""
          }
        },
        "1fd56cbd2bfd4ef896b794d6ae530aa6": {
          "model_module": "@jupyter-widgets/controls",
          "model_name": "HBoxModel",
          "model_module_version": "1.5.0",
          "state": {
            "_dom_classes": [],
            "_model_module": "@jupyter-widgets/controls",
            "_model_module_version": "1.5.0",
            "_model_name": "HBoxModel",
            "_view_count": null,
            "_view_module": "@jupyter-widgets/controls",
            "_view_module_version": "1.5.0",
            "_view_name": "HBoxView",
            "box_style": "",
            "children": [
              "IPY_MODEL_45fc297df71e44eba330beefdf999b72",
              "IPY_MODEL_91f7b444c88b42488d9605b1964bc6b1",
              "IPY_MODEL_3743e33789e84c33a9920d12aa7dab37"
            ],
            "layout": "IPY_MODEL_04d5324fcdd0489e94b5b11a9ed656c1"
          }
        },
        "45fc297df71e44eba330beefdf999b72": {
          "model_module": "@jupyter-widgets/controls",
          "model_name": "HTMLModel",
          "model_module_version": "1.5.0",
          "state": {
            "_dom_classes": [],
            "_model_module": "@jupyter-widgets/controls",
            "_model_module_version": "1.5.0",
            "_model_name": "HTMLModel",
            "_view_count": null,
            "_view_module": "@jupyter-widgets/controls",
            "_view_module_version": "1.5.0",
            "_view_name": "HTMLView",
            "description": "",
            "description_tooltip": null,
            "layout": "IPY_MODEL_80d9db475d2d4de9b9055245c158b8bc",
            "placeholder": "​",
            "style": "IPY_MODEL_2f76105cf96b44b39d16202e7bbd0e13",
            "value": "Downloading: 100%"
          }
        },
        "91f7b444c88b42488d9605b1964bc6b1": {
          "model_module": "@jupyter-widgets/controls",
          "model_name": "FloatProgressModel",
          "model_module_version": "1.5.0",
          "state": {
            "_dom_classes": [],
            "_model_module": "@jupyter-widgets/controls",
            "_model_module_version": "1.5.0",
            "_model_name": "FloatProgressModel",
            "_view_count": null,
            "_view_module": "@jupyter-widgets/controls",
            "_view_module_version": "1.5.0",
            "_view_name": "ProgressView",
            "bar_style": "success",
            "description": "",
            "description_tooltip": null,
            "layout": "IPY_MODEL_cff5310bddb54d28a870a76bbf7f73a4",
            "max": 1658616,
            "min": 0,
            "orientation": "horizontal",
            "style": "IPY_MODEL_5baac6f9682c43daac00b2ac72efbaef",
            "value": 1658616
          }
        },
        "3743e33789e84c33a9920d12aa7dab37": {
          "model_module": "@jupyter-widgets/controls",
          "model_name": "HTMLModel",
          "model_module_version": "1.5.0",
          "state": {
            "_dom_classes": [],
            "_model_module": "@jupyter-widgets/controls",
            "_model_module_version": "1.5.0",
            "_model_name": "HTMLModel",
            "_view_count": null,
            "_view_module": "@jupyter-widgets/controls",
            "_view_module_version": "1.5.0",
            "_view_name": "HTMLView",
            "description": "",
            "description_tooltip": null,
            "layout": "IPY_MODEL_e2cb362395ef433ab2706b05f1095704",
            "placeholder": "​",
            "style": "IPY_MODEL_a23419eed2db4277a45220cffb072892",
            "value": " 1.66M/1.66M [00:00&lt;00:00, 3.87MB/s]"
          }
        },
        "04d5324fcdd0489e94b5b11a9ed656c1": {
          "model_module": "@jupyter-widgets/base",
          "model_name": "LayoutModel",
          "model_module_version": "1.2.0",
          "state": {
            "_model_module": "@jupyter-widgets/base",
            "_model_module_version": "1.2.0",
            "_model_name": "LayoutModel",
            "_view_count": null,
            "_view_module": "@jupyter-widgets/base",
            "_view_module_version": "1.2.0",
            "_view_name": "LayoutView",
            "align_content": null,
            "align_items": null,
            "align_self": null,
            "border": null,
            "bottom": null,
            "display": null,
            "flex": null,
            "flex_flow": null,
            "grid_area": null,
            "grid_auto_columns": null,
            "grid_auto_flow": null,
            "grid_auto_rows": null,
            "grid_column": null,
            "grid_gap": null,
            "grid_row": null,
            "grid_template_areas": null,
            "grid_template_columns": null,
            "grid_template_rows": null,
            "height": null,
            "justify_content": null,
            "justify_items": null,
            "left": null,
            "margin": null,
            "max_height": null,
            "max_width": null,
            "min_height": null,
            "min_width": null,
            "object_fit": null,
            "object_position": null,
            "order": null,
            "overflow": null,
            "overflow_x": null,
            "overflow_y": null,
            "padding": null,
            "right": null,
            "top": null,
            "visibility": null,
            "width": null
          }
        },
        "80d9db475d2d4de9b9055245c158b8bc": {
          "model_module": "@jupyter-widgets/base",
          "model_name": "LayoutModel",
          "model_module_version": "1.2.0",
          "state": {
            "_model_module": "@jupyter-widgets/base",
            "_model_module_version": "1.2.0",
            "_model_name": "LayoutModel",
            "_view_count": null,
            "_view_module": "@jupyter-widgets/base",
            "_view_module_version": "1.2.0",
            "_view_name": "LayoutView",
            "align_content": null,
            "align_items": null,
            "align_self": null,
            "border": null,
            "bottom": null,
            "display": null,
            "flex": null,
            "flex_flow": null,
            "grid_area": null,
            "grid_auto_columns": null,
            "grid_auto_flow": null,
            "grid_auto_rows": null,
            "grid_column": null,
            "grid_gap": null,
            "grid_row": null,
            "grid_template_areas": null,
            "grid_template_columns": null,
            "grid_template_rows": null,
            "height": null,
            "justify_content": null,
            "justify_items": null,
            "left": null,
            "margin": null,
            "max_height": null,
            "max_width": null,
            "min_height": null,
            "min_width": null,
            "object_fit": null,
            "object_position": null,
            "order": null,
            "overflow": null,
            "overflow_x": null,
            "overflow_y": null,
            "padding": null,
            "right": null,
            "top": null,
            "visibility": null,
            "width": null
          }
        },
        "2f76105cf96b44b39d16202e7bbd0e13": {
          "model_module": "@jupyter-widgets/controls",
          "model_name": "DescriptionStyleModel",
          "model_module_version": "1.5.0",
          "state": {
            "_model_module": "@jupyter-widgets/controls",
            "_model_module_version": "1.5.0",
            "_model_name": "DescriptionStyleModel",
            "_view_count": null,
            "_view_module": "@jupyter-widgets/base",
            "_view_module_version": "1.2.0",
            "_view_name": "StyleView",
            "description_width": ""
          }
        },
        "cff5310bddb54d28a870a76bbf7f73a4": {
          "model_module": "@jupyter-widgets/base",
          "model_name": "LayoutModel",
          "model_module_version": "1.2.0",
          "state": {
            "_model_module": "@jupyter-widgets/base",
            "_model_module_version": "1.2.0",
            "_model_name": "LayoutModel",
            "_view_count": null,
            "_view_module": "@jupyter-widgets/base",
            "_view_module_version": "1.2.0",
            "_view_name": "LayoutView",
            "align_content": null,
            "align_items": null,
            "align_self": null,
            "border": null,
            "bottom": null,
            "display": null,
            "flex": null,
            "flex_flow": null,
            "grid_area": null,
            "grid_auto_columns": null,
            "grid_auto_flow": null,
            "grid_auto_rows": null,
            "grid_column": null,
            "grid_gap": null,
            "grid_row": null,
            "grid_template_areas": null,
            "grid_template_columns": null,
            "grid_template_rows": null,
            "height": null,
            "justify_content": null,
            "justify_items": null,
            "left": null,
            "margin": null,
            "max_height": null,
            "max_width": null,
            "min_height": null,
            "min_width": null,
            "object_fit": null,
            "object_position": null,
            "order": null,
            "overflow": null,
            "overflow_x": null,
            "overflow_y": null,
            "padding": null,
            "right": null,
            "top": null,
            "visibility": null,
            "width": null
          }
        },
        "5baac6f9682c43daac00b2ac72efbaef": {
          "model_module": "@jupyter-widgets/controls",
          "model_name": "ProgressStyleModel",
          "model_module_version": "1.5.0",
          "state": {
            "_model_module": "@jupyter-widgets/controls",
            "_model_module_version": "1.5.0",
            "_model_name": "ProgressStyleModel",
            "_view_count": null,
            "_view_module": "@jupyter-widgets/base",
            "_view_module_version": "1.2.0",
            "_view_name": "StyleView",
            "bar_color": null,
            "description_width": ""
          }
        },
        "e2cb362395ef433ab2706b05f1095704": {
          "model_module": "@jupyter-widgets/base",
          "model_name": "LayoutModel",
          "model_module_version": "1.2.0",
          "state": {
            "_model_module": "@jupyter-widgets/base",
            "_model_module_version": "1.2.0",
            "_model_name": "LayoutModel",
            "_view_count": null,
            "_view_module": "@jupyter-widgets/base",
            "_view_module_version": "1.2.0",
            "_view_name": "LayoutView",
            "align_content": null,
            "align_items": null,
            "align_self": null,
            "border": null,
            "bottom": null,
            "display": null,
            "flex": null,
            "flex_flow": null,
            "grid_area": null,
            "grid_auto_columns": null,
            "grid_auto_flow": null,
            "grid_auto_rows": null,
            "grid_column": null,
            "grid_gap": null,
            "grid_row": null,
            "grid_template_areas": null,
            "grid_template_columns": null,
            "grid_template_rows": null,
            "height": null,
            "justify_content": null,
            "justify_items": null,
            "left": null,
            "margin": null,
            "max_height": null,
            "max_width": null,
            "min_height": null,
            "min_width": null,
            "object_fit": null,
            "object_position": null,
            "order": null,
            "overflow": null,
            "overflow_x": null,
            "overflow_y": null,
            "padding": null,
            "right": null,
            "top": null,
            "visibility": null,
            "width": null
          }
        },
        "a23419eed2db4277a45220cffb072892": {
          "model_module": "@jupyter-widgets/controls",
          "model_name": "DescriptionStyleModel",
          "model_module_version": "1.5.0",
          "state": {
            "_model_module": "@jupyter-widgets/controls",
            "_model_module_version": "1.5.0",
            "_model_name": "DescriptionStyleModel",
            "_view_count": null,
            "_view_module": "@jupyter-widgets/base",
            "_view_module_version": "1.2.0",
            "_view_name": "StyleView",
            "description_width": ""
          }
        },
        "1011158aa3104fdf9a2a51a21596f13f": {
          "model_module": "@jupyter-widgets/controls",
          "model_name": "HBoxModel",
          "model_module_version": "1.5.0",
          "state": {
            "_dom_classes": [],
            "_model_module": "@jupyter-widgets/controls",
            "_model_module_version": "1.5.0",
            "_model_name": "HBoxModel",
            "_view_count": null,
            "_view_module": "@jupyter-widgets/controls",
            "_view_module_version": "1.5.0",
            "_view_name": "HBoxView",
            "box_style": "",
            "children": [
              "IPY_MODEL_99145a08e2a04a62880e4a2163983110",
              "IPY_MODEL_63bcff52adf14f43bf0889935c4d0b5a",
              "IPY_MODEL_417eb78617b94071a20c1ff89b4f122d"
            ],
            "layout": "IPY_MODEL_9dbe170df14a4106a4c45a421ae59f05"
          }
        },
        "99145a08e2a04a62880e4a2163983110": {
          "model_module": "@jupyter-widgets/controls",
          "model_name": "HTMLModel",
          "model_module_version": "1.5.0",
          "state": {
            "_dom_classes": [],
            "_model_module": "@jupyter-widgets/controls",
            "_model_module_version": "1.5.0",
            "_model_name": "HTMLModel",
            "_view_count": null,
            "_view_module": "@jupyter-widgets/controls",
            "_view_module_version": "1.5.0",
            "_view_name": "HTMLView",
            "description": "",
            "description_tooltip": null,
            "layout": "IPY_MODEL_f5585264a8d04c1a812fd6723f956cd1",
            "placeholder": "​",
            "style": "IPY_MODEL_e82347a5583b4dceb06ba479ef241894",
            "value": "Downloading: 100%"
          }
        },
        "63bcff52adf14f43bf0889935c4d0b5a": {
          "model_module": "@jupyter-widgets/controls",
          "model_name": "FloatProgressModel",
          "model_module_version": "1.5.0",
          "state": {
            "_dom_classes": [],
            "_model_module": "@jupyter-widgets/controls",
            "_model_module_version": "1.5.0",
            "_model_name": "FloatProgressModel",
            "_view_count": null,
            "_view_module": "@jupyter-widgets/controls",
            "_view_module_version": "1.5.0",
            "_view_name": "ProgressView",
            "bar_style": "success",
            "description": "",
            "description_tooltip": null,
            "layout": "IPY_MODEL_c70aba5a92904b0a9eb15faf557c6f1f",
            "max": 204240,
            "min": 0,
            "orientation": "horizontal",
            "style": "IPY_MODEL_e6121a562d8c4842b2c8b1a9a3e5cd20",
            "value": 204240
          }
        },
        "417eb78617b94071a20c1ff89b4f122d": {
          "model_module": "@jupyter-widgets/controls",
          "model_name": "HTMLModel",
          "model_module_version": "1.5.0",
          "state": {
            "_dom_classes": [],
            "_model_module": "@jupyter-widgets/controls",
            "_model_module_version": "1.5.0",
            "_model_name": "HTMLModel",
            "_view_count": null,
            "_view_module": "@jupyter-widgets/controls",
            "_view_module_version": "1.5.0",
            "_view_name": "HTMLView",
            "description": "",
            "description_tooltip": null,
            "layout": "IPY_MODEL_259cdde99db44e98ac7bc51a2dc40122",
            "placeholder": "​",
            "style": "IPY_MODEL_7b31258d87a4478e9128600219e8582a",
            "value": " 204k/204k [00:00&lt;00:00, 4.69MB/s]"
          }
        },
        "9dbe170df14a4106a4c45a421ae59f05": {
          "model_module": "@jupyter-widgets/base",
          "model_name": "LayoutModel",
          "model_module_version": "1.2.0",
          "state": {
            "_model_module": "@jupyter-widgets/base",
            "_model_module_version": "1.2.0",
            "_model_name": "LayoutModel",
            "_view_count": null,
            "_view_module": "@jupyter-widgets/base",
            "_view_module_version": "1.2.0",
            "_view_name": "LayoutView",
            "align_content": null,
            "align_items": null,
            "align_self": null,
            "border": null,
            "bottom": null,
            "display": null,
            "flex": null,
            "flex_flow": null,
            "grid_area": null,
            "grid_auto_columns": null,
            "grid_auto_flow": null,
            "grid_auto_rows": null,
            "grid_column": null,
            "grid_gap": null,
            "grid_row": null,
            "grid_template_areas": null,
            "grid_template_columns": null,
            "grid_template_rows": null,
            "height": null,
            "justify_content": null,
            "justify_items": null,
            "left": null,
            "margin": null,
            "max_height": null,
            "max_width": null,
            "min_height": null,
            "min_width": null,
            "object_fit": null,
            "object_position": null,
            "order": null,
            "overflow": null,
            "overflow_x": null,
            "overflow_y": null,
            "padding": null,
            "right": null,
            "top": null,
            "visibility": null,
            "width": null
          }
        },
        "f5585264a8d04c1a812fd6723f956cd1": {
          "model_module": "@jupyter-widgets/base",
          "model_name": "LayoutModel",
          "model_module_version": "1.2.0",
          "state": {
            "_model_module": "@jupyter-widgets/base",
            "_model_module_version": "1.2.0",
            "_model_name": "LayoutModel",
            "_view_count": null,
            "_view_module": "@jupyter-widgets/base",
            "_view_module_version": "1.2.0",
            "_view_name": "LayoutView",
            "align_content": null,
            "align_items": null,
            "align_self": null,
            "border": null,
            "bottom": null,
            "display": null,
            "flex": null,
            "flex_flow": null,
            "grid_area": null,
            "grid_auto_columns": null,
            "grid_auto_flow": null,
            "grid_auto_rows": null,
            "grid_column": null,
            "grid_gap": null,
            "grid_row": null,
            "grid_template_areas": null,
            "grid_template_columns": null,
            "grid_template_rows": null,
            "height": null,
            "justify_content": null,
            "justify_items": null,
            "left": null,
            "margin": null,
            "max_height": null,
            "max_width": null,
            "min_height": null,
            "min_width": null,
            "object_fit": null,
            "object_position": null,
            "order": null,
            "overflow": null,
            "overflow_x": null,
            "overflow_y": null,
            "padding": null,
            "right": null,
            "top": null,
            "visibility": null,
            "width": null
          }
        },
        "e82347a5583b4dceb06ba479ef241894": {
          "model_module": "@jupyter-widgets/controls",
          "model_name": "DescriptionStyleModel",
          "model_module_version": "1.5.0",
          "state": {
            "_model_module": "@jupyter-widgets/controls",
            "_model_module_version": "1.5.0",
            "_model_name": "DescriptionStyleModel",
            "_view_count": null,
            "_view_module": "@jupyter-widgets/base",
            "_view_module_version": "1.2.0",
            "_view_name": "StyleView",
            "description_width": ""
          }
        },
        "c70aba5a92904b0a9eb15faf557c6f1f": {
          "model_module": "@jupyter-widgets/base",
          "model_name": "LayoutModel",
          "model_module_version": "1.2.0",
          "state": {
            "_model_module": "@jupyter-widgets/base",
            "_model_module_version": "1.2.0",
            "_model_name": "LayoutModel",
            "_view_count": null,
            "_view_module": "@jupyter-widgets/base",
            "_view_module_version": "1.2.0",
            "_view_name": "LayoutView",
            "align_content": null,
            "align_items": null,
            "align_self": null,
            "border": null,
            "bottom": null,
            "display": null,
            "flex": null,
            "flex_flow": null,
            "grid_area": null,
            "grid_auto_columns": null,
            "grid_auto_flow": null,
            "grid_auto_rows": null,
            "grid_column": null,
            "grid_gap": null,
            "grid_row": null,
            "grid_template_areas": null,
            "grid_template_columns": null,
            "grid_template_rows": null,
            "height": null,
            "justify_content": null,
            "justify_items": null,
            "left": null,
            "margin": null,
            "max_height": null,
            "max_width": null,
            "min_height": null,
            "min_width": null,
            "object_fit": null,
            "object_position": null,
            "order": null,
            "overflow": null,
            "overflow_x": null,
            "overflow_y": null,
            "padding": null,
            "right": null,
            "top": null,
            "visibility": null,
            "width": null
          }
        },
        "e6121a562d8c4842b2c8b1a9a3e5cd20": {
          "model_module": "@jupyter-widgets/controls",
          "model_name": "ProgressStyleModel",
          "model_module_version": "1.5.0",
          "state": {
            "_model_module": "@jupyter-widgets/controls",
            "_model_module_version": "1.5.0",
            "_model_name": "ProgressStyleModel",
            "_view_count": null,
            "_view_module": "@jupyter-widgets/base",
            "_view_module_version": "1.2.0",
            "_view_name": "StyleView",
            "bar_color": null,
            "description_width": ""
          }
        },
        "259cdde99db44e98ac7bc51a2dc40122": {
          "model_module": "@jupyter-widgets/base",
          "model_name": "LayoutModel",
          "model_module_version": "1.2.0",
          "state": {
            "_model_module": "@jupyter-widgets/base",
            "_model_module_version": "1.2.0",
            "_model_name": "LayoutModel",
            "_view_count": null,
            "_view_module": "@jupyter-widgets/base",
            "_view_module_version": "1.2.0",
            "_view_name": "LayoutView",
            "align_content": null,
            "align_items": null,
            "align_self": null,
            "border": null,
            "bottom": null,
            "display": null,
            "flex": null,
            "flex_flow": null,
            "grid_area": null,
            "grid_auto_columns": null,
            "grid_auto_flow": null,
            "grid_auto_rows": null,
            "grid_column": null,
            "grid_gap": null,
            "grid_row": null,
            "grid_template_areas": null,
            "grid_template_columns": null,
            "grid_template_rows": null,
            "height": null,
            "justify_content": null,
            "justify_items": null,
            "left": null,
            "margin": null,
            "max_height": null,
            "max_width": null,
            "min_height": null,
            "min_width": null,
            "object_fit": null,
            "object_position": null,
            "order": null,
            "overflow": null,
            "overflow_x": null,
            "overflow_y": null,
            "padding": null,
            "right": null,
            "top": null,
            "visibility": null,
            "width": null
          }
        },
        "7b31258d87a4478e9128600219e8582a": {
          "model_module": "@jupyter-widgets/controls",
          "model_name": "DescriptionStyleModel",
          "model_module_version": "1.5.0",
          "state": {
            "_model_module": "@jupyter-widgets/controls",
            "_model_module_version": "1.5.0",
            "_model_name": "DescriptionStyleModel",
            "_view_count": null,
            "_view_module": "@jupyter-widgets/base",
            "_view_module_version": "1.2.0",
            "_view_name": "StyleView",
            "description_width": ""
          }
        },
        "13510d153ad743859ea919b64721fc2e": {
          "model_module": "@jupyter-widgets/controls",
          "model_name": "HBoxModel",
          "model_module_version": "1.5.0",
          "state": {
            "_dom_classes": [],
            "_model_module": "@jupyter-widgets/controls",
            "_model_module_version": "1.5.0",
            "_model_name": "HBoxModel",
            "_view_count": null,
            "_view_module": "@jupyter-widgets/controls",
            "_view_module_version": "1.5.0",
            "_view_name": "HBoxView",
            "box_style": "",
            "children": [
              "IPY_MODEL_513243c619c740af93117b16dac0d05d",
              "IPY_MODEL_695e82868bd349439f1b1c31913bd66d",
              "IPY_MODEL_911fa228d9ec410594eb037c9199b846"
            ],
            "layout": "IPY_MODEL_e1d169aa313246e79a04862c7014e1cd"
          }
        },
        "513243c619c740af93117b16dac0d05d": {
          "model_module": "@jupyter-widgets/controls",
          "model_name": "HTMLModel",
          "model_module_version": "1.5.0",
          "state": {
            "_dom_classes": [],
            "_model_module": "@jupyter-widgets/controls",
            "_model_module_version": "1.5.0",
            "_model_name": "HTMLModel",
            "_view_count": null,
            "_view_module": "@jupyter-widgets/controls",
            "_view_module_version": "1.5.0",
            "_view_name": "HTMLView",
            "description": "",
            "description_tooltip": null,
            "layout": "IPY_MODEL_8e6d9cca93bd4b7ab73e53cb6f3ac9a5",
            "placeholder": "​",
            "style": "IPY_MODEL_e1e3da0405ed4f88933f3ccdfc3d7440",
            "value": "Downloading: 100%"
          }
        },
        "695e82868bd349439f1b1c31913bd66d": {
          "model_module": "@jupyter-widgets/controls",
          "model_name": "FloatProgressModel",
          "model_module_version": "1.5.0",
          "state": {
            "_dom_classes": [],
            "_model_module": "@jupyter-widgets/controls",
            "_model_module_version": "1.5.0",
            "_model_name": "FloatProgressModel",
            "_view_count": null,
            "_view_module": "@jupyter-widgets/controls",
            "_view_module_version": "1.5.0",
            "_view_name": "ProgressView",
            "bar_style": "success",
            "description": "",
            "description_tooltip": null,
            "layout": "IPY_MODEL_e286c314bbe2494ea2c5307febf03bd5",
            "max": 206760,
            "min": 0,
            "orientation": "horizontal",
            "style": "IPY_MODEL_2c3b7ec8f6784562939beae2bdc29253",
            "value": 206760
          }
        },
        "911fa228d9ec410594eb037c9199b846": {
          "model_module": "@jupyter-widgets/controls",
          "model_name": "HTMLModel",
          "model_module_version": "1.5.0",
          "state": {
            "_dom_classes": [],
            "_model_module": "@jupyter-widgets/controls",
            "_model_module_version": "1.5.0",
            "_model_name": "HTMLModel",
            "_view_count": null,
            "_view_module": "@jupyter-widgets/controls",
            "_view_module_version": "1.5.0",
            "_view_name": "HTMLView",
            "description": "",
            "description_tooltip": null,
            "layout": "IPY_MODEL_8e578da2884342c48170bd281f162503",
            "placeholder": "​",
            "style": "IPY_MODEL_76296559d3804272b626cc14c204d758",
            "value": " 207k/207k [00:00&lt;00:00, 4.66MB/s]"
          }
        },
        "e1d169aa313246e79a04862c7014e1cd": {
          "model_module": "@jupyter-widgets/base",
          "model_name": "LayoutModel",
          "model_module_version": "1.2.0",
          "state": {
            "_model_module": "@jupyter-widgets/base",
            "_model_module_version": "1.2.0",
            "_model_name": "LayoutModel",
            "_view_count": null,
            "_view_module": "@jupyter-widgets/base",
            "_view_module_version": "1.2.0",
            "_view_name": "LayoutView",
            "align_content": null,
            "align_items": null,
            "align_self": null,
            "border": null,
            "bottom": null,
            "display": null,
            "flex": null,
            "flex_flow": null,
            "grid_area": null,
            "grid_auto_columns": null,
            "grid_auto_flow": null,
            "grid_auto_rows": null,
            "grid_column": null,
            "grid_gap": null,
            "grid_row": null,
            "grid_template_areas": null,
            "grid_template_columns": null,
            "grid_template_rows": null,
            "height": null,
            "justify_content": null,
            "justify_items": null,
            "left": null,
            "margin": null,
            "max_height": null,
            "max_width": null,
            "min_height": null,
            "min_width": null,
            "object_fit": null,
            "object_position": null,
            "order": null,
            "overflow": null,
            "overflow_x": null,
            "overflow_y": null,
            "padding": null,
            "right": null,
            "top": null,
            "visibility": null,
            "width": null
          }
        },
        "8e6d9cca93bd4b7ab73e53cb6f3ac9a5": {
          "model_module": "@jupyter-widgets/base",
          "model_name": "LayoutModel",
          "model_module_version": "1.2.0",
          "state": {
            "_model_module": "@jupyter-widgets/base",
            "_model_module_version": "1.2.0",
            "_model_name": "LayoutModel",
            "_view_count": null,
            "_view_module": "@jupyter-widgets/base",
            "_view_module_version": "1.2.0",
            "_view_name": "LayoutView",
            "align_content": null,
            "align_items": null,
            "align_self": null,
            "border": null,
            "bottom": null,
            "display": null,
            "flex": null,
            "flex_flow": null,
            "grid_area": null,
            "grid_auto_columns": null,
            "grid_auto_flow": null,
            "grid_auto_rows": null,
            "grid_column": null,
            "grid_gap": null,
            "grid_row": null,
            "grid_template_areas": null,
            "grid_template_columns": null,
            "grid_template_rows": null,
            "height": null,
            "justify_content": null,
            "justify_items": null,
            "left": null,
            "margin": null,
            "max_height": null,
            "max_width": null,
            "min_height": null,
            "min_width": null,
            "object_fit": null,
            "object_position": null,
            "order": null,
            "overflow": null,
            "overflow_x": null,
            "overflow_y": null,
            "padding": null,
            "right": null,
            "top": null,
            "visibility": null,
            "width": null
          }
        },
        "e1e3da0405ed4f88933f3ccdfc3d7440": {
          "model_module": "@jupyter-widgets/controls",
          "model_name": "DescriptionStyleModel",
          "model_module_version": "1.5.0",
          "state": {
            "_model_module": "@jupyter-widgets/controls",
            "_model_module_version": "1.5.0",
            "_model_name": "DescriptionStyleModel",
            "_view_count": null,
            "_view_module": "@jupyter-widgets/base",
            "_view_module_version": "1.2.0",
            "_view_name": "StyleView",
            "description_width": ""
          }
        },
        "e286c314bbe2494ea2c5307febf03bd5": {
          "model_module": "@jupyter-widgets/base",
          "model_name": "LayoutModel",
          "model_module_version": "1.2.0",
          "state": {
            "_model_module": "@jupyter-widgets/base",
            "_model_module_version": "1.2.0",
            "_model_name": "LayoutModel",
            "_view_count": null,
            "_view_module": "@jupyter-widgets/base",
            "_view_module_version": "1.2.0",
            "_view_name": "LayoutView",
            "align_content": null,
            "align_items": null,
            "align_self": null,
            "border": null,
            "bottom": null,
            "display": null,
            "flex": null,
            "flex_flow": null,
            "grid_area": null,
            "grid_auto_columns": null,
            "grid_auto_flow": null,
            "grid_auto_rows": null,
            "grid_column": null,
            "grid_gap": null,
            "grid_row": null,
            "grid_template_areas": null,
            "grid_template_columns": null,
            "grid_template_rows": null,
            "height": null,
            "justify_content": null,
            "justify_items": null,
            "left": null,
            "margin": null,
            "max_height": null,
            "max_width": null,
            "min_height": null,
            "min_width": null,
            "object_fit": null,
            "object_position": null,
            "order": null,
            "overflow": null,
            "overflow_x": null,
            "overflow_y": null,
            "padding": null,
            "right": null,
            "top": null,
            "visibility": null,
            "width": null
          }
        },
        "2c3b7ec8f6784562939beae2bdc29253": {
          "model_module": "@jupyter-widgets/controls",
          "model_name": "ProgressStyleModel",
          "model_module_version": "1.5.0",
          "state": {
            "_model_module": "@jupyter-widgets/controls",
            "_model_module_version": "1.5.0",
            "_model_name": "ProgressStyleModel",
            "_view_count": null,
            "_view_module": "@jupyter-widgets/base",
            "_view_module_version": "1.2.0",
            "_view_name": "StyleView",
            "bar_color": null,
            "description_width": ""
          }
        },
        "8e578da2884342c48170bd281f162503": {
          "model_module": "@jupyter-widgets/base",
          "model_name": "LayoutModel",
          "model_module_version": "1.2.0",
          "state": {
            "_model_module": "@jupyter-widgets/base",
            "_model_module_version": "1.2.0",
            "_model_name": "LayoutModel",
            "_view_count": null,
            "_view_module": "@jupyter-widgets/base",
            "_view_module_version": "1.2.0",
            "_view_name": "LayoutView",
            "align_content": null,
            "align_items": null,
            "align_self": null,
            "border": null,
            "bottom": null,
            "display": null,
            "flex": null,
            "flex_flow": null,
            "grid_area": null,
            "grid_auto_columns": null,
            "grid_auto_flow": null,
            "grid_auto_rows": null,
            "grid_column": null,
            "grid_gap": null,
            "grid_row": null,
            "grid_template_areas": null,
            "grid_template_columns": null,
            "grid_template_rows": null,
            "height": null,
            "justify_content": null,
            "justify_items": null,
            "left": null,
            "margin": null,
            "max_height": null,
            "max_width": null,
            "min_height": null,
            "min_width": null,
            "object_fit": null,
            "object_position": null,
            "order": null,
            "overflow": null,
            "overflow_x": null,
            "overflow_y": null,
            "padding": null,
            "right": null,
            "top": null,
            "visibility": null,
            "width": null
          }
        },
        "76296559d3804272b626cc14c204d758": {
          "model_module": "@jupyter-widgets/controls",
          "model_name": "DescriptionStyleModel",
          "model_module_version": "1.5.0",
          "state": {
            "_model_module": "@jupyter-widgets/controls",
            "_model_module_version": "1.5.0",
            "_model_name": "DescriptionStyleModel",
            "_view_count": null,
            "_view_module": "@jupyter-widgets/base",
            "_view_module_version": "1.2.0",
            "_view_name": "StyleView",
            "description_width": ""
          }
        },
        "4a4ec62b8b0f4d0eb3065196fbf16213": {
          "model_module": "@jupyter-widgets/controls",
          "model_name": "HBoxModel",
          "model_module_version": "1.5.0",
          "state": {
            "_dom_classes": [],
            "_model_module": "@jupyter-widgets/controls",
            "_model_module_version": "1.5.0",
            "_model_name": "HBoxModel",
            "_view_count": null,
            "_view_module": "@jupyter-widgets/controls",
            "_view_module_version": "1.5.0",
            "_view_name": "HBoxView",
            "box_style": "",
            "children": [
              "IPY_MODEL_a66e0abe728944e1b9a6da7a92792aa0",
              "IPY_MODEL_0f97a1b09ca144f48eaf343d2e4108ee",
              "IPY_MODEL_858361a9a8d346b499504e93d55d0c02"
            ],
            "layout": "IPY_MODEL_4fcf539e6a5348cf9508fef5d1db2192"
          }
        },
        "a66e0abe728944e1b9a6da7a92792aa0": {
          "model_module": "@jupyter-widgets/controls",
          "model_name": "HTMLModel",
          "model_module_version": "1.5.0",
          "state": {
            "_dom_classes": [],
            "_model_module": "@jupyter-widgets/controls",
            "_model_module_version": "1.5.0",
            "_model_name": "HTMLModel",
            "_view_count": null,
            "_view_module": "@jupyter-widgets/controls",
            "_view_module_version": "1.5.0",
            "_view_name": "HTMLView",
            "description": "",
            "description_tooltip": null,
            "layout": "IPY_MODEL_49eecf73962e4bb698a652b592825851",
            "placeholder": "​",
            "style": "IPY_MODEL_ed7276f2f9eb4541b3b788626fd9c5fc",
            "value": ""
          }
        },
        "0f97a1b09ca144f48eaf343d2e4108ee": {
          "model_module": "@jupyter-widgets/controls",
          "model_name": "FloatProgressModel",
          "model_module_version": "1.5.0",
          "state": {
            "_dom_classes": [],
            "_model_module": "@jupyter-widgets/controls",
            "_model_module_version": "1.5.0",
            "_model_name": "FloatProgressModel",
            "_view_count": null,
            "_view_module": "@jupyter-widgets/controls",
            "_view_module_version": "1.5.0",
            "_view_name": "ProgressView",
            "bar_style": "info",
            "description": "",
            "description_tooltip": null,
            "layout": "IPY_MODEL_0b2a4d5afff24710b6308b5fe2c0434b",
            "max": 1,
            "min": 0,
            "orientation": "horizontal",
            "style": "IPY_MODEL_861843d6d9ed4fd7b4e57298ac4e2a63",
            "value": 1
          }
        },
        "858361a9a8d346b499504e93d55d0c02": {
          "model_module": "@jupyter-widgets/controls",
          "model_name": "HTMLModel",
          "model_module_version": "1.5.0",
          "state": {
            "_dom_classes": [],
            "_model_module": "@jupyter-widgets/controls",
            "_model_module_version": "1.5.0",
            "_model_name": "HTMLModel",
            "_view_count": null,
            "_view_module": "@jupyter-widgets/controls",
            "_view_module_version": "1.5.0",
            "_view_name": "HTMLView",
            "description": "",
            "description_tooltip": null,
            "layout": "IPY_MODEL_0f80d5c6e5474e4289d0e00d7219f0a4",
            "placeholder": "​",
            "style": "IPY_MODEL_015fddcdca404226aafbf3fe681b218d",
            "value": " 15549/0 [00:00&lt;00:00, 56168.94 examples/s]"
          }
        },
        "4fcf539e6a5348cf9508fef5d1db2192": {
          "model_module": "@jupyter-widgets/base",
          "model_name": "LayoutModel",
          "model_module_version": "1.2.0",
          "state": {
            "_model_module": "@jupyter-widgets/base",
            "_model_module_version": "1.2.0",
            "_model_name": "LayoutModel",
            "_view_count": null,
            "_view_module": "@jupyter-widgets/base",
            "_view_module_version": "1.2.0",
            "_view_name": "LayoutView",
            "align_content": null,
            "align_items": null,
            "align_self": null,
            "border": null,
            "bottom": null,
            "display": null,
            "flex": null,
            "flex_flow": null,
            "grid_area": null,
            "grid_auto_columns": null,
            "grid_auto_flow": null,
            "grid_auto_rows": null,
            "grid_column": null,
            "grid_gap": null,
            "grid_row": null,
            "grid_template_areas": null,
            "grid_template_columns": null,
            "grid_template_rows": null,
            "height": null,
            "justify_content": null,
            "justify_items": null,
            "left": null,
            "margin": null,
            "max_height": null,
            "max_width": null,
            "min_height": null,
            "min_width": null,
            "object_fit": null,
            "object_position": null,
            "order": null,
            "overflow": null,
            "overflow_x": null,
            "overflow_y": null,
            "padding": null,
            "right": null,
            "top": null,
            "visibility": null,
            "width": null
          }
        },
        "49eecf73962e4bb698a652b592825851": {
          "model_module": "@jupyter-widgets/base",
          "model_name": "LayoutModel",
          "model_module_version": "1.2.0",
          "state": {
            "_model_module": "@jupyter-widgets/base",
            "_model_module_version": "1.2.0",
            "_model_name": "LayoutModel",
            "_view_count": null,
            "_view_module": "@jupyter-widgets/base",
            "_view_module_version": "1.2.0",
            "_view_name": "LayoutView",
            "align_content": null,
            "align_items": null,
            "align_self": null,
            "border": null,
            "bottom": null,
            "display": null,
            "flex": null,
            "flex_flow": null,
            "grid_area": null,
            "grid_auto_columns": null,
            "grid_auto_flow": null,
            "grid_auto_rows": null,
            "grid_column": null,
            "grid_gap": null,
            "grid_row": null,
            "grid_template_areas": null,
            "grid_template_columns": null,
            "grid_template_rows": null,
            "height": null,
            "justify_content": null,
            "justify_items": null,
            "left": null,
            "margin": null,
            "max_height": null,
            "max_width": null,
            "min_height": null,
            "min_width": null,
            "object_fit": null,
            "object_position": null,
            "order": null,
            "overflow": null,
            "overflow_x": null,
            "overflow_y": null,
            "padding": null,
            "right": null,
            "top": null,
            "visibility": null,
            "width": null
          }
        },
        "ed7276f2f9eb4541b3b788626fd9c5fc": {
          "model_module": "@jupyter-widgets/controls",
          "model_name": "DescriptionStyleModel",
          "model_module_version": "1.5.0",
          "state": {
            "_model_module": "@jupyter-widgets/controls",
            "_model_module_version": "1.5.0",
            "_model_name": "DescriptionStyleModel",
            "_view_count": null,
            "_view_module": "@jupyter-widgets/base",
            "_view_module_version": "1.2.0",
            "_view_name": "StyleView",
            "description_width": ""
          }
        },
        "0b2a4d5afff24710b6308b5fe2c0434b": {
          "model_module": "@jupyter-widgets/base",
          "model_name": "LayoutModel",
          "model_module_version": "1.2.0",
          "state": {
            "_model_module": "@jupyter-widgets/base",
            "_model_module_version": "1.2.0",
            "_model_name": "LayoutModel",
            "_view_count": null,
            "_view_module": "@jupyter-widgets/base",
            "_view_module_version": "1.2.0",
            "_view_name": "LayoutView",
            "align_content": null,
            "align_items": null,
            "align_self": null,
            "border": null,
            "bottom": null,
            "display": null,
            "flex": null,
            "flex_flow": null,
            "grid_area": null,
            "grid_auto_columns": null,
            "grid_auto_flow": null,
            "grid_auto_rows": null,
            "grid_column": null,
            "grid_gap": null,
            "grid_row": null,
            "grid_template_areas": null,
            "grid_template_columns": null,
            "grid_template_rows": null,
            "height": null,
            "justify_content": null,
            "justify_items": null,
            "left": null,
            "margin": null,
            "max_height": null,
            "max_width": null,
            "min_height": null,
            "min_width": null,
            "object_fit": null,
            "object_position": null,
            "order": null,
            "overflow": null,
            "overflow_x": null,
            "overflow_y": null,
            "padding": null,
            "right": null,
            "top": null,
            "visibility": null,
            "width": "20px"
          }
        },
        "861843d6d9ed4fd7b4e57298ac4e2a63": {
          "model_module": "@jupyter-widgets/controls",
          "model_name": "ProgressStyleModel",
          "model_module_version": "1.5.0",
          "state": {
            "_model_module": "@jupyter-widgets/controls",
            "_model_module_version": "1.5.0",
            "_model_name": "ProgressStyleModel",
            "_view_count": null,
            "_view_module": "@jupyter-widgets/base",
            "_view_module_version": "1.2.0",
            "_view_name": "StyleView",
            "bar_color": null,
            "description_width": ""
          }
        },
        "0f80d5c6e5474e4289d0e00d7219f0a4": {
          "model_module": "@jupyter-widgets/base",
          "model_name": "LayoutModel",
          "model_module_version": "1.2.0",
          "state": {
            "_model_module": "@jupyter-widgets/base",
            "_model_module_version": "1.2.0",
            "_model_name": "LayoutModel",
            "_view_count": null,
            "_view_module": "@jupyter-widgets/base",
            "_view_module_version": "1.2.0",
            "_view_name": "LayoutView",
            "align_content": null,
            "align_items": null,
            "align_self": null,
            "border": null,
            "bottom": null,
            "display": null,
            "flex": null,
            "flex_flow": null,
            "grid_area": null,
            "grid_auto_columns": null,
            "grid_auto_flow": null,
            "grid_auto_rows": null,
            "grid_column": null,
            "grid_gap": null,
            "grid_row": null,
            "grid_template_areas": null,
            "grid_template_columns": null,
            "grid_template_rows": null,
            "height": null,
            "justify_content": null,
            "justify_items": null,
            "left": null,
            "margin": null,
            "max_height": null,
            "max_width": null,
            "min_height": null,
            "min_width": null,
            "object_fit": null,
            "object_position": null,
            "order": null,
            "overflow": null,
            "overflow_x": null,
            "overflow_y": null,
            "padding": null,
            "right": null,
            "top": null,
            "visibility": null,
            "width": null
          }
        },
        "015fddcdca404226aafbf3fe681b218d": {
          "model_module": "@jupyter-widgets/controls",
          "model_name": "DescriptionStyleModel",
          "model_module_version": "1.5.0",
          "state": {
            "_model_module": "@jupyter-widgets/controls",
            "_model_module_version": "1.5.0",
            "_model_name": "DescriptionStyleModel",
            "_view_count": null,
            "_view_module": "@jupyter-widgets/base",
            "_view_module_version": "1.2.0",
            "_view_name": "StyleView",
            "description_width": ""
          }
        },
        "728d5c7e33da4b0fa909cb0b29126e31": {
          "model_module": "@jupyter-widgets/controls",
          "model_name": "HBoxModel",
          "model_module_version": "1.5.0",
          "state": {
            "_dom_classes": [],
            "_model_module": "@jupyter-widgets/controls",
            "_model_module_version": "1.5.0",
            "_model_name": "HBoxModel",
            "_view_count": null,
            "_view_module": "@jupyter-widgets/controls",
            "_view_module_version": "1.5.0",
            "_view_name": "HBoxView",
            "box_style": "",
            "children": [
              "IPY_MODEL_907de1d152094cdea94e4d8b621f9b9f",
              "IPY_MODEL_7b5cbe4cd1e24e2997279dc5ea465f4d",
              "IPY_MODEL_c8c42035a8454f6da221ba4cd82e5b79"
            ],
            "layout": "IPY_MODEL_9c708b8f53f04827852aca8e088d06d4"
          }
        },
        "907de1d152094cdea94e4d8b621f9b9f": {
          "model_module": "@jupyter-widgets/controls",
          "model_name": "HTMLModel",
          "model_module_version": "1.5.0",
          "state": {
            "_dom_classes": [],
            "_model_module": "@jupyter-widgets/controls",
            "_model_module_version": "1.5.0",
            "_model_name": "HTMLModel",
            "_view_count": null,
            "_view_module": "@jupyter-widgets/controls",
            "_view_module_version": "1.5.0",
            "_view_name": "HTMLView",
            "description": "",
            "description_tooltip": null,
            "layout": "IPY_MODEL_56c33f4ee73645c399426c61c8f5ab6f",
            "placeholder": "​",
            "style": "IPY_MODEL_b47a5729319241c5a4d5667678a6e85a",
            "value": ""
          }
        },
        "7b5cbe4cd1e24e2997279dc5ea465f4d": {
          "model_module": "@jupyter-widgets/controls",
          "model_name": "FloatProgressModel",
          "model_module_version": "1.5.0",
          "state": {
            "_dom_classes": [],
            "_model_module": "@jupyter-widgets/controls",
            "_model_module_version": "1.5.0",
            "_model_name": "FloatProgressModel",
            "_view_count": null,
            "_view_module": "@jupyter-widgets/controls",
            "_view_module_version": "1.5.0",
            "_view_name": "ProgressView",
            "bar_style": "info",
            "description": "",
            "description_tooltip": null,
            "layout": "IPY_MODEL_12f48dff933b475d96f80813a88c9de4",
            "max": 1,
            "min": 0,
            "orientation": "horizontal",
            "style": "IPY_MODEL_89585f4fc5a84fc29120d3790ac3511d",
            "value": 1
          }
        },
        "c8c42035a8454f6da221ba4cd82e5b79": {
          "model_module": "@jupyter-widgets/controls",
          "model_name": "HTMLModel",
          "model_module_version": "1.5.0",
          "state": {
            "_dom_classes": [],
            "_model_module": "@jupyter-widgets/controls",
            "_model_module_version": "1.5.0",
            "_model_name": "HTMLModel",
            "_view_count": null,
            "_view_module": "@jupyter-widgets/controls",
            "_view_module_version": "1.5.0",
            "_view_name": "HTMLView",
            "description": "",
            "description_tooltip": null,
            "layout": "IPY_MODEL_88cb5128847c47da84726c2c1e451599",
            "placeholder": "​",
            "style": "IPY_MODEL_f0b14f3637d44fc2b7cd292aedd1cd0d",
            "value": " 0/0 [00:00&lt;?, ? examples/s]"
          }
        },
        "9c708b8f53f04827852aca8e088d06d4": {
          "model_module": "@jupyter-widgets/base",
          "model_name": "LayoutModel",
          "model_module_version": "1.2.0",
          "state": {
            "_model_module": "@jupyter-widgets/base",
            "_model_module_version": "1.2.0",
            "_model_name": "LayoutModel",
            "_view_count": null,
            "_view_module": "@jupyter-widgets/base",
            "_view_module_version": "1.2.0",
            "_view_name": "LayoutView",
            "align_content": null,
            "align_items": null,
            "align_self": null,
            "border": null,
            "bottom": null,
            "display": null,
            "flex": null,
            "flex_flow": null,
            "grid_area": null,
            "grid_auto_columns": null,
            "grid_auto_flow": null,
            "grid_auto_rows": null,
            "grid_column": null,
            "grid_gap": null,
            "grid_row": null,
            "grid_template_areas": null,
            "grid_template_columns": null,
            "grid_template_rows": null,
            "height": null,
            "justify_content": null,
            "justify_items": null,
            "left": null,
            "margin": null,
            "max_height": null,
            "max_width": null,
            "min_height": null,
            "min_width": null,
            "object_fit": null,
            "object_position": null,
            "order": null,
            "overflow": null,
            "overflow_x": null,
            "overflow_y": null,
            "padding": null,
            "right": null,
            "top": null,
            "visibility": null,
            "width": null
          }
        },
        "56c33f4ee73645c399426c61c8f5ab6f": {
          "model_module": "@jupyter-widgets/base",
          "model_name": "LayoutModel",
          "model_module_version": "1.2.0",
          "state": {
            "_model_module": "@jupyter-widgets/base",
            "_model_module_version": "1.2.0",
            "_model_name": "LayoutModel",
            "_view_count": null,
            "_view_module": "@jupyter-widgets/base",
            "_view_module_version": "1.2.0",
            "_view_name": "LayoutView",
            "align_content": null,
            "align_items": null,
            "align_self": null,
            "border": null,
            "bottom": null,
            "display": null,
            "flex": null,
            "flex_flow": null,
            "grid_area": null,
            "grid_auto_columns": null,
            "grid_auto_flow": null,
            "grid_auto_rows": null,
            "grid_column": null,
            "grid_gap": null,
            "grid_row": null,
            "grid_template_areas": null,
            "grid_template_columns": null,
            "grid_template_rows": null,
            "height": null,
            "justify_content": null,
            "justify_items": null,
            "left": null,
            "margin": null,
            "max_height": null,
            "max_width": null,
            "min_height": null,
            "min_width": null,
            "object_fit": null,
            "object_position": null,
            "order": null,
            "overflow": null,
            "overflow_x": null,
            "overflow_y": null,
            "padding": null,
            "right": null,
            "top": null,
            "visibility": null,
            "width": null
          }
        },
        "b47a5729319241c5a4d5667678a6e85a": {
          "model_module": "@jupyter-widgets/controls",
          "model_name": "DescriptionStyleModel",
          "model_module_version": "1.5.0",
          "state": {
            "_model_module": "@jupyter-widgets/controls",
            "_model_module_version": "1.5.0",
            "_model_name": "DescriptionStyleModel",
            "_view_count": null,
            "_view_module": "@jupyter-widgets/base",
            "_view_module_version": "1.2.0",
            "_view_name": "StyleView",
            "description_width": ""
          }
        },
        "12f48dff933b475d96f80813a88c9de4": {
          "model_module": "@jupyter-widgets/base",
          "model_name": "LayoutModel",
          "model_module_version": "1.2.0",
          "state": {
            "_model_module": "@jupyter-widgets/base",
            "_model_module_version": "1.2.0",
            "_model_name": "LayoutModel",
            "_view_count": null,
            "_view_module": "@jupyter-widgets/base",
            "_view_module_version": "1.2.0",
            "_view_name": "LayoutView",
            "align_content": null,
            "align_items": null,
            "align_self": null,
            "border": null,
            "bottom": null,
            "display": null,
            "flex": null,
            "flex_flow": null,
            "grid_area": null,
            "grid_auto_columns": null,
            "grid_auto_flow": null,
            "grid_auto_rows": null,
            "grid_column": null,
            "grid_gap": null,
            "grid_row": null,
            "grid_template_areas": null,
            "grid_template_columns": null,
            "grid_template_rows": null,
            "height": null,
            "justify_content": null,
            "justify_items": null,
            "left": null,
            "margin": null,
            "max_height": null,
            "max_width": null,
            "min_height": null,
            "min_width": null,
            "object_fit": null,
            "object_position": null,
            "order": null,
            "overflow": null,
            "overflow_x": null,
            "overflow_y": null,
            "padding": null,
            "right": null,
            "top": null,
            "visibility": null,
            "width": "20px"
          }
        },
        "89585f4fc5a84fc29120d3790ac3511d": {
          "model_module": "@jupyter-widgets/controls",
          "model_name": "ProgressStyleModel",
          "model_module_version": "1.5.0",
          "state": {
            "_model_module": "@jupyter-widgets/controls",
            "_model_module_version": "1.5.0",
            "_model_name": "ProgressStyleModel",
            "_view_count": null,
            "_view_module": "@jupyter-widgets/base",
            "_view_module_version": "1.2.0",
            "_view_name": "StyleView",
            "bar_color": null,
            "description_width": ""
          }
        },
        "88cb5128847c47da84726c2c1e451599": {
          "model_module": "@jupyter-widgets/base",
          "model_name": "LayoutModel",
          "model_module_version": "1.2.0",
          "state": {
            "_model_module": "@jupyter-widgets/base",
            "_model_module_version": "1.2.0",
            "_model_name": "LayoutModel",
            "_view_count": null,
            "_view_module": "@jupyter-widgets/base",
            "_view_module_version": "1.2.0",
            "_view_name": "LayoutView",
            "align_content": null,
            "align_items": null,
            "align_self": null,
            "border": null,
            "bottom": null,
            "display": null,
            "flex": null,
            "flex_flow": null,
            "grid_area": null,
            "grid_auto_columns": null,
            "grid_auto_flow": null,
            "grid_auto_rows": null,
            "grid_column": null,
            "grid_gap": null,
            "grid_row": null,
            "grid_template_areas": null,
            "grid_template_columns": null,
            "grid_template_rows": null,
            "height": null,
            "justify_content": null,
            "justify_items": null,
            "left": null,
            "margin": null,
            "max_height": null,
            "max_width": null,
            "min_height": null,
            "min_width": null,
            "object_fit": null,
            "object_position": null,
            "order": null,
            "overflow": null,
            "overflow_x": null,
            "overflow_y": null,
            "padding": null,
            "right": null,
            "top": null,
            "visibility": null,
            "width": null
          }
        },
        "f0b14f3637d44fc2b7cd292aedd1cd0d": {
          "model_module": "@jupyter-widgets/controls",
          "model_name": "DescriptionStyleModel",
          "model_module_version": "1.5.0",
          "state": {
            "_model_module": "@jupyter-widgets/controls",
            "_model_module_version": "1.5.0",
            "_model_name": "DescriptionStyleModel",
            "_view_count": null,
            "_view_module": "@jupyter-widgets/base",
            "_view_module_version": "1.2.0",
            "_view_name": "StyleView",
            "description_width": ""
          }
        },
        "d68f54d737b14a619c5928acea8d4ea3": {
          "model_module": "@jupyter-widgets/controls",
          "model_name": "HBoxModel",
          "model_module_version": "1.5.0",
          "state": {
            "_dom_classes": [],
            "_model_module": "@jupyter-widgets/controls",
            "_model_module_version": "1.5.0",
            "_model_name": "HBoxModel",
            "_view_count": null,
            "_view_module": "@jupyter-widgets/controls",
            "_view_module_version": "1.5.0",
            "_view_name": "HBoxView",
            "box_style": "",
            "children": [
              "IPY_MODEL_d17307459ed1498caef55b6fa5aeed65",
              "IPY_MODEL_1601a586cf5f4db782352ee4f2ed6182",
              "IPY_MODEL_7cd2d1ee5a0a44988cd829304f13bab7"
            ],
            "layout": "IPY_MODEL_edfe2410c47d4feb8b291bd34c8be954"
          }
        },
        "d17307459ed1498caef55b6fa5aeed65": {
          "model_module": "@jupyter-widgets/controls",
          "model_name": "HTMLModel",
          "model_module_version": "1.5.0",
          "state": {
            "_dom_classes": [],
            "_model_module": "@jupyter-widgets/controls",
            "_model_module_version": "1.5.0",
            "_model_name": "HTMLModel",
            "_view_count": null,
            "_view_module": "@jupyter-widgets/controls",
            "_view_module_version": "1.5.0",
            "_view_name": "HTMLView",
            "description": "",
            "description_tooltip": null,
            "layout": "IPY_MODEL_a1f2279b973b4be2af35df35c8daface",
            "placeholder": "​",
            "style": "IPY_MODEL_d40d775f9cac4386adf9c6b1d8136285",
            "value": ""
          }
        },
        "1601a586cf5f4db782352ee4f2ed6182": {
          "model_module": "@jupyter-widgets/controls",
          "model_name": "FloatProgressModel",
          "model_module_version": "1.5.0",
          "state": {
            "_dom_classes": [],
            "_model_module": "@jupyter-widgets/controls",
            "_model_module_version": "1.5.0",
            "_model_name": "FloatProgressModel",
            "_view_count": null,
            "_view_module": "@jupyter-widgets/controls",
            "_view_module_version": "1.5.0",
            "_view_name": "ProgressView",
            "bar_style": "info",
            "description": "",
            "description_tooltip": null,
            "layout": "IPY_MODEL_ec68e7da88ea4f43a337e5db90428c11",
            "max": 1,
            "min": 0,
            "orientation": "horizontal",
            "style": "IPY_MODEL_bd61715f61774ccaa75792be0acd6167",
            "value": 1
          }
        },
        "7cd2d1ee5a0a44988cd829304f13bab7": {
          "model_module": "@jupyter-widgets/controls",
          "model_name": "HTMLModel",
          "model_module_version": "1.5.0",
          "state": {
            "_dom_classes": [],
            "_model_module": "@jupyter-widgets/controls",
            "_model_module_version": "1.5.0",
            "_model_name": "HTMLModel",
            "_view_count": null,
            "_view_module": "@jupyter-widgets/controls",
            "_view_module_version": "1.5.0",
            "_view_name": "HTMLView",
            "description": "",
            "description_tooltip": null,
            "layout": "IPY_MODEL_2ce7caa7d461471ead51137bf0ab3ce4",
            "placeholder": "​",
            "style": "IPY_MODEL_c2b1c4405480497b8a915dac723e22b4",
            "value": " 0/0 [00:00&lt;?, ? examples/s]"
          }
        },
        "edfe2410c47d4feb8b291bd34c8be954": {
          "model_module": "@jupyter-widgets/base",
          "model_name": "LayoutModel",
          "model_module_version": "1.2.0",
          "state": {
            "_model_module": "@jupyter-widgets/base",
            "_model_module_version": "1.2.0",
            "_model_name": "LayoutModel",
            "_view_count": null,
            "_view_module": "@jupyter-widgets/base",
            "_view_module_version": "1.2.0",
            "_view_name": "LayoutView",
            "align_content": null,
            "align_items": null,
            "align_self": null,
            "border": null,
            "bottom": null,
            "display": null,
            "flex": null,
            "flex_flow": null,
            "grid_area": null,
            "grid_auto_columns": null,
            "grid_auto_flow": null,
            "grid_auto_rows": null,
            "grid_column": null,
            "grid_gap": null,
            "grid_row": null,
            "grid_template_areas": null,
            "grid_template_columns": null,
            "grid_template_rows": null,
            "height": null,
            "justify_content": null,
            "justify_items": null,
            "left": null,
            "margin": null,
            "max_height": null,
            "max_width": null,
            "min_height": null,
            "min_width": null,
            "object_fit": null,
            "object_position": null,
            "order": null,
            "overflow": null,
            "overflow_x": null,
            "overflow_y": null,
            "padding": null,
            "right": null,
            "top": null,
            "visibility": null,
            "width": null
          }
        },
        "a1f2279b973b4be2af35df35c8daface": {
          "model_module": "@jupyter-widgets/base",
          "model_name": "LayoutModel",
          "model_module_version": "1.2.0",
          "state": {
            "_model_module": "@jupyter-widgets/base",
            "_model_module_version": "1.2.0",
            "_model_name": "LayoutModel",
            "_view_count": null,
            "_view_module": "@jupyter-widgets/base",
            "_view_module_version": "1.2.0",
            "_view_name": "LayoutView",
            "align_content": null,
            "align_items": null,
            "align_self": null,
            "border": null,
            "bottom": null,
            "display": null,
            "flex": null,
            "flex_flow": null,
            "grid_area": null,
            "grid_auto_columns": null,
            "grid_auto_flow": null,
            "grid_auto_rows": null,
            "grid_column": null,
            "grid_gap": null,
            "grid_row": null,
            "grid_template_areas": null,
            "grid_template_columns": null,
            "grid_template_rows": null,
            "height": null,
            "justify_content": null,
            "justify_items": null,
            "left": null,
            "margin": null,
            "max_height": null,
            "max_width": null,
            "min_height": null,
            "min_width": null,
            "object_fit": null,
            "object_position": null,
            "order": null,
            "overflow": null,
            "overflow_x": null,
            "overflow_y": null,
            "padding": null,
            "right": null,
            "top": null,
            "visibility": null,
            "width": null
          }
        },
        "d40d775f9cac4386adf9c6b1d8136285": {
          "model_module": "@jupyter-widgets/controls",
          "model_name": "DescriptionStyleModel",
          "model_module_version": "1.5.0",
          "state": {
            "_model_module": "@jupyter-widgets/controls",
            "_model_module_version": "1.5.0",
            "_model_name": "DescriptionStyleModel",
            "_view_count": null,
            "_view_module": "@jupyter-widgets/base",
            "_view_module_version": "1.2.0",
            "_view_name": "StyleView",
            "description_width": ""
          }
        },
        "ec68e7da88ea4f43a337e5db90428c11": {
          "model_module": "@jupyter-widgets/base",
          "model_name": "LayoutModel",
          "model_module_version": "1.2.0",
          "state": {
            "_model_module": "@jupyter-widgets/base",
            "_model_module_version": "1.2.0",
            "_model_name": "LayoutModel",
            "_view_count": null,
            "_view_module": "@jupyter-widgets/base",
            "_view_module_version": "1.2.0",
            "_view_name": "LayoutView",
            "align_content": null,
            "align_items": null,
            "align_self": null,
            "border": null,
            "bottom": null,
            "display": null,
            "flex": null,
            "flex_flow": null,
            "grid_area": null,
            "grid_auto_columns": null,
            "grid_auto_flow": null,
            "grid_auto_rows": null,
            "grid_column": null,
            "grid_gap": null,
            "grid_row": null,
            "grid_template_areas": null,
            "grid_template_columns": null,
            "grid_template_rows": null,
            "height": null,
            "justify_content": null,
            "justify_items": null,
            "left": null,
            "margin": null,
            "max_height": null,
            "max_width": null,
            "min_height": null,
            "min_width": null,
            "object_fit": null,
            "object_position": null,
            "order": null,
            "overflow": null,
            "overflow_x": null,
            "overflow_y": null,
            "padding": null,
            "right": null,
            "top": null,
            "visibility": null,
            "width": "20px"
          }
        },
        "bd61715f61774ccaa75792be0acd6167": {
          "model_module": "@jupyter-widgets/controls",
          "model_name": "ProgressStyleModel",
          "model_module_version": "1.5.0",
          "state": {
            "_model_module": "@jupyter-widgets/controls",
            "_model_module_version": "1.5.0",
            "_model_name": "ProgressStyleModel",
            "_view_count": null,
            "_view_module": "@jupyter-widgets/base",
            "_view_module_version": "1.2.0",
            "_view_name": "StyleView",
            "bar_color": null,
            "description_width": ""
          }
        },
        "2ce7caa7d461471ead51137bf0ab3ce4": {
          "model_module": "@jupyter-widgets/base",
          "model_name": "LayoutModel",
          "model_module_version": "1.2.0",
          "state": {
            "_model_module": "@jupyter-widgets/base",
            "_model_module_version": "1.2.0",
            "_model_name": "LayoutModel",
            "_view_count": null,
            "_view_module": "@jupyter-widgets/base",
            "_view_module_version": "1.2.0",
            "_view_name": "LayoutView",
            "align_content": null,
            "align_items": null,
            "align_self": null,
            "border": null,
            "bottom": null,
            "display": null,
            "flex": null,
            "flex_flow": null,
            "grid_area": null,
            "grid_auto_columns": null,
            "grid_auto_flow": null,
            "grid_auto_rows": null,
            "grid_column": null,
            "grid_gap": null,
            "grid_row": null,
            "grid_template_areas": null,
            "grid_template_columns": null,
            "grid_template_rows": null,
            "height": null,
            "justify_content": null,
            "justify_items": null,
            "left": null,
            "margin": null,
            "max_height": null,
            "max_width": null,
            "min_height": null,
            "min_width": null,
            "object_fit": null,
            "object_position": null,
            "order": null,
            "overflow": null,
            "overflow_x": null,
            "overflow_y": null,
            "padding": null,
            "right": null,
            "top": null,
            "visibility": null,
            "width": null
          }
        },
        "c2b1c4405480497b8a915dac723e22b4": {
          "model_module": "@jupyter-widgets/controls",
          "model_name": "DescriptionStyleModel",
          "model_module_version": "1.5.0",
          "state": {
            "_model_module": "@jupyter-widgets/controls",
            "_model_module_version": "1.5.0",
            "_model_name": "DescriptionStyleModel",
            "_view_count": null,
            "_view_module": "@jupyter-widgets/base",
            "_view_module_version": "1.2.0",
            "_view_name": "StyleView",
            "description_width": ""
          }
        }
      }
    }
  },
  "cells": [
    {
      "cell_type": "markdown",
      "metadata": {
        "id": "view-in-github",
        "colab_type": "text"
      },
      "source": [
        "<a href=\"https://colab.research.google.com/github/LeondraJames/TweetClassificationLSTM/blob/main/Tweet_Emotion_Recognition_Model.ipynb\" target=\"_parent\"><img src=\"https://colab.research.google.com/assets/colab-badge.svg\" alt=\"Open In Colab\"/></a>"
      ]
    },
    {
      "cell_type": "markdown",
      "metadata": {
        "id": "sp7D0ktn5eiG"
      },
      "source": [
        "## Twitter NLP Sentiment Multi-classification Model with a Long Short-Term Memory (LSTM), Bidirectional Recurrent Neural Network (BRNN) using Keras & TensorFlow\n",
        "![how-tweet-threads-one.png.twimg.1920.png](data:image/png;base64,iVBORw0KGgoAAAANSUhEUgAAAmgAAAEvCAYAAADxWj0AAAAEf2lUWHRYTUw6Y29tLmFkb2JlLnhtcAAAAAAAPD94cGFja2V0IGJlZ2luPSLvu78iIGlkPSJXNU0wTXBDZWhpSHpyZVN6TlRjemtjOWQiPz4KPHg6eG1wbWV0YSB4bWxuczp4PSJhZG9iZTpuczptZXRhLyIgeDp4bXB0az0iQWRvYmUgWE1QIENvcmUgNS42LWMxNDggNzkuMTY0MDUwLCAyMDE5LzEwLzAxLTE4OjAzOjE2ICAgICAgICAiPgogPHJkZjpSREYgeG1sbnM6cmRmPSJodHRwOi8vd3d3LnczLm9yZy8xOTk5LzAyLzIyLXJkZi1zeW50YXgtbnMjIj4KICA8cmRmOkRlc2NyaXB0aW9uIHJkZjphYm91dD0iIgogICAgeG1sbnM6ZGFtPSJodHRwOi8vd3d3LmRheS5jb20vZGFtLzEuMCIKICAgIHhtbG5zOnRpZmY9Imh0dHA6Ly9ucy5hZG9iZS5jb20vdGlmZi8xLjAvIgogICAgeG1sbnM6ZGM9Imh0dHA6Ly9wdXJsLm9yZy9kYy9lbGVtZW50cy8xLjEvIgogICBkYW06UGh5c2ljYWxoZWlnaHRpbmluY2hlcz0iLTEuMCIKICAgZGFtOlBoeXNpY2Fsd2lkdGhpbmluY2hlcz0iLTEuMCIKICAgZGFtOkZpbGVmb3JtYXQ9IlBORyIKICAgZGFtOlByb2dyZXNzaXZlPSJubyIKICAgZGFtOmV4dHJhY3RlZD0iMjAyMS0wNy0yM1QxMTozMToxOS45ODVaIgogICBkYW06Qml0c3BlcnBpeGVsPSIzMiIKICAgZGFtOk1JTUV0eXBlPSJpbWFnZS9wbmciCiAgIGRhbTpQaHlzaWNhbHdpZHRoaW5kcGk9Ii0xIgogICBkYW06UGh5c2ljYWxoZWlnaHRpbmRwaT0iLTEiCiAgIGRhbTpOdW1iZXJvZmltYWdlcz0iMSIKICAgZGFtOk51bWJlcm9mdGV4dHVhbGNvbW1lbnRzPSIwIgogICBkYW06c2hhMT0iYzEzZGJlMGU4MzAzM2YxMWQxODgzY2ExMDAwYTdiMDU0ODE4Njg3YiIKICAgZGFtOnNpemU9IjM1Nzc1IgogICB0aWZmOkltYWdlTGVuZ3RoPSIzMDMiCiAgIHRpZmY6SW1hZ2VXaWR0aD0iNjE2IgogICBkYzpmb3JtYXQ9ImltYWdlL3BuZyIKICAgZGM6bW9kaWZpZWQ9IjIwMjEtMDgtMDRUMTA6MzU6MzMuMDIwWiI+CiAgIDxkYzp0aXRsZT4KICAgIDxyZGY6QWx0PgogICAgIDxyZGY6bGkgeG1sOmxhbmc9IngtZGVmYXVsdCI+aG93LXR3ZWV0LXRocmVhZHMtb25lLnBuZzwvcmRmOmxpPgogICAgPC9yZGY6QWx0PgogICA8L2RjOnRpdGxlPgogIDwvcmRmOkRlc2NyaXB0aW9uPgogPC9yZGY6UkRGPgo8L3g6eG1wbWV0YT4KPD94cGFja2V0IGVuZD0iciI/PuEnQN4AACAASURBVHic7N13nF1lnfjxz/Occ9vcO72n9x5CQgkldEFBQIUQXAXR3bVg3Z/o2nZXdxV3rYtKswGCohClrAIiRaQTSA+k9zKZZGaSKbeee57n98e5M5meQiYgfN8vEubec+45z3PumXu/ecr3Ub/+9a9taUkJd/76bv78yEPghCkrLeVrX/lXRo0cyYuLFvHjG29BAflcmg988GrOPedMPvsvXyCdyaLwmT17DiedeCJNTU3EYlGKi4ux1pLJ5KiurmT0qJH4vo+1FiGEEEL8/aiIKh7d4nHvhjz/NTdCdZHmumfTnFjj8OGpYVqylqPx9a4AYy3ZfJ6I66KV4lhFDQqwQNbzMMaglILCc923d9+/k+3nuU5aKUKhEPc/9DipdJqrr3wPjqPpSKZ7xEShkEtZSTEvLFrGy8te5bKLz8dNpVLEi4pIpdO0t7eDE8F1HHK5HPl8nmw2R0d7B2DJ59J0JNuJx+OEQ2EaG3YC0N7WxkUXXkBtTQ3r1q/ngQceJJP1sH6OcNjF0aNJp9NH4xoKIYQQYog5CgxgLbRZxeQSQ0cmx6tNMLpYs6M1xzUTIqRzHrnc0QmjOgM0z/PQ1h7TAA1AKUU+n8fL59GqZ7jVO1BT9A3MbK/tXa9T8I6zTuHOex7k5l/czfsuPo/6uppgu7U4jkMymebhx/7GQ395irGjRxKPRXBDoVCP06sep+teuOA5L+dRWVHBSSfNYfu2TYRjJSxevITP/st1zD5+FouXLOPVlcu6Xvf+f/ggZ5x+Gh3J5JFcLyGEEEIcI5YgOIuHFOm8JWsg61uGJzRTKxxeavTZ2mYYFldMLNekvKMfQr1RfW0KulrO+tvWX0tZ/3sHOvdPpTOUFMe5asGlPPjwE9zx2wcZM2oYw+trcV2Hffta2bR1J56X54r3XMiq1eu458FHcCkUyPPywQH9bFdrl9YaY3zyuVRXMbI5j45kkovffRHLV6xi4/o1oFxWLl/KyuVLC8VxAJ85J87l4ndfSFNz82FeJiGEEEIcS8ZCIgwKxS9X5TipzuGUeofdSYvWMK/e4aev5lhq4bJxLiVhxZ70W2fokgU0oFTPVrD+9oNerWTdHvf5v1K0tScpKopx9YJLWb1uE6vWbGDthi0owHUcpk0az6yZkxk5vJ6J40Zx/8NPBAGaMYaiWIxoNAo6TGlZCQB5P08o5JIoKcNahe+liUUjtLe3E4vF+MqXrmPh7//ACy+9QkdHB7bQJFlaUsJZZ83jve95DwA5L4dW+ihcPiGEEEIMhZADHTnY3Jbn8R15Qg6MSCgcrUjnYUq5Jh5S7M8YZlU5ZM3QlGOwVqmhprU+EKEVDDQO7bCOqxTpVBrHcZg2aRxTJ48nnc5gjCEajRAOh0inM+zcvYfieBGXX3IB6rbbbrP5fJ68l8fLe4XmPUUkEkYphTGGXC4XFNJaQqEQruvi+z6JRIKiWIwdu3bR2NhINpMlEolSU1NNbW01HR1JkslkUGEhhBBCvCkpoDKmuH9DnoVrczgRhe9bKqKKL82JUhVTRBz4zuIsOzsM3zktRt6CZ45eC5oGfGvJeB7RUAhHKYYoBuxXZxdnxvPI5/OobmPg+h1bVnistUY7Dk6vWKe/LtGu55QK9ldgjA0mJhS2GWtJxONBgJbL5QiHwwTj0SzW2kJkZ3Fdh2gk0nlEcrkcuZyH1qprcFs4HMZaQzaT7XrsG9NjJoQQQggh3rxcDek8rG72uXejxwnVDmcPd6mMKayFiKto6DBkfcvoEoesf3S7N7tmcXoekVDomE8SgKCly/N9sp53yC15Oc+jvb0dz/OIFXojHa0x1vY5xmAzPrsLh8Pdx6B5eJ7Xs6A6aEFL9ZqBqbUKIktraW1txVpLXV0d06ZPoKqqivr6eoqKig6xakIIIYR4oxkLERfQim9mDImwBg2eZ7EEMzojIQUKsjmLHqL2l8HGfx1LvcsxUHDVkUyyc+dO9uzdy8aNG2nYvRuAkuJiVLdAbaB69Tf7EwgCtMOllCKVSpHNZhk7diyzZs1iwoQJ0pUphBBCvAUkogd+7kr20E0kfOzK8mZXXlZGeVkZAGefcQZr16/nlcWL2bBxI9FolHhREaaQ86x3MNa7hbD748MO0JRS7N+/n5KSEs5/xzuYNn36kdRHCCGEEOItRTsOU6dMYeqUKSxfsYInn3qKffv2UV5ePmCy/t6zPiEI1A4rQFNK0dzczJgxY7jooosoKSk5shoIIYQQQryFzTruOMaMHs19DzzAps2bqa6s7NNiNlDXpyKYNHFIOoOzCRMmsGDBAgnOhBBCCCEGUVpayjVXX82UyZPZ09zcY2YoHOjStP38OaQATSlFa2sro0aN4vLLL5exZkIIIYQQh0BrzQfe/37GjR1Ly759PZaR6r0qQfc/B420OicExONxLrvsMkmbIYQQQghxGJRS/MOCBRQXF9ORSvWIpToDst4OGqAZY8hkMpx33nnBSgNCCCGEEOKwxGIxLnrnO8mk01hjenRndndIXZxKKdrb2xk/fjyTJk0aoiILIYQQQrz1TZ06lUkTJ9LW3t6jFa2/yQODBmjGGKy1nHjiiUNQTCGEEEKIt5dTTzkF07naEn2Xj+r8edAALZvNMmzYMMaMGTNExRRCCCGEePsYP24cI4YPJ5PJAAfSbHRPXHvQFrR0Os3o0aOHspxCCCGEEG8r48eNI5VKBQGZDZbR6t2CNmCiWmMMoVCI2traoS6nEEIIIcTbRn19PeFwGGttkHaj0Hx2SGtx+r5PIpGgpqZm6EsqhBBCCPE2UV9XR01lJfl8HjcU6pNmIxQKDdzFaa0lFApRVFQ0xMUUQgghhHj7KCoqItLZgkbfJLUKcAdKkIa1KKUkMa0QQgghxFHUueSTtbZPig0ojEEz1mL6WWHdWNuVZkMIIYQQQhwdhxJbudl8npzn9cnDkfU8Qp7Xb2QnhBBCCCGGjhtxXXQ/kZwyhkg/A9eEEEIIIcTQ0lopBvszlD71VJoFDyUPef8FDyX59FPpISyREEIIIcQbT3dfrLO/P0NpT9qw8PkMCx4+eJC24OEUC5/P0Jg2Q1wqIYQQQog31oB50I6F35wfR6O4d1GGBcC9F8X73W/BI0kWLsqwYF6Muy6QtB9CCCGEeGt7QwO0sAv3XFiEsTYIwBTce2HPIG3Bw0kWLsoy/+QY91wowZkQQggh3voGXYvzWFl4UZz5J0dZ+FK2R3fngeAsysKLJDgTQgghxNvDG9qC1t3Ci+JcoRQLl2b4TFEwOWHh0hzz50ZYKC1nQgghhHgbedMEaAALLyziE1HFjYszAHz8tCi3nhN7g0slhBBCCHFs6fLiKLGoGyyk/ibISqu6/pYMbEIIIYR4e3L//OIWpowqYVRdMdmcT3vKe8MCtQUPp1i4NMOn5gWtZjc9l6YlbblXxp8JIYQQ4m3E/b9nt/FYCI6fXMWZs+oZVZugLeWRzR7bKG3BwykWLsow/+QIN54VBGiNScPCRWkWYAdMwSGEEEII8VbjVlcW07QvyaOLGli8toWzZ9dx3gnDKC+OkD9GhRhotubCi+JcgSoEaQPnSRNCCCGE+Hvi5fN4+TzacYJRXd3bxZRCozWxogj1NaV4RvOHp7fxoz+8xs69SarLIgzlak85H678c2dwFuk3lcbCi4qYPzfKwkUZ3v9Iklz+TTBQTgghhBDidbADPghopR200igN8XiEuppSNu7O8KP71/H8yiYcxxmywl31lxT3PpMptJwN3Dq28MI48+fGuOfZDFf9JTVk5RFCCCGEOBYGav/qjNW01g5KOyjlopSD1pq6imLSnua+53aSzg5dR2d1VHH5qYeWhHbhhUXMPy1KddGbIreuEEIIIcSQcbWj0W63VrLCFM5EPEosHsWaoetSvOkwc5wtfLeMQRNCCCHEW1dny5ob0i4hbVAajAVrLShQrofrOpKOTAghhBDiGHOV1ihHBalhFWilwYKrHRzHRUmEJoQQQghxTLlKK7TWWMApBGNGGbSj0Y6WFjQhhBBCiGPM1a6DdlwUFkswe8BVGsf1cZw31VKdQgghhBBvC65ygi5OCp2ZnV2aSmu0lhmTQgghhBBDYpBeysIYtAOBmLLB3lo7EqAJIYQQQgyZvhFaZ+4M13VDuM6BVBpKB0FayDXBLE4hhBBCCHH0FVKbWfqGaq52XRzXFDbYwnpQipDr4g7hKgJCCCGEEKJncNaVBy3savxQZ3imUBTSbLhBAltJsyGEEEIIcWy5rguuqwohm+7q/HRDDqGQJKoVQgghhBgq/XVvArghrci7urMbFAClNKEQhKSHUwghhBDimHNjYQdr8sEST4BVCoUlryEskziFEEIIIY4qrTXl5eVkMhmsMaAUSinKykpxnGAOgFsU0RhfYUwwAq2zIS0fgnBIRqAJIYQQQhxNmWyWF154kdraGkpLSzHWohS88soS2tvbSSQSuJEQ2IiLtWCsRRemBWgMiYj0cQohhBBCHE3ZTIYf/+RmPnT1Bzj//PNIpzO0trbx05//knRHK8XF5bjW81DGRxXaz1QhQHOMRVvzRtdBCCGEEOItJRQK43tZNm/ZSigcxvd9du/eTTqVBidMJBbF1QDGBCtxBv9hURjfwxrvDa6CEEIIIcRbi1LghqNs2bqNZEeSkpISdu7cCSZHrKgUrTXaGos1Fjoby4zFGh9j8hjf4MhyT0IIIYQQR42jNdFYlG1bt7Jv/3601jTsbgRAu5q8n8dtbm0nm8vjOoW1N5VGK0XWB88oMrkcSoe7ZnnCgXWiVK+fuxsor8dABjrOkerv/J3P9S6/OshrepfrYGXtvd322n64dRysXAcrx6FsO9L3qvv5B7qmg5XnUPY71DoMtv1w63ew8xysTAywvXe9GGTfQz3PYK/vXZ6j8Z4fallf7zXv75wD/S4e7Dyv9/7ufc7exxzsvRjsc6j340P9DDyc+/pgn9X9laW7w/n9OtL3/FC+T17PMft7fCTHO5Lf+YO9tr/j9D7WYN+x3Z8/3PvoaDka7/vh7j9Q3Y+GgT4nD6W8hxobaKXJ5HKEQiFMPsvuht2MGDGchoYGQJHNZqirrcVdt3ErqYxHsKqTg9YKRztkvTzNFaWs27aL8tI46UyOg9+mqqtw/X3IHWq4oxTd8rId/KtIFZ7ufE3n67sfZ+AyHUxQr+BYg90WFqVUj3xyh3bs7sfrfcxeZeBQ6tBzNu5gt1jf69zfx+yR/BodSph74JmurV3l6Vvf/u+JA/WAnu/PgfdLdduz94fYYCFi9xIOrGe5BtiHw7n3etWNg5X1YNsG3r9vuYJHqnBB+94bfR8Hxxjs3gme73nMw/l4PXjder/XA5WTrrLS7Xek99da9717H6vwykHuxYOFOL3fz55n7q8sPY/T+34b+P47+DU9/Pvy4GFY/5+Tgx2z//0O7b4/+HEObD+8r/LeQcDA32c973elVNfOfV8z0Gfx4Pfu6ws/+n9tz8/MQw05DvVz4HDL3P07tu/WPsdWFHbs/76h8/sfQBXuIjtYubs/zwDbepeXHmXu/34d+HMunkiwd09j0CgGbN++g5kzZ9DQsBvlhMln00yaNBF3f1s77clM4eNKoQvHau9I4WVTjB9eSyIeC6aA9lvYvkV/Pfsd/tt68H04jHMdyS022GsOdo6ByjnYcQYLoQ4vPDp4uXof41COM9h5D7V8r+fj6VBeeyjv0+G+ZrD3ZbDnDub1fIQe7FiHHpYcmUO5p47k2Af7ve7uYF/bR/r19/rDkMM/32D38qF9NQx+rP6O3f04h1K2Qw15j9RAxz3Uz9re2wb6vDiSz9nDrefh3Bu9r+uRfE8e6mfYoX7/HMlnM/28pr97pr/9Bivzwc57uJ+LA/0uDfTaw7kWSmmKXRUMLwN2797N5i1bSKXTKK2wPowdOwZXK4Oj8qC6gs3gTMZDmTzRcFgWTRdCCCGEOEpKEnEisQgADY2NrFixklwmC1oTKSph9OhRuG4YQl6hSc9alA3is3AYQmFFXlJtCCGEEEIcNaFwmAljx9KwfSt7Ght5bn8rbihE3sswYuQ4aqqr0TgK64B1FNZ1MKEQvnbwlINx3KPaNC2EEEIIIWDC+PEAtLd30Ni4h0g0AtYwbswYSktLcLNGkbEKx1pcfLSyhLQlEfGJ6yTK+m9wFYQQQggh3lrGTRgHuOR9QzQSwfPygGbcuLEYY3CL3RzhcJaQSRP2U7h+B6UxTS7fQjwbwUqAJoQQQghxVNXX11M7rJ7GXTshEsHL5ShKlDB2zGjS6QzuNGctbrEhnc7gmzyelyfsxNjcsps9OYUMQRNCCCGEOHp836eyopzx48bSuGs7qXQK/BwjR0ygpqaGnOfh7tuzi1wmQygcBRWitSON56dpboZEcRlKvTlXEsjmfPK+ASyuo4mE3Te6SEIIIYQQB+X7PsYYpkyZzJLFiwlFIuTSSaZNn0Y8Hqe1tRV3bzZMNu1RES0i05Ek4oYoKykibD0mTBpLOBx6o+vB9j1JFr/WyLptTWxrbKexOUVzh0c6l0dbS9TVlJVEqK0oYnRdCRNHlXPytHpG1Cbe6KILIYQQQvSglKKpqZmZM2bwreu/hbIGlCISidDS3Ix2HNyZI0Zg8hlCrkvRyOGEwyGMMbRVFFNbV4l9g/o40zn4v6fW8scXd/Dq1laa9qVJprMUxVyiroPrBsnesArf5NiyN0NmdTOprEcspKkpjzFtXCXvmjuGi08fQ0Vp9A2phxBCCCFEb8FKDpbystLgCaXwcjlynkfEcXBHVFSRSafo6GinOBwjnihiy/Zt7G/ZR2l5Lb5/bAO0ppYUP/jpgzzy9DJscS1+qIJILM7w+hKUDuEbcIyPgwdYfBxsIY2vDf7CN4ZszuPpFXt4dFEjtzywhvecMZqPXDSZ2sqiY1ofIYQQQojelFIYY0in08CB1Qh0YS0utzmXJJVLUVIeJ6U8du3YRDqdxlce2XwGrY/dKgJ3PbSEhY80snJFG+FQjOFFHdh8CpVPoCM1EKog7QFOGGWcriZBW1gGwdogItUuhEIRihPFKKXZ357lBwtXc/8z2/joJVP550smHbM6CSGEEEIcTO+8s27TvmYwhlg0RFsqw/62DCXlFeRVjKx1Mcegi7OhsZnrf/5HnltjKC0ey5xTZuNEJ7Fl8wv4u9ZSWzMcHXbxXRfjxPG1i7XRwjpWPkpZgiXCg9UQgpqqwjNQUe5SUZaguS3FV365lMeXNvCdj5/AaBmjJoQQQog3WH9reWpjQjQ1t9G4ez/JjhyuG6ejI8++VJYde/bj+0ObB+2eu3/HyadfzqLlSWpqx+LEffbbPbRbS2X9LIaNnILnW1qamvFTHcRD4CqLdh2UE0Y7IZQTQnf747jBH+26KO2AdlGOprqymMnjanhudStX/OezPLG4cUjrJoQQQghxMP2t2qSTmTxOOMrepmb2t7bhK9i+axdPvbiWNWtWo4cwzcbjT73Epz/3eRqad1M7ehheJELOiaLD5eCX4+gR6GFzyFdOwcaqyWQ9csl2YtriWg/XIQjEdAjHcYOfHTcI1LQbPB8K4xSeUzpEKBRh8uhq0n6Ij9+wmIVPbR+y+gkhhBBCDMQOss1N57K4CiLxOPFEgpzn0drWQn1lMZe9/xpiRUMzqP6uX/+R//rm91Cltbx/wb9iS2aS9xUhpxlt2ghlNSZXRjI6ivDwGuLZJGTa0cZHOw5hq8kr8JXuijwVgNYopUD1ikeVojBIDasU9bUltHbk+NrtrxFyNO89Y/iQ1FMIIYQQoj+DrXfuOtaiLMTjxVjfp6N1P5OmHsfZ77qMSVOPx/d9XPfoJoF97JnV/N8T69Emja4+g6JRZ9Cyr40QBi+v0boEG3Exbg5tbJBOI1qKjhSjLfjW4hqFtpAnHxzUBlXtjMuUVmAJxqGp4LElmOFpVfCCitIYrhviq3etp6osxryZFUe1nkIIIYQQB9PfGDS3OBIlk+qgedcuCIWYe/aFzDzpTIwxNDU2FPJ0HD3rN23np3euYPRIaBs7jPJT309bR5ZwxEH5GpWLg3IxFhzHQ+sgnUbQABbCANqCchTaWpRVfSp2YMpAQOugm9YA2nW6Loa1lqqyKMY6/MdvNvC7Lx9PTVn4qNZXCCGEEGIw/bWkuV4qRTgSZez0OUydcyrVdcNJp5K0t7VSXFx8VAuQz3l8+tNfJTryNF76y1+YPGsq1eNL2L6nmUgoAjoY/K+Vwvd9fGOxhIKeSWOCpLm2s0vTgAJXu5hCHjSFQimLsUE+NGuDPCNKB69wLNhuQ+qUCsK44TUJNjW08fW7N3DLJ6cd1ToLIYQQQhwud/ZZF1AzchyVdcPx8x5t+1vA2mAc11H2+GOP8sSTf+K8q8ewa+tu/JIahg9bTyRWTsPOXWSty/CR41BKBd2qRmF1CGsVxvcx1mCMxXa2mllAgy6MK1MEQZpDISdaYfhdZwsatvCMUkFwplRXC+G4YWW8tLGN+1/cy/tOqT7qdRdCCCGEOFTucaeeQzLZQbJtP8aY/gfYHwXpZJb//s4PicUU48ZOZmPRfWScSsaOmosxlnCoA1+FcXUc3+8cO2ZA57DWR2sXqxTGGgqrI2AtmMLqAZ3BWLC4+4FuWWuDpsPOZzQU2hIVWilUoUNUhxX11aX8+qkmzjuugpKiY5egVwghhBACDsQrbkfbfjzPAxiSVrNOjz73DB1eCR37XdoatzBx2hR2qRie8SguThBOxMnkIW8Ued9ifIuxPtYG49GwYNBYXKw1WIKWtDyWzrWeLIUJBd2ozlYzAAXaHqijQqG1LfwE1eVFbNrZyv0vNXPNOTVDdi2EEEIIIaDvBIHOn4/u9MwBtHakeXZDG9NPOIWyUClPLLyVd174Hk46fT6qsoiWfU1UVNXgKIdUJocDWONjjMJ6EYwfKQRr4JugMoagJc1RCtNZw85qFmZpqq6/D1RYKxUEaV1Xw3QFbg4wrKaEp9emueI0Q1Fk6HLACSGEEOJtTPWMTzobk45pgLZhRxuh+GxakiuJJjwaG3ayfMkKzlwwhmbfYU/Oo7mphcrqOhwnjMn7aO2glEUrF+ND3u8cd1ZoEbNOEKgVujRtt5qpbuGoKfygO7tACcae6UJAZ4PZBSg02loqSkLsaEry3Lo058+MH3GdrbWk0mmKYrEhbZkUQgghxN+hXlky+qTZGOrzG+OzdnMLun0PZTX1pMlSFCsjHK9gw8YVrN24FotiX8ojWlzF5ONOJF5SSc63WDRKGbSjcKzGorDWBF2eKKxW3epXCOA61+AMHmDtgaWqgrit14SBzteoYEyaoxXlVrG8wef8mUde74aG3Vzy3vn88YHfM2xY/ZEfSAghhBBvSYURXF26B2lDHqC1tHs0taXYt/tV9u1tpDTqUl5WwWWXX0o27FFXVUYymSKVzlFcFCOsIBErIuMbfKvB99C6c9Zl0GrmW4sxJkinUZi72Zn9DApBqQ2G/2NNYeF0TRC3KTAWpQr50KxFK0XQ1RmsNlAa12zfl6MlaaiIH1k3p298Ghobh3wtUyGEEEL8/cn7fpBSzPf7jEPTjjP0AVrSd9m+ezvbd2xgeG0NpqOJjvZmMsn9RBO1VBWXURwrRblJRk+aQqi4nJDjol1N3kDY0YVJAWBNkNPMKPCNg+2cPdBtTJk1QdBljcUABqcwaVN1G6KmodDV2TU2DR3M6LSWqBuipc1nc7NHRTxyRPXWSlNSXHwgxYcQQgghRIHjODiOg+s4fQI0R+uhD9B2N7WA9ZkxbRpb161iz7b1VFfXcMftd3L8qedjQwnqR47luJmz8bQiXhJGuZaMbwk54KjCUk4oDBZjghxtKqRRSuPY7msGBK1pxhiMb/AtWB0krjXGFPYI9gmS2AYrEShAO8G4NKUdXEfh+4bm9iNv/YrFokSiURJDtJapEEIIIf5+dfb/Qd/xZ6gh7+K07GloYua040g276Rtx2aWbNxMKmV4z5Xz2dfuUTeynhcXPw8hOPuCSyASoiObJRRysFahbGf6D1VIYqaxnakyFDgEkwI619e0WLTSOEqDhryx5DyPfL6Q1dZ2m0VgwdGdcz0L00PxURpKw4ZM7shbv9Zu2MzObVvZuG07c8rL+m7fuIVX125k3smzqanquwbokpWraWjcy+knHU9ZaQnPvbwMz/M4Y+4JOM7Qt8o1teznhcXLGVlfx/EzJh/RMbx8nqdfXEw8FuOUE447yiX8+2Gt5ZVlrzJuzAgq+7kXhsLq9ZtYu3ELnucxor6OU0+cdUzOK4QQ4iiwQxygGd9n765GYtXjOH72iUSSu3np8UeYOutUFnzwH3nttddobGrkM5+8liWrVrNi2cuceMrpVCTC5PI+BrC+AmMKqTQUylGFsWaFJLPWdJvZqdDKQTsW7RSCuJCGSBjjg7FBT2fvSLX7RIrCqlCElcVqc8R137R1B817G7jnwT8zZ1bf2Qbfu+l27n/kSb71pU9z7Yev7LEtm83xb/9zIzt27eaJ3/8cgG/+8FaSqQyP/u5WimLRIy7XoXrq+Zf5wLVf4ptf+swRB2jtHUm++u0fUV9TzX233YDWff6N8LbwwCNPcPWnv8bHrp7PD//zi0N6rkw2x/duvp0H//wkTS1B8umSRIK5JxzHlz/9j0wcN3pIzy+EEOLwdXZxdu/qHNIAzVqoKS/FLSth5MgES9r3s2H9aiaefCZ79rUwfuJYQtEYDY0tnD7vbPYlO3AsaGuCDk1lwXGwCoLORlOYfamDSMpalDVYXWhC0xqNAaswXmE8mgLHdQipzjQd3RsVwe9cg8BYtAJdyNMRdnzynodvIzhHkCbjtJOOJ1Zay6trN/bZtn3nbnY17mXS+NGsWLO+z/a1G7fQuLeJU044jurKoHWtJBHHDbn9Lqh6pDzP41+/eQNg+e6//z9CoVDXth27GhleX8MpJxz5VFalFGUl0T1MegAAIABJREFUxSTiRfRNxff2UVNVxYwpExg9cuhn895657389M6FnDPvZK549/mggmD7wUefoiOZ4hc/+AbFiSNPHyOEEOLo6j2Ls2slgaE8qdaandu2sXXlJsri76ClpZFsPoPvOGzdvYsdmzYxd+5ZjJ48gu27djFpyhTakxn8nE/ICUppjEE5DqqQUiNIVmsKa22CcgqTAhSAH8zYtA4ai9VBfjSV75zxSdA9qoL2NwP4aJQuXBQLRgW51hxrMb7BGHCOYNWnmqoKKsrLaNzbzIYtO5gwZkTXtuWvrWNvcwvFiQQ7djWyfdduRg6r69q+dsNmdu7e09Wy5vs+juMUVj44et2boVCI5a+tAUuP4Axg9YaNTBw7itkzpx7x8RXgum6QwuRtPFni9JOP58WHfzPk52nc28ytv7qXupoqfvj1L1JdVQ7AxRecTXsqzTMvLObZRUu58Nx5Q14WIYQQh66/5ouh7eI0lnisjEQuwwN/+B3b1ixj7OTxXHL5Bxk3Yw6ba9fxtycfZvLk6Zw67xx2N+whncmgtCaZbkM7ilhRGb4fdGWG3EiQUNZxiEZioDUp42MLQ/87FxMwNh8M/lfgmEIXpgpa06wxhQXSg5YzjVMI1CxGBSsTaGvI5/Jo8hxpy0/ey+M4Dvta21i9flOPAG3pqtVUlJUydeJ4nnp+EctWrekRoL26bhPlZaXMmDweAN8UZpdGw0QiYZa/to4XXlmG4ziMGzWC886Y228Znlu0lLUbt5D1PKrKyzjn9JOpqgjGQK3btJXnX15GeWkJoPjtfQ9TWVHGBWefRkcyxSvLX+OUOcdR0q21ZdPWHby0dCVNLfupKi/jvDPm9jt+rjtjDMXxYKLE8y8vY9mra4lEQkydMI7TTjp+4HJvKJS7ooxzTz+ZyooDY7fWbdzCi0tW8IH3XYTjuPz+j3+had8+SouLOfv0kxhWe2Cx+2QqzcOPPc2MaROZOnEcz7y0hFfXbMRxNTOnTBxwbNzy19axdNVqspkcFeWlnDvv5B7jx5pa9vHnJ5/lvDNOob62mvseepzGvc0kEkWcftJsxo0+8H7vbd7HC68sZ+K4UUydOA6Ax/72Aq7rcM7pJ/Pysld5ZfmrhEIuE8eM5KzTTuq3TI8/8yIbt2wHYO7smRw/YwovLl7BnqYWLj7/TFzX4Z/+4TKmTBzTFZxBsHrG7OlTeOTxZ2jr6Bj0/RJCCHFs9Y4wjlEXp+HlJS/QYcPs3LKcVU8/xqSp02jYvIa1qzdQVRTCyTXx29t/zNNPPEpZ7UjC8TI8rfAx+NZSkigj7xsyyTSOGyLkhojGiohGooCipKqaSCyGozXW2K40G8barvQajusQjkSCViilUFrjOC6uowhbL0jhoYPEtwaNRmNsEAgeSfcmdDZRWlzXYd2mrV3Pe16eJStfY8LYUXzs6vm8sHg5S1eu4ZILzi5s91i1dgPjR41g5tSJQGdLlEMsFOUXd9/HDT+7i5yXJ5fziEZCvP+9F/G1z32UUCh4O5OpNNff8DP+8NDjAITDIVrbOpg+eTzfuO5a5p5wHM8tWsrnv/493nHmKVgL//7dGxk7egQXnH0ayVSa+ppqzj/r1K5y3/fw4/zPjbfR1tZBeVkpjXuauPXOOq7/8meZN3f2gNchHA7jui7fu+UOfnrnQkKuQyqdpSQR56NXXc5n//mDXfumUmm+9aOf8/s/PYYCwqEQre09yw3w1+df5uvfu5m29iRLVqzmqRdepigWpbWtncnjx/LVz/4z5xaC1sa9zfzH92/mwnNPp7qqgtt/9wDRSITWtg5KiuP8w3sv4kuf/ghOt2bSH/3s19x2z/3s299GvKiI9mSS6ZMm8I3rPsGphaBy3catfPn6G/jENQvoSKa5a+GfKClJ0JFMMm7UCL7xhWs55/STAVi1Zj1Xf+YrfOHj1/Dv130CgBt+/msUsGrtBm66/XdgIZPLURSJcM2V7+FfP/WRrhUoWts7+M/v38KfHv8bft4nFotyo1L88wcv58VXlrNtZwPnn3UqleVlfPFTH+7zHuxvbeOJp1+ksqKMaYUAUQghxJtL7+agIQ3Q3JCLl2/mlZeXM6w8wYjaerKtrTz/6P14hBhWU05b+z5i4TzbtqyhtKaWeHkJrTkfHJd8zmNvMo3n5fDzPunWNvKewS+k0TC+JRpNEHLDoMDPG5RShMMRUDpIteEo3JCL4zhorXG0g+u6hMIhXCdIqaGVxg2HcUIhtHZxtSaVNoyvi6H14C1EA1JBG11RNMraDVu6uilfW7+RNeu3cN68U5k2aRwTxo5kycrV5Lw84ZDLuk1b2bR1BxecdSrxbik6YtEo6zdvY8PmbXzun69i7pyZ7G3Zxy2/uofb73mAmVMmcvnF7wDgB7f8ih/+9C4+etXlfOiKS4gXFfHkMy/x07vu5fu33MGdP/k2773wXMaOGs6Pf3k3ysIdP76eirJSIOieffCOH3UFLUtXruE/vnsT0yeN57prP8zkCWN44ZXlXPeN7/Ev//EdHvr1zdRW93+dEkUxlq5aw4rV6/jWlz7NjCkT2LxtF7fc8TtuvuMejp8+mTNPPRGA7996Jz+89U4+dtV8rr7iYhJFRTzx7EvceudCvn/Lr7jzxuuJRaOUJBKMGzWCO+55kFHD67jrxm9TWVbGX59bxM2/uod//97NjBpZz4Qxo9BaM3XiOJasXEMqneLr113LybNnsmX7Lm742V3ceuc91NVW8Y/vfy8Ad9/3MN+/9VeccsJxfOzq+VSVl7N4xavcdMc9fOXbP+aum77NyGF1uK7LjCkT+dNjTzNyWB2/+vE3qamq5G8vvMLPf/MHfnLb3Zxw3HRKiuOEQi7DaqspLk50XZdRw+pYuXYD9zzwZ7547Yc5efZMdu7ewy133MPPf/MH5syaxvlnnALADT+7i3v++BfOPe0kPvGhK6isKOcvTz3Hbb99gMqK0h6tdb2tXr+Jr/33T1iy4jWuu/YaZk6ddGT3sxBCiCF1jJd6UowfXcmenVGmTRjPIxtXUVJWzYjhw8mHo5SUl1AdnYC3djNuMo+JxdiX7qA9Z2nP5MgZg+8b/FwOY4IuU+NbfN8EVVGaTLI9SEprwbedY8ksKI3WbjBejW4JaQvJabVSwXi1wgA0pTRaOV3/39vcwSWnjwUmHlHNPS9PZVkpUyaOY/P2HWzauoOJ40azbNVaOpIpZkyZAMCcGVP52W/+wOp1G5g1fQqr122moXEvc2ZO63E8Y3z2t7bxr5/6CB+47N1dz2uluPZL3+TlZau6AjSlFR+9aj4/uf7LXftNmzSO9Vu28tyiZWzatpPpk8dz9mkn8eNf3I0F5p18oBVMKdWjRWn1hk3s3tPE1z73UU6ePQOAd51zOm3tHfzfX55if1tbvwGaBby8R87L8d9f/BznzgtatWZMmUg6k+HzX/8ei1es7grQFPCxqy7nx93KPXXSONZv3sZzi5ayedtOpk0aj1aKZDrNiPpafnL9VxheXwvAlIljae3o4Obb7+GBR57kC9d+GNd1sNaQTKX53Eev4oOFazdx7ChKi+N8+qv/zYN/fpIPXXEJSil+c99DTBo/httv+GZhcgPMnjmFWDTKF/7rB/zpsae59poFuFqTyeYoLk5w47e/Sm11JQDHTZvEuo1bePblZazZsJmTZ88I7qlC6233i9PW3sEXP/kRrp5/MQAzp04kk83y2a/9DytWreX8M05hy/adPP70C0ybOJbrv/JZRg0PusKnTBhDKpPh3gf/wrC6mn7vwedfWcbn/u077G9r48uf+Sc+cc2CfvcTQgjxxrCDbBvyRLXzTjmJynCWdWu3sa8jwxX/uIDimmGs2raTZHE5Gc9QNa2WSDLNrpb9FJFGuS6hiMJ4FoNCx6KQN2B8rB+MKzPWogyocDCuzBiLU8iZZnyDb3ys9YMuStttQSgbTALQhUkG1rpBwg7ro5TCdTQOiva9uxhRMeGI653LeVRXVnLSrOn87LcPsmHLNiaOG83i5a8yfsxIZk0LAr8TZ03nR7/4DavWbmTW9Cm8tm4jtVUVXd2bnTJZj5qqSt7Va4D3zKmTGDmsnub9+7ue+/f/9/Gun/c2tZDOZMl6HtFIBNd1yXle4ZhZKFyXTDZLNNL/qglTJoxlWF0Nv33gEdxQiFPnzGRYXS0LLn0nCy5954DXQAHpTI6Rw+u7grNOM6ZMpLaqkv1tbQfK/flu5W7eRzqTIZvziEbCuK5DtlBuC+xrbeOf/uF9XcFZp/kXn8+Dj/yVla8Fs2Mj4TCpTI5htdVceem7eux78uyZzJ0zk+dfXsau3XuwwJ6mZk45YRbtHSl2Ne7FGEssGqG8rIS66krWbtwCQCgcoj2Z5J0nnd4VnHWaNWMKjzz5bI+69ZbJZamqKOeCs0/rc61rqytobQ/Gir26diM7GvbyyWsWdAVnnT542UU88sSz5LK5PsfP5/P8+Bd3k85k+MHXv8Cl7zxnwLIIIYR4Yww2iGrIA7SammEs3tdCNtnK+GlT6fAt29evx5RWs89E8YB8JodyIxRX1pDLZbF5j7zxgxmcOgTGB+UHLWPWds3CxLEo5QfBl6UwMUBhcTHGYE0wG7OQXyNYbtPYrhY0ox1SxDE+aOPh5bOg8mSyaYoSHjMm998ycajSmTQzp0ykqqKcTVt2kvfyrFq7gdkzplBe6E48fuYUJowdycrX1sFl72bNhs1MGj+GyeN75qvyjU88Huu7MoG1aEfTfT2FZCrN7b97gD//9Vn2NLUE2xSUFieoqSzH6ZpRGUykOJg5M6fyr5/8CDf/6h7+379/hxHD6hg/ZgRnzj2RBZdeQHlZyYCv7T5JoDul6Boz17fcz9HY1IxWQTlLihPUVFZ2K3cQAI8a3jdtxbDaaupqq9jf1g4EM4k9z2PsyPo+5wMYP3okj/71OVrbOvCNoSgWY+v2XVz2T//StWSY4wYzaH3f0NC4FwiW6Mh7PlXlpf1XXKmu8vdM7BLwrSVeFCNR1DenXffWy1Q6SyqdYWw/3Zh11dVUVZSRy+f7bNu+q5FXlr/K9EnjJTgTQoi/Q0MeoJVW1pLNKkwuSygSprm1GcexVBdHaWnLB7nMjBfkHPPz5K3B+J0zFxW+TRe6LIPWLZTCN7aQasMUujsLadHQwZJOSqOUg3YVVnmFWZvBKgIah7xvg/QZrkOENmIRS8JV6Fw7YZvFLckSqc8xd8brS+qZTKWZOH40kyaMYePWHTz1wis07N7Lx66af+D6FCeYM3MaazcGsyp3NDRy0bnz+qSlCFr5gnp31xmIqkISWN8Yvvyt/+WBR//K+WeeyvyLLyAcDlFanOCxv73AkpWr+wnZB2tkDVw1/2LOnTeXZ15azLJX17F05Wq+c+MveOKZF7jhm18asJsNG6Q6Mcb0qJPvG4w1Xd1++bzPl791Aw8++lfeceYpzH/3OwhHwpQUJ3jsqRdYump1j8Nqpch6fVuOslmPXM4jEg4VTh8sDZbLef0WL5XJ4rgujqOx1tLWnuSEWdP42NVXkPfzwVKvWGKRKMXFcWLRSOE8OZRW+Pm+yYyNH7TGHoh+bc9syARvgTGGvN9zOTHfN11lhkJ3s1Yk05m+dc3lyHke4VCoz1uaiMf58JXvZeLYkf3WWwghxJvDQLkihjxAq6ispH7kJH7/wB/JxaupHLYHV/nkdIRIbDhONgcYjFak8wY/76G0AxqMn8f6JljcvDM9hgasQZlgSSerg9YjoxRQCOB8P9hfKdLWQVmDa33CGJTOEHMgHI0QsW1MKt6Jzu6jtXk/lcUxyCVp3L6eqTNPpqqi8iC1G1w251FXU8Xc42ey8I+P0p7soKaqghOOm95jv7mzZ/LikhX88rf3k8vlmDVjSp9jBSlE+n7R97Z63SYef/Yl3nfhefz4W1/use2xv71ANncgqLE2GM8XCrkDdm9CkLS2I5ViyoSxXPmed3Hle95Fa3sHN/zsLn5650L++twiPnj5xQMXqp8yd64F0enVtRt44pkXee+F5/Yp9xNPv9ij3ABFRTGWrVrbp9vytXUb2bpjF+ecFsyg9H2faCTClh0NNDTupb5bCg6A5a+uoby0mNqqKnzjoxRYY7n4/DP7lDmdTuM4wa+Mb4LAyvYX3HYPzLrVtvdvoOq+ywCG1VVTWV7GosUruOaKS3psW7LiNRoam5g4fnSfw1RXlvFv//LRwQ8uhBDiDTdQR9axyR4aTfD86s2osCbcsQ+TdkhaH+WlwOaw5DHGdK3qbvw8Jp/CmDQoMNbBNxqDJm8Mvs2jHQffOuSsJodL1jhkrcI3HnitFLv7qI23MiyaZHRRkgmxPUwJr2eq/yLz4i9zZvSvTG6/l0m8yLjIOobFG9i7ezkr1y3nxaVbGTf1jNdd7Xw+TyQaZdb0SexvbWP1uk1MnTyOieNG9dhvzqxpxGNR1m/aSm1NFcdP7xugDRAK9HnO9w0KFaxF2s0fHnqc515Z1iOXl+NoHK1pbe9gb1PLgPX43YOPMO/SD3HnvX/seq60OMHoEcNIpTP4ZpAoY4A7z/Yqe973QSscp+cL/vDQ4zy7aGnXDNNOFaUlPPX8y9z/8BNdz7Xsb+WXd99HezLF6YVJD9mcRzQapq29g//5yW09WiBvvuN3LFm5mmkTx1FZUUpNVQXHT5/Mn//6HAv/+Jce5/vFb+5j/Cnv5oZf/Bog6G4dKFjuelodeNg9PXTv3brrdb1OPG4qkyeM5a/PL+Ku3x+4/rt27+WGn/8Gx3EIu/3/O2vpqtVs3raz/zIKIYR4wxy83+oYtKABXHDpxdQMryJelsbqfTTtz1BUXYrKp8iUuOQw4IVw3Ti+FyVvgoDNakPaTeHlMigVQiuDzaWxfh5FHm0U5U4uWG7TcYjgUepmqUxkKVIpbGoPJdE2KsqKae9oJ+95pFSWeKiUTdu2s2TxWrYURckbBxOJ4eswTfvaOW76VC5+3zWvu95KKVIdSWZOnURleQnrN2/j/e+9sM9+40ePYOTwOp59aSkzpkygvraq1x6WVCpDKpPpE6ZZa+lIpUkVusCmThrL3DkzeeiJp7EYTpw1g0XLVrJ4+WpG1tWyp7klaGEkyDNWX1fNqr+9yGf+7X849/ST+KcPXN5nMfYLzjqNex58lO/fegc7GhoZObyOLdt28oeHH+fMU0/gnNP7T6zaWbaiWLrPNt/36UgmyWSCiQozJk8Iyv3YM1gfTpw9nUVLV7J4xWpG1HeW+0Bw5YZC1FSWc/2PfsGSlasZMayWp557medfWc75Z53Kpe88Gwi6EX3fMH70SJ5dtIRrPvs1zjntJNZv2sYfH/sbxfEiPtqty/naD1/J0lVBWpEVr61j8oQxLFu1hvsfeZIZUyYy/93nA0FXantHkkyubzdrLpejrT1JvjA2zM/naW1Pku02mD+ZStORTPeJ8fy8oT2ZIpMJ3s9wOMzHrp7P57/+Xb574+28suI1KkpLefKZl4gVRRk7ajhevmc3KcCzLy3hg5/6MtMmjecPv/zfY7J+qxBCiEMzYKuZE+R0hWMUoFVUVvLJaz/K3ff8CNWaomm/y6TaWmrrRpLT5aRyWVrb9tPUspnK6koc8hjt4ToQdSw6Ar6XBL+doniG0oRG45IIGcrya8il2zEqzt69LSilKC0txuZSrF+3irgTpiEWJxorRjkxGva0kfZaaU8bXKeePfuSRCJhZk6ZRUVVGenWncy/5rMkigce+H44UukMVdUJZk6dTFtHihNnTe93vzNPOYHnX17eb3Z9pRRVFeWkMpmeqRoA13GoriyjsjBYPRwK8e2vfJbv3nQ7Ly9/lSeffZkRw2r54Te+yMat27n1roVEwuGu13/iQ1ewr7WddRu3kE5n+PCV7+sToB03bRJ33/IdfvjTX/HQ40+TTKVJJGKcN+9kPv/xaxhe3//4M+04VFeUU1le1qfc4XCY2qpKSkuD6xyJhLn+y5/lezfdzsvLXuXJ5xYVyv0FNm7Zwa133ttVbotlb1MLX/70R/C8PD/82V0k02nKS0v40BWX8LmPXtUVkCilaGtvZ97Jc7ju2g/x/Vt+xY9/eTexaIQTjpvKpz7yfubOObDe6EnHz+C2G77Jzbf/jsefeZH/+8tTJIpiXHHJBXz+4x/qWjkhEg1TV1NFSbfcZp0SiSLqa6uIRaOFfSPU11T2WAOzqiLI9N97AflwOFS4LsVdz11w1qn86dc38e0f/ZzlK9eQ933OOOUEPvmRK7n+f3/GjoY9fVrzykpLGDd6JGNHDe8xuUIIIcSbT5AdTBF2Q3h5Lxiff9ttt1nP6zuAOpvNkkgkuOqqq/qs03gkOjraeM8759HRlKV2xAhGTh5Oc7PHvv0Op595KumOPWzbsoL62ggV5RpDBzbbRk3YEFYuec8n7BqiYUPYBS/r07K3meJSh1TGZ/WWJlpzYTbtasUjTFllLR3JFNYYSuIxRtbV0d7cRJHjUllaTiaTZdTIEcQTivKKcqqqh9PUtJvGxhY+8pVfUlRcdvBKDWLnzl2c98538/ijDzFi+DB835DzvK5B5v1pa+/o9wsfIJPNYa3t83prLZlsFq11j8ALgiz6qXSG0SPq0ToYBJ9MpSmKxfoEBrv3NBGNRigrKWYwzfta2d/aSmVF+UH3tUAmk0ErTSTSs2zGBOV2XYdwr/vrYOX+7f2PcN1/fo+7bvxvzps3l9b2Dhr3NlNSHKeuumfr49YdDXzoM1/lxFnT+cE3vgDA5m07sdYOmuAVYNfuPbQlU5SVFFPXK5WGMYZMNtdv+b18YZWHaARH68K+WUJuqGsmaef7GY1GevxLylpLOnPguqQzWR56/GnGjR7BnJlTg1Y4Rdd7feZ7P0xNdSW/veW7hNyei8am0hmikfDbeh1UIYR4M/I8j9vvuIOOjg4ikQhuYZWdvz33MjOmTWTS+DHHpgUNIJEo4dqPfZ7/+Mx1jKyNoNt2UxfNMq62lTFmPYnaYkaaBlKpNLXOMFpaWoIvtpzDnvYs8VgJXj5HKtOBl8+TTmXZ3dhKvHI8bW0+a9bsZ/yYsRw/YSbNTU1UlZRTObKE0jiUJKKEQyFKZ80gHo/i+z4ZzyORiOPlOti5Zw8vrVnL9m1buPKz33vdwVl3nV++jqOJOQMHZ8CAwRlAtFeA03V8pbpaanrrnZ9LKdWVfLW3upre3ar9qywv7WqtOxgFA5ZNazVgt9vBym0LqYfb25NAMB6udIBrZ22wjmm+WyqKsaOGH1L5h9XVMGyAbVrrAcsfcl1C3caFBfvGeuwz2PvZ/bhaKW69814Wr3iNG/7rS1yz4FIgCGK/e9MdbNiynQWXvrNPcAZIt6YQQrxJKaWIRiNksxksQYxgfJ9Va9YzYngdoVDo2AVoAPOv+TCPPng3m9c8xllzR1FdH2dfe4L96QY6sk2kslmK4+XovEtCl7OjsYkm36EtGcJRefbt30e8JESipBSPPKYowZ79GcpLSpg5bTzjhg1j9pQxOLlaqkoiJKJFJDNhjIWm5t3UFpdRUVnOy8uW0J5OUlk9jLY2SOcqWPzSs0w+8XTmvesDR6Wuxhja2tqDtB/iqEqm0uxqaOwzs7M/xhh272nqyov29yYSCXPTf3+Vr1z/I7767R9x930PUVpSzM6GRrbsaOCKSy7gw1e+540uphBCiMOQ93127d5DOORSXpbA8zxQiuJEnFBhBZxjGqABfPOmX3LD196BbW+EskpcW0Pj3j1orXDC5Wzf3oYb6SCXD9HY4uPrJlwnRKrdIx6PMWHMaEbU1NC0Zz8jZo3g/7N333F21XX+x1/f026fPplMem9ASKihd1AUQlMURI0Uy7rrFlfd365rXQV30cW2iwsisqKoSJOlSA0lgZCQ3vukT5/bzz3nfH9/3JlkZjKTAlNSPs/HY9q59577PWdued9vra2KEI+ECQoB2i+OBE2mbFpyabKmy45U8Y25ZkQ1LeRYvngerW2thBybTCHFhuYM2+u2UTV2HH///fsOOKvv4TBNk9qhNV0mHRV948KzTuOBH/8bs049+aDXramu5M5/+dv9auWOJpPHj+XXP/kef3rmRVat3UhDYzNjRw3ny58/iWuvvHSwiyeEEOIw6SDgT39+gaaWFj71sWuYMGYUyWS6fd7WYsvYgPVB62zDytf40d9cQThWRXPeI14SZ8SokazesIHGllbsUJhEvIxEogw365FJZomHHE6aOI4Jw6swA5eI4VBdVU1O52hLpcnmffwAfNPCjsaob2iisbmZnfU7qaqqZMyIkbS2tLBt2w5qa0egrDBYiqWbFrFyxWK+/YOnOPPsK/vsGLXWZLLFflPdO8gLIYQQ4vjl+z73/OQnPPKn/yPnFvjCZz6G6xZ44OHHuPrKiwmHwgNfgwYwftp5XDLnh/z4G59nzJjRmFYluxpgd4NJVflYRg0pZ0RZlOqyBBnfIJ1KM7SihPGjR+C5eQq+jzYctjW3UChkSboBry94l7HjJ+JYFo31G9ixq5FYSQVOpJTNm3bjpsE2TEJOOfVNLkHIYP2m9eTTu/nO9/7AGX0YzqDYvhzrviyTEEIIIY57QRAweuRwbrj6Cu5/+E+s27iVyRPGEo1GWLRkFc0tbYMT0ACuvflzjB45gpd+/zOWr16LEyuntrKCkkiIskiYIZWVJMIWVqHA6BFjCDkOdQ317GlopuBr4qVlNDU2YxFhT0uGxav3kA7K8N0c+WSWZMrDaGhg+JgyQtEE6zdtJRGLUT20liWrVvDqGyvxgXvv/wVnnH/dYJ0GIYQQQhyH2tpShMIOkUiY5pZWHMfG9wOWr1pHeXnp4AU0gFPO/zCReBl13/0SKt/KpGnTiIUd6nfvpDVp4vsx7JBJYJlsbmhl+ZrNpNJ5bNMiv64Ox7KJJoawafse6pNZsqvXUZGIUl1WwfDqCrbs2ElDczO1Q8pJVFZQVVlJOpdjx65NcdkEAAAgAElEQVQtjB0/lH/67o/48OyPDeYpEEIIIcRxqKQkTkNjE9lsjvLSElzXJZfP86HLziPveoMb0ACmnnIu37z3KZ6691tsWvQXnOHDGT9iOL7lEC0pQQc+8xcsZcO2ZlpysKu+mXg4glHIEw3ZVA9XxCtCjBo7lFw2xcSJw/DyOQwrjQ7aMP04ylNUVlWjC3kad2znkktn89f//O+UV/U2iYIQQgghRP8wDIPNdTv441PPE7IdJk4YQzaXI++6JOIxzpk2efADGkB59TBu+Zd7WfD0g+xZ8TKp5npaXMWarTvRnmLZivU0ZxVOyRB8HSObNwiyeQpuAWNXA4nyMoZXDSUasjC9HCOHD2d3UzNVZSUMLa/EKHhsXrEcIxLnxju+yoUfllozIYQQQgwO1y3wyOPP0NTSyidvvIaSeIwdqQzxaJRs3sUwjCMjoEFxUtMzPvQpMudfxbsvP8bqJ37LgrfmE3bKGTZyHOGcTz4wcbM5fL9ANBaltWE3qYYMI0eGcCImrdlGwrZm0qiJJB2N7zbTtmcnw0eP4/TLZ3P+1R+nsnroYB+qEEIIIY5jylBc96FLcSyT8vIymppbCTsON13/IUzLpDWZPHICWodoooJzrr6VaedczbtvvsSLTz3B9s0baa7fQSIWobYkxOa67eS1geOYlMTCjB83lI1b6jB0HiPwWLt2MX64hMkzT+Oii69g+tkXkSg7eufBEkIIIcSxwzRNhtUMobWtjUwmi9YaQylisQie56MDfeQFtA7lldVcfNWNXHzVjezctpXVi9+mrWEH9Tu3Mmz9akKRKPl8hiFlNhVDahg/cwrRWClaWQwZMZbJJ89i+MgJg30YQgghhBBddKyjXSgUCIVCKKXQQN4tzktrmuaRG9A6qx0xitoRo/bb7hXyGAYow0Cpvp1MVwghhBCiP/Q2fb0CdPvvR0VA641lH3jxcSGEEEKIo0lHeDMGtRRCCCGEEMejXpaB7KhBk4AmhBBCCHGEkYAmhBBCCDHQtO76Z/tPaeIUQgghhDhCdG/wlIAmhBBCCHGEkYAmhBBCCDHAdG/btcY0TQloQgghhBADrbe50CzLIpPNSkATQgghhDhSOI5Dc1PT0T1RrRBCCCHE0UYD0WiUcDhEOByhUCiQTqdxXRetNUopCWhCCCGEEAPJNAx27trF4sVLCIKAmiHVnHjiiZSWlpLL5SSgCSGEEEIMNNd1ueeen7K9bvPebeMnTuZzn72D0aNHsWvXLumDJoQQQggxkDzPY+eu3YwaPYZrrruBWKKcDevWcN/9DxAEPpZlSQ2aEEIIIcRASqfTTJo4gVtvncOsM06noqKcX953P2tWrWD1mrWUlZZKDZoQQgghxEDKZLKcMG0qZWUlbNy0iRNOmEYklgA0DQ2N2JYlAU0IIYQQYiApQ+EWXAylCIdDeJ6H7/tAcQCBRlYSEEIIIYQYUPFYjCVLlrJm7Xpi0Rjz3pyPm0uBYVNbW4vrutIHTQghhBBiIEXCEbZu2cq//+DfefLJp1i9cjkA5557DhMnTWDlilVSgyaEEEIIMZCckMPMU2aiA4/VK5fjhGNcfOnl3PKJm8jlcmiQGjQhhBBCiIFkWRZf/KvPs2HjFQSBpryslOHDh5PP52lsaKSmukoCmhBCCCHEQPJ9H2UYjB41ikgkjOf5tLW1FbcrhTIMCWhCCCGEEAOt4LqkUikKhQJQXJ9TKVX8XWvpgyaEEEIIcSTQnX6XgCaEEEIIMQg6BzLV7TIJaEIIIYQQg6B7KOv8twQ0IYQQQogBpCmO5DRNE611j9eRgCaEEEIIMYBMw8BxHCLRKLZtE/QQ0mQUpxBCCCHEAPJ8n5/+7L8oFFzmfPpThByny2hOkBo0IYQQQogBlctmeWveGyx6ZwENjY1EIpG9l3X0Q5MaNCGEEEKIARSLRvn4zZ8gCAJqhw4lmUyilCIejxMKhVBKYSn2H0VA+7aetgshhBBCiPdOAzNnzKCtrQ3XdQmFQkRjUVavWUvd1jpqamqwAq177JzW23YhhBBCCPHe5XI5vvHN75BNt3LnXT9g5MiR/O9vfsujjz4KgUcikcDKFwoUXLe4xED7DTWQLxSwXXcQiy+EEEII0XdSvovSELOcQS1HcUmnYiVYWVkpi5cs5dE/PALAsBFjOOWUk7FMpfCN/ccKmIaBYRhIHZoQQgghjkZNboZH69ezNNXAqlQ969w0SsP4UJyp8UpOjldzQ/UEyp3ogJfNsm0wbGzHYeGidwGoqBrCl770V5wwbRoWSu1dnLMzRTHhST80IYQQQhxNWgs5vrFpHr/Zs46GbEtxoxXCUCZKKba4KV5q3ARK8f8iZdw8ZCLfHncWJVZ4QMuplCKfy5FJpwGYPHkKo0eNYs+e3TKKUwghhBDHjhcat/DZ1c+zMdWACiUoi5Rhogja2wQ7KqWUHcHX0Oi53LPpLf5cv557p17BJRWjBqScCtBaYzsO0Whxmo1kMglaE43GZB40IYQQQhwbHtm9lssWPsLGXJKqeDUVVggThYsm5Rdo9vI0FXIk/QIFrTGBCsuhKl7FhlySSxc+wu93rx2g0irQGtMwGD5sGACrVq3k2edfIJlMSUATQgghxNHv5eatfGzpExhOhKpICRrw0DTmUyTzKUosh5OjFUyLlFFq2rTlUzS6aQJVrMmqipSg7BA3Ln2CV5vr+r28mWwWtEdzSwtnnzOLUWPG4xfy/OqX9/H3X/6KNHEKIYQQ4uiW9PJ8csVzYJhU2BHQmpzvk3ZTnF8xkr8bMZPZ1RP3Nm96gc8T9eu5q24RC5rqiEVKiGiLSidGg+/xqZXPseLMW4hZoX4rc1lZKclWyGYyVFVM4s7vf5ffPfIHli5bRkV5OeZVV131TT8I9hsM4Ps+juMwc8YMTNPstwIKIYQQQrwf/7LhDZ7ds4aKaAUKTdb3Sefb+Ma4s3jwhCuZEqtkc6aZuS11bMo0U2GHOa10GLcPO4lc4PFy42YM08ZUELHC7ErVExgGl1aM7p8CK0U8FuWss2cxrLaWBQsX8sorc6mpGcLs2Vdx7TVXF2vQZKSmEEIIIY5GLYUs9+1ejRkuQaFxNaTzSb4x/hy+Oe4cduSS3LLyGV5q2QlBAZTCMUPcUDWOB6Zdzp0TL8AxTL675R1MO4qlwAgnuHfXav5p9OmU2JGDF+IwKYo1aJZl4jgOpmHw1BOPATBqzDgmTprY3gdNqeKXEEIIIcRR5LGGDbRkW4mbNgBtbppZ5SP45rhz2JlPMuPth3ipYTNh26EkXEJJKAGGwcPblzD9rYfQ2ufb48+l3I6QClwCNAnToTnTwmMNG/ut3Nlslmw2S3NLCydMncq/fP1fmT7jVHbt3sPb897EQmu0DorX7piVVhWXetKy1JMQQgghjmAL2naDBkspXK0h8PnGmDMAmLPyeepzSSpjle1ZR4GCuGmjY5WsSTdx+ZInmBQupYAmZtgoBVZxEgzeTu7hU7Un9O8BaE1rMsmUyZOYOHECjU1NxcXSA60JgmJA0+1DPlEQBIGsxSmEEEKII9rqVCPYYTSQ9QtUR0r4QNV4tmZbeK6ljnCkdF9FVLvi8paK6kgpLzTV8YLeTGUoUZz5ov1y7DDrUo39WnYNe1swm1tbsS2TkkSCUCiE5dj2vj5oqj2gASrQhJzBXatKCCGEEKI3Wb/A+nwapYqDGQOtiZnF7LIq1QCBj91DNy6lNSiFrzXlTgQFxYlsdaeJbA2Ltfk2sn6BSHvzaV9TdF0H3fN8PM/H930sQymMzgVv/91QSiZJE0IIIcQRrD2rtK893rndr1OvrY4qMwBMFG2BR76Q63pNw6IyFIVAD8o65N1HAlh7q/K66W27EEIIIcSRIGJaTAjH2JJvA9PBUoqk76J1wEmJajAs8jrAUgZojVaQ9j0mhxPMqh6PRpEPPBxlsKuQ5bW23aAUplLowGNyKNFvtWcHIxPVCiGEEOKoNSlWxYsNm1F2lIhp05ht45nGjVxZNYHLy0bw/J51JOKVBFqhNGRyST4ycib/MnZWl/2sTu5mxqI/ogyDGDYU8kyMVQ3SUSGtmEIIIYQ4ep2RGAIKfKWL/c0Mg29vWgDA/VMvozKUoCHVRCrwKOgAy4nxi50rOXfh7/jmhtf27icV+O19whQeASjFmSU1g3RUEtCEEEIIcRS7tno85ZFS2jwXgDInzlst2/jndXMZES5h2Vmf4vIh4zECn6SbxtMedfkkBa25ufZEAFzfQynV3l9N0+a5VEZKmV01tl/KHGhNKORQXl7OkOpqKisrCIfD6PaZNSzLkiZOIYQQQhy9Su0It9VM5d83vIEuCWMC8XCC721+i3RQ4D8nX8JzM2+grZDlnbadhAyLkxM1xK0Q6IDPrnyOH0++mFGhOAEapRQ6n+SOEef2yyoCAI7jkMu7vPPOQpLJJIl4ghNOPIEh1ZW0traRSqUkoAkhhBDi6PavY2fxyJ41bM22URUuIWSY6HAJ92xdyEutO/jSiBl8qGI0F1eOA2BXro3f7V7Dv219h82tu/nqmDNYl2nG9328Qp4x8Wr+ecyZ/VZer1Dgpz/9OcuXLt67rap6CLfddhtnnTWLN958UwKaEEIIIY5uccvh19M+wIXv/I4GN0OVEyWsDEKRMpalm7htxbMkQnFKrTAoaC1kSebTYIcpiZVz1uI/olF4aNCaX0+7gpjVf3PBZjIZli9fychRo7nh+ht4c/583pr3Bv99731MmTKZSDgifdCEEEIIcfS7oHwkj0yfDV6ehlxr+8Riiko7SlmklAKw002zw03joiiLlFJph3EMi1bPoz7VBL7HIyfP5rzykf1aVt/3qays5Lrrr+eDH7yC6667hliijJamPSxbvoJoLCo1aEIIIYQ4Nny0ZhJVp93IHSufZ0OqHhVOUGo6mEoRNS0w9sUeBfha0+q56Hwb4+PV/M/UK7ioon/DGRT7oNm2xT0/+iH3/OiHFGc98wDYuXMnI0eOwFKq+9y1QgghhBBHp4vLR/Humbfw9Y1v8ps9a2nItAAa7DCmYYEGX/tQyIGC6mg5nxh2Ft8aN4uEFR6QMhYKBWzb5uJLLycej2EYJkNrhuAWCkyaNJHWlhas6upqWltbSafTBEGABDYhhBBCHM0SVoj/nHQR3xhzJo/Wr2dJqoHV6UbW5ZOgFZNCcSbHKzk5UcUN1RMos6MDWr4g0CRTKU4/43Q+9tHr2bhxE6/OfY10OkMsGiOTzmA9/PDDnDJzJpMmTyabzdLS0oLWssiTEEIIIY5u5U6U24ZP3/t32i/OldaxoPpgcRyblsYG7vrevzF/3lts3rKFLRvXATBr1hlYlom5efPmbz7/3HPs2LmTmpoaxo4dSxAEZDIZQqEQ06dPxzTNQT0QIYQQQoj3yzFMHGPwM41Sijfnv82mjRvYsnkjrc1NTJ56Al/6uy8xbuwY6rZtQyUSCZ1MJgEwTZNrrrmG2bNnY9s2mUyGW265BdsenIVChRBCCCGONb7v8/s//IE1a9aSd10S8TjDhtViWRYtrS3Ylt11FKfv+zz66KMsWLCAOXPmcPbZZ0ufNCGEEEKIPuS3t1TW1g4lGo3g+wH5fJ5UKgUUK8x6nAdt69atfOtb3+Kpp56S5k0hhBBCiD6kKFaKpdNpWtuSpNJpPK99PVClCILgwBPV/vSnPyWdTg9QcYUQQgghBHDggBaNRgmCYKDKIoQQQghx3OmpM9kBA5ppmtIHTQghhBBigBlTpkwZ7DIIIYQQQhyXeqsGM77+9a9z9dVXD2hhhBBCCCGOdwdaFsDIZrPccccdzJgxY8AKJIQQQghxvOoIZgfqRGakUimCIOCCCy4YiDIJIYQQQhzXDqV3v6GUIpvNEo/H+71AQgghhBBif92bOw2tNZFIhObm5kEpkBBCCCGE6BrSrEgkgtaauXPnDlqBhBBCCCGOFz0NDuje7GlUVlby4IMPsnz58oEokxBCCCHEce1Q+qBZd999N88//3y/F0YIIYQQQhSFwyFyuSxBEGBZFo5tgwLP8wAw5s2bN8hFFEIIIYQ4vuzaXU9bKk00GiEUcthd38i2HbsARTgSwhrsAgohhBBCHE/yeZdHHn+WM085kUnjxvLwn55mzfpNGIZBWWmCT3zkagloQgghhBADybJMZn/wEspLYzz53Mus27iFW26cTWkizu8ff4bH/vzCgRdLF0IIIYQQfcuyLCZPGIMGlq9ex6TxY4jHoniexwlTJlK3fZfUoAkhhBBCDCStNblcnnQ6g2WY7N7TwKNPPY/n+YQch0kTxmBNmDCBxYsXo/WBluwUQgghhBB9JdABoZBDwfOYMmkcH778AlrakigUubyL8clPfhLDkJZOIYQQQoiB4ns+8ViMaZPHs2DRMlav24TvB/zllTf58/OvYP3iF7/A9/3BLqcQQgghxHEjCDR51+WS82aRzmR55LFnCIfDGAZcedkFWNu2bRvsMgohhBBCHF8UuK5LOBTimisvYeeuejzfZ0hVBaUliX2jOMPhMBMmTBjMoh4fNOxKa1Ku9PkTQgghjmdKKfKuSz7vMrSmipHDajAMg1Q6s28U59lnn01lZSXr168fzLIes7a0Bdy1KM/OVEBjAVIFzdCw4tQak78+McSQ2KGszCWEEEKIY4lSiiAIyOXye7fZtl2sQXMchxtvvJH6+vpBK+Cx7FcrXS59LI0C7rkgwvNXxcDXPLO5wHffznHCw208vr5wWPvM+dCU07TkO76guf13Xyrnjlp5H77zTo7/Nz9HQ1b+kUIIcbyylFJ87Wtfo6amhmXLlg12eY45D65y+bs3sjxzVYxZQy3e3ePznQVZljX6/PC8CH83I8Rv17rc/kqGjB/hpsnOIe33Fyvy/NObOarjBi1uACiynsYA3rgmzilDzH49LtE/cp7mX+fnIKe5aYJNVUT+j0IIcTyy/v7v/54LL7yQ5557jsbGxsEuzzFlS1vAt97K8eb1CaZWGNz8XIaH17pgQknU4IFVBS4dYfHxyQ6jSww+/myG84dbjIgffNqTVAEybQFeRDG9zAQ0GU9hoogO4vTDWoPq69ZaDRwnLcBKwYgSg9aQRma/EUKIY5MGwpYiHDWIhk201mQ8TdrVBO3XsU466STa2tp47bXXBrOsx6Q7F+b4/EkhplYY/O3cHA+/m0eVGZQ4iogJ65M+aa/YjHV2rcUHRlvctTDPTy6IHHTfIRPwNVePsvn5Rftf/xcrXJ5Z4/LRE0J8fLINwCvbPX62IMf0YRZfPyNMtgDfeifHC1s9tNZcPtrmW2eEcUxoyGq+Ni/HsJjishEWP1iUZ3qlybQKk0fXulw+xuJz00MALG8I+O6CLOVhg59fWCzL3Yvy/HlLgTZXM73K4m+nO5xcXawN+u9lLi9uLfA3J4dY0ODz+3UFRsQMvn56aO91AO5d5vLw+gIt+YCTK02+eUaYcaU9p5bGrOaud3O8tt3HMeG84RZfPjlEWbiY7La2BfxwqcubOzzCluLsWpMvnxyiKqpoymm+8maO4XHFh0ba3L0kT10q4KLhFv98Woio3TUdNuc0//jmvnNz18I8QyMG911WPPa7FuZ5bFOBnKc5p9bi22eGqQwrCgF8+fUshlLcOsXm3lUuSxt8plaY/PMpIUaW7Ds2QylqowZPbfT45ZIcH5jg8NmTnPbz7fPdt/NURhX/eV4EWyrZhBDiqGIbitZcwF/WZmn0PUosOL02xNQqi9Z8ABos27ZZsWIF8+bNG+zyHnPWt2j2pD1erDMZElaMH2lR6SjyvmZJg8/EcpOQse/N/+YpDv/+Tp4g4KC1Jx21VIVeVoDIe/D4YpdVOb03oD2wyuWP83OMvzoGwJXPpHllRZ5xI20UcOfLWZa3BDz1wSgA9692QcH3F+XxWn3KTwkzocTgsWV55jZ63HpCCNuExza5PPJqlivOiaAUfOblDA/Mz0GpQXXUYNHCHI+sd5l/XZzp1SbP1hV4YqXLSzs88kC6AG9tKbC82WfRR+NEbcWXX89y9+tZYpUmo+MGDy1xeW27x6vXxRlV0vXktOU1H3w6w4L1ecIVJqahmLsyw1NbCiz5aILGrGbMQ0n0Ho+RE2xyGc1r613m7/J55doYgYb717ig4b+WuTQVAvwA5m1w0cD3zgp3ub+kq4vnxoDvLczht2oum1oMTx3HPrTWosRR/HxelkX1Ps9fHSNqKx5Y45IsaH6z1qU+r0HD3PUF3qr3eeu6ODFbgVIEaMocBUrz+JI8r7cEzJnm4Jjw2KYCj7yW4YIzIlhSyyaEEEedgq+5860kO+qzTK01WJsOeHZDjo+dGOOq8WHSARiFQoH77rtPJqvtY3lPs8fV/GlDgUv/kOTMoSZrP57g9etiPPPhGBePtFjX5nPBkyk+/FSazS0B5w+zqHcD6nPBwe8ABXGTZ7Z5DP1VG7UPtBG6t5WZv0sB8PmTHGrGW6xrC9iRLIa4N/b4MNLiG6eHeW6LxytL81w/I8yGTyRY/4kEV88I8eeFOZ7d6lEVUYwtMcDTzB5jsfTWUn5yQYSbpjiMH2PTmILF9cXHzLxdPlSY3DUrzNqmgAfedamssVh0Q4LNnyjh5hkhsk0+dy0qjlAZFTfAgimVFhtuLmHBdXESZQZrWny2JjVNWc3d7+YZNtRmzy0lrPh4gn+7IMzmrR53LsrtdyYeWuOyYH2emWMd1t2UoO4TJVxyYoilmzxerPPwAvjKzBD/N6eUrbeUsOdTpYytNXm1rsDWtoDKsCqWydd8/kSH5G2l/NPMMNiKF+oKdM/AptF+bgqaa8c6LL2tlCc+HOPZzQUeeMflzIkOOz9dwpqbEnz+rAjzl+d5aE0BU8H4UhM8zfQqk4Y5Jcy/Ls6wIRaL6wrM3e5hKop138CerOaqsTZjJtg0pAKWNhTP95vt5/uvT3L6vjlZCCFEv9uT9amKmHz3wlK+cU4JP7q0jAtGh/ndOykW7SpQHjIwfvzjH7Nhw4bBLusxydcQjxtgKDYmAwwDbFNRGzf40xUxaiMGvoKn17t88qUMqbymMmxwaB2uNGhNzFScWGYyrdzkxDKTCe1NgJYBs0fZBA0+S5t82nKaDfU+Fwy3iNiK5+o8iBs05jVzXswy58UsG9t8KGjm7vQAyPoQDyt+fn6Ek6pNSkOKkAUfHmVBi8+7DcXrvbbHp2qIxcnVJs9uK0Au4PqxNjOHmEQt+KsTQ6i4ydvtASNkKshpPjPFoSaqOG2oyUnlJnjFPmwL630IoCyk+MLrOW59OcuzdT44ild37P9BYllTAL7m5kk2I+IG5WF4YXaMrXeUMq3CpCamuPPsMPlA89V5Oe54JYtSCsdRNOc0CsgUNKVRg3+YESJiKa4fa2M4BkkPCsH+tZRpD+KhjnNjELHgrfoAzGK++vSLGW57KcuCeh9MxWs7i6N0AwCl+P4ZYSojijNrTT463oacZmlT8diUKt5fqr35+5rRNrQELGo/f6/v9qmsMrl85CB2NhRCCPGeJWyDO2bEqImZNOYCAjSfmR5jSKXNXzbn8DVYixYtGuxyHpNClmJ8XLGqRVNeYvD9RXlmVpqcNrTYYWhja0DOh5ilqKyyWNrsc9mf05xQZlAdPsRqkXTApdND/OzCnvusXTPW4hdvw4LdPvWZAFIBHxlXbO5MuhpMQEHa0yQLmktHWHxgtM2lwyxSrsYPNAlH4Ziq235t7nk7x7KmgBe2eKSafD5yarE/WrMLaCjvNBg1ZgMmuB0Vg6r4LehUNVVqK9DgGMWwhIaIBVlf05YNmFxucN4lEYY6+7fp+RpQirjTqZwKRpYXr7twj8/sp9NsbwmorTA4rar4P7BNsNqbmDUQMaHQXkbTAGXTS1Yunpt4SHXp/+UGGtCETMgUoK3gc0a1yUUjo5xRaRJo8AKNMhUloX07rggVjz3fft9KKdABXnswnD3W5j/fzrGsweeFzQVSzT43nBIiEZLqMyGEOBolnOJ7Vn1zQCRc7KozNGows9Zm/vY8rbkA+Qjej84bZvHk+gJlCYNN9T73LHV5aGiEnamAa5/JUNCaRHubVoljMH9tgWsujx7W6D3/AK2hl4y0GDvS5pdrXKrCEK4y+dCoYkAbGlPQEnDqTJP/OLfYx6opo5m3w+fEChOvWEGHH+wLDh3OH24xeZjF01sLrGvRYMHs0cX9Do8osBXPbvP4jqexLcVTmwvodMD4YcU04/qA0nsDCLTXUqni/G5Ty03wNSaaR64o9odDwyubPSp6mNB3WEyBgqc3FfjsCcVk+IOFLk+sc3nw8igvbffYvtnj8xdF9g5iGPvrNjKF9h1T7NMXdJSDYod+gt7rMlX7uc91qtAbFTMgpxkaUvz+A8Vy5114tc5jUpVBoMFSCu1qHlzj8r2zwmQKmie3FMBRjGsfvRu0n4uO+z5/uMXk4RZP13msaw3AKoZkIYQQRydfg+tpjM71CgrCZnG7DxLQ+tOt0xz+a7nLpmSAFVX47TVGP1rqsqXFZ3T7m7apFJuTPuNHmHzuxEObBy3nA6biya0FFv++2NSY8YuVYg9fHmVqpYljKq4ZZfGjeXk2G5oPTnYYU1YMATdPdLhrkcvdC3PkA011xOC77+QotAUs/UwJJ1SatLgaQ+liYOgUVQwFN46z+fb8LFvSmvFDLC4dWQwM14+3uXOYxZItHpc8lWZiicEv1xZAFZs6ARqzAeQ0+U7hJlXQkNfsSgdcMtri9NE2b29wuerpNOcPt3lwtcuKVXnuuirG9G5zvH18gsNdi/I8tcblOgOiluI3i/NgKsojijFxA0Lw2i6fO9/J8+TWAptbArDU3kl9W/PFJ0pHZvQ0+HlNW37/OT4CrWgtFOec03rf5TeMt/nucJs/rHD5pKM4scLkR0vy7Nrm8eQnEowpNVBoShOK7y/OM3+XT9rXvFNXIFRqctFwCw20FjTJvN5bFkPBR8fafGd+jjBlYGkAACAASURBVC3pgPE1FpeOkIAmhBBHK1NBxFYk299eFMX3k4ZsQCJkEDIUMgasH5WHFfddFEF7Gi+raS1oVjcEPLGpQFmpQqNQ7eGMQHH/hVFKD7HZKmFBotQg4ijWZ3TxKxWwPt01+Fw/1qGqwiAaNfjYhH3hb0qFwV+ujnJijclP383zjTcy1MYUj1wX46Rqk4asZnhcMSJu9jhScM4Uh/KoSZANuKjWJObsO+YnPxjlook2r+30+eVKl2ERxU8ui3H9BHvvdRIlBolOTZJDogaJuKK92xV/uDzKFVND/HmTx1dezrA15fOvV8b4h5nh7kVhSoXBc1fFOXmEzWMbCvxmncv0kRavfCxOZUTxwdEWc2ZFWNsa8E9vZpkQN7h2vE2FU2xSRcHwuMGwmLG3yTNkQkn7tu7/EcuAYTGD4XGjy7mpjCj+fGWUs8baPLTS5atzs3gafjo7zlVjbbxAk/UgYSv+7dQQWzI+b+/xmVBt8cilUYbEFNmCZljMoDZuYneqSv3MFIfymEGQ1Vw01Np7voUQQhx9GrMBaxs9hkRMwpaiNm6yPekzv85lWpVFSVihEomETiaTPe4gGo2yc+dOSkpKBrjox5aX6grc8XKODS0+oZDCB+K2osXVkNOMrzS4/6IoF4w49ApNN4C8rzslbIWm2OE9Yqku1aZZT+MFdAlEna1qCrANmFC2b2++Lt5OoYjaXeuQcp7mTxs9PvtKhlRaM/ejcc4bvn/ZN7YG5DwYU6K6zCWW98H1NWFLYRsdZQRPayKm6hJ6NrYEuIFmdMIgYh88vK5qCgiZ9Dhf2vaURqEZ1t6U2Jov9rEzVLEGr/OxBrrYN89UxRq5zjSQLhSTZMxWPTaDrmsO0MC4EgOrvcIvW9BM/32KLcmALTcnqE0YrG8JGJUwcNqvE7Sfd03xfg3V+XxnSWUC5t4Q57zDeKwIIYQ4suxqyzPl8z/hwyN8zhydoCkTcM/CJG3ZgDsvKmNYWfjAAQ0gmUwSj8cHsNjHprac5ucrXF7c5rEzE4BSTEwozq21+OwJDvGjpMN3EMApjyRZsrkAJtx6Wpj7Lo4OdrGOCtkCRP+nFVoD3vx0CWfVHnyGWR3AjEfaWLrFA6W49fQw91188ImMhRBCHLk8v8CF//Bz3ljXRFVphDY3oDJscMfMOJPKLZKeeeA+aF/84heJxWIDVd5jWklY8bVTQ3zt1FBxlCLsN0P90WJWjcXkcpNLRljccYh95kRx1OhPzo3QUgiK86gdAg2cVWMzpdyS8y2EEMcIBXxhZozzh3i0ehYJx2BiuUXIVjTlAhzb7LkGbdSoUcyZM4ezzz6biy++GMuS5hQhhBBCiL7gFgo89OCv8HJpopEwWmtyXnG6JgXYtt21Bs00Ta655hpmz56Nbdts27atfZSaEEIIIYToC4piX+90QeMZQZftHSwAx7Y597zzuPLKK5k8eTItLS3s3r1bBgcIIYQQQgwC66qrruKUmTOZNHky2WyWHTt2oLXGOJzZUoUQQgghRJ+xbrrpJlpbW9m1axdBEKBUcW4uIYQQQgjRf3T7V0+py6qvr8d1XQAJZkIIIYQQA0S1f/UU0gwZBCCEEEIIMXg6QlrnRCYdzYQQQgghjjAS0IQQQgghBkHnWrOO5s4OEtCEEEIIIY4wEtCEEEIIIQbBgYZmSkATQgghhBgkvYU0CWhCCCGEEEcYWQVdCCGEEGKQdB4k0HmaDQloQgghhBADzAt8PN/H9H2ga0DzTVMCmhBCCCHEQLMME9M0sUyT7ksGmIYhAU0IIYQQYlCoLj+6kEECQgghhBCD4QCrbUpAE0IIIYQYBAeaB02aOPtYIIvPCyGEEMc8Qx0oXr1/EtD6kNaaVDaHDgKUYUCfh7VOjdWd963U/vfVeVtPl+/b0WEWQfVw3/S8n4OV61DL0Gv5D0PHE+lw9vNebrPvxhzWuX2/x9hx+4OW+T38z3vdD8V9HXbZ+6oMHbvr6THVqWzQ8+Owp+3db3/Yl/XyeD/Qc7D787lfvMdz3hfPvUO9H+j9taTH677H17T39bzux30d/M54b8+3HvbT5TQdznOjp93192PkQM+5w7hOH5ZTa1CGIhEJo/owpGm61qhJQOtDSinikfBgF0MIIYQQ/awvw1lPJKD1sf6u8hRCCCHEsad7epBBAkIIIYQQR4DOjbAS0IQQQgghBlqnFrfOyz11kIAmhBBCCDHQDjJoQQKaEEIIIcQgkpUEhBBCCCGOAhLQhBBCCCEGme72UwKaEEIIIcQgU91+SkATQgghhDjCSEATQgghhDjCyEoCQgghhHhffA3Be1rqsvsKlP3DUGAegQv9aMCyLGzbBsDzPDzPAySgCSGEEOIwaA0705pd6YCmrKYtr8n4Gi8oXt49B/UUwTpv6/VyDVr1vM/DKSsKbAMilqLEUVREFENjBrVxNQDRsLdyaZRSVFVWoDU0NjahFJSWlVJSkiCbzUlAE0IIIcTBteY1a5oC1jX7NOc0Ga9YK2UbCsPoGqIU+4KX7mFbAKj2kNITvfd7MUQVA01xL3v3q3X7nRb3rFDo9p9d91Xc2pjTeH5AoCFsKSrCivHliikVJqWhgY1qhmFQWlbKSy+9whuvv86adRtBa8aMHskpp57C7KuvkoAmhBBCiN5lPViw02NlY0Cbq4lY4JiKiveZIIoT6fce0vaPfN13oNCqczzr+Xpad1pVySoGvEBDQzZgWxLe3R0wrcrg9KEWkQFKRZZlMW/efO79r58DYNphYvE469auZt3a1ezavUcCmhBCCCF6trYp4LVtHg05TcIp1jodii5NmO1/dL9l78HsEKn9p6Y4lPIoijV/EVsRtcH1NfO2+6xrDjhvuMWkiv4fPxkEmv975nkAZpxyGnfcfhvRWJTnn/8LD//vQyxa8JYENCGEEELs7/VtPvO2ezgWVIWLNU9daqMOQHX741CiWPd+ad3301u/tY7+ar3diVJq7/6636FWxdrAqgikXM0T6wucNczk3BH9G4+CwCeTTgNQUV7BqFEjsG2bmz5+I8Nqa8lksxLQhBBCCNHV/230WLrHoyxsYJsHWNdbtwekw6gM66lvWvfLOl9Op9/bW0W73F/nvm292dtnjc6Bbd+tNBC3FQVT88Z2nzZXc+U4+9AP6jBZlsWI4cPZtnUTL738MnXb6pg8eTIjR47g9DNOY8zIURLQhBBCCLHPMxs9ltT7VEUMlOoazroHMd09LbF/LVvnps6OPv2dQ1rnUNZZb3/rnpLYodTqKbUvpHU7mI5DtA1FeRiW7vEB+i2kaa258cYb2L69jrqtW1i3ZhXr1qwC4Le/reaaa67GnD179jeDINjvxr7v4zgO06dPxzTNfimgEEIIIY4c87b7vLXLpzKsMA4Seoo1Zz1MVdHL1BgdeUj10HfsYFNzHGS4wMH7oLWHw45+bwdqTjVUcUqOzW0BplKMLOn7Pmme59HU1MSZs85kzJgxlJVXEonGqG9oIpdJsmH9JqlBE0IIIQRsaA54bbtHeUhhqvapMPr4PnpqinxPgavz9XpoZu1cQ6e6/X6w+9IUQ1pZyOD17R41UcW48r4NaUEQsHTpMjyvwPkXnM9ll11KMpVk5co1/OQnP8P3AwloQoh2AzOhtxDiCOT68HKdR8gEyzjwy0FHE+Z+waZT02ZPt+0IUX3xUtNb7VdvzaUdAxV6K3tPZbWN4gCCl+o8RpQ4OH3YmFgoFLjrB3eTamti9rXXcdPHbiQei1NRXoYyDCjIRLX9bltK05gNcAzYN5Slp66RHduL21xfUxk2GJHov3fMgg8rm3xso/Nw5/Yy7O0s0Lmc+z6TaBSFQDO1zMSRR9Feb+/0+cNGl4X1AVvain0YRpeYnFplcMN4hzNrB767QEte8/Rmj58vd/nTlRFCPax3siMVcPuLWb49K8zpNSYljiQ1IY4n7+zyacwGVEWMnkc8dnKgacsOFL66dPzvYTjovgloOeDIzy4T1dKp03/7xLfdp9TY7/b64EGxo5wxGxqzmnd2eZw9vO/e7GKxGOMnjGPxwkYe/9OjrF61hoqKCpYuX06qtYma4TJIoF/9x6I8X52fo6zTm92+x2On0SO6+2XFS5vzmrvPjvB3M5w+L9viPT5X/V+GhnxAzOphDE3nH52W2+gYQqNQpH1NtWPw5IeizBjSt8GjOa/55Yo8t0wNMSRy5IeF5Y0+d7ycZV6dR3lCcdFwm5kTHDSwpdXn/tUF/mNBnrNGWvzPxRFOqOj/oFaf0cx5IcPLOzwwoIBi8m9SmKrr6CgF5H1NAZj9bAYCzdWjbX5xcYS4BDUhjnmZgmZpvU/C6RrOOgemjvcn3W32/+5hqMvte5mSQwG6h75re/dzgJedzqM5O5eje6f/7mXbe70eBi90v273gJpwYGl9wIwhmqjdd6+JX/jcHdx3v82y5StYvWr53u2TppzAnDmfkoDWX+qSmq++lePLJ4eYPdYm4x3sM0nXh1LUgsc3FfiHN7PcMN5iZKJv278/+2qW8rDify+J4XP4i9waFCf6++s3cnx2bo63boj1afnqkgFffiXL+bU2QyJH9iCVB1e7fPrJNOOGWvzxqhjXjrf361wbaHhsg8tX38xz4v1t/PrqGLdM7vvg3dntL2d4Y4/HvRdGeX2Hx70rXX54UYSYVexb0sFUivpswBdfzXL7dIdTh5jc/nKWqA33XRLt1zIKIQbfioaA1rymstuH4YM1cXZcp9caq/1GfB64ZqtXnW54KLfrqF3rLUj21ixKt+0dlzmmoimnWd4QcEYftYIUCgUikQh33H4rrW1t1O/ZQzKdoby0hLFjxxKPxSSg9Zfm9pqpmyfZTK9+b//QhK3475UuTXnNyETflm9LW8CXTglxwcj39xD4+GSbe951+6hU+0RMxdByk3+cn2VCmUneb39KdekJ2jVVegH4Gm6banP5qP6bv6az/11T4NN/TPGFsyP87OJIr9czFFw/weH6CQ5feDHLJ3+fwrwxwU2T+q+cr273+Nczw3xiis31423Oq7W4eWrv91fuGHxsso1hwLKmgIfWuNzXb6UTQhwp1jX7e5c46jzP2N7+XJ1rnZTa1+pD8TXX7/iE30OtmAYs1Xut2KH0R+tpfc0D7ad7OOt+hcOtA9NA2IT1zX6fBTSlFOl0mlw2S1lpKdVVVZimgef55HI5WlpaJKD1F8tQ2Ar2ZA+zaqqT3VmNbSicg411fg8itiJZeO9l65B0NRHz/e+nO8MA04SGnMZq9fHaJ8vpWq3dtaHONqAu5XPl0wXeuj7OqX3c7NrdxpaAWx5P8YWzwwcMZ939/JIIhoKbH09x9mfLGFPaP82I06tM/muFywt1PobS1EQV969xCTo6eHT6HGkaMC5h8NuNBfxAs7otYFofj1oSQhx5dqcDGnN6X9/UvbVjPc9A26W5s/27bar215WuOsKdr8Hk4CMoex1leRgvkZ3fIwwFWU+T94oDHzqaJ3uqMTvYCM+QqWjMwe60pibWN6/ZSin8ICCbzZLNZrscg2PbEtD6i9r7bZ+8D9+Yn2Ndi88Pz4sw+lDmVtF7v/Vt+fQBZoY+DD08f/tEzoeMC49dFuX0w/zEEr23lXf3+P0e0Oa8nGF0jcXPLj78ZsCfXhzhz1s9PvVShlev7dvm4Q6WAY05zawhCkMp8r5meLw4vqnTVI17X5BzgaYyrMj70JDVjI9JQBPiWLc9VQwwkXDx732v5+qgtV5trub0GpMZNSZ++3tK5z7VShVD0oKdPkv3+CRCPe+wt5GX+2rzugar7j+BLks9dfya96E6alAdVrQVimEUVeyis/c+eugD3lPZTANyrmZbKqAm1r/vLR1FkYDWb/ZPP2/t9Ljr9Sy0BUytNPnurPB73FMf6C1UBex99PpB8UH53nf2/mgg9h46ZDoGVPbyQtBXltT7zN3o8dwN8S7b39jh8+CyPJ+Z7jCrtvj0mrvN41erXD45xeHCTk3Kv7g4whV/SLKkPszJ77EZ/EDWt2r+6kSHb59xaI+zzm59Kcvc7V6fl0kIcWRpyuq9fWa799PqrTar4z3J9aAyapA4yGCihKOoz2q0Kv5uKUgXIOdrLKPYnQcgVdAUAghbipgFblAcwOC1d5p1zOIEsh3lVUAhKNaSecXsRdhSxeZaXQxkZw13mFFt0JbX/M9Sv3h/jtrb77r7wIYOHaNC6TQq1DSg+X20ih1IT3M7SEDrJz1VfE0qNzl/os2WNp9rxw5MH6lDtbop4PaXM6xsCpheZfLAxREC4OZn0/zuAzHm7/b5/js50j7UZwIevDTK7PH9dwxhA6I2fPH1LONLDXJ+t5PZUXXXMR2ILnbkbC1oWl3NtxfleX6Hx+1THE6p6fvw89Bal8oyg8tHd30K/c3cLIsW5VjSFvDWR4rh7R/fzPH2uzmWNAQs/Pi+QHf5KIuqMpNfr3G5u/rQm0gPlYHueUmUQ9CcD9ia2n+FESHEsaXN1Vjm4VUEdLyslIQUKxt8WnKapKsZU2owuaL4qX5pfcDuTHGyVU/DFWMsfA0bWgJSHgyNKUYlTBpzmq1txdeaCWUGVRGDPdmAdc0BtoKplSZDosV73JHSbGjxsQ1F2ILWvCbuKE6tsUg4xUqFLW0Bm9sC4o5iSoVJx0urYyqmV1vsTvukCsUWho6D6fVlslufOssonq++cCh7kYDWT1QP//WhMcWr18Xxgk4PjnaZgmbmI0k+PMbh7nOLNR7+QeaC6Ss7kppzf5/CDMM/nBpi4W6PsKXYngqYv8Mn58HKFp8luzy+c0GEpqxmSLTTAfTHB4r2467PBhgKvGD/flNdB1xDQLHf361THVpceHR9gSc3FlhyY4KqaN+exYX1ARcO3z/43TjJZl1zwI3j943QvH6CzZLdPjdM3D/QXjDc4t3G/glCCrX3k+eBLKn3eXW7R8aDkyoMPjTO5q6zIlw2vNAv5RJCHBkCDRlPY7B/X7Ce6PYapY7rhi3YnSkGopacRmPtDWhrGn1WNPn4Plw02uKCUcW40ZgtsLE14LwRNkPb+3L9fHGeIFBcMdbGMmDJnmLAu2Gaw6iSfSU7pQbWNhn8ZXOB5rxiWMzgg2MtysL7rnN6rcmLWzyW1vt87uR9r8NhCy4bY7KqUfH4ugLVB3lPUD1UIRpKkfE0geagy2Adrp52JwGtnxwos3QPZ+kCnPRIil2pgB8uzBE34VtnhSkLFT8R9HdE+5/VeRrzmpY5JSzZ4zM5Wgw/+UATixark2O2wooahAzFjRNszhzav23weU+TKcDjl0c57T2Omlmwy+ecx1JsSwdURfu2vFvaAk6r2T9wfeWUEJ8/ydlbZd+x7ZYpDrU9vCCMShgs3tNPQeggD5vGbMCNz2V5cXOBcERhm5DMaCpiBk99KMbnp4f6p1xCiCOCr4uj37vPcdZTM2dH53vdaWOgi53nQ2axZ0y4U6KI2YqyULE5c0dq3ztidUyxNUmXgDQkomjJ73tvXN+iuXSUyaiSYlPkvB3FUaan1JhMqjDYmTKZu93nyrEOpeHiYLW3dviMKTOYUGZwyWiLlrzm7Z0+J1YZRO3ih9U96YDtyWBvOQ84IW4Pg0AN9s0W8H4D2qHcXHoB96ceUtqr23zuXpTf+3fK1Ux4KEnO0zTeWspvPhjl2y9k+MkSlyFhg6hFj6Nj+rJwWgMmhAzFu3s8bng6zY+XuQwNG3sfhFFL4Xmarzyb4Ttv57ruqh/yo25/IXg/kwIm7OLIzv7Kt739WxI9lLmncAb03DO2z/T+uGnMaqb8b5J5Oz1+dUWU+jkltN1WyvyPJDiz2uSc+9u4f2XfT58ihDiyqP2+7//K0WW8fG+vVz1t12CZita8ZnemuJeQCTVRg84LmpSGjL1zsOV9SLuak9r75a5tDnilrsDcOo8dyWKTwMhSgykVBqXt3WsX7wl4fbvHm9s93OICLowtNfjtapd1LcXbJF3Nn9Z5rGgMDmmlFN39uA96i74nNWj9pGOcXOd/8NJ6nwsfS0Kjj6ng01MdZvwhia9h400JIrbipkkOzdfE+OJf0jw62qEirParceurEna4fUqIny7JM/m3bdw+1QGlCFkKX0MypwmAHekAPHj3thJGxv9/e+ceJFdZ5uHnO5c+py9zv2RmMkmWkIQEiGQNIUESNYDgBRURQQFBYBdv7Grtbqlb/rG7rpZlWVvqrltYVhnwAkqURbFAgzFhzY2QSBKTTUJIINeZySTTc+vp2+lzvv3jdM909/RcMunOje+pSqX73Po7U6fP+fX3vu/vLRpQBQSkpUEoIPi7TQkuq9ayPmjF6Zwim4ImaY9oxBxJNOUnvIYMwfZTLromaA6W/w84q1oMt3LK8acTGX55wOG/VpbOJ/v79XHunBfgnXntQo4OeMyoWDuvsY/78RfjxBzoeKiaOluwrcvlsT1pVt0c5IUPhflCtcbfvDDEO1t15tZd2EbBCoViaugCdE0gc/dVUSjUiq0ockzUiglG7tSG8PO2OgY9poV06myNOXX+2mMDHjOqNVoiGoOpkWVpTxLIdriZX6/x1aKCuqagKHgOrWjXWdFeeJ+qtQS2LgqeGIYGmsxLlMk7geLZwhG7kRE86VtfleiWNzUmMNJVAq1iiAJrvV2nPBb9eIBPLbK4sd3g/j/G+forSWbU6uz7RJhgXrulzy+0MDXBp58forFJJ1i2q6E006sFGz5axcPr4nzvL2nuuTrAo1cFOJ2ULGsxsHX4q4jG0ukGi0pVG1bAZyNnBnEy7iLIz0HLR6Jn89N+9lqaaWGNtzfqxLMVPZYGP70pSFuZPGvyWdyk88T+wtBkWBd8f2uS/f0uq28NU5f9RdibkNy9Js4f9qV4YEFh2HBDR4YHr6hUsUVp4bzrlMvaww6/uz1CXTZ3Y2tXhsf3pvj+SpuQLvjeu4M8eTDNN3ekWXUGHm8KheLiwf8xC9FsUGQiL7Dh96LE3aVoyknk7Wjq0DXkr5xZpdEY9CXhK10uDUHBgjqNvmxgqXNIEnckuUfikQGPEzFJxPSLAtIu9CUlbXkCbc9pP1daF36bQCn96FStVSimfCsQ/8k84bRCiRCnJyGolyf/TEpJwDSwLWvUWJTNRoXxFbjH/FqNYwO+OFsxy+Txm33PrLAh+OjTg9x3RaBAnOV45KoA0aTHv2xLkapEDnnRFbGgXmPznRGkByJ73ddagi13+VWHj9QEeOTqyrYmyieVLa9+9pYwS1onvkwv+8kgDyww+dclZ24pMRU+OS/Af7ycYs3RDLdmk18Xt+hse7Ca9/w6RtPjAyzPjntTZ4aIDlserGFxXu7emqMZuvs8Pjm/Urlepe8ia49laAhr3JpXgaprAqEJjLx97lsQ4IU3ldWGQnEpU20JnH4PjNJe/aU8x0ptM1rFjewX0KFryCPj+dX5IVMwmJYcH/ToiEnm1Akas3aSJ4c8PPxQp6XDUBqeP+QQ0GBhk06t5Yuro4Me16Nn95H8/s0MTSHBNU06lu6LqUxerljQENRY0J/01xXPK4w1W5i/LCOh2ipPREbXNHr7BugfGKC5sQGBHBWMUjloFUIIaA5p/PyAw4Kfx1gxy+BPHxuxWLhjjslz91Tzve1JvrwxWfIY751hUmUK0sUWE2UaX8nleVfE5DzQqEgVp8zeDsLm5AahAb3nMGXqmiadFbMNPr0uUbD82mk6XQ/X8I1lNvVBQX1Q8PVlNl0PV7OsqLDikXUJVlxmcFVDZb6GKVeW9JHrcyTVZuHNeGGDRkDCFU8OsLnTF2WtYY2+VGU8fxQKxYVBg+0n4suRQGcBY4m24gVSFj4zBFkhhN9ZZyAth2fRwJ8pOxmX9OT5imU8iCYlSUeyq9u/D13ZqPGl6yw+u8jijnkmN84ymFevsy/qcjybk3bTLIN/vNbic4ssbr3M4N0zDYKG74/mZDNRbAPuuzLA4haD/nTpcx3z/LLLXMmofqVTRTcMtmzfxW9/v55QKIhtWcP55gHTJBQMqhm0SmELSEv40to4N803WXt7ZNQ2H7zM4Nk7InzkF4Mg4VsrCmd/epIy24Os/JTzsTv+pT41LE0QNASPbkwwu0Yb6cVZ3KJI+F/AN3pc5r/93FYdPrEyxOU/7OfRdQm+nxcGtAz48gRj+fy6BEdPZ9hwR03FxqcJ2Bd1Ry1/R7POt19NEU1I6rM3m+XTDV75RIS71sS54ceD7P/bGo4MSK5sUPlnCsWlTFvEN3b1JjAmLzFBNvJa+Pcbx/P/AbjSzweW+KHHtOuHK3Mu/B0xDysb+sztc7DXI5GR1NgaWztdArpgYZNOjSXA8o+9u9vl5U6XWkvw+zczvGeWwawajZaIP6KBtGRrh8f+Xo+2sOAvp1ymhTSaQn4+d9AYEY45xp0dzFa2+uFNURBaPRuklCQSSZKpFCc6ThIOB7GtAEHbZiA2RNep00qgVYpU1jDvgcUWT7xn7FZAt8822fJQNdc/HcPWBf/2jpEHe3NIw3EFZWiZOYpcfP5sqbUEQxWIgvn5C5Lukj5oIwJNSsmAI/nnZbZf4HAOmV2r8eTtEe5dPYiESffj/OwfE/xgS4Kn7q5i5mTafU2Rf1pk8cW1cTYczxAxBcdiHl9dbPOVay2CpuDftyf5zoqRMb+tUWf/vVU8d8jh4IDHYzuT/OJ9lWlDpVAoLgymhTXqbcHppCQo8iw3sutLCZlST45IQHC43+PYgB/KcDw/lJnbttYW7Otxeb3XHe4AMD2i0RX3eCpbMZ5y/U4AfuBE8NLRDLtPuTQG/R/pvUlJX0r64cqAYMiR/OagH9pssAX9aX+bIUdSFfAtogbSkl8fdAgZvo+Z40787Cu1NuVCow3TyuSpmUym6OsfxMlkePzn/8MNSxfzwVvexcZtO1i7fjMBy1ICrVJETIHnwRW1OjtPuZzOTuOOrkOEGRHB5xZZfO1PcRJSctssA1MXPHsozVBGKSaVlwAAC1ZJREFUUl+mmHc+s6o1Vr/usKxBx4Vs24tSX8lSSDThJ1+uPuAwq6r84xt0JB1RjyfvjBS0R7rQuGeeSeZjER74zRBrjmf41g1BPjLbGJVE6kl49pDDVzYnOdid4Wd3RfhECePacvKFRRbNIcFzRzIENMHclDdsDPmDdwf5+K9izK/R+HSR39n7Z5u0/2iA61oN7q7wGBUKxflnTp3G8aMuoaJbbXHu2XhPhpxHWMLzk/ANzZ85k1IOe6i5HsMV+abmV1VKKYk5AqRE1/zlnvRb9ukBQX8aepJuNlTq+6vpwg832lm3gdMJj5ND/gygLhhuPeVKsHX/c4cckNJD18DUBN4455XfED7XBzSZkcytM8rmt2HbFnW11fQP9POBW1bS2tzI8c5ufrd2A031dXzwvSsRq1atko4z2igzlUoRiUS47777ME11k54K39mR4ssvJwv7lJWopTV0aLQFvQ70xD1qTIGLX43yn8ttHq2AYej2Lpf3Px8jlhGEdIkcLsspkT3JyDRvDoEknoGIAS/cFuHaMrdT6o5LvvZKki8ttphZAQFYbvZEXR5Zl2DLcZe6KrixzRyeHTs64LG+I0N00OP6doPHbw5yRe35Dx1+Z0eKf3gpwcJWg3vmmtSYgpc6M6zel2bZdIN1t4cJnoUPnUKhuDiIO/CT/0vjSUmgyDXAfywU3v/PBJnNq8qZ3BYfZjg2MsY6oCixZfS+xa/PZGwif8pQlFiOLyp14P6rLUJllEN33/8wrx86whc/cz+e5xKN9oOA1mlNWJalBFqlOTYoiSY9AnrWa8b/KVGwTS650tb8KpGU68fkG4Ma7ZHKPSCHHMmBPg9Ly355YPgi9T81LwNOyuywR9akXZhbqxNWl8cwWztdVr+RZsdpj2PZ/nIzqjUWN+rcPccsu5A9W3aecvnmjhR7Trm4nu/y/dD8AA9eeW7DxQqF4vyy6USGjcddGkNiVDVhsWAZi4kEUykRNtFxJvs5JQWcHLEEmUjIjfeZPQnJinadd0wvbzTnznsf5NCbR3jk/rsQQDBo09Pbx5btu+gbGFQhzkozo0owo+rCeijnCJuCvy7la6aYMktbdZa2Xjy+YYuadJ6+xc+RdCdIElYoFJcuS1oM9vV4xNJ+A/J8kVZKnBULGlm0sKRVxRjBpMkwkUdbvkgrLQ4L21iNdZzi7Yccv3Lz2gq0N5RIdE1DCEE4FOTNo8d58pnnCVo21y66amKbjalOayoUiosLJc4UircuAR1WzjBIueC4Zx4uFEx+dmwyx8ptW2pmbHh90cEKZ8/kSB4ZZ65lhBBkPEnKlaycaYwK/ZYFCY6TIRIOUVtTxZ59rzM4MMRnPnUX995529gCLXcysvgvoFAoFAqF4pLj8jqNFe0GfSlv3B7Qk539KmouUJbelgXHGMvPk7OfXJIS+lKwYrrB5bWV+fUaCgY5cryDNes3cayji5ntbei6xkubX2HDy38eO8QphMBxHIaGhqitra3I4BQKhUKhUFw4XN+m05f02NXtUh8SJWdxRoUD85aPV/U5KiQKo3PJ8isoz3z4EzIZrwJP+oa5b2vSuX56ZdKAEok4V11xOYcOH2HNHzeiCcEHbnkXJ09F2bx9B28cPjG2QNN1nXg8TjQaVQJNoVAoFIq3CO+bbSIR7D7lUmMLTDF+aLKkYCsqCCgWRqXEGkycpzaxCdTIdqWE40T7ZzxJf8rvFvO+2ZVL0z9+vINQMMAnP/Yh+gcGMQ2D/oFBblx+HddcNQ/X88YWaJqmkUqliMViFRugQqFQKBSKC4/3zzaoDsCWDpeATsm2caUQo14Uvh1VXJBXaVm8rpTwm0puXO7/iapIhxzfneCG6TrL2ytbQxmLDdLX18+05maaG+txMhmSyRSGkaG2pgorYI1fJGAYBidOnKjoIBUKhUKhUFx4LG83+PAck0hAEE1KUqM7x/nIwpdy9OLCzWVeg8D8RP5xtmec9fmMJ/CGLc+K8uvSrh/SjAQEH55jVFycAZzo6MAMBMi4LolkikzGRdM0PE+SSqVJJJPj22zYts3Ro0dJJpPYtj3epgqFQqFQKC4x5tVrzKgOsL0rw97THtGk32opoPv9N4vzzoqRMuummVVH/vYj5mTj5bMNv8/6dE569qzEVJkvysTwYldC2pUkHKi2BMvadJa0+E3WK00ykeDw4cPDumqsvLhxh2KaJtFolNdee41rrrmmAsNUKBQKhUJxIRM0YEW7wduaJPujHod6XaJJSSLjizRTE+havqgakVMy15i8hBIrFW4cc9YNiZZ3zHxxVyrXrFj0eBI86ZvAS8DWJfW2YE6rxvz6bEP2c8Te/fuJ9vbSUF9fMMZiJtSKtm2zc+dOJdAUCoVCoXgLU2MJlrbqXNei0zkk6RryiCYkA2lJIuOLHwBRItCYL5ym0p5JMrbJ7GhGtswJNUMThAxBtSWotwUtYY3WyJkcszxIKfnzq68SDE4clZxQoIVCITo7O9m6dStLly4tywAVCoVCoVBcnAgBbRFBW2TEgsKV/izVhYom/Ebq55vNW7bQ1dlJfUP9hK69k4q2VlVVsXnzZmbPnk1TU1M5xqhQKBQKheISQb9ABNCFTHd3Nxs3bSJSVTWmOMufVZyUPW4gEEBKyTPPPKNsNxQKhUKhUCjOgNjgIKtXrwYpsQKBSbW8mpRAk1JSVVVFLBZj9erVDA4OnuVQFQqFQqFQKC59Eok4q3/5SxKJBPX1dei6TsAwME0Dw/DDxKUqOSfdYEpKSU1NDdFolKeeeorOzs4yDl+hUCgUCoXi0qKjs5MfPf4EJ7u7iVRV4TgZMm6GjOviOBkEAtM0CrzZPM8jYJqIVatWScdxJv1hQghisRhCCJYsWcLSpUsxjHNgHKJQKBQKhUJxEeA4Dt/97x/y9K+eRWiC2uoaPCkReSYkTsbFNA1WLr+OlqYGkqk0AKZhMDiUmFyRQD5SSiKRCOl0mk2bNnHo0CEWLlzI3LlziUQiZT5FhUKhUCgUiouDtJNmzR/W8e3vPsaevfuor6sjFApx5FgHiVQKTfg+bkHbwjQNenr7mdXexuyZ7cMCLRwOsvvAoTMXaOCLtEAggGma9Pb28uKLL7Jt2zba29tpaWmhpqaGhoYGwuFwWU9coVAoFArFpc1Uem6eDyQwFIvR09NDX18fHR0dxOMxfvqLZ9m1ey9z51wGQCqVZmZ7KzPamonFkzhph1O9vcTjCYKWhZQ5c9/scaXEEGJqAi13AIBgMEgwGMRxHPbt28fu3buxLItgMEggEDi7s1coFAqFQvGWQOC7/accB8s00bItns4lTiZzRgLRcRzi8TjJZBLTNGlpaaa1tYWmxvpsywN/m7q6ama2TyccDnH1gjn86rkX+d/N20AIhFZ4nhIQQpu6QCvGNE1M0wT8BLdMJkM6nS7X4RUKhUKhUFzCaICbFWiOaaILgXeOx3CmAk3TNGzbJhgKISCrg8Rw03gBVFWF+fPOPRw91sntH7iJnmgftmVl+5SKUZ0Vcu8rkt2vaRqaNukCUYVCoVAoFG9xcjNoUtPO2wyaputTbkc1vEMWgV9Y2dc3yLSmRh74+IdZv3Eb3ad6aKivxfMkup4VaCVOVKkohUKhUCgUiizFTdjHez1q36zakhKEJugfjNHcVM9D936UvQfeYP3GrXR193DkeAe2bRV8ZrEQNM7EYkOhUCgUCoXirUKuwXuOyc2o+VvEE0mmtzRxz523sXvvAX67Zj3TW5vZs/8ASKiKhIhG+5BIZNFBk6kURigUQok0hUKhUCgU55NciNMTAtMwzkuIMzsFNmVM08S2LSLhELYVoK11Grv3HWTD1ldpmzYNw9TxPA8QCCEIhdPYQasgj980TWqqq/l/wgWrIcy1/D8AAAAASUVORK5CYII=)\n",
        "---\n",
        "\n",
        "\n",
        "## Task 1: Introduction\n",
        "\n",
        "Dataset: [Tweet Emotion Dataset](https://github.com/dair-ai/emotion_dataset)\n",
        "\n",
        "This project details the creation of a multi-classification Recurent Neural Network (RNN) model using Tensorflow / Keras to predict Tweet emotions. More specifically, this notebook uses a bidirectional LSTM as a means to capture additional semantics often found in sequential (language) data. This project utilizes the [Tweet Emotion Recognition with TensorFlow](https://www.coursera.org/projects/tweet-emotion-tensorflow) dataset provided by Kaggle."
      ]
    },
    {
      "cell_type": "markdown",
      "metadata": {
        "id": "cprXxkrMxIgT"
      },
      "source": [
        "## Task 2: Setup and Imports\n",
        "\n",
        "1. Installing Hugging Face's nlp package\n",
        "2. Importing libraries"
      ]
    },
    {
      "cell_type": "code",
      "metadata": {
        "id": "5agZRy-45i0g",
        "colab": {
          "base_uri": "https://localhost:8080/"
        },
        "outputId": "98e96932-de83-4bb0-b996-3db3fcb7a031"
      },
      "source": [
        "!pip install nlp"
      ],
      "execution_count": 1,
      "outputs": [
        {
          "output_type": "stream",
          "name": "stdout",
          "text": [
            "Looking in indexes: https://pypi.org/simple, https://us-python.pkg.dev/colab-wheels/public/simple/\n",
            "Collecting nlp\n",
            "  Downloading nlp-0.4.0-py3-none-any.whl (1.7 MB)\n",
            "\u001b[K     |████████████████████████████████| 1.7 MB 31.0 MB/s \n",
            "\u001b[?25hRequirement already satisfied: pandas in /usr/local/lib/python3.7/dist-packages (from nlp) (1.3.5)\n",
            "Requirement already satisfied: numpy in /usr/local/lib/python3.7/dist-packages (from nlp) (1.21.6)\n",
            "Requirement already satisfied: tqdm>=4.27 in /usr/local/lib/python3.7/dist-packages (from nlp) (4.64.0)\n",
            "Requirement already satisfied: pyarrow>=0.16.0 in /usr/local/lib/python3.7/dist-packages (from nlp) (6.0.1)\n",
            "Requirement already satisfied: filelock in /usr/local/lib/python3.7/dist-packages (from nlp) (3.7.1)\n",
            "Requirement already satisfied: dill in /usr/local/lib/python3.7/dist-packages (from nlp) (0.3.5.1)\n",
            "Collecting xxhash\n",
            "  Downloading xxhash-3.0.0-cp37-cp37m-manylinux_2_17_x86_64.manylinux2014_x86_64.whl (212 kB)\n",
            "\u001b[K     |████████████████████████████████| 212 kB 32.5 MB/s \n",
            "\u001b[?25hRequirement already satisfied: requests>=2.19.0 in /usr/local/lib/python3.7/dist-packages (from nlp) (2.23.0)\n",
            "Requirement already satisfied: urllib3!=1.25.0,!=1.25.1,<1.26,>=1.21.1 in /usr/local/lib/python3.7/dist-packages (from requests>=2.19.0->nlp) (1.24.3)\n",
            "Requirement already satisfied: idna<3,>=2.5 in /usr/local/lib/python3.7/dist-packages (from requests>=2.19.0->nlp) (2.10)\n",
            "Requirement already satisfied: certifi>=2017.4.17 in /usr/local/lib/python3.7/dist-packages (from requests>=2.19.0->nlp) (2022.6.15)\n",
            "Requirement already satisfied: chardet<4,>=3.0.2 in /usr/local/lib/python3.7/dist-packages (from requests>=2.19.0->nlp) (3.0.4)\n",
            "Requirement already satisfied: pytz>=2017.3 in /usr/local/lib/python3.7/dist-packages (from pandas->nlp) (2022.1)\n",
            "Requirement already satisfied: python-dateutil>=2.7.3 in /usr/local/lib/python3.7/dist-packages (from pandas->nlp) (2.8.2)\n",
            "Requirement already satisfied: six>=1.5 in /usr/local/lib/python3.7/dist-packages (from python-dateutil>=2.7.3->pandas->nlp) (1.15.0)\n",
            "Installing collected packages: xxhash, nlp\n",
            "Successfully installed nlp-0.4.0 xxhash-3.0.0\n"
          ]
        }
      ]
    },
    {
      "cell_type": "code",
      "metadata": {
        "id": "yKFjWz6e5eiH",
        "colab": {
          "base_uri": "https://localhost:8080/"
        },
        "outputId": "d0c7dc6f-af87-47bc-db9e-6e5277636d39"
      },
      "source": [
        "%matplotlib inline\n",
        "\n",
        "import tensorflow as tf\n",
        "import numpy as np\n",
        "import matplotlib.pyplot as plt\n",
        "import nlp\n",
        "import random\n",
        "\n",
        "\n",
        "def show_history(h):\n",
        "    epochs_trained = len(h.history['loss'])\n",
        "    plt.figure(figsize=(16, 6))\n",
        "\n",
        "    plt.subplot(1, 2, 1)\n",
        "    plt.plot(range(0, epochs_trained), h.history.get('accuracy'), label='Training')\n",
        "    plt.plot(range(0, epochs_trained), h.history.get('val_accuracy'), label='Validation')\n",
        "    plt.ylim([0., 1.])\n",
        "    plt.xlabel('Epochs')\n",
        "    plt.ylabel('Accuracy')\n",
        "    plt.legend()\n",
        "\n",
        "    plt.subplot(1, 2, 2)\n",
        "    plt.plot(range(0, epochs_trained), h.history.get('loss'), label='Training')\n",
        "    plt.plot(range(0, epochs_trained), h.history.get('val_loss'), label='Validation')\n",
        "    plt.xlabel('Epochs')\n",
        "    plt.ylabel('Loss')\n",
        "    plt.legend()\n",
        "    plt.show()\n",
        "\n",
        "    \n",
        "def show_confusion_matrix(y_true, y_pred, classes):\n",
        "    from sklearn.metrics import confusion_matrix\n",
        "    \n",
        "    cm = confusion_matrix(y_true, y_pred, normalize='true')\n",
        "\n",
        "    plt.figure(figsize=(8, 8))\n",
        "    sp = plt.subplot(1, 1, 1)\n",
        "    ctx = sp.matshow(cm)\n",
        "    plt.xticks(list(range(0, 6)), labels=classes)\n",
        "    plt.yticks(list(range(0, 6)), labels=classes)\n",
        "    plt.colorbar(ctx)\n",
        "    plt.show()\n",
        "\n",
        "    \n",
        "print('Using TensorFlow version', tf.__version__)"
      ],
      "execution_count": 2,
      "outputs": [
        {
          "output_type": "stream",
          "name": "stdout",
          "text": [
            "Using TensorFlow version 2.8.2\n"
          ]
        }
      ]
    },
    {
      "cell_type": "markdown",
      "metadata": {
        "id": "7JsBpezExIga"
      },
      "source": [
        "## Task 3: Importing Data\n",
        "\n",
        "1. Importing the Tweet Emotion dataset\n",
        "2. Creating train, validation and test sets\n",
        "3. Extracting tweets and labels from the examples"
      ]
    },
    {
      "cell_type": "code",
      "metadata": {
        "id": "0YHOvjAu5eiL",
        "colab": {
          "base_uri": "https://localhost:8080/",
          "height": 249,
          "referenced_widgets": [
            "57a347b6cc19487389e81a3a884b5a52",
            "46d6a006e74b450b8309b5e38cc363c6",
            "28b77f5c9e164b609d1971f5618802cb",
            "d29f3dd21b5f4d3f8fc642b0566730ff",
            "63951eb3d969413c87d6fdad485580b3",
            "9cfb11a261af4a139797e0a0bdc24422",
            "5de9af1d673b4c2bb3989b4b54a4dd12",
            "2dd72da904904b51a8034b18bbf20b31",
            "de46a19f9ad84e2dbb5b39b06a44cb7e",
            "668d818d54d34be4bed37458d45cdb9d",
            "3843b629a4f04138a0a08a0e2d230f21",
            "4e827d2651f94cc2a35725c827d97814",
            "635bb40dc65c40b187e6f91289f2c65d",
            "d891c95560db434c8d4d5f65cc5d24d0",
            "dc0bb5c03fd84fe5b8846aeba739719c",
            "95867fa38b894118bb485377754a7744",
            "f1370b6248d446d6b12720b9953e4c3b",
            "f7c311aadfcc4b318a6a79334d8831e5",
            "460462ac0ff34bb7ab4a3c8ebad6881e",
            "8600a3d842b8402eaccbf2217da12355",
            "fb3365186b01492c94b35bf01dbc2ae3",
            "1e47b7890f344d2f81597a5e0ad8cfac",
            "1fd56cbd2bfd4ef896b794d6ae530aa6",
            "45fc297df71e44eba330beefdf999b72",
            "91f7b444c88b42488d9605b1964bc6b1",
            "3743e33789e84c33a9920d12aa7dab37",
            "04d5324fcdd0489e94b5b11a9ed656c1",
            "80d9db475d2d4de9b9055245c158b8bc",
            "2f76105cf96b44b39d16202e7bbd0e13",
            "cff5310bddb54d28a870a76bbf7f73a4",
            "5baac6f9682c43daac00b2ac72efbaef",
            "e2cb362395ef433ab2706b05f1095704",
            "a23419eed2db4277a45220cffb072892",
            "1011158aa3104fdf9a2a51a21596f13f",
            "99145a08e2a04a62880e4a2163983110",
            "63bcff52adf14f43bf0889935c4d0b5a",
            "417eb78617b94071a20c1ff89b4f122d",
            "9dbe170df14a4106a4c45a421ae59f05",
            "f5585264a8d04c1a812fd6723f956cd1",
            "e82347a5583b4dceb06ba479ef241894",
            "c70aba5a92904b0a9eb15faf557c6f1f",
            "e6121a562d8c4842b2c8b1a9a3e5cd20",
            "259cdde99db44e98ac7bc51a2dc40122",
            "7b31258d87a4478e9128600219e8582a",
            "13510d153ad743859ea919b64721fc2e",
            "513243c619c740af93117b16dac0d05d",
            "695e82868bd349439f1b1c31913bd66d",
            "911fa228d9ec410594eb037c9199b846",
            "e1d169aa313246e79a04862c7014e1cd",
            "8e6d9cca93bd4b7ab73e53cb6f3ac9a5",
            "e1e3da0405ed4f88933f3ccdfc3d7440",
            "e286c314bbe2494ea2c5307febf03bd5",
            "2c3b7ec8f6784562939beae2bdc29253",
            "8e578da2884342c48170bd281f162503",
            "76296559d3804272b626cc14c204d758",
            "4a4ec62b8b0f4d0eb3065196fbf16213",
            "a66e0abe728944e1b9a6da7a92792aa0",
            "0f97a1b09ca144f48eaf343d2e4108ee",
            "858361a9a8d346b499504e93d55d0c02",
            "4fcf539e6a5348cf9508fef5d1db2192",
            "49eecf73962e4bb698a652b592825851",
            "ed7276f2f9eb4541b3b788626fd9c5fc",
            "0b2a4d5afff24710b6308b5fe2c0434b",
            "861843d6d9ed4fd7b4e57298ac4e2a63",
            "0f80d5c6e5474e4289d0e00d7219f0a4",
            "015fddcdca404226aafbf3fe681b218d",
            "728d5c7e33da4b0fa909cb0b29126e31",
            "907de1d152094cdea94e4d8b621f9b9f",
            "7b5cbe4cd1e24e2997279dc5ea465f4d",
            "c8c42035a8454f6da221ba4cd82e5b79",
            "9c708b8f53f04827852aca8e088d06d4",
            "56c33f4ee73645c399426c61c8f5ab6f",
            "b47a5729319241c5a4d5667678a6e85a",
            "12f48dff933b475d96f80813a88c9de4",
            "89585f4fc5a84fc29120d3790ac3511d",
            "88cb5128847c47da84726c2c1e451599",
            "f0b14f3637d44fc2b7cd292aedd1cd0d",
            "d68f54d737b14a619c5928acea8d4ea3",
            "d17307459ed1498caef55b6fa5aeed65",
            "1601a586cf5f4db782352ee4f2ed6182",
            "7cd2d1ee5a0a44988cd829304f13bab7",
            "edfe2410c47d4feb8b291bd34c8be954",
            "a1f2279b973b4be2af35df35c8daface",
            "d40d775f9cac4386adf9c6b1d8136285",
            "ec68e7da88ea4f43a337e5db90428c11",
            "bd61715f61774ccaa75792be0acd6167",
            "2ce7caa7d461471ead51137bf0ab3ce4",
            "c2b1c4405480497b8a915dac723e22b4"
          ]
        },
        "outputId": "347240cb-3265-4cb5-fca5-10e22523c4f2"
      },
      "source": [
        "#Load data\n",
        "data = nlp.load_dataset('emotion')"
      ],
      "execution_count": 3,
      "outputs": [
        {
          "output_type": "display_data",
          "data": {
            "text/plain": [
              "Downloading:   0%|          | 0.00/3.41k [00:00<?, ?B/s]"
            ],
            "application/vnd.jupyter.widget-view+json": {
              "version_major": 2,
              "version_minor": 0,
              "model_id": "57a347b6cc19487389e81a3a884b5a52"
            }
          },
          "metadata": {}
        },
        {
          "output_type": "display_data",
          "data": {
            "text/plain": [
              "Downloading:   0%|          | 0.00/6.01k [00:00<?, ?B/s]"
            ],
            "application/vnd.jupyter.widget-view+json": {
              "version_major": 2,
              "version_minor": 0,
              "model_id": "4e827d2651f94cc2a35725c827d97814"
            }
          },
          "metadata": {}
        },
        {
          "output_type": "stream",
          "name": "stderr",
          "text": [
            "Using custom data configuration default\n"
          ]
        },
        {
          "output_type": "stream",
          "name": "stdout",
          "text": [
            "Downloading and preparing dataset emotion/default (download: 1.97 MiB, generated: 2.09 MiB, post-processed: Unknown sizetotal: 4.06 MiB) to /root/.cache/huggingface/datasets/emotion/default/0.0.0/84e07cd366f4451464584cdbd4958f512bcaddb1e921341e07298ce8a9ce42f4...\n"
          ]
        },
        {
          "output_type": "display_data",
          "data": {
            "text/plain": [
              "Downloading:   0%|          | 0.00/1.66M [00:00<?, ?B/s]"
            ],
            "application/vnd.jupyter.widget-view+json": {
              "version_major": 2,
              "version_minor": 0,
              "model_id": "1fd56cbd2bfd4ef896b794d6ae530aa6"
            }
          },
          "metadata": {}
        },
        {
          "output_type": "display_data",
          "data": {
            "text/plain": [
              "Downloading:   0%|          | 0.00/204k [00:00<?, ?B/s]"
            ],
            "application/vnd.jupyter.widget-view+json": {
              "version_major": 2,
              "version_minor": 0,
              "model_id": "1011158aa3104fdf9a2a51a21596f13f"
            }
          },
          "metadata": {}
        },
        {
          "output_type": "display_data",
          "data": {
            "text/plain": [
              "Downloading:   0%|          | 0.00/207k [00:00<?, ?B/s]"
            ],
            "application/vnd.jupyter.widget-view+json": {
              "version_major": 2,
              "version_minor": 0,
              "model_id": "13510d153ad743859ea919b64721fc2e"
            }
          },
          "metadata": {}
        },
        {
          "output_type": "display_data",
          "data": {
            "text/plain": [
              "0 examples [00:00, ? examples/s]"
            ],
            "application/vnd.jupyter.widget-view+json": {
              "version_major": 2,
              "version_minor": 0,
              "model_id": "4a4ec62b8b0f4d0eb3065196fbf16213"
            }
          },
          "metadata": {}
        },
        {
          "output_type": "display_data",
          "data": {
            "text/plain": [
              "0 examples [00:00, ? examples/s]"
            ],
            "application/vnd.jupyter.widget-view+json": {
              "version_major": 2,
              "version_minor": 0,
              "model_id": "728d5c7e33da4b0fa909cb0b29126e31"
            }
          },
          "metadata": {}
        },
        {
          "output_type": "display_data",
          "data": {
            "text/plain": [
              "0 examples [00:00, ? examples/s]"
            ],
            "application/vnd.jupyter.widget-view+json": {
              "version_major": 2,
              "version_minor": 0,
              "model_id": "d68f54d737b14a619c5928acea8d4ea3"
            }
          },
          "metadata": {}
        },
        {
          "output_type": "stream",
          "name": "stdout",
          "text": [
            "Dataset emotion downloaded and prepared to /root/.cache/huggingface/datasets/emotion/default/0.0.0/84e07cd366f4451464584cdbd4958f512bcaddb1e921341e07298ce8a9ce42f4. Subsequent calls will reuse this data.\n"
          ]
        }
      ]
    },
    {
      "cell_type": "code",
      "metadata": {
        "id": "2s0h541FxIgc",
        "colab": {
          "base_uri": "https://localhost:8080/"
        },
        "outputId": "9d704635-864a-46ea-e0f5-54a300ba63f3"
      },
      "source": [
        "# Review imported datsets: train, test, and validation\n",
        "data"
      ],
      "execution_count": 4,
      "outputs": [
        {
          "output_type": "execute_result",
          "data": {
            "text/plain": [
              "{'test': Dataset(features: {'text': Value(dtype='string', id=None), 'label': Value(dtype='string', id=None)}, num_rows: 2000),\n",
              " 'train': Dataset(features: {'text': Value(dtype='string', id=None), 'label': Value(dtype='string', id=None)}, num_rows: 16000),\n",
              " 'validation': Dataset(features: {'text': Value(dtype='string', id=None), 'label': Value(dtype='string', id=None)}, num_rows: 2000)}"
            ]
          },
          "metadata": {},
          "execution_count": 4
        }
      ]
    },
    {
      "cell_type": "code",
      "metadata": {
        "id": "z7eCnxU25eiN"
      },
      "source": [
        "# Initialize training, testing, and validation datasets into their respective objects\n",
        "train = data['train']\n",
        "test = data['test']\n",
        "val = data['validation']"
      ],
      "execution_count": 5,
      "outputs": []
    },
    {
      "cell_type": "code",
      "metadata": {
        "id": "oDYXMfZy5eiP"
      },
      "source": [
        "# Create user function to extract tweets (feature) and labels (response) from training data\n",
        "def get_tweet(data):\n",
        "  tweets = [row['text'] for row in data]\n",
        "  labels = [row['label'] for row in data]\n",
        "  return tweets, labels"
      ],
      "execution_count": 6,
      "outputs": []
    },
    {
      "cell_type": "code",
      "metadata": {
        "id": "jeq3-vSB5eiR"
      },
      "source": [
        "# Extract training data tweets and labels into their respecive objects\n",
        "tweets, labels = get_tweet(train)"
      ],
      "execution_count": 7,
      "outputs": []
    },
    {
      "cell_type": "code",
      "metadata": {
        "id": "bHD3Tk0J5eiU",
        "colab": {
          "base_uri": "https://localhost:8080/"
        },
        "outputId": "5dd5e8db-4f14-4a2a-b8c3-0217806adb18"
      },
      "source": [
        "# Review first tweet and its label\n",
        "tweets[0], labels[0]"
      ],
      "execution_count": 8,
      "outputs": [
        {
          "output_type": "execute_result",
          "data": {
            "text/plain": [
              "('i didnt feel humiliated', 'sadness')"
            ]
          },
          "metadata": {},
          "execution_count": 8
        }
      ]
    },
    {
      "cell_type": "markdown",
      "metadata": {
        "id": "gcAflLv6xIgp"
      },
      "source": [
        "## Task 4: Tokenizer\n",
        "\n",
        "1. Tokenizing the tweets"
      ]
    },
    {
      "cell_type": "code",
      "metadata": {
        "id": "qfX5-ResxIgq"
      },
      "source": [
        "from tensorflow.keras.preprocessing.text import Tokenizer"
      ],
      "execution_count": 9,
      "outputs": []
    },
    {
      "cell_type": "code",
      "metadata": {
        "id": "cckUvwBo5eif"
      },
      "source": [
        "#Initialize and fit tokenizer to extract top 10k freq. words from each tweet and fit on tweet texts.\n",
        "tokenizer = Tokenizer(10000, oov_token='<UNK>')\n",
        "tokenizer.fit_on_texts(tweets)"
      ],
      "execution_count": 10,
      "outputs": []
    },
    {
      "cell_type": "code",
      "source": [
        "#Represent words in numeric form\n",
        "tokenizer.texts_to_sequences([tweets[0]])"
      ],
      "metadata": {
        "colab": {
          "base_uri": "https://localhost:8080/"
        },
        "id": "neA-znA-S7Bl",
        "outputId": "e05f91e3-03e0-40bb-a7d2-903b895d436b"
      },
      "execution_count": 11,
      "outputs": [
        {
          "output_type": "execute_result",
          "data": {
            "text/plain": [
              "[[2, 139, 3, 679]]"
            ]
          },
          "metadata": {},
          "execution_count": 11
        }
      ]
    },
    {
      "cell_type": "code",
      "source": [
        "tweets[0]"
      ],
      "metadata": {
        "colab": {
          "base_uri": "https://localhost:8080/",
          "height": 35
        },
        "id": "Rn7v544D89SY",
        "outputId": "9806d32d-1475-4be9-d019-4d3c74a8f245"
      },
      "execution_count": 12,
      "outputs": [
        {
          "output_type": "execute_result",
          "data": {
            "text/plain": [
              "'i didnt feel humiliated'"
            ],
            "application/vnd.google.colaboratory.intrinsic+json": {
              "type": "string"
            }
          },
          "metadata": {},
          "execution_count": 12
        }
      ]
    },
    {
      "cell_type": "markdown",
      "metadata": {
        "id": "i3Bqm7b2xIgu"
      },
      "source": [
        "## Task 5: Padding and Truncating Sequences\n",
        "\n",
        "1. Checking length of the tweets\n",
        "2. Creating padded sequences"
      ]
    },
    {
      "cell_type": "code",
      "metadata": {
        "id": "mLvf_WFZxIgu",
        "colab": {
          "base_uri": "https://localhost:8080/",
          "height": 317
        },
        "outputId": "b5acdcc8-7afd-4b45-cc1b-dd3409468c42"
      },
      "source": [
        "# Padding/truncating is necessary since our model requires a fixed input shape for all tweets\n",
        "# Short tweets will require padding, long tweets will require truncation\n",
        "# First, we calculate the number of words (separated by spaces) in each tweet. Plot the distribution.\n",
        "\n",
        "lengths = [len(t.split(' ')) for t in tweets]\n",
        "plt.hist(lengths, bins = len(set(lengths))) #bins set to same length of ordered tweet lengths\n",
        "plt.style.use('fivethirtyeight')\n",
        "plt.title('Distribution of Tweet Lengths')\n",
        "plt.xlabel('No. of Words')"
      ],
      "execution_count": 13,
      "outputs": [
        {
          "output_type": "execute_result",
          "data": {
            "text/plain": [
              "Text(0.5, 0, 'No. of Words')"
            ]
          },
          "metadata": {},
          "execution_count": 13
        },
        {
          "output_type": "display_data",
          "data": {
            "text/plain": [
              "<Figure size 432x288 with 1 Axes>"
            ],
            "image/png": "[encoded data removed]"
          },
          "metadata": {
            "needs_background": "light"
          }
        }
      ]
    },
    {
      "cell_type": "code",
      "metadata": {
        "id": "EOi5lIE3xIgx"
      },
      "source": [
        "# We believe most semantics can be captured if we truncate tweets to maxlen = 50\n",
        "# For tweets that are too short, we will pad the end of the text with pad_sequences()\n",
        "maxlen = 50\n",
        "\n",
        "from tensorflow.keras.preprocessing.sequence import pad_sequences"
      ],
      "execution_count": 14,
      "outputs": []
    },
    {
      "cell_type": "code",
      "metadata": {
        "id": "Q9J_Iemf5eiq"
      },
      "source": [
        "# User function to transform tweets into integers and add padding\n",
        "def get_sequences(tokenizer, tweets):\n",
        "  sequences = tokenizer.texts_to_sequences(tweets) #sequences are the tokenized tweets which are assigned sequence of integers for RNN interpretation\n",
        "  padded = pad_sequences(sequences, truncating='post', padding='post', maxlen = maxlen) #pad tokenized tweets up to maxlen\n",
        "  return padded"
      ],
      "execution_count": 15,
      "outputs": []
    },
    {
      "cell_type": "code",
      "metadata": {
        "id": "eglH77ky5ei0",
        "colab": {
          "base_uri": "https://localhost:8080/"
        },
        "outputId": "82b76c52-0bc7-44b0-a32b-93b2e6ff9e66"
      },
      "source": [
        "# Apply user function and review first example\n",
        "padded_train_seq = get_sequences(tokenizer, tweets)\n",
        "padded_train_seq[0]"
      ],
      "execution_count": 16,
      "outputs": [
        {
          "output_type": "execute_result",
          "data": {
            "text/plain": [
              "array([  2, 139,   3, 679,   0,   0,   0,   0,   0,   0,   0,   0,   0,\n",
              "         0,   0,   0,   0,   0,   0,   0,   0,   0,   0,   0,   0,   0,\n",
              "         0,   0,   0,   0,   0,   0,   0,   0,   0,   0,   0,   0,   0,\n",
              "         0,   0,   0,   0,   0,   0,   0,   0,   0,   0,   0], dtype=int32)"
            ]
          },
          "metadata": {},
          "execution_count": 16
        }
      ]
    },
    {
      "cell_type": "markdown",
      "metadata": {
        "id": "BURhOX_KxIg8"
      },
      "source": [
        "## Task 6: Preparing the Labels\n",
        "\n",
        "1. Creating classes to index and index to classes dictionaries\n",
        "2. Converting text labels to numeric labels"
      ]
    },
    {
      "cell_type": "code",
      "metadata": {
        "id": "SufT2bpD5ejE",
        "colab": {
          "base_uri": "https://localhost:8080/"
        },
        "outputId": "bff88996-8dfa-49fb-f404-be7df88dba56"
      },
      "source": [
        "# Review sentiment (label) classes\n",
        "classes = set(labels)\n",
        "print(classes)"
      ],
      "execution_count": 17,
      "outputs": [
        {
          "output_type": "stream",
          "name": "stdout",
          "text": [
            "{'fear', 'anger', 'love', 'sadness', 'surprise', 'joy'}\n"
          ]
        }
      ]
    },
    {
      "cell_type": "code",
      "metadata": {
        "id": "rpwzL88I7YSm",
        "colab": {
          "base_uri": "https://localhost:8080/",
          "height": 325
        },
        "outputId": "ae23050f-9218-425b-8b64-3bb7a5fbb9d9"
      },
      "source": [
        "plt.hist(labels, bins=11)\n",
        "plt.title('Freq. of Sentiment Classes')\n",
        "plt.xlabel('Tweet Sentiment')\n",
        "plt.show()"
      ],
      "execution_count": 18,
      "outputs": [
        {
          "output_type": "display_data",
          "data": {
            "text/plain": [
              "<Figure size 432x288 with 1 Axes>"
            ],
            "image/png": "[encoded data removed]"
          },
          "metadata": {}
        }
      ]
    },
    {
      "cell_type": "code",
      "metadata": {
        "id": "dNLF6rXL5ejN"
      },
      "source": [
        "# Since the data is imbalanced, we will use appropriate evaluation metrics\n",
        "from tensorflow import keras\n",
        "metrics = [\n",
        "      keras.metrics.TruePositives(name='tp'),\n",
        "      keras.metrics.FalsePositives(name='fp'),\n",
        "      keras.metrics.TrueNegatives(name='tn'),\n",
        "      keras.metrics.FalseNegatives(name='fn'), \n",
        "      keras.metrics.BinaryAccuracy(name='accuracy'),\n",
        "      keras.metrics.Precision(name='precision'),\n",
        "      keras.metrics.Recall(name='recall'),\n",
        "      keras.metrics.AUC(name='auc'),\n",
        "      keras.metrics.AUC(name='prc', curve='PR')] # precision-recall curve"
      ],
      "execution_count": 19,
      "outputs": []
    },
    {
      "cell_type": "code",
      "metadata": {
        "id": "_08InVyM5ejc"
      },
      "source": [
        "# Return a dictionary (key,value pairing) of each class's class (c) and index (i)\n",
        "class_to_index = dict((c, i) for i, c in enumerate(classes))\n",
        "index_to_class = dict((v, k) for k, v in class_to_index.items()) #can't use enumerate() on dictionary"
      ],
      "execution_count": 20,
      "outputs": []
    },
    {
      "cell_type": "code",
      "metadata": {
        "id": "gpeDoA6gxIhE",
        "colab": {
          "base_uri": "https://localhost:8080/"
        },
        "outputId": "a8dc8dc4-fb16-4dbf-ba3e-4cb9d29452f3"
      },
      "source": [
        "# Now, we have a digit for each sentiment class\n",
        "class_to_index"
      ],
      "execution_count": 21,
      "outputs": [
        {
          "output_type": "execute_result",
          "data": {
            "text/plain": [
              "{'anger': 1, 'fear': 0, 'joy': 5, 'love': 2, 'sadness': 3, 'surprise': 4}"
            ]
          },
          "metadata": {},
          "execution_count": 21
        }
      ]
    },
    {
      "cell_type": "code",
      "metadata": {
        "id": "Jq0WJYsP5ejR",
        "colab": {
          "base_uri": "https://localhost:8080/"
        },
        "outputId": "de98b6ab-8104-45e9-f862-ccfb7c263ae7"
      },
      "source": [
        "index_to_class"
      ],
      "execution_count": 22,
      "outputs": [
        {
          "output_type": "execute_result",
          "data": {
            "text/plain": [
              "{0: 'fear', 1: 'anger', 2: 'love', 3: 'sadness', 4: 'surprise', 5: 'joy'}"
            ]
          },
          "metadata": {},
          "execution_count": 22
        }
      ]
    },
    {
      "cell_type": "code",
      "metadata": {
        "id": "v15KnrNC5ejW"
      },
      "source": [
        "# User function to change sentiment labels from text to numbers\n",
        "names_to_ids = lambda labels: np.array([class_to_index.get(x) for x in labels])"
      ],
      "execution_count": 23,
      "outputs": []
    },
    {
      "cell_type": "code",
      "source": [
        "train_labels = names_to_ids(labels)"
      ],
      "metadata": {
        "id": "yet1wvO_Xy5_"
      },
      "execution_count": 24,
      "outputs": []
    },
    {
      "cell_type": "markdown",
      "metadata": {
        "id": "c-v0Mnh8xIhP"
      },
      "source": [
        "## Task 7: Creating the Model\n",
        "\n",
        "1. Creating the model\n",
        "2. Compiling the model"
      ]
    },
    {
      "cell_type": "code",
      "source": [
        "!pip install keras.layers"
      ],
      "metadata": {
        "colab": {
          "base_uri": "https://localhost:8080/"
        },
        "id": "2Y5ea4cBZEcb",
        "outputId": "c69753e2-8ca4-4346-c5df-ab2066ac0e9c"
      },
      "execution_count": 25,
      "outputs": [
        {
          "output_type": "stream",
          "name": "stdout",
          "text": [
            "Looking in indexes: https://pypi.org/simple, https://us-python.pkg.dev/colab-wheels/public/simple/\n",
            "\u001b[31mERROR: Could not find a version that satisfies the requirement keras.layers (from versions: none)\u001b[0m\n",
            "\u001b[31mERROR: No matching distribution found for keras.layers\u001b[0m\n"
          ]
        }
      ]
    },
    {
      "cell_type": "code",
      "metadata": {
        "id": "OpewXxPQ5eji"
      },
      "source": [
        "from keras.layers import Dense, Embedding, Bidirectional\n",
        "from keras.models import Sequential\n",
        "from keras.layers.recurrent import LSTM"
      ],
      "execution_count": 26,
      "outputs": []
    },
    {
      "cell_type": "code",
      "source": [
        "# Design model architecture\n",
        "#def make_model(metrics=metrics):\n",
        "  #if output_bias is not None:\n",
        "    #output_bias = tf.keras.initializers.Constant(output_bias)\n",
        "#  model = Sequential([\n",
        "#                  Embedding(10000, 16, input_length=maxlen), #Each word is a 16-dim vector\n",
        "#                  Bidirectional(LSTM(20, return_sequences=True)),\n",
        "#                  Bidirectional(LSTM(20)),\n",
        "#                  Dense(6, activation = 'softmax'),\n",
        "#])\n",
        "\n",
        "#  model.compile(\n",
        "#      loss = 'sparse_categorical_crossentropy',\n",
        "#      optimizer='adam',\n",
        "#      metrics=metrics)          \n",
        "  \n",
        "#  return model"
      ],
      "metadata": {
        "id": "tXXR3NHVZTdm"
      },
      "execution_count": null,
      "outputs": []
    },
    {
      "cell_type": "code",
      "source": [
        "# Bidirectinal LSTM architecture\n",
        "model = Sequential([\n",
        "                  Embedding(10000, 16, input_length=maxlen), #Each word is a 16-dim vector\n",
        "                  Bidirectional(LSTM(20, return_sequences=True)),\n",
        "                  Bidirectional(LSTM(20)),\n",
        "                  Dense(6, activation = 'softmax'),\n",
        "])\n",
        "\n",
        "# Model compilation\n",
        "model.compile(\n",
        "      loss = 'sparse_categorical_crossentropy',\n",
        "      optimizer='adam',\n",
        "      metrics=['accuracy'])          "
      ],
      "metadata": {
        "id": "w47ucfbTsx-t"
      },
      "execution_count": 27,
      "outputs": []
    },
    {
      "cell_type": "code",
      "source": [
        "#model = make_model()\n",
        "model.summary()"
      ],
      "metadata": {
        "colab": {
          "base_uri": "https://localhost:8080/"
        },
        "id": "IriyErxngvr2",
        "outputId": "c20e5949-71ca-449d-efb7-2ab5a596ffe2"
      },
      "execution_count": 28,
      "outputs": [
        {
          "output_type": "stream",
          "name": "stdout",
          "text": [
            "Model: \"sequential\"\n",
            "_________________________________________________________________\n",
            " Layer (type)                Output Shape              Param #   \n",
            "=================================================================\n",
            " embedding (Embedding)       (None, 50, 16)            160000    \n",
            "                                                                 \n",
            " bidirectional (Bidirectiona  (None, 50, 40)           5920      \n",
            " l)                                                              \n",
            "                                                                 \n",
            " bidirectional_1 (Bidirectio  (None, 40)               9760      \n",
            " nal)                                                            \n",
            "                                                                 \n",
            " dense (Dense)               (None, 6)                 246       \n",
            "                                                                 \n",
            "=================================================================\n",
            "Total params: 175,926\n",
            "Trainable params: 175,926\n",
            "Non-trainable params: 0\n",
            "_________________________________________________________________\n"
          ]
        }
      ]
    },
    {
      "cell_type": "markdown",
      "metadata": {
        "id": "1HST_CHjxIhR"
      },
      "source": [
        "## Task 8: Training the Model\n",
        "\n",
        "1. Preparing a validation set\n",
        "2. Training the model"
      ]
    },
    {
      "cell_type": "code",
      "source": [
        "#model.load_weights(initial_weights)"
      ],
      "metadata": {
        "id": "Joz_CgnFmphc"
      },
      "execution_count": null,
      "outputs": []
    },
    {
      "cell_type": "code",
      "metadata": {
        "id": "hlMKaZ3H5ejr"
      },
      "source": [
        "from keras.callbacks import EarlyStopping, ModelCheckpoint\n",
        "import os"
      ],
      "execution_count": 29,
      "outputs": []
    },
    {
      "cell_type": "code",
      "source": [
        "# Transform validation data and labels\n",
        "val_tweets, val_labels = get_tweet(val) #Get tweets from val data\n",
        "val_seq = get_sequences(tokenizer, val_tweets) #Use same tokenizer from training set on val set\n",
        "val_labels = names_to_ids(val_labels) #Get numeric values for sentiment classes"
      ],
      "metadata": {
        "id": "4r6nOn5ijCc6"
      },
      "execution_count": 30,
      "outputs": []
    },
    {
      "cell_type": "code",
      "source": [
        "#Preview first validation tweet and its label\n",
        "val_tweets[0], val_labels[0] "
      ],
      "metadata": {
        "colab": {
          "base_uri": "https://localhost:8080/"
        },
        "id": "AWGhg03Qjjci",
        "outputId": "32b0845b-4585-48f4-dff4-ea9f0f2c111b"
      },
      "execution_count": 31,
      "outputs": [
        {
          "output_type": "execute_result",
          "data": {
            "text/plain": [
              "('im feeling quite sad and sorry for myself but ill snap out of it soon', 3)"
            ]
          },
          "metadata": {},
          "execution_count": 31
        }
      ]
    },
    {
      "cell_type": "code",
      "source": [
        "# Prepare to train model over 20 epochs. Employ early stopping to prevent overfitting.\n",
        "EPOCHS = 20\n",
        "early_stopping = EarlyStopping(\n",
        "    monitor='val_accuracy',\n",
        "    patience=2)"
      ],
      "metadata": {
        "id": "UhB2bznXmA8y"
      },
      "execution_count": 32,
      "outputs": []
    },
    {
      "cell_type": "code",
      "source": [
        "h=model.fit(padded_train_seq, train_labels, validation_data = (val_seq, val_labels),epochs=EPOCHS, callbacks=[early_stopping])"
      ],
      "metadata": {
        "colab": {
          "base_uri": "https://localhost:8080/"
        },
        "id": "2r1Gwpm9jvCP",
        "outputId": "74e21a0c-7fe0-49ca-d241-c26ce480ada5"
      },
      "execution_count": 33,
      "outputs": [
        {
          "output_type": "stream",
          "name": "stdout",
          "text": [
            "Epoch 1/20\n",
            "500/500 [==============================] - 171s 320ms/step - loss: 1.2927 - accuracy: 0.4805 - val_loss: 0.7846 - val_accuracy: 0.7165\n",
            "Epoch 2/20\n",
            "500/500 [==============================] - 157s 313ms/step - loss: 0.5834 - accuracy: 0.7720 - val_loss: 0.5532 - val_accuracy: 0.7940\n",
            "Epoch 3/20\n",
            "500/500 [==============================] - 162s 324ms/step - loss: 0.3701 - accuracy: 0.8715 - val_loss: 0.4924 - val_accuracy: 0.8320\n",
            "Epoch 4/20\n",
            "500/500 [==============================] - 157s 314ms/step - loss: 0.2565 - accuracy: 0.9176 - val_loss: 0.4396 - val_accuracy: 0.8635\n",
            "Epoch 5/20\n",
            "500/500 [==============================] - 156s 312ms/step - loss: 0.2076 - accuracy: 0.9333 - val_loss: 0.3904 - val_accuracy: 0.8735\n",
            "Epoch 6/20\n",
            "500/500 [==============================] - 156s 313ms/step - loss: 0.1565 - accuracy: 0.9507 - val_loss: 0.3895 - val_accuracy: 0.8795\n",
            "Epoch 7/20\n",
            "500/500 [==============================] - 154s 308ms/step - loss: 0.1271 - accuracy: 0.9603 - val_loss: 0.4424 - val_accuracy: 0.8695\n",
            "Epoch 8/20\n",
            "500/500 [==============================] - 154s 308ms/step - loss: 0.1071 - accuracy: 0.9679 - val_loss: 0.4040 - val_accuracy: 0.8865\n",
            "Epoch 9/20\n",
            "500/500 [==============================] - 155s 311ms/step - loss: 0.0897 - accuracy: 0.9734 - val_loss: 0.3869 - val_accuracy: 0.8930\n",
            "Epoch 10/20\n",
            "500/500 [==============================] - 154s 308ms/step - loss: 0.0804 - accuracy: 0.9762 - val_loss: 0.4231 - val_accuracy: 0.8945\n",
            "Epoch 11/20\n",
            "500/500 [==============================] - 154s 308ms/step - loss: 0.0753 - accuracy: 0.9766 - val_loss: 0.4647 - val_accuracy: 0.8915\n",
            "Epoch 12/20\n",
            "500/500 [==============================] - 154s 308ms/step - loss: 0.0750 - accuracy: 0.9776 - val_loss: 0.4149 - val_accuracy: 0.8970\n",
            "Epoch 13/20\n",
            "500/500 [==============================] - 154s 307ms/step - loss: 0.0619 - accuracy: 0.9811 - val_loss: 0.4049 - val_accuracy: 0.9035\n",
            "Epoch 14/20\n",
            "500/500 [==============================] - 153s 306ms/step - loss: 0.0478 - accuracy: 0.9850 - val_loss: 0.4028 - val_accuracy: 0.8960\n",
            "Epoch 15/20\n",
            "500/500 [==============================] - 152s 305ms/step - loss: 0.0499 - accuracy: 0.9856 - val_loss: 0.5633 - val_accuracy: 0.8730\n"
          ]
        }
      ]
    },
    {
      "cell_type": "code",
      "metadata": {
        "id": "bzBqnWQ-5ejw"
      },
      "source": [
        "# If deploying Tensorboard\n",
        "#run_name = 'RNN_Baseline'\n",
        "#output_dir = 'model_output/'\n",
        "#output_path = output_dir + run_name\n",
        "\n",
        "#if not os.path.exists(output_path):\n",
        "#  os.makedirs(output_path)"
      ],
      "execution_count": null,
      "outputs": []
    },
    {
      "cell_type": "code",
      "source": [
        "#tensorboard = Tensorboard(log_dir='logs/run-name')"
      ],
      "metadata": {
        "id": "PRpMguIHiInl"
      },
      "execution_count": null,
      "outputs": []
    },
    {
      "cell_type": "markdown",
      "metadata": {
        "id": "EdsJyMTLxIhX"
      },
      "source": [
        "## Task 9: Evaluating the Model\n",
        "\n",
        "1. Visualizing training history\n",
        "2. Prepraring a test set\n",
        "3. A look at individual predictions on the test set\n",
        "4. A look at all predictions on the test set"
      ]
    },
    {
      "cell_type": "markdown",
      "source": [
        "![metris.JPG](data:image/jpeg;base64,/9j/4AAQSkZJRgABAQEAYABgAAD/4RD+RXhpZgAATU0AKgAAAAgABAE7AAIAAAARAAAISodpAAQAAAABAAAIXJydAAEAAAAiAAAQ1OocAAcAAAgMAAAAPgAAAAAc6gAAAAgAAAAAAAAAAAAAAAAAAAAAAAAAAAAAAAAAAAAAAAAAAAAAAAAAAAAAAAAAAAAAAAAAAAAAAAAAAAAAAAAAAAAAAAAAAAAAAAAAAAAAAAAAAAAAAAAAAAAAAAAAAAAAAAAAAAAAAAAAAAAAAAAAAAAAAAAAAAAAAAAAAAAAAAAAAAAAAAAAAAAAAAAAAAAAAAAAAAAAAAAAAAAAAAAAAAAAAAAAAAAAAAAAAAAAAAAAAAAAAAAAAAAAAAAAAAAAAAAAAAAAAAAAAAAAAAAAAAAAAAAAAAAAAAAAAAAAAAAAAAAAAAAAAAAAAAAAAAAAAAAAAAAAAAAAAAAAAAAAAAAAAAAAAAAAAAAAAAAAAAAAAAAAAAAAAAAAAAAAAAAAAAAAAAAAAAAAAAAAAAAAAAAAAAAAAAAAAAAAAAAAAAAAAAAAAAAAAAAAAAAAAAAAAAAAAAAAAAAAAAAAAAAAAAAAAAAAAAAAAAAAAAAAAAAAAAAAAAAAAAAAAAAAAAAAAAAAAAAAAAAAAAAAAAAAAAAAAAAAAAAAAAAAAAAAAAAAAAAAAAAAAAAAAAAAAAAAAAAAAAAAAAAAAAAAAAAAAAAAAAAAAAAAAAAAAAAAAAAAAAAAAAAAAAAAAAAAAAAAAAAAAAAAAAAAAAAAAAAAAAAAAAAAAAAAAAAAAAAAAAAAAAAAAAAAAAAAAAAAAAAAAAAAAAAAAAAAAAAAAAAAAAAAAAAAAAAAAAAAAAAAAAAAAAAAAAAAAAAAAAAAAAAAAAAAAAAAAAAAAAAAAAAAAAAAAAAAAAAAAAAAAAAAAAAAAAAAAAAAAAAAAAAAAAAAAAAAAAAAAAAAAAAAAAAAAAAAAAAAAAAAAAAAAAAAAAAAAAAAAAAAAAAAAAAAAAAAAAAAAAAAAAAAAAAAAAAAAAAAAAAAAAAAAAAAAAAAAAAAAAAAAAAAAAAAAAAAAAAAAAAAAAAAAAAAAAAAAAAAAAAAAAAAAAAAAAAAAAAAAAAAAAAAAAAAAAAAAAAAAAAAAAAAAAAAAAAAAAAAAAAAAAAAAAAAAAAAAAAAAAAAAAAAAAAAAAAAAAAAAAAAAAAAAAAAAAAAAAAAAAAAAAAAAAAAAAAAAAAAAAAAAAAAAAAAAAAAAAAAAAAAAAAAAAAAAAAAAAAAAAAAAAAAAAAAAAAAAAAAAAAAAAAAAAAAAAAAAAAAAAAAAAAAAAAAAAAAAAAAAAAAAAAAAAAAAAAAAAAAAAAAAAAAAAAAAAAAAAAAAAAAAAAAAAAAAAAAAAAAAAAAAAAAAAAAAAAAAAAAAAAAAAAAAAAAAAAAAAAAAAAAAAAAAAAAAAAAAAAAAAAAAAAAAAAAAAAAAAAAAAAAAAAAAAAAAAAAAAAAAAAAAAAAAAAAAAAAAAAAAAAAAAAAAAAAAAAAAAAAAAAAAAAAAAAAAAAAAAAAAAAAAAAAAAAAAAAAAAAAAAAAAAAAAAAAAAAAAAAAAAAAAAAAAAAAAAAAAAAAAAAAAAAAAAAAAAAAAAAAAAAAAAAAAAAAAAAAAAAAAAAAAAAAAAAAAAAAAAAAAAAAAAAAAAAAAAAAAAAAAAAAAAAAAAAAAAAAAAAAAAAAAAAAAAAAAAAAAAAAAAAAAAAAAAAAAAAAAAAAAAAAAAAAAAAAAAAAAAAAAAAAAAAAAAAAAAAAAAAAAAAAAAAAAAAAAAAAAAAAAAAAAAAAAAAAAAAAAAAAAAAAAAAAAAAAAAAAAAAAAAAAAAAAAAAAAAAAAAAAAAAAAAAAAAAAAAAAAAAAAAAAAAAAAAAAAAAAAAAAAAAAAAAAAAAAAAAAAAAAAAAAAAAAAAAAAAAAAAAAAAAAAAAAAAAAAAAAAAAAAAAAAAAAAAAAAAAAAAAAAAAAAAAAAAAAAAAAAAAAAAAAAAAAAAAAAAAAAAAAAAAAAAAAAAAAAAAAAAAAAAAAAAAAAAAAAAAAAAAAAAAAAAAAAAAAAAAAAAAAAAAAAAAAAAAAAAAAAAAAAAAAAAAAAAAAAAAAAAAAAAAAAAAAAAAAAAAAAAAAAAAAAAAAAAAAAAAAAAAAAAAAAAAAAAAAAAAAAAAAAAAAAAAAAAAAAAAAAAAAAAAAAAAAAAAAAAAAAAAAAAAAAAAAAAAAAAAAAAAAAAAAAAAAAAAAAAAAAAAAAAAAAAAAAAAAAAAAAAAAAAAAAAAAAAAAAAAAAAAAAAAAAAAAAAAAAAAAAAAAAAAAAAAAAAAAAAAAAAAAAAAAAAAAAAAAAAAAAAAAAAAAAAAAAAAAAAAAAAAAAAAAAAAAAAAAAAAAAAAAAAAAAAAAAAAAAAAAAAAAAAAAAAAAAAAAAAAAAAAAAAAAAAAAAAAAAAAAAAAAAAAAAAAAAAAAAAAAAAAAAAAAAAAAAAAAAAAAAAAAAAAAAAAAAAAAAAAAAAAAAAAAAAAAAAAAAAAAAAAAAAAAAAAAAAAAAAAAAAAAAAAAAAAAAAAAAAAAAAAAAAAAAAAAAAAAAAAAAAAAAAAAAAAAAAAAAAAAAAAAAAAAAAAAAAAAAAAAAAAAAAAAAAAAAAAAAAAAAAAAAAAAAAAAAAAAAAAAAAAAAAAAAAAAAAAAAAAAAAAAAAAAAAAAAAAAAAAAAAAAAAAAAAAAAAAAAAAAAAAAAAAAAAAAAAAAAAAAAAAAAAAAAAAAAAAAAAAAAAAAAAAAAAAAAAAAAAAAAAAAAAAAAAAAAAAAAAAAAAAAAAAAAAAAAAAAAAAAAAAAAExlb25kcmEgR29uemFsZXoAAAAFkAMAAgAAABQAABCqkAQAAgAAABQAABC+kpEAAgAAAAM4NQAAkpIAAgAAAAM4NQAA6hwABwAACAwAAAieAAAAABzqAAAACAAAAAAAAAAAAAAAAAAAAAAAAAAAAAAAAAAAAAAAAAAAAAAAAAAAAAAAAAAAAAAAAAAAAAAAAAAAAAAAAAAAAAAAAAAAAAAAAAAAAAAAAAAAAAAAAAAAAAAAAAAAAAAAAAAAAAAAAAAAAAAAAAAAAAAAAAAAAAAAAAAAAAAAAAAAAAAAAAAAAAAAAAAAAAAAAAAAAAAAAAAAAAAAAAAAAAAAAAAAAAAAAAAAAAAAAAAAAAAAAAAAAAAAAAAAAAAAAAAAAAAAAAAAAAAAAAAAAAAAAAAAAAAAAAAAAAAAAAAAAAAAAAAAAAAAAAAAAAAAAAAAAAAAAAAAAAAAAAAAAAAAAAAAAAAAAAAAAAAAAAAAAAAAAAAAAAAAAAAAAAAAAAAAAAAAAAAAAAAAAAAAAAAAAAAAAAAAAAAAAAAAAAAAAAAAAAAAAAAAAAAAAAAAAAAAAAAAAAAAAAAAAAAAAAAAAAAAAAAAAAAAAAAAAAAAAAAAAAAAAAAAAAAAAAAAAAAAAAAAAAAAAAAAAAAAAAAAAAAAAAAAAAAAAAAAAAAAAAAAAAAAAAAAAAAAAAAAAAAAAAAAAAAAAAAAAAAAAAAAAAAAAAAAAAAAAAAAAAAAAAAAAAAAAAAAAAAAAAAAAAAAAAAAAAAAAAAAAAAAAAAAAAAAAAAAAAAAAAAAAAAAAAAAAAAAAAAAAAAAAAAAAAAAAAAAAAAAAAAAAAAAAAAAAAAAAAAAAAAAAAAAAAAAAAAAAAAAAAAAAAAAAAAAAAAAAAAAAAAAAAAAAAAAAAAAAAAAAAAAAAAAAAAAAAAAAAAAAAAAAAAAAAAAAAAAAAAAAAAAAAAAAAAAAAAAAAAAAAAAAAAAAAAAAAAAAAAAAAAAAAAAAAAAAAAAAAAAAAAAAAAAAAAAAAAAAAAAAAAAAAAAAAAAAAAAAAAAAAAAAAAAAAAAAAAAAAAAAAAAAAAAAAAAAAAAAAAAAAAAAAAAAAAAAAAAAAAAAAAAAAAAAAAAAAAAAAAAAAAAAAAAAAAAAAAAAAAAAAAAAAAAAAAAAAAAAAAAAAAAAAAAAAAAAAAAAAAAAAAAAAAAAAAAAAAAAAAAAAAAAAAAAAAAAAAAAAAAAAAAAAAAAAAAAAAAAAAAAAAAAAAAAAAAAAAAAAAAAAAAAAAAAAAAAAAAAAAAAAAAAAAAAAAAAAAAAAAAAAAAAAAAAAAAAAAAAAAAAAAAAAAAAAAAAAAAAAAAAAAAAAAAAAAAAAAAAAAAAAAAAAAAAAAAAAAAAAAAAAAAAAAAAAAAAAAAAAAAAAAAAAAAAAAAAAAAAAAAAAAAAAAAAAAAAAAAAAAAAAAAAAAAAAAAAAAAAAAAAAAAAAAAAAAAAAAAAAAAAAAAAAAAAAAAAAAAAAAAAAAAAAAAAAAAAAAAAAAAAAAAAAAAAAAAAAAAAAAAAAAAAAAAAAAAAAAAAAAAAAAAAAAAAAAAAAAAAAAAAAAAAAAAAAAAAAAAAAAAAAAAAAAAAAAAAAAAAAAAAAAAAAAAAAAAAAAAAAAAAAAAAAAAAAAAAAAAAAAAAAAAAAAAAAAAAAAAAAAAAAAAAAAAAAAAAAAAAAAAAAAAAAAAAAAAAAAAAAAAAAAAAAAAAAAAAAAAAAAAAAAAAAAAAAAAAAAAAAAAAAAAAAAAAAAAAAAAAAAAAAAAAAAAAAAAAAAAAAAAAAAAAAAAAAAAAAAAAAAAAAAAAAAAAAAAAAAAAAAAAAAAAAAAAAAAAAAAAAAAAAAAAAAAAAAAAAAAAAAAAAAAAAAAAAAAAAAAAAAAAAAAAAAAAAAAAAAAAAAAAAAAAAAAAAAAAAAAAAAAAAAAAAAAAAAAAAAAAAAAAAAAAAAAAAAAAAAAAAAAAAAAAAAAAAAAAAAAAAAAAAAAAAAAAAAAAAAAAAAAAAAAAAAAAAAAAAAAAAAAAAAAAAAAAAAAAAAAAAAAAAAAAAAAAAAAAAAAAAAAAAAAAAAAAAAAAAAAAAAAAAAAAAAAAAAAAAAAAAAAAAAAAAAAAAAAAAAAAAAAAAAAAAAAAAAAAAAAAAAAAAAAAAAAAAAAAAAAAAAAAAAAAAAAAAAAAAAAAAAAAAAAAAAAAAAAAAAAAAAAAAAAAAAAAAAAAAAAAAAAAAAAAAAAAAAAAAAAAAAAAAAAAAAAAAAAAAAAAAAAAAAAAAAAAAAAAAAAAAAAAAAAAAAAAAAAAAAAAAAAAAAAAAAAAAAAAAAAAAAAAAAAAAAAAAAAAAAAAAAAAAAAAAAAAAAAAAAAAAAAAAAAAAAAAAAAAAAAAAAAAAAAAAAAAAAAAAAAAAAAAAAAAAAAAAAAAAAAAAAAAAAAAAAAAAAAAAAAAAAAAAAAAAAAAAAAAAAAAAAAAAAAAAAAAAAAAAAAAAAAAAAAAAAAAAAAAAAAAAAAAAAAAAAAAAAAAAAAAAAAAAAAAAAAAAAAAAAAAAAAAAAAAAAAAAAAAAAAAAAAAAAAAAAAAAAAAAAAAAAAAAAAAAAAAAAAAAAAAAAAAAAAAAAAAAAAAAAAAAAAAAAAAAAAAAAAAAAAAAAAAAAAAAAAAAAAAAAAAAAAAAAAAAAAAAAAAAAAAAAAAAAAAAAAAAAAAAAAAAAAAAAAAAAAAAAAAAAAAAAAAAAAAAAAAAAAAAAAAAAAAAAAAAAAAAAAAAAAAAAAAAAAAAAAAAAAAAAAAAAAAAAAAAAAAAAAAAAAAAAAAAAAAAAAAAAAAAAAAAAAAAAAMjAyMjowNjoyOCAxNTo1MTowMgAyMDIyOjA2OjI4IDE1OjUxOjAyAAAATABlAG8AbgBkAHIAYQAgAEcAbwBuAHoAYQBsAGUAegAAAP/hCyNodHRwOi8vbnMuYWRvYmUuY29tL3hhcC8xLjAvADw/eHBhY2tldCBiZWdpbj0n77u/JyBpZD0nVzVNME1wQ2VoaUh6cmVTek5UY3prYzlkJz8+DQo8eDp4bXBtZXRhIHhtbG5zOng9ImFkb2JlOm5zOm1ldGEvIj48cmRmOlJERiB4bWxuczpyZGY9Imh0dHA6Ly93d3cudzMub3JnLzE5OTkvMDIvMjItcmRmLXN5bnRheC1ucyMiPjxyZGY6RGVzY3JpcHRpb24gcmRmOmFib3V0PSJ1dWlkOmZhZjViZGQ1LWJhM2QtMTFkYS1hZDMxLWQzM2Q3NTE4MmYxYiIgeG1sbnM6ZGM9Imh0dHA6Ly9wdXJsLm9yZy9kYy9lbGVtZW50cy8xLjEvIi8+PHJkZjpEZXNjcmlwdGlvbiByZGY6YWJvdXQ9InV1aWQ6ZmFmNWJkZDUtYmEzZC0xMWRhLWFkMzEtZDMzZDc1MTgyZjFiIiB4bWxuczp4bXA9Imh0dHA6Ly9ucy5hZG9iZS5jb20veGFwLzEuMC8iPjx4bXA6Q3JlYXRlRGF0ZT4yMDIyLTA2LTI4VDE1OjUxOjAyLjg0NjwveG1wOkNyZWF0ZURhdGU+PC9yZGY6RGVzY3JpcHRpb24+PHJkZjpEZXNjcmlwdGlvbiByZGY6YWJvdXQ9InV1aWQ6ZmFmNWJkZDUtYmEzZC0xMWRhLWFkMzEtZDMzZDc1MTgyZjFiIiB4bWxuczpkYz0iaHR0cDovL3B1cmwub3JnL2RjL2VsZW1lbnRzLzEuMS8iPjxkYzpjcmVhdG9yPjxyZGY6U2VxIHhtbG5zOnJkZj0iaHR0cDovL3d3dy53My5vcmcvMTk5OS8wMi8yMi1yZGYtc3ludGF4LW5zIyI+PHJkZjpsaT5MZW9uZHJhIEdvbnphbGV6PC9yZGY6bGk+PC9yZGY6U2VxPg0KCQkJPC9kYzpjcmVhdG9yPjwvcmRmOkRlc2NyaXB0aW9uPjwvcmRmOlJERj48L3g6eG1wbWV0YT4NCiAgICAgICAgICAgICAgICAgICAgICAgICAgICAgICAgICAgICAgICAgICAgICAgICAgICAgICAgICAgICAgICAgICAgICAgICAgICAgICAgICAgICAgICAgICAgICAgICAgICAKICAgICAgICAgICAgICAgICAgICAgICAgICAgICAgICAgICAgICAgICAgICAgICAgICAgICAgICAgICAgICAgICAgICAgICAgICAgICAgICAgICAgICAgICAgICAgICAgICAgIAogICAgICAgICAgICAgICAgICAgICAgICAgICAgICAgICAgICAgICAgICAgICAgICAgICAgICAgICAgICAgICAgICAgICAgICAgICAgICAgICAgICAgICAgICAgICAgICAgICAgCiAgICAgICAgICAgICAgICAgICAgICAgICAgICAgICAgICAgICAgICAgICAgICAgICAgICAgICAgICAgICAgICAgICAgICAgICAgICAgICAgICAgICAgICAgICAgICAgICAgICAKICAgICAgICAgICAgICAgICAgICAgICAgICAgICAgICAgICAgICAgICAgICAgICAgICAgICAgICAgICAgICAgICAgICAgICAgICAgICAgICAgICAgICAgICAgICAgICAgICAgIAogICAgICAgICAgICAgICAgICAgICAgICAgICAgICAgICAgICAgICAgICAgICAgICAgICAgICAgICAgICAgICAgICAgICAgICAgICAgICAgICAgICAgICAgICAgICAgICAgICAgCiAgICAgICAgICAgICAgICAgICAgICAgICAgICAgICAgICAgICAgICAgICAgICAgICAgICAgICAgICAgICAgICAgICAgICAgICAgICAgICAgICAgICAgICAgICAgICAgICAgICAKICAgICAgICAgICAgICAgICAgICAgICAgICAgICAgICAgICAgICAgICAgICAgICAgICAgICAgICAgICAgICAgICAgICAgICAgICAgICAgICAgICAgICAgICAgICAgICAgICAgIAogICAgICAgICAgICAgICAgICAgICAgICAgICAgICAgICAgICAgICAgICAgICAgICAgICAgICAgICAgICAgICAgICAgICAgICAgICAgICAgICAgICAgICAgICAgICAgICAgICAgCiAgICAgICAgICAgICAgICAgICAgICAgICAgICAgICAgICAgICAgICAgICAgICAgICAgICAgICAgICAgICAgICAgICAgICAgICAgICAgICAgICAgICAgICAgICAgICAgICAgICAKICAgICAgICAgICAgICAgICAgICAgICAgICAgICAgICAgICAgICAgICAgICAgICAgICAgICAgICAgICAgICAgICAgICAgICAgICAgICAgICAgICAgICAgICAgICAgICAgICAgIAogICAgICAgICAgICAgICAgICAgICAgICAgICAgICAgICAgICAgICAgICAgICAgICAgICAgICAgICAgICAgICAgICAgICAgICAgICAgICAgICAgICAgICAgICAgICAgICAgICAgCiAgICAgICAgICAgICAgICAgICAgICAgICAgICAgICAgICAgICAgICAgICAgICAgICAgICAgICAgICAgICAgICAgICAgICAgICAgICAgICAgICAgICAgICAgICAgICAgICAgICAKICAgICAgICAgICAgICAgICAgICAgICAgICAgICAgICAgICAgICAgICAgICAgICAgICAgICAgICAgICAgICAgICAgICAgICAgICAgICAgICAgICAgICAgICAgICAgICAgICAgIAogICAgICAgICAgICAgICAgICAgICAgICAgICAgICAgICAgICAgICAgICAgICAgICAgICAgICAgICAgICAgICAgICAgICAgICAgICAgICAgICAgICAgICAgICAgICAgICAgICAgCiAgICAgICAgICAgICAgICAgICAgICAgICAgICAgICAgICAgICAgICAgICAgICAgICAgICAgICAgICAgICAgICAgICAgICAgICAgICAgICAgICAgICAgICAgICAgICAgICAgICAKICAgICAgICAgICAgICAgICAgICAgICAgICAgICAgICAgICAgICAgICAgICAgICAgICAgICAgICAgICAgICAgICAgICAgICAgICAgICAgICAgICAgICAgICAgICAgICAgICAgIAogICAgICAgICAgICAgICAgICAgICAgICAgICAgICAgICAgICAgICAgICAgICAgICAgICAgICAgICAgICAgICAgICAgICAgICAgICAgICAgICAgICAgICAgICAgICAgICAgICAgCiAgICAgICAgICAgICAgICAgICAgICAgICAgICAgICAgICAgICAgICAgICAgICAgICAgICAgICAgICAgICAgICAgICAgICAgICAgICAgICAgICAgICAgICAgICAgICAgICAgICAKICAgICAgICAgICAgICAgICAgICAgICAgICAgICAgICAgICAgICAgICAgICAgICAgICAgICAgICAgICAgICAgICAgICAgICAgICAgICAgICAgICAgICAgICAgICAgICAgICAgIAogICAgICAgICAgICAgICAgICAgICAgICAgICAgPD94cGFja2V0IGVuZD0ndyc/Pv/bAEMABwUFBgUEBwYFBggHBwgKEQsKCQkKFQ8QDBEYFRoZGBUYFxseJyEbHSUdFxgiLiIlKCkrLCsaIC8zLyoyJyorKv/bAEMBBwgICgkKFAsLFCocGBwqKioqKioqKioqKioqKioqKioqKioqKioqKioqKioqKioqKioqKioqKioqKioqKioqKv/AABEIAVQDWwMBIgACEQEDEQH/xAAfAAABBQEBAQEBAQAAAAAAAAAAAQIDBAUGBwgJCgv/xAC1EAACAQMDAgQDBQUEBAAAAX0BAgMABBEFEiExQQYTUWEHInEUMoGRoQgjQrHBFVLR8CQzYnKCCQoWFxgZGiUmJygpKjQ1Njc4OTpDREVGR0hJSlNUVVZXWFlaY2RlZmdoaWpzdHV2d3h5eoOEhYaHiImKkpOUlZaXmJmaoqOkpaanqKmqsrO0tba3uLm6wsPExcbHyMnK0tPU1dbX2Nna4eLj5OXm5+jp6vHy8/T19vf4+fr/xAAfAQADAQEBAQEBAQEBAAAAAAAAAQIDBAUGBwgJCgv/xAC1EQACAQIEBAMEBwUEBAABAncAAQIDEQQFITEGEkFRB2FxEyIygQgUQpGhscEJIzNS8BVictEKFiQ04SXxFxgZGiYnKCkqNTY3ODk6Q0RFRkdISUpTVFVWV1hZWmNkZWZnaGlqc3R1dnd4eXqCg4SFhoeIiYqSk5SVlpeYmZqio6Slpqeoqaqys7S1tre4ubrCw8TFxsfIycrS09TV1tfY2dri4+Tl5ufo6ery8/T19vf4+fr/2gAMAwEAAhEDEQA/APpGiiigAooooAKKKKACiiigAooooAKKKKACiiigAooooAKKKKACiiigAooooAKKKKACiiigAooooAKKKKACiiigAooooAKKKKACiiigAooooAKKKKACiiigAooooAKKKKACiiigAooooAKKKKACiiigAooooAKKKKACiiigAooooAKKKKACiiigAooooAKKKKACiiigAooooAKKKKACiiigAooooAKKKKACiiigAooooAKKKKACiiigAooooAKKKKACiiigAooooAKKKKACiiigAooooAKKKKACiiigAorzz4uaR441bTtNXwBdywNHMxukguRA7DjadxI+UfNkZ5yODXcaTHew6LZR6rKs18lvGtzIgwryBRuI9ic0AUPFvimz8G+H5NY1KG5ngjdIzHbIrOSzBRgEgdT61V8PeMW8Qag9q3hrX9KCxmTz9Ss1ijbBA2ghzzznHsa5/wCOS7/hfcKGK5u7YZHUfvVqPxbpyeEPh/q93qviXxLqMEyRxcXMSyIS4HyP5YCg5wSc8ULZt97fgv8AMf2kl/WrO513WLfw9oF7q96kr29lC00ixAFyAOcAkDP41Npl/Fquk2moW6usV1CkyK4AYKwBGcZ55r57gmhtofHWm6THa2enHw755s7HUvtsKy5A3b8DDEHkD8zV7xDBaXMWkS3k9lqaWfhmB20i9vZLN4flz58EhGxn4x3IxT2V/wCvtf5EJ3dl/Xw/5nv9FfPXiHUU1nWvDdtqdtJf6DNoKz2cGs6ubLfKWwXeXGHkUY/MH6+q/DY3/wDwrOxXVb2G/njSRBcw3AnV0DMF+cfewMDPtRJWi32/4K/Qad2vP/hzsKK8m8M6LYWHhTwJq9pD5eoy3EMct0GJkkjdHzGT3TphegwMVW0621LUF/tZoNGt9Wj1krJqtxqrpcIRPt+zmPycBSnyCPdggg9TRbW3nb8v8wen9ev+R7FRXkGtWej3XhHxbqmstEdcivp4POll2ywqHxDEvOQrJtO0cNuOQc1Z8dNZ3s/iSVLS0nutMtFU3ep6gYPsLmPcjWyiNiDkg7srluM8cS3aN2UleXL/AFvY9NbULZdUTTmlxdyQtOse08opCk5xjqw4680tjdi+s0uFhnhDEjZcRGNxgkcqeR0/KuItNN0y5+Imh6jeWdo+oT6G05uHiXzHlDQgPnGdwBIz2BrD0q9Twx4N8PeKmUmKBLuzuQv8SPI7R/U+YiqP981bXKtfP82v0IUuZ2Xr+Cf6nrdFeT3Wj3lpfeG9BvrDT9TiksJ7ma11C7MENxeM6tIxxG+9hvYhSO5PapF0uW60jRNNvbzR9QeO6uzBpVxeSTWtzGGIEZm2cvEDgBlPQ8cZCt/XzsV/X4XPVKK5vwLc2k3hUCwhmt4re4mhMMk3nCNkkIZUf+JAQQvtgYGMVwdjNbHWPDGr6VbWtv8A2hqZBvptR36heRssm5JYxGBtzjjeduFGB2PtJen4h0b7X/A9gqG7uUs7Ke6lDFIY2kYL1IAycflXlKaLYf8ACI6vrYh/4mdt4gneC73HfDi8xhD/AAgjOQODk5rR1a00jUdR8a3HiZojdaegWzaeXY1tAbdSHjOfl3SFwWGCSMdsVEn7l12v+C/zKS9+3nb8TvE1i0bw6utSM0NmbUXbM45SPZv5AzyB6Zql4U8U2/i/SDqVjY39pbF9sTXsIjMy4BDpgnKnPBrC1iwtdR+BDw3sKzRroSyqrdA6QBlP4EA/hXnyw+H9M+GPgnT7izkYav8A6TLbfbhZ2l1IIxua4kIJx0wB1NaSSU5Lzsvvf+X9dM6bcqcZPqm/uS/zPYPE3imy8KWtlPqMVxIt7ex2UYgVSQ75wTkjjjnv7VtV832t28/w9tIBKrW1n45ihtY0uPPSGLGQiSEDcoycHvWh4lk0+z8XazrN5crq3larHGLi1vnttS005A8pInXEic8bfvDPPHAldpd/8o/5lS0V/wCt5f5H0BRXzl4rluNT8a+KhqgtYtTs5lGl3l7rf2I2MYGUeKMjD56nnqfevWvGTyP8J5H1WVVkaC2NzLHJhQd6bmDDoOpyKlax5v61/rUHpK39f12OzorzLVoYfD/iC/TwJGkU8vh+6uZ4LU5QyqU8iQgZ+c5fB6tjvipbW00XS9R8I3XhV0NzqLn7VLA+9ry38lmeSU8lyHCHceQTjvin0v8A1u1+gPT+vJP9T0is4a7ZiO1a4E9q13dNawpPAys8g3dscAhGIJ4Ix6ivPPD0Njpms6JeSJa37ajdyx2+t2Vyy3N0xV2K3MTKCVABB+Y7So4XtUttI0rUPD3hh9VsLS5H/CTXkJa4iVvkaW5O3kdCwXj1AoS29UhvRP8Aro/8j1e3vFubi5iEM8Zt5AhaWIqr5UNlCfvDnGR3BHarFeY3EDJN4u1SBczaPrkN+gUZJVLaHzFH1jLj8aq6rLc3WgJrESwyWviHXV84XFyYI5LRVZIUaQKxVHKIenPmY70dF52/G3+b+4X/AAfwv/kvvPWKK8sk0uW10fWtPnu9I0KzmurQQ2FpevPBDIW+aJ8RoYo5cKMAY5J789F4GFpZ6lrOlwaZFpdxbNC89rZXHm2i71ODH8q7CdvzLtHY85zRb+vu/wAxHY0V5N49ktLpvFN1DaWs13pcIX7bqWoGF7KTyg6fZUEbEHkHOV3NxnA42rHTbfVPiHfX95At1d2uj2E1v5hOFlLTndjpuyOD1GTjqaS2uNq39en+Z39FeQeErW/uofDuteRo9rqE10De6i2qubq7JB82B4zEMkc4j3EIVGOldd45sY9T1HRrRpLG5ffK66VqTMtve4UZywVhuTOQCG6k44yG1YOp2NFeXpd6VfeG9G0uLTpJlk1G5gj028v8WjPFv3I8u1t8Q52KFOcDjjilpkMd/osOnzi3+xxeLBDHBZXTSwxJ5e4xo+FJUEkYwB1GMUWu7en4tL9RN2V/X8E3+h67RXmaeEdCk8QeLNOfTojY2ttBNbWvPlW8jxvueNOiMdqnIAPFQaHb6X4j1DQv+EpEN60/hW3mMd2+VkbdlnKk4YjOcnkZzSWv9eTf6Deiv/W6/wAz0O81m3stZ07TJUlM2o+Z5TKBtXy13Hdznp0wDWhXlfh2eSW88GlJXuIY7jVI7OSRixeBdyxHceo2hcHuMVT8MWuo3kOiayYNGtdSkvx9s1J9Wf7TcEsRLbtH5IycZAj3YUqMdM1Vtbf1v/VybuzfY9gqteahbWDW4u5fLNzMIIvlJ3OQSBwOOh5PFeZ2cNhp+t2uqzpbamt1rLRRaxa3DR3yyPIyiCWNl+aNfukBsBRnaMZro/iBpOlajL4ffVrG0uQNVii3XESthWDZXkdCQvHfAqVrbzaX5f5lPS/km/z/AMjorDWbfUdS1KygSVZNNmWGYuAFYsiuNuDyMMOuOa0K8uvfD+mand/EC5vbZZZbVla2Ysf3DLaIQ6f3Wzj5hzwKm1mSz1i8tbe+srTVLmDRormVdYvvs9rCr5/eriNyZMqctj5RjBGaV9L+n4pv9B2/r5r/ADPQpdRtYNStrCWXbdXSPJDHtJ3Km3cc4wMbl6+tWa8o8O2Nhql/8PtR1e2tru9l0qZjczoru7x+UYzuIySPmIPXqfWup8eXcegrpfieUHy9LuGWcqMnypUKEf8Affln8KqWn9edhLVaHXUV5Ro1ld2+sab4S1KRppZLyPXp93TbsLuB7C5AP0YVU0621LUF/tZoNGt9Wj1krJqtxqrpcIRPt+zmPycBSnyCPdggg9TTtrb+un63XyFfS6/rf9NfmexUV5bd2IsfCvjLXdMj26ut7dRLdF23Qxb137TzsAGW4HUZ5rS8JaZLp/iyGSztdF0uynsGMlpp+qNcNdHcuyfaYkyRlgX5J3DPapjrb0v+FxvS/rb7nY6/+1n/AOEl/sn+zb3Z9m+0fbvLH2fO7Hl7s/f74x0rRrxr4g/8lM1v/sSrn/0NqyvD+lw6Brnw2v8ARVljvdX02YXjNO7/AGjbACqkMSAAegGAMD0FNaq/9fa/yKas9P60T/U96orwvwEnhqaDQdav9duYPGl1fyJdLHO7zXD7mBhli52x4A5wAMDmsOKez/4RmHxANQk/4WK2teS0f2tjOT520xGLd/q9nbGO1NR9639dP8yG7Jv+uv8AkfSFFeKaP4fsb/XPiLrN2JZLrT7q5FqPOYRxF4GVm2A4JIOMnPQVzs+lpofwd8M39mszx63cW0esSS3zxLJCu/ZEz8iKPnGQOOKlaq/+H/yYp7/f+B9G1S1jV7HQdIuNT1af7PZ2y7pZdjNtGcdFBJ69hXgby32l+D9bt7C5tbLw7Lqlkslvp2r/AGz7BA5ImHmDlVYhfzNaninQ/BcXgLxfa+Eb9r6C0hgufsUcrT29pLnAkjc5G4gtkbj9BSlom/62T/UI6tL+t7HrEni/To/FGlaGqXEk+q2z3VvKqDy9ijPzZIIJHtW7XiiaXo2oeNvBOl6eIH0y58P3cJEDhk+ZCHwRnnJb8ah+GcF9rnjbT9N1eNtvgW2mtSzDh5mkZEI9hGox9K05Ve3r+Da/RfeZqTs2/L8Un+r9D3Gs+81m3stZ07TJUlM2o+Z5TKBtXy13Hdznp0wDXPa/a2eq+P8AT9M8QRxT6Y2nyyw21xzFNOHQHKnhiqHIB6ZJrNiGnQeIvCCaPezXljFJqKxSSMXKgIfkUkfMqnKg88AcmoW135/hcqTs7Ly/E9Dorx/S57f+3PCWqaVa2tsNTvWzeSaj5l/extFISJkEYGMgHG87SFAA7W7OGw0/W7XVZ0ttTW61lootYtbho75ZHkZRBLGy/NGv3SA2AoztGM00ru3y/L/MctL/ANd/8j1WsjUPElrpmm3F5cW17iG5FqkQtzvnkYhVEYOAwJYANnHXniuBkhsLLXJNZuUttUR9bES6nb3DRX9tIZQggKMvzRqflKhgCvO09ajutK0/U9PvhqNlb3YXxkEAniD4VpIgw57EcH1pRXM15/5xX6im+X8fyk/0PTdLv5NRshPNp93p77ipguwgce/yMwx9DVyvKNekn0yLxwulBLeNbzToX2yGFYoDHEr/ADqCUUISNwHyjntTbu0v9C03X5NNi0vRLV9MRns9J1Bp2T95g3AXy02/uy+WHJKg9qe+q/rS49Uj0ubVoINdtdKdJDPdQSzowA2hYygIJznPzjHHrV6uA0/TPD+l/EvRovDiW0SyaTcyPHbyZDKXh2yEA9Tz83Vsck4rv6LaL+urAKKKKQBRRRQAUUUUAFFFFABRRRQAUUUUAFFFFABRRRQAUUUUAFFFFABRRRQAUUUUAFFFFABRRRQAUUUUAFFFFABRRRQAUUUUAV77T7LU7U22pWkF5AWDGK4iEikg5BwRjINSXFvBd20lvdQxzQSKVeKRQysPQg8EVJRQBlReFvD8MbpDoWmxpJD9ndUs4wGiznyyMcrnnHSpLvw7ot/DbxX2j2FzHagC3Sa1RxCB0Cgj5eg6Vo0UAU9Q0bTNWtUttV060vYEOViuYFkVT6gMCBVmKCKC3WCCJI4UXasaKAqj0AHQU+igCsmm2MVtb28dlbpDakNBEsShYiOhUYwuMnpUTaJpT6suqPplm2oKMC7NuplA9N+M/rV6igDkNb8CnXdXknu7uz+zzECQ/wBmp9r8vjMS3AIIQ4x90nBPNdBdaFpN/eJd32l2VzcxoY0mmt0d1U9VDEZA5PHvV+ijpYOtyo+k6dI1o0lhasbH/j1LQqfs/GPk4+XjjjFKNLsBYrZCxthaKwZbcQr5YIbcDtxjO7n681aooAq6hplhq9qbbVbG2vrckMYrmFZEyO+GBFR3OiaVeaamn3mmWdxZJjZbS26tGuOmFIwMVeooAjt7eG0t0t7WGOCGNdqRxqFVR6ADgCqSeHdFiu3uotHsEuJJRM8y2qB2kHIcnGSwz161o0Udbh0sVv7MsPsslt9it/IkkMrxeUu13LbixGMEluc+vNR3ui6VqNzFc6hplndzwgiKWe3V2QHqASMj8Ku0UAQmztmsTZNbxG1MflGAoPLKYxt29MY4x0xVafQdHudMi0650qxmsYceVayWyNEmOmEIwMewq/RQGxmjw3oYjMY0bT9huBdFfsqYMw6SYx9//a60+bQtIuNUTUp9Kspb+PGy6e3QyrjphyMj86v0UAUL3QtI1K6iudR0uyu7iD/VSz26O8f+6SMj8KZr+kf27ok2n+d5Hmsh37N2NrhumR124rSooAp6fpGm6T5v9l6fa2Xntvl+zQLH5jerbQMn3NJZ6LpenXc91p+m2drcXBzNNBAqPKf9ogZP41dooAowaHpNrqUuo22mWcN9N/rLqO3RZX+rgZNEuiaVPpzafPplnJZM5drZ7dTGWLbixUjGSxJz6nNXqKAII7G0iM5itYUNy26fbGB5p2hct/eOABz2AFBsLQ6f9hNrAbPy/K+zmMeXsxjbt6Yxxip6KAKNvomlWemvp1pplnBYuCHtYrdVibPXKAYOak0/S7DSLX7NpVjbWMGS3lW0Kxrn1woAq1RQBQu9B0i/vBd3+lWNzciMxCaa2R32EYK7iM4IJ496sQ2VrbzNLb20MUjRrEXSMKSi52rkdhk4HbJqeigCjHomlQ6q+pw6ZZx38gw92tuolYe74yfzqTUNMsNXtTbarY219bkhjFcwrImR3wwIq1RQBRuNE0q701NOutMs57GPGy1kt0aJcdMIRgYp0Wj6bAAINOtIwJRMAkCj94FCh+B94KAM9cDFXKKAIRZ2ommmFtCJbhQsz+WN0gGQAx7gZPX1rFn8G6Td6qs93ZWc9ilklpHp8tqjRIFcspAPAxnAGOK6CijrcOliD7DaeZbv9lh32oKwN5YzCCMEL/d4447VAmiaVHqzaommWa6gww12LdRKR6F8Z/Wr1FAFFdE0lNWbVE0yzXUGGGuxboJSOn38Z/Wpr6ws9Ts3tNStILy2fG+G4jEiNg5GVPBqxRQBXGn2SrcBbOAC6/4+AIl/ffLt+bj5vlAHPYYqG50TSr17Z7zTLO4a0/492lt0Yw/7mR8vQdKvUUAUW0TSmt7WBtMszDZuJLaM267YGHRkGMKR6irNzbQXlu0F3BHPC2N0cqBlODkZB46ipaKAIjbQG7F0YIzcKhjE2wbwpOSueuMgHHtVZtE0p9WXVH0yzbUFGBdm3Uygem/Gf1q9RQBFDbQW6yCCGOISOXcIgG5j1Y46k+tV9P0XStIaU6VplnYmZt0ptrdY/MPq20DJ+tXaKAKdxo+mXd09zd6daTzyQG3eWWBWZoj1jJIyVP8Ad6Ui6LpaNZsmm2atYKVtCIFBtgRgiPj5BjjjFXaKAKUWi6VBqkmpQaZZx38gw90luolce7gZP50g0TShqx1QaZZjUCMG7+zp52MYxvxn9avUUAVI9K06H7V5Nhax/bWLXW2FR55IwS/HzHHHNKul6emljTUsbZbEJsFqIVEQX+7sxjHtirVFAFK00XS7DT3sLHTbO2s3zut4YFSNs9cqBg5pLTRNKsNPksLHTLO2s5M77eG3VI2z1yoGDmr1FAGbF4e0m0WFtO0yxs5raN47WWK1QG3DZztwOASckDrWf4Q8KHwxbXr3eoPqepajcG4vL14hH5rYAACDhQAOB9a6KigCrqOl6fq9t9m1axtr6DcG8q5hWRcjvhgRmnCwsw9u4tIA1qCtuRGMwgjBC/3cjjirFFAGdF4d0WC6a5g0ewjuGlEzSpaoGMgzhyQM7uTz15NPXRNJTVm1RNMs11BhhrsW6CUjp9/Gf1q9RQBROh6SdWGqHTLM6gBgXZt087HTG/Gf1qQaZYBWUWVvhp/tDDyl5lyD5h4+9kD5uvFWqKAIVsrVJLiRLaFXuceewjAMuBtG4/xccc9qg07RtL0iGSLSdNs7GOU7pEtoFjDn1IUDNXaKAM+x0HR9MkEmm6VY2bjdhre2SM/NjdyB3wM+uBWhRRQAUUUUAFFFFABRRRQAUUUUAFFFFABRRRQAUUUUAFFFFABRRRQAUUUUAFFFFABRRRQAUUUUAFFFFABRRRQAUUUUAFFFFABRXLeOPiHonw/t7OXXPtLm8dlijtowzELjc3JAwNw755robC9g1PTba/sn8y3uolmifGNyMAQfyNAFiisnxFoI8Q6elq2p6npuyQSebpt0YJGwCMFh1HPT2FeVfDo3kHg/VPGWp6/r+pzaPPdhbK41NzBMsacBlIPPPXscHFCtrforh2t10/P/ACPa6K86sPijfXVjod7d+FpbK21q+t7S2eW8UlhIhZpAAucArgA43Ag8dKtX3xRtNLvvFcOoWDpF4dNuqvHLva6eZcqoXA2nOB1PrTcWv69P80JNPb+v6sd3RXJeGPGt1q+vXGha9oUmh6rFbLdxwNcrOssJO3cGUDBB4Ip+oeK9Uj13VNM0jQVvm02CKeSWS9EKuHDHaPkY7vl4HQ9yO6emrGtdjqqK5UeMpdSFhH4a0wahcXlgmoMlxcfZ1hhf7u5trfMTkAAfwnJFNTxtJqKaZFoGlG7vb+GSd4LmfyFtkjbY+9grchztAAOcHtzTs07f1/WgrnWUVy1l4tv9R0YXFnoEzXzX81kLZpxsiMbMC8koUhV+XsG5IAzWXrfjLWn8K3dxpVjBa6lYanDY3kclzlYyZI/uN5Z3hlkUZIUgMT1GCt/69P8AMfW39f1od7RXF33im60rVdZlubOSR9O0q1u7i2ju90Khnk8wp+7DEqFJyfvYAwvWr+qeM7fS72+jNs88FnZxTvLE2S8krlIolXuWx1JGMj1zTsH9fl/mdLRXJyeNJ9Lj1EeJNINlPZWDagsdrcfaFmiXhgG2rhgcAgjHIIJ5rQ0LWtT1KcpqWkR2sbwiaC5trsXMMgJ+6W2rhuhxgjHQmiwf1/X3o3KKxdY1fVbW8Fto2i/b2WEzSyz3H2eIDOAittbc5wTjAAHUjIrJTx1PqNxo8OgaObttW057+M3FyIREFKDa+Fb+/jIzzjjByEtdv63/AMmH9f1952FFclH43ludK09rPSWfVr65mtVsZLgKsckJYSlpMH5BtPIUk5HHNSeD7/UL7VPEg1SOSCSHUEjW3afzViH2eI4Q/wB0klug68gHNO2r/rt/mB1NFeU2PxB8S2nirx6dVsI59O0GBZ4rcXCKYcRlgoYR5beBkk529Oa1dM+Jt7fHQJLvwxLY2+u3Kw2skt2pJQx7/M2hemeADjIweOlFr287fjsD0bT6X/DU9Borgrv4p21h/wAJL9r02TOiXkVnCkUu57ySQfKAMDbz7nitPwt4yuda1i90XXNFk0TV7ONJ2tmuFnV4m4DK6gA8jBGOKS12/rS/5aiul/Xnb89DqqK5a/8AFOrR6rqtnpPh9b9dLEbSu16IjIGTdhBsOWHoSAf73al/4TGTUnsofC+nLqU11ZJft9ouPs8cUL/d3NtY7iQQFA/hOSKN/wCv67DOoorkpfHSvpemy2NhuvtQu5LNba7nECQzR7vMV5MNjBQgbQ27jAxzRd+IL4z6Al3p91p93c6lJbPbi5XYxWGRgS2w74ztBGAp6HsQXYP6/r7jraK85tvE+uv4avLrXIliMevJZxPY3g3AG7EZQ5hA2qMDOMuM52nmt+48Ym3sdSY2Gb2z1FNPS187/XNIU8tt23gFZAx4OMHrihK6/ry/zQPRtf11/wAjp6K5K78bzQNeXkGkmbRLC5+zXV99oCuGDBXZItvzIpOCSwPBwDinzeL719a1C00rRft0GmTJDdkXQSfLKrbo4tp3qAw5LLnBxnFJahsdVRVPVb59O0ya6hs572RANlvbrl5GJwB7DJ5J4Aya5u58b3emWWu/2vo6Q3+kWAvxBBd+bHPGd2MSFFIOUIIK8cYzQOx2FFcvL4o1RPsVmNDQavfmR4LN70BUhQLmSSQIdvLKNqhuSOT1Gp4f1r+3NPeZ7ZrS4gne3ubdmDeVIhwRuHUdCD3BHA6U7E3VrmpRXK6T4vvdYvBJa6Lv0truS0NzHdBpomRipaSHb8q5X+8TyCQKW48XX1neQyXmhSQaVNfLYpcyT4mLs+xX8nb/AKstjB3ZwQduKS1t5jelzqaK4q+8eX9la6jqH/CPmXTNMvHtrmZbweawVgN8ce3DdeQWX2zVo+ML20vLy01jRltZotOk1G2Ed2JRNGmAysdo2MCy9Nw54JpX0v8AP8L/AJDtrb+t7fmdXRXK6f4uvpdQ0uLV9E+wW2rpmzmW7EpD7N+yRQo2kqGIILDjtWX4a8T3sXhDQ7eKKTVtY1Frjy1uLgoNkcjbneQhiFAKjgE8gAelNNbkppvQ76iuQl8dslhbBdMCapNqDaabWe5CRRzKpc7pdp+UqMghSTkDGc46DR768v7Jn1HTn0+5jkaN4jIJFOP4kcAblPY4B9hSH/X9fcX6K8v1fxH4nPhbxPNfRR27WOqQQ27WN4WkA8yDMY/dpkEMfmJ53EEYGa6y08T3q6reafrGjNazw2ZvYVtZ/tJnjBwVwFXDg4G0ZHPBNHS/9bXD/O342OkorlrbxRqzalHp19oUVneXlpJdWKNe7lfZtykpEf7tvnXoHHXk45m8Capq2seEra912OBbiTO14pd/mLkjJGxQp7YGemc80AdHRXH/APCwIkg0Qz2DJNqV5JaTxrLu+yFJPKZicfMPMKL2++DU0njRyZIrLTftF1LqUmn2Mfn7VnMa5kkZtvyKpDg8Mfl45OKP6/L/ADQbf16/5M6qiuPm8cXUNmUOiM+qx6kmnTWSXI2h3TerrIVG5SpByQD14yMVPc+KdVW6ls9P0KO8vbK2SfUIxe7EhLAkRxsU/eOQpPIUYxkjNHS/9bXDrb+ux1NFZEnibTo/B58TO7jThZ/bM7fm2bd2MevbHrXO6N8Rbu6cSeIPDF3o1jNZvfW16ZlnjeJV3HftH7ttvIB60PRtPp/X6B28zuaK8/0f4oT32oaV/avhu50vS9bfZpl/JcpJ5zYyodBzHuHTk1lj4yXzeF9S18eEJhp+nlo2ne+ULJKJljCL8m48NuzjAIx70dbAtdj1SiuCufiNqUFvp0A8J3J1rVZZPsOmPdxqWhRQ3mu/Ij4P3eTmoh8V0n0mzFhodxPr11ey6eNIM6IY5ohmQNIeNoBB3Y5yOKdn/X9f8MJO56FRXk/i/wCIniaHwpZ3mlaLNo98uqpZXsV06HacjCoShDo+SN4xjFRS+NNa0Hxl431C4tp72PTbGxnOl/bT5cG5B5hQ4I4ySSFGcUv6/C5Vv6+dj12iuX0jxrHrnjKbRtOtBLa2+nxXkt9533Wl5SPZt7r82c/hU2oeI79dXutP0HRxqT2MaSXbSXQhC7gSqJ8rbnwM4O0cjnmh6biWux0VFcWmvz/8JpdXIi1F7YeHortdO8thJvMsnHlHpJgBfwxV+x8U3g1d9N17SRYTtZPfQiC5+0B40IDKflXDgsvAyDngmjZa+f4X/wAg6/d+Nv8AM6WiuX0DxbfazFbXkui+Vpl5btPb3Vvdi4KgDO2VQo2MR2UuMgjNHhzxZfa+tndf2KI9Mv4jJb3UN2JWTAyBMm0eWSOwLYPBxQ01uHmdRRXl02q65rmh+D4dO88W2qu7XDvqrQ3D7UdthljiyBxnK4JwB6mt6x8WfZtLSysbGe7vf7Tn0y0huLwu0xiLbpJJWBIUKpJOGPQcmnYHp/Xr/kdnRXJN43kjspYpdKYa1HfLp409ZwVeVk3qRKQPk2HduK5AB4zxT/DeoapeeMddh1aBrVoLe02263PnRKT5mWQ4HBwOqqeOnSiwPQ6qiiikAUUUUAFFFFABRRRQAUUUUAFFFFABRRRQAUUUUAFFFFABRRRQAUUUUAFFFFABRRRQAUUUUAFFFFABRRRQAUUUUAFFFFABRRRQBjeJPCGheLreCDxFp0d7Hbvvi3MylD3wVIODgZHQ4rVggitbeO3t41ihiQJGiDAVQMAAegFSUUABrz3w74B1TSPhlr3h25ns2vNSkumheN2MaiVcLuJUEe+Afxr0KilbfzVg6p9nf+vvPPNT8BazN4A8L6fp15ZR6x4elt54zNuNvK8a7SCQN2DnrjP07ZUnwo1nXI/Fx8S6hp6z68bWWGSyRysMkIPBV/4eg6kkZPHSvWKKpttt9/8Agf5IForHn/w/8B3fhrVJ77UtO8O2cph8mM6RFMGYZBJZnPGcD5QPxro7bRLmHxLruoM8Rh1GCCOJQTuUorg7uP8AaGMZrdopS95WYLR3R5x/wreWK10WaXTNC1q6s9Kh065t9SU+XmMcSRyeWxHJYEFeRjpipdTt18Fz6NqEE+habLHay2s1vKr2dk6s4f5HCsEYN0B+9lunb0Kim5Nu/wDWt/8ANhZdf6tt+R5lpXh/Vtd8I21x5dnch9Wur2SxvVeK2vopHfaWGGIHzB1DKw6ZHQ1dtPAeo2vhXXdOhXSbSa91GK+tIrNGjt49ghIQqBwN0RBIznOcDOK9Aoo22/rb/INb3fr+f+ZztloV2/ijUNV1RbYRX+m29rJBFIz4dDKXGSoyv7wAHqecgVi2nw7lbwLf6Jqt3DcXd1MjrO6GVNsJUQKynG4bY03DuS3POa7yil/X6h1v/W1ji9I8I3djFeyWek+G/D17JbGGGfTLXzW3ZzuYsifKcD5MH/eqbwz4XvdM8Qz6nPaaXpMUlv5T2WksxiuJNwPnOCiAMACBgE/McseK66infW4uljjvEvhS91jxEt4LXSNVs2tlgFrq6s6WrhmJlRNpDkhgCDtPyj5qZ4X8H6hot5oEt3LasumaPLYSiFm+Z2kjYFQVHy4Q9cHp1rtKKS02/rf/ADY3r/X9dji08J6tYw2t3p81m2o2eo3lykUruIpop5GJRmCkq2CpyFOCO4rU8MaTqmn3es3esvaGbUbtbhVtSxWNREibSWAJI2Hnv1wOg6CimtP6/rsD1dzzXVfh/r02veMptOutONh4nsBEROZFlimWIovQEbeSSeT7VY1TwLrj+E/CMWj3dgmseG/JYC53m3mKx7GGQN2PQ4/KvQqKV9Len4bA9W33/XQ8lm+EmraxpviaPxBf6ebzVr2C+t5LaNzGkiKQVZG52/MV6k459q3/AIfeB7rwzeXd5qOneH7KaWMRINGjmGRnJLNIe5xxjjHWu7opp22/rS35Ct3/AK1v+ZwhTxA/i7xTH4fGnnzfs6Frx3Uwkw/fG0Hf/u/L0+9Vm18J6l4alsp/DD2l00WmxadcRX7tEJRHkpIHVWIOWbK4wc9RiuyopLT+v67sf9f19xxp8J6lbeHIbONtN1WSS5mudQtNQixb3bSsXIB2uU2seOG4HPrUOm+CtRs10TfNaoljqst81tG7mO3ieKRBDESMkAuDztHXAHAruKKadnoJ67/1f/hzh5/COry6bfacHsvIfW49Tt5fMcMU+0iaRHXbgEYIBBOe+2tG88KS3Pj+01tZ0FjHEHntyTl7hAyxP0xgLK+fdUrp6KE7JLt/lb9BvVt9/wDO556/w5WLV7xo9C8M6hb3l21z9s1C23XEO9tzLt2kSck4O9cAgc45s+I/CGr61fzBV0lg8itaas6mO905eMrHtX58EEgl164IPfuaKS0t5A9b+Zj+KdJvNa8Nz2OnXS29w5RgzkhZArhijFeQrAFTjsT9K47/AIV7qLW3iJbex0HSRq2kfYo7fTgyokuX+ZyEG7O4fNtB4xg4yfSaKFo7jucl4t8HDXb7TdRWx0zUprGOSI2eqJmGVH25IbaxRgUGDtPBIxzmtbw1pA0XRxb/AGHTbBmkaRoNMh8uJSe3QbjgDLYGfQVr0UdLE22OGXwhq83iSzvrpdJjltbrzn1i1Ux3d1EM4hdAoXBBAJLMDjIUHpnT/DzVZryKSW30KeeDVY70atMrteTRrOJPLyV+TC/KMMQQMYUHI9Kopp2aa6f1+g3rf+v63OQvvCd9deD9f0qOW3E+pXc08LMzbVV3DAMcZBwOwNJ4t0W4kvLvWg8X2a30C8tWQk7y77GBAxjGEPf0rsKKlq6t5W/C35Di7O/z/G5xOj6PrmqN4cuNXewjsNLhWeL7M7mS5kMJQFlIAQAOxwC2TjkVRb4czHQdDS5tdI1O80o3Cta3yF7eZJX3cMVJVhhSG2nuMc5r0SirlK7uRFWt6WONHhS9t/DqWljpfhyFWuGlutJS222lwhGApfYTuGAd+znGNtafhDQrnQNKnt7poU865eaO1tmZobRCBiKMsAdowT0AyxwAK36KVyjiNT8JaxeW2v2UMlj9m1G/gvoJXkcOpVoi6Mu0jpEcEHnOCB1rT1vw7falrN1d2d6LLztHlsY5kJ8yKRnBDgegx65rpKKXRLt/lb8g/wCH/G/5nBeHvBN9pvinT9Wl0zQNOW3tZoJxpobzJ2bZiRnKKW+6eDyM/ebNdD4S0zUNF0FdN1L7M32aR1gkgdj5kZYlSwKja3OCASOOvatyincVrHEyeBLiXUPE0rXkYi1KLGnKAc2kjYZ2PHeRUbj0qO98APdeF9Et7iLTb+/0yRp5or2LfbXUkgbzQeCVyzFg2DggcV3VFLpb+tB9bnGWXg+aC1svJ07RNKaLVI7yS302MogRUK43bRvbJ67VGOO3MWv+BRe+JrnV4NG0HV/tkSJJHq8XzQMgwHRgj5BGMpgdOvNdxRR/X4W/QP6/Uw9Q8Mwan4Fm8NzeTbRT2f2Ym0h8uOM7cZRMnAB5AzXO6P4T8XT2P9j+KtX07+xotPewWDTom33IKbBJIzj5SB2XjNd9RQ9b36/8H/MFpa3T+v0PMtI+H3iY3Hh+x8RalpkujeG5RLZ/ZI5FnuGUFY/M3fKuAf4c5/Wo2+Gesn4O6n4TFzY/b7u8adJPMfygpmD4J25zgenWvUaKd3e/9dH+iBaO6/rf/M8+8f8Aw5l8VPpF/ZjT5r7TEaM22pIzW9wjAZDFfmBBGQRWfF8MdUsNN0i+0YaHp+vaXeS3KQwQyizkEiBGRskvnAHze3TvXqNFF2thW/r8DzzXfBfivxF4HNpqmsWM+tLqEd9CBEUtYdhyIgQN5Xr8xyabH4fm0TV/FXijxrcWC6dqemwRXS23mOEKR7JPlK52kk46nHWvRaKl7P8ArpYpOz/rvf8AM82+B3huTQ/A73l2JvtGpTeapnXD+So2RAjt8oyB2DV0V3pGuWHiDUNR8OHT5F1NIxOl67oYZEXaJF2qd424yp2/d+9zXT0VUnzO5K0ON1Hwjq97e386asqTXOhpp4uwCknnB2YvtUABTu7HI5+tVND8E6hp/iZNVSx0HRR/Z01ow0pCXMjNGVkZmRd/3DwRx6tk472ii/6/jf8AzH/X3W/yOH0nwjq0PiGHUriPSdMlihkS4udKDB9QdhgPKhVVGD82CX574zldI8JarB4mtNTvYtJspLdXF1daaGSTVCy7QZU2qqjPzYy/I4IFdvRSFY4/RPCV/pumeE7eeW3Z9FaQ3BRmIfdG6jZkc8sOuKz7z4eTXVkWuItMvp4dYutQhtr1DJBNHMT8j5XKtgg5AbBHevQKKbd3f+u/6D/r8/8AM4iPwZdQaVDLptjoej6ja363sFvYxFYDhChSRwoLZVm+YKMZHBxzq6BpesQeINV1XWzZK19FAkcNo7uIvL35BZlG773XA+gxz0VFFw3CiiikAUUUUAFFFFABRRRQAUUUUAFFFFABRRRQAUUUUAFFFFABRRRQAUUUUAFFFFABRRRQAUUUUAFFFFABRRRQAUUUUAFFFFABRRRQAUUUUAFFFFABRRRQAUUUUAFFFFABRRRQAUUUUAFFFFABRRRQAUUUUAFFFFABRRRQAUUUUAFFFFABRRRQAUUUUAFFFFABRRRQAUUUUAFFFFABRRRQAUUUUAFFFFABRRRQAUUUUAFFFFABRRRQAUUUUAFFFFABRXJWvjK4CeJ7m70m8a20a7MarF5O8xrDC7dZME/O79vlwPvfLVyHxlazTWsQ07UUe8neC2EsITzisJmypZhlSq8Hpng4wcAHQ0Vy/wDwnun/ANn2lwLO9MtyJm+y4j82JYnKOzfPj7wwApJOeAea2brWrK18Pya08u6xS3+0+Yo6x7d2Rn29aAL9FcxH44gex+0SaPqkTG5NuIykTA4iEm/zFkMe3DYB35LAqATxUg8a2M02lx2Npe3n9rWbXlm8Ma4kRdu4Hcw2kB1POAcgAk8UAdHRXNw+N9OubNbi3t7uRJbA6jbjYqtPANu5lDMMY3rw2OvGaqXPiuLWfDkws21DRru40976yaVIxJLEgBLL99QPmUEHDYbIx1AB19Fcrb+NLKztbKC98+WUWtu91cKFKxNIAF3ZYMSc5O0HA5OBVnQvGFt4g1Sa0s7C9SOPzdt3IIzFJ5cmwj5XLKcnIVwpIyccGgDoaKKKACiiigAooooAKKKKACiiigAooooAKKKKACiiigAooooAKKKKACiiigAooooAKKKKACiiigAooooAKKKKACiiigAooooAKKKKACiiigDG8SeL9C8I28E/iLUY7KO4fZFuVmLnvgKCcDIyegzWrBPFdW8dxbyLLDKgeN0OQykZBB9CK5rxx8PNE+IFvZxa59pQ2bs0UltIFYBsbl5BGDtHbPFdDYWUGmabbWFknl29rEsMSZztRQAB+QoAW/vYdO064vbpgkFtE0sjHsqjJ/QV5x8J/HGt+Ir7UbLxUyi4miTUtPXYq4tZCQF+UDO0gcnJ561v/E/S9b17wXLo3h2DfNqE0cE8vmKohhJy7ncRngYwMnmuWh+H/irw9418O6xb6sdfgto/7OuI/s0NqYLQjAPBG8KeccniiO7v6f187a+oS209f6+V/wADpIfipoE+uR2CQaiLaW6+xRaobU/Y5J848sSZ6546Y96F+KmgtrgsFg1E2zXf2Iap9lP2Mz5x5fmZ654zjHvWJ4T0Xxp4Yt7XwtBo2ny6Xb3zynWLi4Dh4GctgQjDCTnGTwKTwzovjTwuieGbPRtPn0xdQef+17m5Dr5DOWK+Tw/mc4B6Z/OmrXX9dvu6/wBbktL2/rf/AIH9bdBc/EvR7Xw3retSW18bbRb5rC4RY03vIGVSUG7BXLjqQevFNk+J2jp4sn8Piy1N7q3MRmkjtg0UaOm7zGYN8qKCMk468Zrg/EHg3xr/AGH4v8O6boMF7a6vqZ1GC++3Rx5DOh8vy253Db1JA68njPXaH4b16w8a+MdRSFLUajaWyafcSOrqZEhKklQSQA2Oo57Ul8N/L9F+typJbL+tV+he0T4n6JrmsWthDb6jai/V3sLq7tvLhvAn3jG2c9BnkCmWHxU0HUdYhsoLfUhBdTtb2movalbW5lGfkSTPJyCBkAHHWuJ0fwb41uvFfhy+8RWF6xsZLhL67n1lbgPvjKiSOLIEa57Lz6jjNb3gvSfGvh210vwtJo2nf2Zp07GTV5bgSCaLczAJEMMsnzYyeBiqSX9f1/X4EPbQ2oPiho1zpGm30VrfltR1I6ZHa+WnnRzAkHeN+ABjJOTwRW3rWqHT9U0S3WZo/t14YCqwhw4ETvgksNn3c5APTGOcjzTwz4fgvPj5rFzYXcd1pGmM16qRMGSK8nUI4yON3yMfbivQ/EemXl/rnhq4tIfMisdQaa4bcBsQwSpnBPPzMowM9aSs1F9/6/z+Q5byS6X/AK/L5jLTxpZ3t/FFDYaj9jmuGtodRMK+RJIpIIGG3gZUgMVCkjg9KPFniO+8Py6UtjpNxqAvLtYZDF5fygg/KN8i/MccdRwc44rCs9F1y38Q28llpMmkyfbTLfXNvfA2NzESS223LkiRsjnYpBydx79D4utL64tdOuNMs2vZbHUIrlrdJFRpEGQ20sQucNnkjp1pL7Pqv0B7teT/AFMUeOLjTtc8TJf2WoX1pps8Tf6LAhFpCYEdixJXdyWOBub2xitrUfF9pZXC29nZX2qy/ZxdSJYRqxhhOdrtuZeuDhRljg4FZy6JqJHjUm22nVTm0BkX95/oqp68fMCOcflWRc+E7+01Zb46dqd9Hc6fbwSR6brDWbwyxKVO4CVFdCD1BJBB4OaS2+78n/kN2/P9P+CdwdZs28PHWoHM9l9mN0rRjl027uAcc49cVl6b40tNQ1CztZNP1GwGoRGSymu4VVLnC7iBhiVbbk4YKSAcZpLnTk0n4Y3VhFbLarBpciCBZmmEf7s/KHblgPU1j6fa6zr8nhgXelHT7LS4xcS3LTo4nYwNGqxhTux85JLBemMGq+1K3T/g/wCRPRX8/wBP8zZtfG+n3V9BElrerZ3U5trbUXjUW88oz8qndu5KkBioU44JyKjt/HmnT2l9eNZahDZ2UkkLXEsA2yyrKYvLjAYl2LdMDHOM5yBzfh/wXcacdN0zUNH1K4XT50db1tdl+yEIco6w+YSG4HyeWFBzzitJfC+pv4Dey8pI7+DV5dRhikkG2TbetOilhnG5cfTPI4p6W/rbv+Y3vp/W/wDwDXTxrYRw3rata3mky2UInkgvI13tGThWTYzBst8uAc5IBAyKhl8eWVpp+pXGpadqVhLp9r9sktbiNPNkh6b02uVPIxgsCDjIGRVPXbHX/GOgX1nNpg0mICGS3iuLoedLKkgc5eFmCIdoAIO7JzxjnG1Dwneal4d1z7LoGp29/PpklpAdS1trp5GYglVDSuqrlQdxKn2pLfUatdf12OrtvGEVzfSWY0jVIrk2rXVrFNEiG8jUgHZl+Dll4fYRkZqnonjeS68H2mratpV1Dc3MvkQ20KIzXLknHlgO2BgHJcrjBJwOa0LnTbuTxrpF+kWba3sLmGWTcPld2hKjGcnOxunpXOxab4mtvBVhpsOn3MbWN4Uu4ba8jikvLf58GGQMNmSyHko3BHHddv66/wCX+diVtd/1obg8b6cuk3d5c215bz2lwtrLYPEDcec2NkYCsVYsGUghiOevBwtv42sWk1GPUrS90p9MtUuroXsajYjFgMFGYMfkP3SeoHXIHIJ4e1PTrXUtQlsvsbJrFrf2cGoap55uAsaoY2mdmIcnIGSQGwASOakurS98bax4rszaf2fK+l2kKRy3AYq6ySuFkaIkKTxwrEgEHvin0/rsv1H/AF+P+R2ekeKIdU1A2E1hfabdGH7RFFexqpmizguu1mHBIyDhhkZAzS6t4lh03UU0+3sL3U75ovPa3skQtHHnG9i7KoBIIAzk4OAcGsfwxobx66uoXWianZTQW7RCfUdbe8OWKlljUyONp253HaeBx6Wb+11TSPGNzrem6W+rQX9nFbywwzRxyRPGzlW/eMqlSJDnByMdDmh20Bdf67f8EzPE3jG7uLfw8vhZL1odYujG13bRwGSMKjlowszACTKHO5cABu+BXW6pqttoOkteahI7JHtQbU3PK7EKqqo6sxIAA7muTtfC2q2sfhgyxxyTW+r3GoX3lONsPnJOcDOCwDSKvAyeuK2fG+hXGv8Ah9ILLLXFvdRXSRi4aAybGyVEi8oSM4YdDih6L5/5fkHX5f5/noMPji0hsr6a907UbSXTxG91azRoZIonOBN8rlWQYYkqSRtPGRirD+MNMWPVJgJ3ttMZI5LiOPeksjAERx4JLN8yjpjLAZ645+10jUbSz1S80nw9ewajdQR2kTavq5u3wWOWYNI6iNNxbAYs3IwKZYeHPEPhvwZfeG9BXclpIj2F2JI43uImcNLH/syffAYgD5lOcg4P6/r+vyA2m8c2cFhq0+oafqFjPpNt9rntJ0j81oiGwy7XKnO1h97gjnFMPjqBdQSxbQ9ZW7njMtpAYEBukGMsp34XGRkSFCMjjmuVn8KazdQeKGttGvbcaloYtbZL7VftUrygyfKzPI2z7wwAxXvkHIrsrzS7yXx1oeoRw5tbWyuoppNw+VnMW0Yzk52t09KO39d/+AH9fl/myE+PNPOn2FzFY6hLJfXclklqkK+bHOiuWRwWwMeWRnJHQ5xzVHV/Gck/h9p9LW506+ttVtLO6truJPMiEk0YIIyykMjcMpPXg5rGnstT0PUtHZ7AzTy+KL65hgEyAyxvBOQQc4BK8gEjng4q1e+Htc1eHUtSm077Nc32qafJHZNNGzxQW8qEs7A7dxG84BPAAyTTja8X6fmr/qKWl0vP9bfkjodS8bWGm3l3E1pfXMFgVF/eW8StFaZAPzksGOAQTtDYBycUX/jSzsb65gisNQvo7LZ9subSJXjttwDDdlgzfKQTsVsA81zWo+DrpNX1pH0nUdUtdVnM0bW2uSWsC70Csk0YkXjIPKq5IOCOKm17QNY+33R0XR5Yb1o0jsNVsNQ8lYwqgAXSM483aQf4HyuBgGpWyv8A1/X9MfV/1/X9aHbanqtppGlTajfSFLeJQxKqWLZOAABySSQAB1JrKg8ZWO28/ta1vNGks7c3ckd+igmEdXUozAgHgjOQSMjkVJ4p0i71jwwbW2eNr2KSC4j3kqkkkUiybSewYrj2zWbqlrr3i7QdU0+401dGhmtdsIupVkkecHIJ8tmUR8AddxyeBjk7h0X9f1/XYv2Hi+3vLxbW607UNNmmhae2W9jVftCLyxXaxwQCCVba3PSqUHxEsZ9BtdXGk6wtreSRRWu62XfO0ikjaobOBjBPTkEZHNRtba54g1rTrrUNHOlRaZFMzCSeOQzzPGUATYThACxy20nj5abZaDqUXg3wbYyW2LnTHtDdp5i/uwkRVuc4OD6Zp2/Nfm7/AIC1t9/5afiaF54zhtGEQ0nVLi5S3W5ureCJGezjOceZ8+M8H5VLE4OAafdeMbJGt00u0vNZkuLZbsJYIrbYW+65LsowecDO44OBxWDrnhi7Txdf6nFp+p6jb6jFEMabrD2bROgK4dRIgZCMHIyRzxU9jo2o+E9TS70jQ2vLafTbeze0t7xS1q8Jcrh5Su9CJCM/e+Xoc0lqv68/+B/TQ/6/L/gk8PjiW+8XaTYaZplxc6ZqFjJci7ARSCHjGcNICFXeQwK7s4wDg0eE/Fkl3a2Fvq7Sy3d/dX8cM4jVUxDO4CHGPm2DjjkKcnPWQ2euDxVoGrXljHOwsp7S9FpIoW3aR4mDDeQWUeWQcZPfFc7qek6ho3wwXPl2et2mrS3OnrIwbfJJdPsX5TzvSXGP9rnGKrRRX9df8g3/AA/J/rud9o+s2+t2Ut3aJKkEc8sAeUAb/LcoWXBPy5Bwf0rLs/G1je3Vsq2d9FZ3shis9QliUQXD84CkMWGcHBZQG7E5FaWlaNFpnhm20eNj5cNsIC+eW+XBb6k5NYXhqPxHpWm6V4ffSI44dPRbebUZJ0aOaJF2gxqrb97YXhgAOeT3Vldr+vMX2bkfh/xfN/wh+k3OoxXWqanfvMscFpEgeXY7ZPJVFAUDkkDp3NaP/Ca6c2iw38UF3JLPdGyjsVjAnNwCQ0WCQoI2tkltuBnOK5u20PxHp/hXQrI2V5LbwNcfb7Kwv1t52LSFo2EodflGTkBweR1xilsfDWp23hKazvPD6XanV5bp7N78yTGJiSrxTlgfMBI5Yqfvcjg0bt/11X6AvhXf/gP/AIB0beM7OPSzcz2OoQ3P2oWY094QJ2mIyEHzbDkc7g23GeeDUF54tVtLjmSK90y4XU7eymgubVXdWkkUY4faVIYfOrNjOeSMVkpouuyeG7iHUNLfULU36ywabfXu+7htwo+7OHx5ofLKS5wON3pGdA8Q3WiiGSC6EK63Z3NpaXt4s89vbxyRtJvkLHdyrMBuY44yelONuZX7r9P+D/S1fT7/ANf+ARHxbqx1rXdR1A6pp2k6JcpD9migtXWYFYyQzFi+4+ZkbSoC45zkV1GreMLTSr24tlsr++NnGJb17OJXW0Q8gvlgScAnaoZsc46Vhax4b1a60HxjbwWm+XUtRjntF8xB5iCOBSck8cxtwcHj6VFrHhW7j8T6veJpup6nb6qUdfsGtPZrG4jEZWVBIgKnaDuAY8kY4FLordvxsv8Agh9p3/rU6O88X2kF7Ha2Fpe6pI1ut1IbGNXEMLZ2uxLDOcHCrljg4FL4O1S61TwJpep3ztcXM9ossjBApdsegwAfbism10rVPC+sSSaRov26zu7G3txHFdqDavCrKAzSEFoyGHzDLcH5Tmtbwdpt7pfgTS9PvkFtewWixyLkOEfHqDg0O2tv63CPS5PpPijStYnNtbztDeqNz2N1GYbhB6mNgDj3GR6GtesGw8KQQX8Opate3Wr6lDkxXF04CwkjB8uJQETjIzjdjqTV/WdK07V7DytXTdbxN5pPmtHtIB5JUjjBPtQIx7rwb5smum21GSBNYV98flhhGzxxxyN15ysK49CWPOQBYvPDc93baMRqWy+0mbzY7nyAQ+Y2jYFM45Vzzng4PtWNaeHvAt34dh1wL5OnSwJP58+oSoqKwBG4mTCnBHWi78O+CrO+061e2kd9RLGJkvpSoRULF2Pmfd4ABGclh2yQhij4dSR2lusOsn7TbPOqTz2aShoZXDsjo3DMHBYN2z0IznoLvQpJvCiaLZ6nc2jJDHCt4oQy4TbyRjaSwXB4xyeKyf8AhCvCLXclnFAr3kcYkNv/AGjNvCngEjfkAkYziqXhrwv4b8QaGl++kSWzmaaFohqE7gNFK8Zw24ZBKZ6DrQBLb/DqO2RJYry3W6W7e6wtkBbAuixsRBuwGwuQ2eGJOCPlqfSfAf8AZE2myQa1dyHTbWS1tlljQqiMsa4Ax2EKH6lj3wEj8H+C5bqa2iVHuIP9dEupSlo+h+YeZkdR19RS23g3wbeWkN1aIs9vP/qpotRlZJP91g+D+FAEMvgqTTNLgaxubm+l0/RZNJtrfbGpkjYKASTgZHlpzkdD61Hpfgm5uNF0+TVbqWHUbXS/7PiR0Rlt1YKJOFbDMQmA2RxjjOavr4F8Jvt2WzNvztxfzHdjrj56bF4I8Iztthg8xgM4S/mJx/33QBC3gDMkTf2ipDxRw3gazRjKsZ+UoT/q22/IW+bK9MMAwuaH4PTR9dfVZLpLi4a2MBkFuI5JdzKzNIwP7w7l+UkZAJGSSScDSdG8J3Wl3t7rFhHpa2V7JZytJq0xj3KwXO9mXqTgZHpWrL4R8FQXUNrMI47idd0ML6lKHkGQMqPMyRkgceooA6+io7a3jtLWK3t12xQoI0UknCgYAyeTxUlABRRRQAUUUUAFFFFABRRRQAUUUUAFFFFABRRRQAUUUUAFFFFABRRRQAUUUUAFFFFABRRRQAUUUUAFFFFABRRRQAUUUUAFFFFABRRRQAUUUUAFFFFABRRRQAUUUUAFFFFAFaz06y05ZF0+zt7VZZDLIIIlQO56scDkn1qzRRQAUUUUAFFFFADZYo54XimRZI5FKujjIYHqCO4ojjSKNY4lVEQBVVRgKB0AFOooAKKKKACiiigAooooAjuLeC7t3t7uGOeGQbXjlUMrD0IPBqHT9MsNItRbaVY21jbglhFbQrGmT3woAq1RQAUUUUAFFFFABRRRQAUUUUARS20E8sMs0EckkDF4ndATGxBUlSehwSMjsTUtFFABRRRQAUUUUAFFFFABRRRQAVXnsLO5ure5ubSCae2JMEskYZoiRg7SeVz7VYooAKKKKACiiigAooooAKKKKACiiigApk0MVxC8NxGksbjDI6hlYe4NPooA820jw/rWn6B4aW50FduhzIJbC3khL3RW18v7RksE3eZyoJBxgnB4EieFNSsptFu4dIgm8ma9H2QCPbaRzOXhVskApH3CkkZO0EAV6LRQB5jcaV4ui8b2uoWGhIY4dQuZpHE8EUDROrRpgjMzMwZXcNhcxrgZwR1XgKzv7DwubbVbCWxnF7dS+XK8bkrJO8qnKMw6OB16g9sE9JRQB5Ta+GfEsf8AaSjSDIlxZTI0N+bZ4/MkmjZxE6tvcEeY373GGC88k00+HPEl3oep291oMzfbNZhvolubm2MiLHJBliIysas6xzM23vIoy2WYesUUAecDw7qMF5qNxD4ekEkviC3vYHR4AVt0WMMB8/H3JOO+/wBzihpuh/2ldavb6Dp8EE8XiRbkaiixhYY08skAA7iSu9QMbfnPPWvVqr2un2djv+w2kFtvxu8mIJux0zgc9TQB50mga07/AGy50O72wazdXi2qyWrSOkwO113OU3LyDuI4Y4zxS6f4P1i01Owlhs5rdYp7cSRSTQ3EJgjOVzIdsiyIGfAQbR0+YEsfTKKACiiigAooooAKKKKACiiigAooooAKKKKACiiigAooooAKKKKACiiigAooooAKKKKACiiigAooooAKKKKACiiigAooooAKKKKACiiigAooooAKKKKACiq2oalY6TZtd6peW9lbKQGmuZVjQE8DLMQKg0zXtH1vf/Y2q2OoeX9/7JcpLt+u0nFAGhRRRQAUVDeXltp9nLd308dvbwqXkllYKqAdyT0p8E8Vzbxz28iyxSqHSRGyrKRkEEdRQA+iqp1OxXVF01ryAXzRGZbYyDzCgON23rjPerVABRRTZJY4VBldUBYKCxxkngD60AOooooAKKiS6t5LqS1jnia4hVXkhVwXRWztJHUA4OPXBqWgAooooAKKKKACiiigAooooAKKKKACiiigAoqG7u7awtZLq+uIra3jGXlmcIiD1JPAp1vcQ3dtHcWs0c8Eqh45Y2DK6kZBBHBBHegCSiiigAooqhc67pNlLcxXep2cMlrD59xG86hoo/77DOQvuaAL9FMgniubeOe3kWWKVQ6SI2VZSMggjqKfQAUUVDeXtrp9nJdahcw2tvEMyTTyBEQepY8CgCaimxyJLGskTK6OAyspyGB6EGnUAFFFFABRTY5Y5lLQusiglSVORkHBH50JLHIzrG6s0Z2uFOSpxnB9OCKAHUUUUAFFFMnnitreSe5lSGGJS8kkjBVRQMkkngADvQA+imxyJLGskTK6OAyspyGB6EGnUAFFFFABRRRQAUUUUAFFFFABRRRQAUUUUAFFRJdW8l1JaxzxNcQqryQq4LorZ2kjqAcHHrg1LQAUUVFHdW8txNbxTxPNBt82NXBaPcMjcOoyOmaAJaKKKACikZ1RC7sFVRksTgAVTv8AWdL0q1S51TUrSyt5CAktxOsaMT0wWIBoAu0U2ORJolkidXjcBlZTkMD0INOoAKKjiuYJ5Zo4Zo5HgYJKqOCY2IBww7HBBwexFSUAFFFFABRRRQAUUUUAFNkljhjMkzrGi9WY4A/GnVyfxJWQ+EQ8dzJAFv7IOECkOGuolIO4HpnPGOR6cUAdZRXCpqGq6h46isLDxFNb2T2MN4Emt4GZiJNrIMKOHRGbOSQWyPlG2q9h4p1BLjQ7e51Vbq6m1LUrGa3xEpn8lpxHnCjaf3acjAOR60AehUVw3gXxJqWtT2rahf2s/wBssDcy2qsm+1lDKGRQoyEBYqQ5LAr1POJde1PULbxx9jTX20+yGlSXpjaKIqXRguMspbbjkjOfQigDtKbJIkMTyzOscaKWd2OAoHUk9hXmf/Caaxqej3OpvJcaPcWOiQ6lDpyxxEX8jq5KnerPs3KqALtb5jzyuHt4j1KbXryz1DVfLtbt7mKBYmtZ4UMcRLQsMb0kXI3bt6kjAxuFAHo8VxDPHHJBLHIkqeZGyMCHXj5gR1HI596S2ure8h82zninj3Fd8ThlyDgjI7ggg+4rzfSNQz4o8PX11qUixSeH4AEhjiCLJJPBGUACcBn2gjtjjHSnN4jvNH8FW2tjUGlsNP1i5g1L7Hbw7pIFupUD4C4BOIy2AMqzEYJDAA9Lorzi51XxRpv2XT77Vlhum0hr43N15EatOo+dGJQDy4xhmwAx3E7gBipdG8U6hqHjuFH1F2sLqeeCKCJoXh3xR/OhGxZkdWBJ3Erg+65APQqKKKACiiigAooooAKKKKACiiigAooooAKKKKACiiigDzz4ufEDV/AOnabPoulxXhu5mSSSdWZI8YwuFI+ZsnHP8J4NdxpN5LqGi2V7c2zWs1xbxyyW7/eiZlBKn3BOPwq3RQB518dCB8LbkshcfarfKgZ3fvV4xWLp9hLqnxE0rW/DfhC98LWenWtwL+a6tEtftO5MIgRSd+Dzk/0FejeKvDFl4u0JtK1KWeKBpUlLW7BWyjBhyQRjI9K15IxJC0bZwylTilqou2+v5WHu12t+p4hp3j/xjZ/CWLxbqmr293LqMi2VpF9hAED+aymZygyxwpwoGOF6kmrEHxQ1rRtH8SNPfN4hWxtI7iy1GbTHsgXdxGUZCFyFLA8dRnn07+0+HWh2vgBPB8guLrTY9xV5pB5qsXLhgygYIY8ECix+H+n2+lahp+pajq+twahEIZv7UvWmIQdAuMBeucgZ96qVru239f1/VhR0tf8ArX/LT+rnL60PG2jeCten1zV7DWrJ9IedJJLKNHhmx9zy8FJI8Z5YZqhrXirxPYafosi38uiaO2iRXB1K30oXMbXBUZSUKp8pMY+6o9vbqbf4UaLFZahBc6hq9/Je2ZsftN5diWS3gP8ABGSuFHTqDU178MdKuvs7W2o6tp0sVilhLLZXIja5hUYCyfKQeO4APND8v6+L/Nf8Hql0v/W3+T/4By9x4wvLPx1ZX1w2n3qJ4Skv5Hs4VImZWJ+SVl8wIcD5c49s0aV4q8XWDeFNZ1vV7bULDxPOkLWEdmsX2MyKWQo4O5sd92f612Vr8PNCstZs7+3SZVs9MOlx2pYGIwkkncCNxPJ5zVTRvhdoei6ta3sV1qd1HYljYWd3dmSCyJ6mNccfiTT0v/Xd/mregO7X9dkvwd/U4Gz8a+NY/Dth4muNfhntTrn9nyWBsI182MyFcmQcggcDAHvmvTPHVy9rpOntGsTb9Xso2EsSyDDToDwwIB9COQeQQapL8MdGXwvFoQub/wCyxaj/AGir+Ym8ybt2M7MbcnpjPvXRazo1vrltBBdvKiwXUN0piIBLxOHUHIPGQM+3pSjpy36Nfpf8bje7fr+tvwscjca1rVt4nlXU9Um0pft6xWtvNYBrG4gJAGZwpKytk4BdcNgbT3v/ABNtprnwf+4vp7Tbe2ufJWM783EYGd6t0JDDGOQM5GQbU/gexuLqTffagLCW5F3JpolX7O8oYPu5XeBuAbaGC57Vra3o9vr2jzaddvLHHLtPmQttdGVgyspIIyGAPIPSl9lf12H9q/8AX9f1qcWunarN8QtfhsNems5IdKsd9z9nieSZwZsFgV2AdSQFGcjBWoG8bX+oQaBbyXV5ppvNKXULq503TXu3LkhQiqI5Aq53Ekg9AB612lj4fhsdUutQN1c3F1d20NtM8xT5hFvw2FUAMd5z26YAqiPBNnDY6ZDp9/f2Nxplv9lgvLd080xcZVgyFGBwDyvBHGKfX+vP/gA9df66f5MseEdUvtW8Mw3OqwyRXSvJGxkt3gMoVyqyeW4BXcoDYPTNcnpes+I7fwz4d8R3+tm9S/nt4Lqya1iRCszhAylQGDgsCeSDz8orv7CyXT7BLVJp7jaDmW4lMjuSckkn3PQcDoABXIeE/Ar2uh6GNcu79pNPRZRpsk6NBFOM/NwNzYJyAWKg9AMCjTmv6f8ABF9lmPJ431a5mu9QsZtSZrbUHt4tJh0WWWGaKOXy3LTiI/OcMwIcKOAQea0bvXtcsYvFOsNqIlttLuWt7Sw+zqFJMce0u+NxAZ88Y4zknjG//wAIhBHqEs9nqep2dtPP9omsbecLDJITktnbvXJ5IVlB5yOTm2PDentaatazq88GrStLcxyNxlkVCBjBAwo9896S2+X46f8ABB6vTv8Ahr/wDF1CfX/COk6jq99qi61Z21hLO8c0KRSJMoyAnlqAUPOQ2WGByeaxbDxPrUc6r9t1LUVnsJ5J3udEltY7OZU3KUZolBQ8jDFjnHPWuptfB9pG0p1O9vtY327Wqi/kVhHC2NyAKq5zgZY5Y460WfhJLWKSGXWdWu7cwNbxQ3FwpWFGGOMKC5x0MhYilK7i7dv8/wDgf1u42ur/ANbf8E5/SNS8Qxf8IldajrZvE16Ly7iD7NGixMbZpVdCFznKYIYkHPAHSq2gG/0TwjrlwPEBDtrNxEs19FGREftLKzIsaAvI2eF5BbAAA4rsY/DNnHDoUSyT7dDINtlh8+IWi+fjn5WJ4xzj6VTm8EWM1vfwfbb9Iru8F9GqSKPsk4beXiO3IJbkhiw9sE1cmuZtbf8ABT/ImN+RJ76fk/8AgHLp4z1W1t9etLe6ub6S2+xLZXWqae1rIrXMhi+eMpHuVSMghRnkZ71o3uraz4T1S6GoatJrFpb6JcX+yW3jjdpI2TuigYwcAY4yc54xeuPBFvHZ6xK819rN1qVtHDMt5dKhcxlihVlQCNgWONoABAOAcmqPh7w3qNz4guL/AF6LUDbHT2sPL1a4hllmDMC3EP7tVAXGfvNk56Clu9PP8n+pWi/D81f9SLw34j1afXtMhnu9S1KK/ic3az6JLaxWbhNymORolynBXDMxOQc1tazeale+LLXQNMv20xDZveXF1FEjyEB1RUTeCo5JJJB6DpnNW9I8MrpFxGy6vql1BAhjt7a5nBjhXpjhQz4HALliKl1jw9Dq91bXiXd1p99ahkiu7NlDhGxuQh1ZWU4BwVPIBGKHa6tt/wAOSr2fc4PxDJqWuaLZ2d/qckU+n+JIbGWW3ii23HzoySFXRgGAYcD5d2cgjAHU/EPVb/w78NdV1DSrkxXtpbqY5yiMQdwGdpG39MVbTwdpsel2tij3AW3vlvzKZA0k0wbcWdiOcnr09Biq3xH0i+174d6vpmkwfaLy5hCxRb1XcdwPViAOnc1Erqm0t/8AgL9blR/iJvb/AIL/AEscb/wk/i3QdZgtNX1mHU49Y0We+t2SySE2csce/Axncv8AvZ/xyv8AhOfGGmfD7RtX1TXYJJ/EU0MEEiacGFgg3b5dqjMjsADtxgEcCu10L4Y6dYxtdX13ql3fT6f9izeXfnfZI2XDpFkcD65rQl+Huiz+C7HwzMbprbT9ptbkS7biF1ztdXUDDDPXFaSsm7eX5v8ASyIje2v9aL9bnnY+JniK38P6lYw3v2+8/tG1stP1mfTmthIs+cs0TAcoVI6Y5HXvT1RdX0Xxd44Oq6lDq17B4YVhcvZRqsg3DG6I7kP5YPpXpZ+HGmT+GrvRtU1HWNUS6dZGur29aSaN1+6yHACkew575qnB8JtIj/tRp9V1m8m1Ww+wXM93dLLIyZzuBK8NwB6cdKl/5/8ApNvzH2+X/pV/yMK117xT4i1TTfD3h7VrfRWttAt9QnufsSS+fI4ACBThVT6D6VTurXxDP8avB0ms6lHb3zafK80dpEjxLs++qlhkh8dTyueDxXZal8MtI1FLAxX2qadc2VmtiLuwuvKlmgAxskOMEd+gqSX4b6J9o0GawkvdNfQV2Wps59u5Ccsj5B3A856E5PPNXdc113f43/zWn9OOV8tvJfhb/J6nm8XxX1661BtWttRZ4F1L7ONATSXYNbh9pc3G3h8c4zjj8Kd421nxH4p8LeOrqPVIbXRtJuDp4077IGM2xl3OZM7lOTxjj2716HH8NdLttcfULDUtZsYZLj7VLp1rfNHayS5yWKDnk8kAgVW1z4TaHrt7qU8l9q1nFqmGu7Wzu9kMsg6SFCCC3A9vas2rwt5f5f8AB+/7tk7Tv5/5/wDA+4vavf3umfDGG60uZYLtba2WORkDhSxReQevBrP1LXdW8HaldpqOoNrNs2k3OoRCWFI3ikh25QbAMo28YyCRjqa2fFOhy3vgaXRtPR5m2QxIPMCMVV1yd3GDgE549qktPCNnDfXN3qF3eatNcW5td186sI4ScmNQqqMHjJOScDJOKqTvJtef5afiRTXLFJ+RlRXevaLf6DJqmrjUotYm+zzwGCONbeQxtIGiKjdtGwghyxwc545qafrWtr4lhh1rVJrC4lvZIv7OubALayxZbZ5M4X5pCoVsFznkbR23dN8G2mn31rcS3+oX62ClbGG8lV0tQRt+XCgsdvy7nLEAnnk1HB4IsoLuBvt+oSWVrcfabfTpJVMEUmSQR8u8gEkhSxA7DgU7rm/rb+v8g15fP9df+AcYYr3VrLQJU1OWwb/hKLyHFnbwKMhrgB8GMgthcZPXcScnmtaTWL+wuvE1/byRpDput2/2kLBGpktjBCJNzBckgOW3Hn5QM44rfbwTY/2RHYwXl7bmHUJNRhuY3TzIpXd2OMqVI/eMMEHg/jVyHw3YxDWVcyTJrUhe6SQgjmJYyFwOBtUdc85pJ2T/AK/l/wAmVLV/1/e/zRyer+MNTtxdzW9xIlreawumWUkNobhoEjQmaVURSzsWV1A5A2g4xnJB4g8SS6PrEOmDUL97WWA299daW1vO8Ln97iN0RXdAGIwADleD36RfB2mp4WstDR7lYrHa1vcrLidJF583cB94kknjBycjBxQ/hOG40yW1v9U1O8lklSZbuWcLLE6coyBFVFx7Lg980aLT+un/AAe3qLe39d/+B/kQ+D9SlvhfRSazJqawOoUXdn9lu4cjJWWPYn1UhRkZ64zXL63Y3UepeP5pNVupo/7EDfZ3SIJho58DIQNhccc555zxXb6N4eh0e4urtru6v7282Ce7u2UuypnauEVVAG48ADqar6l4StNSv9QuXu7yEalYmxuoYnXZImGAbBUkMA7YIOPUGpnqml2/QcHaSb7r8zE0WfWtK1DwzDd6t9ttdUtGV7drdI0gZIg6mMgbsYBBDFuueOlUbTxTqQ1/R1OszagmpXb288cWmstlECjsrQXBjG8goBy7buTgduzfw/aPNpUjPKTpaMkIyMOGj8s7uOePTHNZFn8P7Gyl03ZqmqyW+lTiaytZJ1MUACsuzG3LLhiPmJI7Ec5uTTnfp/wTOKahZ7/8D/Mi+H9jc2ketm51S6vgdUnQCdIlwQ3LfIi8nv244ArP1/xHr9nLrOkaXOkmrteQtpu+NcLA0RkIIxz/AKmYZPPIrrdL0OLSb7ULi2urlo76bz2tpGUxxSH7xT5dw3dSCSPTFNl8OWE3iuDxC6v9ugtWtU5G3aWzkjHUcgHPRjU9F6L8Lf5fcX1fr/X9dzkNR8d3osdV1fTJN9kkdja2ieQZAs85DNIQo3vhZY/lHXGOpqvP4p1u00rXls77UbxbfTftNrqGoaO1q0UwbBQhokVxyCOM9ck11dp4J0az8N3WhpHK1ndTvO+ZMOrs24FWGCNpC7e4Cj0obwjHcaXfWOpazquoLew+Q0lxKmY09FVUVM/7RUk9zVaf16f5/wBdBa2/r+tV/XUwNZ1rVNJ1Ww0K61u/3TW8l5cahZaT9olxuCrGkaRuFXJPzMCcADOTmuh8Jate6l4ZF1q0Uy3EMksbPJavbtMqMQsnluAV3KAcY6k1Y1fw9DqtzbXcd5d6ffWqskV3ZsocI2NykOrKynAOCp5AIxV3TrFdOsUthPcXO0ktLcymR3JOSSfqegwB0AAqfs+f9foHX+v63OY8OTeJNY03S/EI1WNob/bNNpskKrFFAwyAjhd/mAY5YkE54Xtm/wBv69/wio8ZnUh9mM2/+yTAgj+z+bsxvxv83bzndjPG2ugs/BVjZXUBjvb97K1mM9tpzyr9ngfkggBdxAJJCsxUdgMCm/8ACC6f9ox9rvv7O+0/av7LMq/ZvN3b92Nu/G75tu7bntT0v/X9f156DvZ/13/r/htcW71TX8eNdQj1lorfRfOS0tVtozhhaJICzEEnDNkD65yMAR6jrmsaUmjadfa1ePPqqSXU97Z6X5zwIip+7iiSN+rOPmcNgZ9Rjqn8MWUlnrts0s+zXGdrkhhlC0KxHZxx8qA855z9KXUvDdtqMFkFubqzubAYtry2cCWPjaRyCrAgchlI6ccCj/Jflr+JWn5/pY5Wx8S65qUen6QJ7i0ubq/ntxqc+ntBJJbxx+YJFikUAOchclduQxA7UnjDTNdHh22g1HXJG8vW7JYLmCKISSo08QUyqYyodWJI24BwMjqK6Wbwnb3GmwQS6jqLXVvObiHUDMDPHIQQSMrsAIJG3btwelMk8GWU2iXGnzXl9JLcXCXUl80i+eZkZSj527RgouAF28dKE0mn2t+Fv6/rSdfz/X+v+G15fVLnUdJ8UeKb3Tbh5Liw07TZ5SyKWuI0eYyqRjALIG6Ac9MV1Hh7VrnW9a1i6juN+kwvHbWihVwzBN0j5xk8uF64+Q0tzpLaVJqOr2NtdavqF5aw2r27SRIJBHuAYk7QM+Yxb2HA7Gbwf4fTwt4R0/SECBreL955edpkJ3ORnnG4nGad9/6/r/gje+n9WS/Ux0uPEOv3msXGj6sliNNvGtLazeBGinZFUsZmKlwCWIGwjA55qk17cWHiLxrcw3VpZTqliBPc5aOMlCM4HLHngdzgd63b/wAGWd9e3Uovr+1t74hr2zt5VWK6IAXLZUsuQADsZcgc5pb3wXpl+2pmZ7hTqRt2YxuF8loP9W0eBwQQDzkcenFT9n+vK/8AX5Ct71/68v6/M57TfEeuSXGv6dpc93q9xbacl1YvqmnmzkaVi67CpSMMuVBBwOpGT2s6JrGrSrqMNtqs2pX8diZYtP1ax+xzpNzjGFQNETxkZwf4jmtOLwNYma+l1C/1LUpNQtFtLh7qdclFYsCuxV2Ebj93A74zzT4fBVkXuJNVvb7V5J7VrLzL2Rcxwscsi+Wq4yQMty3A5o6f15/8AfX+vK/6nO2et6i2napFe6zPPcrpU00thqmmrbyxSBesY2BZIuSD9/t8xzUNnp8upeMfB9xNfyIn/CPvP9nS3g8sEG3DKAY/lDbucYIwApUZB6aLwTa7pXv9T1LUZGtJLOKS6kQm3icAME2oAScD5m3HjrV608N2dne6bdRSTl9NsGsIQzDDRsYyS3HLful6YHJ49KTV7/1tL/NEtP8Ar/t3/JnC23jPUZdF8O2c17dWsl9FdTXF5Y6abmVUil2KiRpGyrncvzFSAB6kVfsvEWvarBpmki4nsbm6vbiJtRlsDDLJBEu4SLFKoAZgyjlSAQxA6Y3U8D2EGl6faWV5fWk2nGQ217DInnIJGLOpypRlOehUjgdxmp7jwlb3OnW0Emo6j9rtJjPDqPng3CSEEEglSuCCRt27cdqWn9ev+Q7Oy/roUPBUNzb6z4pivbr7XKupIDMYwhcfZosEgcZxjOMDPYdKr6n4q1DR/EUlnZT2viEvIM6ZaxsLu1U46su5MenmeX/vGt/QvD0GgtfPDdXd1LfTieeW6kDsX2KnGAMDCjjoO2BgDTigih3+TEkfmMXfYoG5j1J9T70dV6L8kPuNuJ/s9pLOY5JPLQv5cS7nbAzgDufauf8A+E1j/wChf8Q/+C166WuTtPGNx5Pie5u9Ju/J0W5dAqSREsqQxuQPmHJDlsHPHfPFICf/AITWP/oX/EP/AILXo/4TWP8A6F/xD/4LXoTxgTdaZBLo94h1OR0tnDRlX2wGYHlgeQCBx1ByRVC7+J+k2uk2t68MiG5jmlEM80UJVI5NjfMzhSxOcKCScH0oAv8A/Cax/wDQv+If/Ba9H/Cax/8AQv8AiH/wWvWrNrMKeHTrNvFLdW/2cXKrEFDuhG7I3EDpzyRWPH45tUs/O1PT7vT2axN9FFKY3aaMFVIXYxG7LoMEj76+4AA//hNY/wDoX/EP/gteo5/F1tcwPDc+GtemikG145NLZlYehB61FqXj+LR7e5GqabLZ3dvJCpinuIljKSltkhl3bVXMbjLY+YY7gmFvGVxM8lzbabqUZbSnvILedrcQuA6jflSWyAwJ527fuhjg0ATJ4j02O6FzH4S1hZ1GBKukEMBjGM9enH0ph1/SjKZT4P1cyGUTF/7H5Mgxh8/3uBz14qVPEF3u8NfaLbUla+3KWj+z+VcOLZ5AGydwzsYrjbyPmwOC618fWdxCs0umajbRL9qNy8wi/wBFFuQJTIFkJ4JAG0Nn6c0ANg8T2FrPPNbeFdahluGDTSR6SVaUjoWI6n61mz39jdeJ01u50XxNLKkHkLbvpYaILkN0K7s7gDnP6cUJ8WtJksZ5hBsliaEbHvINirLu2tJKrlI/ukEMcg4HOQa7DRdTGs6Pb6gttNarOCyxT7dwGSATtJByBkEEggjBNAGFL4psprmC4m8La3JPb7vJlfSiWi3DB2nqMjg461C2u6S1xJO3g7VjNKnlySHRvmddxbaT3G5icepJ71LP8QPD0fiazsl8RaR9mltJ5JX+2x/LIrwhBndwSHk477T6V0wuUkshc2uLpGj8yPyWU+aCMjaScHPY5x70AczF4nsYFiWDwrrcaw58oJpJATPXGOmc02HxJp9vbNbweE9Zihc5aJNIIVj6kDjsPyrE0XxXLovh6DXtYh1i6k1aLz5Y5biHyYtmMmIF8JuD8JkZ8vgA9dPUvEUOia7d6uJLqewbSFvDD5zFcmRUDBWO1BtxnGAPmJ5JyAWbvxNYX6RrfeFNauVikWWMTaSXCOpyGGehHY0kfiPTYb1ryLwlrCXTLsaddIIcruLYLdcZYnHqSe9Vrr4oaXaWMM0kI8ycO0Y+1wrFKsaxl2SZmCOMyBRg8sCDghsdPHrENz4di1myilurea3W5iSPaHdGUMD8xA6HPJoAyv8AhNY/+hf8Q/8Agtej/hNY/wDoX/EP/gteo4fHtkNNivNSsbzT0n059RhE3lsZI027gNjH5vmUgdww75Aj1Dx4uk293/amlT2d1b+SwimuIgjRysyrIZN21VBVg2ehHfIyAWP+E1j/AOhf8Q/+C16P+E1j/wChf8Q/+C16zYfGrXN8tzHZ6lFu0q5uo7OUweS4hmVDJuUlifmBBBKlDkBiRUyeI7mWw8J3VwmoQvqMqoVjMBSdmt2k+fuFOGI27eV5xxQBc/4TWP8A6F/xD/4LXo/4TWP/AKF/xD/4LXplr46trlAzaVqFvskuEuRN5INqINvmO4EhyvzDG3cTxxyM5cfxZ0iWxuZo4D5sIiZY2uoNoSRtoaRw5WLB+8HII44NAHVaPrS6x523T9QsvK2/8ftsYt+c/dz1xjn6itKs/QtWGuaNBqK20lssxbbHKyscBioOVJUg4yCCQQQa0KACiiigAooooAKKKKACiiigAooooAKKKKACiiigAooooAKKKKACiiigAooooAKKKKACiiigAooooAKKKKACiiigAooooAKKKKACiiigAooooAKKKKACiiigAooooAKKKKACiiigAooooAKKKKACiiigAooooAKKKKACiiigAooooAKKKKACiiigAooooAKKKKACiiigAooooAKKKKACiiigAooooAK5u88E2V3darML28g/tRGWZIvK2oXSON2XchILJEqnJI6kAE5rpKKAMKbwrDNY6VCNRvY59Jk8y1u18rzF+Rk2kFChGxyv3c9855qnB4Dt7KG2Gm6xqdnNatP5NxF5LOscrB2iO+Mhk3AEZBYH+KupooAydWtZYfCN1ZWEE97KLQwRR+YvmOSu0Es7Ae5JPr3rF07wVFfaNbnxA97Jd/2d9h2TPFm2UlS2zy1xncikMcnge4rsKKAOdPg+N7g3Umr6i965j8y6Pk7pERXURsvl7Cn71zjb1OeCBUdr4GsrOWLyr+98mO0lsxb/ALoIY5Dl+kYIy2DwRjAA44rpqKAObg8GRQf2UV1fUWbTZxcIzeT++cR+UN/7vp5RKfLt4OfvYYXbfwxptvqGr3YjeQ6vj7TFI2Uxs2EKO24DJ9TWvRQBzcfg50hihbxHrUkcDJ5KNJCFRFVl8sgRgOpDc79x+VTnIzWvpGlW+i6TDp9nu8mEHbuxnkknoAByTwABV2igCjNpvm+IbTU94H2a1nt9mOvmPE2c+3lfrVuZGlgkjSV4WZSokQAshI6jIIyPcEe1PooA5O3+H9pb21pENW1Jza272iO/kljA5UtH/q8AHZjcAGwT83TDY/h+kQTyvEmuIY7ZbZGEsO4Krhx83lZ+8On3cErjbxXXUUAcvD4Es7SU3NhqN9Z3xmllN5AsAb94qB02GMx7T5UZ+7nK5zkknYvYpbTw7LBaxXF/LHb+WieYpllO3HLOVBPckkVoUUAcVovgmK98M6dH4mF7JcxaWdPa3uJIv3Csqq+3yuMnYuGySAB0Oa1m8KI91JePqt+17IsaG5Ih3bE34Tb5ezB8xifl649BW/RQBy9n4DsLO8hmS8vGjitZ7X7OfKWNo5n3yAhUBGW2n5SANoAwMgpD4Dt4Y9NRNY1LbptytzCD5HLLCsKg/uuQEVh/wNj127epooAy4fD1hDqOpXYQs2pAfaI2xsPyBCQMcFlVQfXaKzIfBRg09LOLxHrQigCLbZeE/Z0UEbADFhwQQD5gc4A5656eigCjo2kwaHpMWn2jM0UbOwLhQSWcueFAUcseAAB0Aq9RRQAUUUUAFFFFABRRRQAUUUUAFFFFABRXOeO/FbeC/CsusJY/b2SWOMQed5W4uwX72Djr6VmaP491CXxZbeHvFXhuTQry+ieWyZbxLmOcIMsNygYIHbH9KFrt/XUHpudtRVGLW9KuNUk02DU7OW/iGZLVLhTKg90ByPypV1rSn1Y6Wmp2bago3G0FwplA9dmc/pQBdoqi2t6UmrLpb6nZrqDDK2huEEpHX7mc/pXFar8Vv7Mh8SP/AGN5v9h38Fnj7Vt8/wA043fc+XHpzn1FC1dl/WqX5tCbtv8A1o3+SPQ6KpatqQ0vS3vDGsm1kXa8yRA7mC/ecgDr689ByaSfW9KtdSi0+61OzhvZv9VbSXCrJJ/uqTk/hQPzL1FZfiLxFp3hbRZdT1edYYI+AC6q0jddq7iAWODxntWcfHOkR601tNe2UWn/AGCO8TUnu0ET75GQKD0/h655z0oD+v0Oloqpdatp1jp4v72/tbezIBFzLMqRkHodxOOanguIbq3Se1ljmhkUMkkbBlYHoQRwRQBJRWdF4h0We/Sxh1ewku5MlLdLlDI2CQcLnJwQQfoaluNY0y01CGwutRtILy4/1NvJOqySf7qk5P4UAXKKpnV9NXUFsG1C1F4zFFtjOvmFgu7G3Oc7Tux6c0llrWl6lcT2+nalZ3c1ucTRwTq7RH0YA5H40AXaKpQazpd1fz2NrqVpNd24zNbxzq0kX+8oOR+NR2viHRr27S1s9XsLi4kj81IYrlGdk/vBQcke/SgDRorE0TxhofiGe/i0rUbedrCQpLsnRsgAHeNrH5OcZOOQfSr+navpusQvLpOoWt9GjbXe1nWRVPoSpODQBcorPtPEGjahceRYavY3U28p5cNyjtuAyVwDnIHOKkt9Y0y71CawtNRtJ7y3/wBdbxTq0kf+8oOR+NAFyiq99qFnplo91qV3BZ26femuJBGi/VjwKyPEPjHSfD/hV9eku7ee2K/6PsuEAuGPRVbOD+GeAT2oA36Ko6PfvqWjW97MLVTMm/8A0S5+0RY7FZNq7hjvijT9b0rVpJo9L1OzvXgOJVtrhJDGfRgpOPxp9bCvpcvUVmDxLoZN4E1iwdrFC90q3SEwAdS4z8v44rM8NfEHw94n0SDU7S+itY57j7MsN3NGknm5IVMBj8zYyBnJFJa7DOmoqquqae91c2yX1s09moa5iEyloARkFxnKgjnmsjVfGWm2nhDVNe0i5tNYj06FpGS1ulYEqM7Sy7sH8KTdlcdm3Y6Gis/TdXivfDdrrFzstIZ7RLqTzJBtiUoGOWOBgDvx0p9nrWl6jdTW2n6lZ3U8H+tignV2j/3gDkfjVNNOzJTTV0XaKpRa1pc+qSabDqVnJfxDMlqk6mVB6lM5H5Uh1vSl1YaW2p2Y1AjcLQ3C+cR1zszn9KQy9RXNaj460jRbWSfWJ4bVBqAsUH2qJi53KC/3vlC7ssDyoBJFaEfiCzfUpLZp7ZYhHA8U/wBqjIlMpYIAoO4Z28EjDZ4zg0LVXD+v0NWioTeWq3EkDXMImijEskZkG5EOQGI6gcHn2NQ2GsaZqts9xpmo2l5BGSry286yKpHUEgkCgC5RVPTdY0zWI3k0jUbS/SNtrtazrKFPoSpODVBvGGir4ofw99ug/tJIfN8nzkyTz8mM7t2BuxjpzRsBt0VgeGvGGm+ItOsHFza2+oXlstwdP+0q8qKRnpwSPfArS/trS/7W/sv+0rP+0Nu77J56+djGc7M5xj2p21sBdorE0nxfout63qGk6dfQTXenuFkjWZGLcAllAYkgFtpOBhgRWjJqdhDHdSS3tuiWf/HyzSqBBwG+c5+Xgg89jmkBaoqL7Xb/AGpbb7RF57RmVYt43FAQCwHXGSOfeqltr+j3kN1NaatYzxWeftLxXKMsGBk7yD8vQ9fSgDQoqh/b2kfYri8/tWy+y2r7J5/tCbIm44Zs4U8jg+oqzaXdtf2sdzY3EVzbyDKSwuHRx6gjg0ATUVS/trS/7W/sv+0rP+0Nu77J56+bjrnZnOPwom1rS7fU4tOuNSs4r6YZjtXnVZXHshOT+VAF2iqcmsaZDfCym1G0jumO0QNOocnbuxtzn7vP05qOHX9HuLWe5g1axlgt0V5pUuUZYlYZUsQcAEcgnqKANCiqlvq2nXem/wBoWt/azWWC32mOZWjwOp3A44rL1Lxx4d0zQf7Zk1aznsjKIkkguY2Ejk42qd2CQOSM9ATQBv0VgL4usG16SzM1sLFdOjv11D7SvlMryMgGemPlBznnNbRu7dbxLRp4hcuhkWEuN7KCAWC9SASBn3FAdbEtFUr/AFnS9KeFdU1K0smnbbELmdYzIfRdxGT9KrW+uCfxZfaL5G0WlpDc+f5n3vMaQY244x5fXPOfagDWoqlp+s6Xq/m/2VqVpfeS22X7NOsnln0baTg/Wiy1vStRup7bT9Ts7u4tziaKC4V3iPT5gDkfjQBdoqjaa3pV/eT2ljqdnc3Nv/roIbhHeP8A3lByPxrmdR+I1raQ6RDbpp76nquTFbT6rFGiLkgMZF3A5Iwu0HJ47GgDtKKzrfWrU6L/AGjf3NnbRxgi4cXSvFC6naymTgcMCDnHNTJq2nSaX/acd/atYbS/2tZlMW0dTvzjHvmgC3RWPpPiS11rV721094bi3toYZUu4JhIkok39MccbOuT1rUSeGWWSOOVHkiIEiKwJQkZAI7cEGgCSiiigAooooAKKKKACmyyxwQvLO6xxxqWd3OFUDkkk9BTqKAMHSvGWi6lpNtfPf2lqt0xWNJrlAWOcDHPORgj2Iq2fEuhCFpjrWniJY0lZzdJtCPgIxOejblwe+RjrXIReHtfsvCOk6SbCO7NjcwSkRzqoPlTeYTk44YEADHY560eJPCOpz3N/wD2Fp1tFbXvhmbS0gR1iSCUnKjAH3cMQMDqAOBzQB3D6nYR3kNo99bLczrvihMqh5F9VXOSPpSajq2naPbpPq1/a2MLuI1kuZljVmIJ2gsRk4BOPY1wsnhnW7jV1e4sXNvdyWkzFb1ALRodoIcYJYDZvXb/ABMQcAk1q/FGWCPwOftJhAbULEKJmCqx+1REjn/ZDZ9gaAOjfWtLi0k6pJqVmmngAm7adREMnH3846nHXrUU3iLRLeytry41iwitbsgW873SKkxPQIxOG/CuUfwxrFxrlzrkRhWCXUra9j01ZFIkWOIxszNjG85VgAcfu157ijrfhTxM1verp/mu19JdSqsF4saQGUriN0cFJI8LubKlgWYLkGgDpL/xvY6bbalcXD2jx2d5HZxCG9jd5pGIUqV/gYNuBU8/ITV8eJLE6u9qLqx+zpbCdrj7bHlSWCgFM5A5HzdOQK5rU/C2s3jeIGEUTm9urG5hPmAGT7M8TMMdAWEZxk4GRkjrV210rWpPGNte6vaRTQNpb2dzIki7QzOHwF6kDGzOBnrgdAAdHFrWlzu6QalZyNHF5zqk6krHkjecHhcgjPTg1DP4m0G106HULnW9Ohsp22xXMl2ixyHrhWJwTx2rkY/A2qP4PvrO7mim1BHihsiz4D2ttLvhjkbB+/gluD9/HOKq6n4d8Q3NhNNY6Zc2s9080romqqZRIY4o0MgYGJkOxtygEhQCMszLQB6UrB1DIQysMgg5BFLUFjFJBp9vDOVMkcSq5TO0kAA4zzip6ACiiigAooooAKKKKACiiigAooooAKKKKACiiigAooooAKKKKACiiigDzz4ufD/V/H2nabBouqRWZtJmeSOdmVJM4w2VB+ZcHHH8R5FdxpNnLp+i2Vlc3LXU1vbxxSXD/elZVALH3JGfxq3RQB538cgzfC+4CNsY3duA2M4PmrzWHZWWq6d8YYrXxfrEmrXz6XJ/wj968McEauR+8Uogxvx3z0+ox7BRQtrev4qwPX+vO581+DbKWTVtA0u4n0/TvEGn6mZ54xpdx9vkO5t4lmGVKMD16YxW94OHhqAWGjeItHu7jxpDrLzSm3tmW4VvMJEzS8Zixgn5iD6GvdqKpS1v/XTbtsJq6a/rr/mfNXiPVbOTUbxYtOstIu7fxHHNLE9tcSXv+sA85rhjtRWzwo49KveK/wDj0+JH/YesP/Qq+h6KUPdt5f8A2v8A8j+ITXM/67S/+S/A5T4kf8iHcf8AXxaf+lEdcr4iurHTdZ1xYXt7ue7uopJtB1G1Pn3rhUCtbSK2cYAx8rAMD93mvVaKFo7/ANdP8h/Zsc54/QyfDzWsRs5Fo7bQu48DJ4FZNh/ZmsfFQ31uLa8hPh+IwTKA67WnkB2n3xiu5opLe/8AWzQdLf1un+h45b/aLDTvCV79rsbDTLRb6MXGoWrT29vL52I9wV02fIHVWJwOR3Fd54BtUtvD8zQ38F9BcXks8cltaNbwqGOSI1Zmyu7cQQSDniunopp2X9d7itol/XY8givNHn8GQ6RYrE3iCTW3lt4EjxMHF4SZumdoQHL9MAjPak1aGQ33ijStW1rTNOm1K8LRJdaXLNdTR7V8poGWVd+3AwFUlWBr1PSNKg0XThZWrSPGJJJMyEE5d2c9AO7H8Ku0LT+vT/If9fn/AJnnb6ZPcy/EFtOjV9YeJIYJ1TEhb7GmAD1HJPfvVnT77w5qkNhbeGYQ+q2lhLHAbZCn2DMeNkwyNuWwNjDORnHGR3dFJ6pr+v61He1vL/gf5HkPhWIXI8N2j61pkd7pe5nsLfSpUvI28plkWZjK20EkksygMwBHUVd0CxtYPh/8P5YbaKOT7dA+9EAO50fcc++efWvUaKd9b+af3Mm2lvKx5re39ja6b43tLm0S9lTUFllsmLDMLpCPMYL8xjHJOOoVh61ledda1qXicaPqdjqN3c+G9lvJpVo9vG7KzgBSZHDsN2NwPGQOK9fpksYmheJiwDqVJRirDPoRyD7ip6fK34WKTs/nf8bnmL6joWq634Xi8IG3+1QWl3DH5MW023+jnbG5x8jBsfKcHjOKq+D4hczeF7R9a0yO90tiz2FvpUqXkbeWyyLMxlbaCSSWZQGYAjqK7/T/AAtFZ6rHqN3qeoapcQRtHbG9kQiBWxu2hFXJOANzZbHfk1uVd9b/ANdf89TNRsrf1sl+hx/iyW3sfF3h/U9aKppFstwGmlXMUFwwTy3c9F+USAMeAT15rmNUEc/gPxle2Ee3Sbq/jlsSBhJB+6EkiD+6zhjkcHk98n1eiktP687lS1VjF8YSCDwVq7/2fLqKraSZs4XZGmG3lQV+YZ9ua8M8O3Z1LxVZDw3/AGdbXE/hy7t4E0y0mtwkgTKxs8hPmup6sO/Wvo2iptv/AF0a/Uq+39dU/wBDxXwCPBl6vh3TLXQrhvEdlaSR3zRWhiFu5TD/AGknAYMcgA7uT2rmtJurSz+FWgMYnSXw/wCJop9YC27BrdBJIQX45wMdM46V9H0VfM783p+DuJaK39bNfqeAX+uWGpaj8StUtdMm1mwngsCsJ86ASJjG87cPsGN3HUD0OazUvbe6m8bSWUmnm3n8Lh1/s2yktYH2ttyEcksR03dP1r6RoqelvK34WBu7v5r8Lf5HFSf8kIf/ALFw/wDpPWVb3WmaprvhSDwn5P2zT7eX7X5Ee37LCYCojkGBtzIUIU4Py5xxXoGqafFq2kXmnXLOsN5A8EjRkBgrKVJGQRnB9KmghW3to4UJKxoEBPXAGKcnzSk+/wDwf8xJcsYx7X/T/I8qsJrCXwl4b0KxQDxRaXts9xbhcTwSK4NzLJxkKy+Zljw24YJzUkl3Y2GuSWlo1vfvNrYmk0S9tSt9HKZRmeORW5QffBKkbRjcOleq0U+bW/z/AC/yG9Vb+uv+Z5XdOkPhnXbmfCw23i+OaZyOI41uICzH0AAJJq/e2A8QeJ/FsNhIjSS6Tp81nKpyvmK0zxMD6bgpr0WildqHL/WyX6AtG/P/AOSv/wAA8ovFvvEnw+1jxHbwOj6tdW5MLwNIy2cLqrqY1ILDiVioIJDEd6eIbLWYNfvZtatdVtptKFrdJ4d010wobKsSZHVnUFvk67TyO1eqUUX7f1pYP6/G5wngzUor7xRcrBNpmriOxRf7X02AxAANxBINzKWHLDBGOflHe9eXNtafE9UupEie80gpb7+PNdZCWVfUgEHHXFdbRSlrb5/jf/MFpf5fhb/I8u0CxtYPh/8AD+WG2ijk+3QPvRADudH3HPvnn1rKv9Whme0ht5dO094vEsMkumLayveRsbsAyyTF8KHBzkpghgoJ4r2aiqTtLm87/l/kD1VvK35/5nJ+H7i3h+IHimykkSO7mlguI4m4Z4vIjUuB3XcCCR3rG8V6c1144XQ2ikay8TRRG5KcAC2YtJk/7SmNK9FoqbLS479jyW3tNX1fwl4okiWdtRsLBdDjwp3SmHJlZQDk79w6HnAqG4MGo6bqd5aa7pF19k8O3du1tpWmSQbIygISVjK4QqRwjAHluOtewUUPW9/63v8Amwi+Vp9v+B/kjzjxNZnTLDwjPZNY6dplmxeaS4szLbwuYcRvIqsmADkbicAkZrb8BQItnql1BqlrqMV7fNOHsrR4LdWKKG8vc7bgSMlgSCxb3rrKKpu7b7kJWSXY830K60KLSYdE12Dz9fXVXlktI1IuTN55ZZ+CDs24O/ONvHtVC/n0638M+KdF1JFbxLfXly9vb7P3907Mfszx92CjZhhwu05xivV6Kn+vy/yLvb+vX/M4vRrKP/hJvE9zdQxvepDbRtMVBYfuOQD6ZzXMvYta/CrwNPYJa2tnEbW4v5JbQzRKPIYiSVEZSwEhUk54OGPSvWqKd9/l+F/8yUrK3r+Oh5O8CTWd1q51Oy1jS5dYtbjURptg8dtsRcM4y7iQZ8tmIJA2HPetPxDe6BqXh3xBqWgx+eoW2a6vrfLQTBJAflIOGZVzuYDpgE8YHotFLpb+ui/Qf9fjf9Tg57aw8S+O9StlkjuLDUPDUaCSJgyujyyjcpH1yDS/Dv7fqtxeazrUbJd2saaON38RgJ81x7NIT/3wK7W7ge6s5YI7mW1eRSonh274/cbgRn6g1DpOl2+jaXFY2e/yosndI25nYkszMe5JJJPqaa0/rzf+bQS1/ryX6pM5C8vdH0jxpr7+LTCkd9bQpZtcJkTwhSHhT+828klBydw4NZUpt7S98SeTpN1PbR+GLMLp0ruJSmZx5bEEtnHB5J69a9QopdLf11/zH1/ry/yPKtF1CG/8ewtDqFhqUB8P3MYXRbN4FAWSLEYYyMHcAkADbtzyBmn+F7uyTUtK02we11yC2sZo43t7UwX2moEH7ubDbdzYC4IQ7hnB5I9SopvVW/rr/mL+vy/yPLvCF3ZQ6xoWmadLaaxDbQSxxEWphvdKUJ0uMMQc4CkEIS2Dg8mn+C1BsfABIB/0O77ewr06ihu/9ev+YHj225j0DSrxZ7e3sbXxHqMlzNd2zTwRHzphG8iq6/KGP3icKSCelWTBAliNWn1G11XR31+O8vmsbF4rVAIdu8As4dPM8tmYEgEEnocesUUJ219P0/yDe/z/ABv/AJnGeE7zTNQ8deJbrRGikt5YbMmaFcJM2JcsG6NxgbhkcYzxS+IPDN9ruvNJZWdnpLxhQNbSR/tbjAO1VjK/KOnzsRx9wiuyopdQ7ldoJxppgiumFx5OxbmRAx34wHKjAJzzjgVgLpPih2dU8YQM0Z2uBpaHacA4Pz8cEH8RXT15rd6w2iN44hfXryG6iaW5tmlaIiFRa2xDZZcAGR9ijoecDIJD3DY6X+xfFf8A0NsX/gqT/wCLo/sXxX/0NsX/AIKk/wDi6xH1yawtfC+q3XiZRpd/csl5NK8KxR5tJMKXI7Sx9z944PpXNw+M9X1TRdJlj8SW9vYzvqCyapPcxWwaWOciBHcxMqnyiHCbV3BeuMgoDv8A+xfFf/Q2xf8AgqT/AOLo/sXxX/0NsX/gqT/4ur6TXVz4PiuDd+XdPZrK1xboB8+wMSodehPYrnB6A1wcHizVoPD9rNpWqya7PL4emvLklI5Ps06qhRj5ajrucbDydg77iQDrf7F8V/8AQ2xf+CpP/i6rtaa+moR2D+N7RbySMypAdNj3sgIBYLvzgEjmsDVtdnSG5tNF8SfabMrauuoS3SKrSSPIWiE6xsE3KqnO07c9sjC6Pr13qOoadbzazcCa+0vUyLVnhLiSO6URsjKMt8u8BgcMsYYAHNMDclh1yD7L53jmzT7Y4S23adGPOYgsAvz8nAJ4q1/Yviv/AKG2L/wVJ/8AF1xuj+KEi8IeCgniBjKLu2tbxZpITuxbK0qE43fISAeQwJIbNdBYXHiB/EV9pEup3Us2myvdCQxQKtxA6jyI2/d8fMJBlcH923PIwgNL+xfFf/Q2xf8AgqT/AOLo/sXxX/0NsX/gqT/4uuBsfFWt3OkTtL4msRJcQRtMjXo8y0m81QyPtgH2UEEpht5BGcnDNXongm9ub/wnbz30k0s/mzIzzOjk7ZWAwyAK4AAAYAbgAcDNAEP9i+K/+hti/wDBUn/xdH9i+K/+hti/8FSf/F1naxeeJ18YaGsel6ZtzcbR/acmHGwfe/cfL7da6+2kn+xrJqMcNvMATIsUpkRfoxVc8ewoA42xutV1PVrrTLHxzBLd2mfNjGjgAYba2GLYbDfKcE4IIPIxU7x69HrUWkyeMkW8mhM8aHRhh0BwxDbtpIJGRnI3LkcjPJW2unT/AA1GLDxRIVl1jUmmmM1ukaRrNO2TKIm2k7llA2tuIwAFPFlvGMV9b6Hdy6zbWurLoV+8kzx/6qUJF85jxk4YH5QDkqwAyCAwOx/sXxX/ANDbF/4Kk/8Ai6P7F8V/9DbF/wCCpP8A4uuGTxPrFvpYjl1eLyVvlt7q9fU0aCFWgZlAuhF8oL4OWQsCVUnDDHoPhq9uLzwZb3Op6hbyzeU4kvrZgY2CswEisVAIwAd20KeoGDSAr/2L4r/6G2L/AMFSf/F0f2L4r/6G2L/wVJ/8XXD+H/GepbtDmGu/2pcax/aEZimaIQq8R/cKNoBVmLIOvzCT/cxHaeLdci8N3d03iO3nmNvbvcATRyTWMrXEaSb1MSpAdrsAkhIBQkkhXNAHef2L4r/6G2L/AMFSf/F0xtK8To6I/jGBWkOEU6YgLHGcD5+eAT+FcwviS6Phi0nPifel3qEkAuRdWuyCFVkcLNOgKJJtKZI3Z2rgHLEw6Z4mOsR+HdTu9XnaeM3VpMYAgDzIhYbAVCvI6legxnIUKcigDqbay8Q3jTraeNbWZreUwzCPTY28twASpw/BwwOPep/7F8V/9DbF/wCCpP8A4usG41nUpdP8XS6Jrkl1Po+qLKscAgd2t/Jhd4sbCP8AnsqnG7K4JJBpmqa3q8Ok6dqL6v5Gm6tPLMZ7uaO0S1hKkwJ5nlHbkEE7gSWAXPJyAdD/AGL4r/6G2L/wVJ/8XXQ2ySx2sSXEvnTKgEkoXbvbHLY7ZPOK8tg13XJ9a0t5vEUVwrzWkMi2Uqor5ZCzLC8YaWORWU+YrDbyQCAQfVqACiiigAooooAKKKKACiiigAooooAKKKKACiiigAooooAKKKKACiiigAooooAKKKKACiiigAooooAKKKKACiiigAooooAKKKKACiiigAooooAKKKKACiiigAooooAKKKKACiiigAooooAKKKKACiiigAooooAKKKKACiiigAooooAKKKKACiiigAooooAKKKKACiiigAooooAKKKKACiiigAooooAKKKKACiiigCvf2pvtPntVuJbUzIU86EKXTPcbgy/mDUWj6YujaNaabHPNcR2sSxJLPt3lQMDO0AcDA6dqu0UAFFFFABRRRQAUUUUANaKN5EkZFZ0zsYjlc9cHtTqKKACiiigAooooAKqalpkGqW6R3G4GKVZonXGY3XowyCMj3Bq3RQBn6Zo8OmzXE4mmubq6Kme4mI3SbRheFAUYHoBWhRRQAUUUUAFFFFABRRRQAUUUUAFFFFABRRRQAUUUUAFFFFABRRRQAUV558XNI8catp2mr4Au5YGjmY3SQXIgdhxtO4kfKPmyM85HBruNJjvYdFso9VlWa+S3jW5kQYV5Ao3EexOaALZOBk1zfhDx3o/jYagdFM3/ABL7gwSeaqjd6OuCcqcHBODx0qr8UPED+G/h3qd1b5+1zJ9ltgv3jJJ8ox7jJP4V5r4DvR4V+Imh2n9i6to9pqelpp851G1EKzXUYLB1wTnPTsfmpx95tf1ff/gfMJaK/wDX9f5HqFl4+0u+8I6r4ihgvBaaU86ToyL5jGIZbaN2D7ZI/Cq+ofEvR7DS9JuY7TUr+51e2W6tdOsbbzrkxlQdxUHAxnnn1xnFea6drul6R8IfHGjanqFvaaoby+RbKaQLMxcALhDyc+orR8OSw+EfiD4fuPFMsemwT+EoLWG4u3EcaSoVLxlmwAfY/wBaIq6Xov8A0lt/ihbX9X+aX5M9P8MeK9N8WafLc6Z50bwSmG4trmIxzW8g6q6noa2q5nwjr2g+IbvWLrw5ZBFjuhFcX6QoqXsgH3ldTmQAcZPrxXJ3diLHwr4y13TI9urre3US3Rdt0MW9d+087ABluB1GeaT3+V/y/wAxr9bfn/keoswRCzHCqMk+grL8Pa9F4j00aha2d1BaycwSXCqvnoejqAxIU/7QB9q4nSNBRdUki/s7QLLS7zSpPPsLTUTdfbOVKTFGiQHHIL8k7hnoKx7O0Fv4C8BWNlp+ntYaigkvLa4mNrDdzeSCokZUbcSQTgj5ioBp23+X4t/5Cv8Ar+S/zPY6K8nOjM8GnaVqQsRYt4lAjsbC+adLVDbOWhLbUIG7J24wA+OlP8TaZpdnf6xdfZrDUbLSrWJWtjcNbXWkoiZH2Y7SvI5GCuSMbjjAWn9eif6lW1t/W7X6Hp17eQadp9xe3knl29tE0sr7SdqqMk4HJ4HapYpUmhSWI7kdQynHUHpXN+Nbe11T4Zav9otxcRnTZJo1uIwxDCMsrYPRgcH2NYC6Zo0+t+HNFvLa0GhNpUk9rZ7VFvPcbkLEoPlYhWLAHP3mPvTS1a/rZv8AQV1yqX9dP8z0Wse+8UadZaZNfbpZ4oLxbKQRJ8yytIsePmxwCwyfTpms3wGyyaTqUFvI0+mwajNBYs53AwjHyqT1UNvUewx2rirvRNIs/BHiCLTrK2s2fxFFBIbVBE4QXUe1crgjAbj0zxSXxJeSf3tf5h0+dvz/AMj1+ivMfEVn/wAItc+JF8KRfYWk0IXDJASo8wSMplxz8+0nLYycDrVvwlpklj4psprG20TTLO4sHMsFhqrXL3vKFJipiTcRkgvkk7+TTWv9ev8AkD00/rp/mdh4i1+08MaDcatqKyvBBtykK7ncswUKoyMkkgYq9a3MV7Zw3Vs4khmjWSNx0ZSMg/ka4zxffz3PjTRNLtdMu9Uisg2pXcFoYgehSHPmOoxuLN1z8g4rm1ka5+H7eHNStrizk03XrO1+zyuFlW2e6jaH5kYgfIwXKseVPNEVzad3+tvzB6f15X/L8z1yivL9a0lD43XQYtE0m70u10tJLKxvr1raJGaR/NkRRG4ZhhOeCucj71N2Jd2eg6TrEdh4gvItOlm23epkWDRhwokLmNjLIBgZ28fMeM0un9ef+QbOz/rb/M9RZtiFj0AzWIPFlifAx8VeVcfYRaG88vavm7AM4xnGfx/GqHw6nlvPhzYtLMs7YmjV1lMqlVldVw55YAAAE9RiuXW9th+zrNZGdBdLpz6eYN3z/aOY/K29d27jHWi2rQ42dj1GOQSxJIuQHUMM+9OrzkeG9M1rxh4mj1qzW6EOn2YRJCSqN5cnzAdAwxw3UdjzVTw+lp4hutAj8XMl3EPDVtdW0d22UkmOfOl5OC6gJz1G7PGadrt/13/yJV+W7/rb/M9E0jVYNZ04XtqsiRmSSPEgAOUdkPQnup/CrteN2u+50bwpp1vBZ6lpNzPqBEF/fNHDdOszeUGfY/mfKXYKQd2M9qupov2g+H9J1j7HLZHxBcLHaWd61wkEf2SU+QXKqcBtw24xtIHTimlcNlf+uv8Aken6hqFtpWnz31/J5VtAheR9pbaPXAyTVdNZt38SSaKEl+0x2i3ZfA2FGdlAznOcqe1YPxG0vTpPhlqUE9nbvBZ2peBJIwVhKjAK56YGRmss+GtD1D4lNYTafby6dDoEIitAo8gAzyfwD5Tjtxx2pdfv/Jj+zf8ArdL9T0KivIFe8u9H8H6ZNBbajYSG8ja21K8aGK4eN9sSO2x9+F3EKRztz2ruPAdrc2Wj3dtcvZeVHeyC3gs7w3KWqcHyt5VT8rbuMcAgULW4r6J9xbvxxZ20t2YNO1K9s7F2ju761hVoYGX7w5YM+3vsVscjqDXRwTxXNvHPbuskUqh0dTkMpGQR+FcV4Q1XTtG8DXyatPFC2mXN2L+OQgMpMrvyD13KwI9cijSruzh+IM05jXTraXw9ayQwzBYvLRZJCRtzgbQyggdMil/X4N/poN9X/W6X66ncUV5P4c0vT9evvCEd/Ct3bDRryZULHY5+0Q4JA4Yc5weM4PYVfvICPFE3gwKfIv8AUo9VwBgC25klH4zR4PtKKq21+v8Anb/NifX+ul/8l8z0mivHVttS1R9U1FrfRodWt9YdE1W71V4p7ULNiOLZ5RCoyBRs3YcNk8mu58fSlNFso55WgsJ9Rghv5FcptgZuQWHRS21SeOGNT0Xnb8bf5j2bXa/4HSXNzFZ2k1zcNshhQySNjooGSfyqnoesDXdKjv47K6s4pgGiW6CBpEIBDgKzYBB74PqBXB6npWk2974m0bSrS3OkDQzcXNkiAwQ3ALeWwXorFRkgf3VPvXX+DbO003wJpKWVvHbRfYopWWGMKCxQFmwO5OT7mhWs5en6/wCX9dE37yj6/p/mb1ZHiDxDHoCWW6xu76a+uBbQQWnl7mfazdXdQBhT3rzbS57f+3PCWqaVa2tsNTvWzeSaj5l/extFISJkEYGMgHG87SFAA7df4/W7e88LLp00MNydYHlyTxGRFPkS9VDKT+Yo7etvy/zK7+jf5/5Gzo/iOHVr25sZbK806/tlWSS0vFUPsbIVwUZlYEgjIJwRzWxXleoTavbR+Nb6+uYz4ls7BIYGtIjFGtocssqAl2zkyZJJwUGPetJaalo1jeX3hu20fTC+h3DrDpuqPcyXjAKUn2mJNzLz8+STv5p/5f5gleVvP/L/AD+49dorhItP8P6PFFdeEplj1SfTJpYIrZ94vwEBEkvB3ENjDk5y2MnOKw/CFjc/afDWqWsWjWjXKMbu7i1Z5bjUwYmLB0MS7nDYbljt2kDih6X8v+D/AJE30v8A10/zPT7G7F/ZR3KwzwCQZ8u4iMbrzjlTyKsV5BpF83hbwX4a8Rwoz+dpsunyIo+/IS0kH/j6sg95Kt32i3Flq/h/w3cWOn6taQ6U8gttSvGgiuLnePMk4jcOwznBHG8mhrW39df0X4ob0/r0X5/kz1SqWr6vZ6Hpsl9qLskKFVARC7OzEBVVRyzEkAAetecWGhx6nqHhXTfELWupQRxaltSC7a4iKCSPZGzkL5mwYU5HVR6V1Hj1ltbXQ76Y7LKx1eCa6c/djjwy7j7BmUk9sZ7UW283+tg6X8n+Bf0vxVBqGqDTbvTr/Sr14zNDDfRqvnIMZKsjMpxkZGcjPSt2uP1y6g1Dx94Wt7CaOea2ee7nETBvLhMDICcdAWdceuPauQ06z0e08HeHNX0vyxrzanFAk8Um6aTNxtliPOSgTflegAzgYoWrS7/52Da56/RXj09tqWqTa7fNBo8Wq2uqOkWqXmrPDPZBZB5SBPJIVCu35d2H3EnrW3b2mmWl9478Q38cwuLG6k23Fucywp9jhLGLPCsQTzjnAz0pL4b+V/y/zHZ83Ku9vz/yPRulZ1vrlne2en3diJ7q21A4hligYqo2ltz8ZUcYye5A7151otjaL4207Txpek21lqOk3DXNtb332prxMx7XuFMagty3zZbOW59WeHLKxs/Dvw4/s+3gg87UGefyUC75PsswJbHVuADnniqS1/ru1+hN/db/AK2ues0V5Dp+jWMPgm312KDbqkfiJhHd7j5iK2olGRT2UqSCo4OScZqTxDZ6Pe6B481DXWibV7WSeGGSaTbJbx+WPJRDnKq2c4H3ixBzS/r8v8y+X3redvz/AMj1W6uoLK0muruVYYIUMkkjnARQMkn8KwLPxra3N1ZpcaZqdhb37BLO7u4VWKdiMqBhiyEgcB1XP14qLxrbTXnwv1OG2iaaRrHIjQZLgAEgDvkA8d6tXXiLQpbPSGLQ6gmpTxLZJEFkLN94OAegUDcT2x60W9639f12M73in6/1/mX9H1m31u2nntElRYLmW1YSAAlo3KMRgnjI4rQryNNFsP8AhEdX1sQ/8TO28QTvBd7jvhxeYwh/hBGcgcHJzUfjye2kt/FGp2drateaY4jXUdQ1Hyp7SVY1ZVtkEZwORwWXcxPUUo629F+n+ZdveaXdr8WewUVwrafp83j7XdV1GJ5JNP0+1lidckxHExLqvTfgcHGe3c1z2gtHbeKfC9xpNnY2Y1KCZjImpGe7vk8kurXC7ACdwB3bmwTgUd/67/5E30v/AF/Wp63Vax1G11KOWSyl81YZngc7SMOjFWHI7EEZ6V5/4XsPD0+g6Dq+o3Hla9eTBbi4Rsz3Nwc+bBJwSUHzAoRhQvG3GayGs7XRfAur/wBh2dnZiXxE9retGwth9nFyQEeRVJRNpC5xwrHFO2tv63S+7Ub2v/Wz/wAj2Cq73ipqENoYZy0sbOJViJjXaRwzdATu4B64PpXlmoaTPY6N4htRBpel2M0Nmf7N0vUGm8pzNgygeWnl7lwOByUz1revdPsdD8d6TbaegsLWLRdQbMKklMyQkvjkk5ye5Jpf8H8E3+gf8D8bf5ne1nxa3aXNjZ3lkJ7q3vJBHHJDCx29fmYYyq8dT7V574Y0zS7TUtKsb2w0+7/tSylVdQsLgyJqaBQWa6icZJI5yS+CSMjOKh0ixsLLwj4I/s22t4PN11Wm8hAu5wkyktjqeAOfSnb3kvNfnYV7pvyf5XPWKK8202z0O8sL3WPEdx9m1uHWJYjeI/8ApMDCcrDEnBIUpsGwDDBs4Oc1veOyrx6Ja3j7NLutTSK/JcqrIUcqjH+60gQEd8470W28x9X5X/C/+R1dFea+IrPQ9J02SHQ5xFb2uuabJdWqHFvZnzkzt4wmRgkA4HBwM8s8YzwXV941jhnVzHoFuknlvkofMmODjocEH8aErq6/rRP9R7L+u9j02iuB8QW+n/D9tO1/T7XybSBJrW6RMkuJRvViTyzGVFGTyTIaxbrR7y0vvDeg31hp+pxSWE9zNa6hdmCG4vGdWkY4jfew3sQpHcntS32/rd/l+aJ6a/10/M9Yrm77xpbWNpfXgsbq6tbW7jska3KFridnCFUDMowrMFJJHO4dqPA8N1a+FBBc3FrcGKeZYfst0blI4w7bY/MKgsU+7yP4a4+cTP8AA/QzA6JdSX1k7PIhYCZrtSxYAgn5ycjI+op295L0/Fj6P5/gdxpviiK91X+zL3Tb7Sb0xGaOG9WP96gIDMrRu6nBIyM5GRxVIeP9OO25+w6kNJaTyhq5gH2YnO3Od2/bnjft2++OaxvsuqXfja9tvEV1by6jBpMv9kGzgMEUiSYErYZ3O9WVB97ADA9+K8+rabJ8BPsscsXnvpQ09bXI8z7T5fl+Ts679/GKXS/9PV/5fex21t/S0X+f3I7HVfEsOm6hHp9vZXmp37xed9lslQskecb2Z2VVBPAy2Tg4Bwas6LrVrrtgbqy8xdkjRSxTJskhkU4ZGXsR/wDXGQa5zRGXTPiHqdvqLrFcXem2bQF2/wBasYdZApPXaSCR/tA96vWmtS6h59x4Q0qyuoPtkkVzcT3JtxK67QXQpG/md1yccpinbW39b2/rzJvpfb/hrl3VvFGnaLrWlaXemT7RqsjRw7FBVcY5Y54BJVR15YCrLaxbr4iTRSkn2l7VroNgbNgcKRnOc5Ydq821uTUPEeqeKLjTtD1C/wDKRLDTLq3aARxSwN5jN88qt/rsA4B4QfStvTNdt9T8a+H9YkYQR6pocqR7zj98JI2aPn+Ic8dflPpRHW39dG1+Q5aXt/Wqv+f4HSyeKNNt7nWIrp3t00eOOS6mkUbNrqWG3BJPA6Y69M1VtfGEVxewWlxpWo6dLeK32Jr+NUS5YKW2gqzFGwCcOFOAeOK43Xx9uPja+tP9ItIbvTjI8fzKRAyvMBjrtXqPwrurzXdGe80e3YxX81/LvshEFk24QsZuvCgcbh/eA70lr/Xl/X3CW2vn+Bc0fVodZ01bqFGiYM0csL/ehkU7WRvcEEeh6jg0uqX8+n26SW2lXmpszbTFaNEGUY+8fMdBjtwc89KwfDlxFbeJvFwklWO2GpQ4LvhRI1vFkc9ycfia6ujon6D2ZyVn4/ju9DudZbw/rFvp1tBNM9xL9nwfKyGUBZi2cqQOMcda6mCZbi2jnQELIgcA9cEZrzu1/wCSA6v/ANemo/8AoyWrdhothonirw1LpcP2eW9sJ0u3DEtc7URlMhPLkHoTzzSvo/l+v+QPZfP9P8ztbG7F/ZR3KwzwCQZ8u4iMbrzjlTyKsV4/o+nR6p4W8IwN/Z2oPHp0z/2NqjtHDcDeB5qsFYb06cqeHJ4616D4Ku7W98GWUtgtwluFeNEuZfNZdrspG/8AiUEEA9xiqlomwejsb9FeO2Xh7TI/A/gm/itzHeXd5bQXFwkjLJNFJuDRMwOShHG3oOwqxrqN4dh8XWHh6NLGxV9OdoY5DBHCkrbZmBUHywVHLKOOTjNFvzt+X+YPSXL8/wA/8j1O9vINO0+4vbyTy7e2iaWV9pO1VGScDk8DtUsUqTQpLEdyOoZTjqD0rye+0ARaL4nhl0zQrLT30R5hpllem6HnKGKXARokCn/aHJKg9RWnH4d0S98U+FrEWNudPj0S5mS3iAWIt5luclV4PLE89+etOKu7f11/yB6K/wDXT/M7+1uxdmcLDPF5MpiPnRFN5GPmXPVeeCKsV5Su2WeWzvjt0q78XXEV8Gbarr5JKIx/utIEGOh4Heu48N2Wi6dc6nZ+H5iIYp182zjP7m1coCVjGMLkYJUHAJ6DNJLRPyX5J/qK+tvN/m1+hrW14tzNcxrDPGbeXyyZYiof5QcoT95ecZHcEdqsV5ZdW8d4fEdpJeW9uZvFCBYbvcILwi2iPkSFeitj6EgDBzg9P4Da0iTV9PtLBdOksrwJPawXHnW0bGNW/cnC4UggldowSeOaErq/kn+C/wAxy0dv66/5HWUUUUgCiiigAooooAKKKKACiiigCte6bY6kIRqNlb3YgkEsXnxK/luOjLkcEeo5ovNNsdQaBr+yt7o28glhM8Sv5Tjoy5HBHqOas0UAZ9xoGj3epJqN1pNjPfR42XMlsjSrjphiMiptR0vT9Xtfs2rWNtfQZ3eVcwrIufXDAirVFAEVraW9japbWVvFbQRjCRQoEVR7AcCiG2gt1kEEMcQkcu4RANzHqxx1J9alrP0XWbfXbGS6tElRI7ia3IlAB3RyMjHgnjKnHtRuGw6w0PSdK87+zNLs7Lzzmb7PbpH5h9WwBn8ae+k6dJpY0ySwtXsAgjFo0KmIKOi7MYwPTFOs9QttQWY2cvmCCZoJPlI2upww5H69Ks0dA6lODSNNtra3t7bT7WGC1ffbxRwKqwtgjKgDCnBIyPU0280PSdRvIbvUNMs7q5g/1M09ujvH3+ViMj8KkbUrVdRew8z/AEpIPtBj2n7mSM56dR0zUeiavBr2h2eq2aSJBdxCWNZQAwB9QCRn8aN9Q8i6yq6lXAZWGCCMgis9/DuiSaSulyaPYNp6NuW0a1QxKck5CYxnJJ6d60aKAGQwRW0CQ28SRRRqFSONQqqB0AA6Cqj6JpUk888mmWbS3LI08jW6FpShyhY4+YqeRnp2q9RQBH9mg+1G58mPzynlmXYNxXOdueuM84qrYaJpWlSTSaXplnZPOcytbW6xmQ+rFQM/jRf6vBp1/ptpMkjSajO0ERQAhWEbyEtk8DCHpnnFXqAIktLeO6luY4IkuJgqySqgDuFztBPU4ycemTUUul6fPO881jbSSuYy8jwqWYxnchJxztPI9D0pmr6rBoulyX10sjxRsqkRgFvmYKOpHcirU8vkW8kpR3Ealtsa7mbAzgDufai9tQ3K2paPpmswpFq+nWl/GjblS6gWUKfUBgcGkvNF0vUY4E1DTbO6S2IaBZ4FcREdCoI46dqpnxNajUPsX2W8M/8AZ39o7PJ+bZnGzbndvz/DirsWq2sl7BZ7nS6ntzcpC8bKwQFQSeOCCwGDzT1/r+vJiuv6+X+aJrW0trKHybO3it4tzNsiQKuWJLHA7kkk+pNVjoWkHVv7UOlWR1Af8vf2dPN/77xn9av1Wm1C2t7+2spZdtxdBzCm0ncEALc4wMZHWkMetpbLcTTrbxCacBZZAg3SAZwGPfGTjPrVa40HSLuzt7S60qxntrXH2eGS2RkhwMDapGFwOmKTR9Zt9btp57RJUWC5ltWEgAJaNyjEYJ4yOK0KAKUujaZcaa2nz6baS2TElrZ4FMZJOSdpGOpJ+tOh0rT7eK1igsLaKOzJa2RIVAgJBGUAHy8MRx2J9acuo2rarJpqy5u44VnaPaeEZioOcY6qeM54qzQHkMlijnheGeNZIpFKujrlWB6gg9RVe00rTtPKGwsLW1KRCFDDCqbYwSQgwOFBJOOnNW6KAKc2jaZcaadOn060lsSSTbPApiPOfukY6nP1qa0tLawtY7axt4ra3jGEihQIij0AHAqrous2+u2Ml1aJKiR3E1uRKADujkZGPBPGVOPatCgChc6FpF5qMWoXmlWVxew48u5lt0aRMdMMRkU+/wBH0zVHhfU9OtLxrdt8LXECyGNvVcg4P0q5Ve9vFsbcStDPMDIibYIjIw3MFzgdhnJPYZNACQabY2zxPbWVvE0MbRxNHEqmNGILKuBwCQCQOuBUhtoDdrdGCM3CoY1mKDeFJBK564JAOPasi58Txxa82k2umahfyxbPtE1tGnl2+/7u4syk8c/KGwK3KAKMuiaVPqkepT6ZZyX8QxHdPbqZUHs5GR+dW5Yo54XinjWWORSro6gqwPUEHqKfRR5AUrPRtL0+wexsNNs7W0kzvt4IFSNs8HKgYOatRRRwQpDBGscUahURFwqgcAADoKfWOPEtr/aOn2T215FLqEk6RCWHZt8rJYkEg4OMggHPBoFoieLw7osF01zBo9hHcNKJmlS1QMZBnDkgZ3cnnryauTWtvcvC9xBFK0D+ZEzoGMbYI3LnocEjI9TVTQ9Zt9f0aDUrNJUhmLbVlADDaxU5wSOoPetCge+pCbS2N4Ls28RuRGYhOUG8ITnbu64zziq9homlaVJNJpemWdk85zK1tbrGZD6sVAz+NXqo61qsGhaHe6rdpI8FnC08ixAFiqjJwCQM/jQG4tjo2l6XLNLpmm2lnJOd0z28CxmQ+rEAZ/GkttE0qz1Ca/tNMs4Lyf8A11xFboskn+8wGT+NXVO5QR0IzS0BuVRpenrZRWa2NsLWFlaKAQrsjKncpC4wCCMjHQ0ajpWn6va/ZtWsLa+g3bvKuYVkXPrhgRmrVFAFdLCziaBo7SBGtkMcBWMAxKcZVfQHA4HoKndFkRkkUMrDBUjII9KWigClp2i6Xo8ciaRptnYLIdzrawLEGPqdoGaz/D/hHTNCt7VvstpPqFvGY/t/2ZVlZSScbuSBzjGavnVoB4gXR9kn2hrU3QbA2bQ4XGc5zk+lXqPP+uwutv67lGfRNKutSi1G50yzmvoRiK6kt1aVPo5GRVmO0t4WnaK3iQ3Db5iqAea2AuW9TgAZPYCpaKBmfZeH9G02RH07SLG0dCxVoLZEKlsbiCBxnAz64p0OiaVbOHt9Ms4mE7XIaO3RSJSNpk4H3iCQW64q9RQBVGmWC2gtVsbYW4k80QiFdm/fv3YxjO75s9c89a5vxF4GbxFqUstzeWYt508py2mo11HGRho458gop56qx5OD0x11V7i8W3uLaFoZ5DcOUDRxFlTClsuR90cYye5A70dQuTooRFRBhVGAPQVRtNC0jT76W9sNKsra6mz5s8NuiSSZ/vMBk/jTV12zltWuLQT3SJdmzcQQMxSQPsbIxnap6t0wM9K0aPMNtCt/Zlh9lktvsVv5EkhleLyl2u5bcWIxgktzn15qvdeH9Gvrt7q+0iwubh4zE001sjuyEYKliMkY7dK0aKAIo7W3imeaKCJJZFVXdUAZlXO0E9wMnHpk1TtfDuiWM4mstHsLeUSGUSRWqIwcggtkDrgkZ64JrRooApRaNpcGqSalDptnHfyjEl0kCiVx6F8ZP505NK06Oa6mSwtVlvQBdOIVDTgDADnHzcEjn1q3RQBn2ugaPZWL2VlpNjb2sjB3gitkSNmBzkqBgnIHNW2tbd7tLp4ImuI0ZEmKAuqtglQ3UA4GR7Cqms6zb6HbQT3aSus91DaqIgCQ8rhFJyRxkjPt61oUeYFGy0PSdNuprnTtMs7S4nOZpYLdEeTv8xAyfxoi0TSoWLQ6ZZxsbj7USlugJmxjzOn38HG7rTdZ1m30O2gnu0ldZ7qG1URAEh5XCKTkjjJGfb1q1eXQsrGa5aKaYQoXMcEZd2wM4VRyT7CjpcCB9G0uTVV1OTTbNr9BtW7aBTKo9A+M/rVi5toLy2kt7uGOeCRdrxSoGVx6EHgipEbeisARuGcEYI/CqLaxbr4iTRSkn2l7VroNgbNgcKRnOc5YdqPIL9R8OjaZbaW2m2+nWkVgwKm1jgVYiD1GwDHP0qK38PaLa20lta6RYQwSRiJ4o7ZFVkBJCkAYIySce5rRooAiuLW3u4fJu4I54shtkqBlyCCDg+hAI9xUWoaZYavam21Wxtr63JDGK5hWRMjvhgRS6jqFrpOmXOoahL5NraxtLNJtLbVAyTgAk/hUB1m3/wCEhj0fbIbiS0a7V8DZsDBcZznOWHajyDZXLkEENrbpBbRJDDGu1I41Cqo9ABwBWTp3h6KyF5aTpBc6bJdfa7aGWMMYXLb2GDxgP86nqCcdga2qKOtw6WIZLS2muobmW3ikng3eTKyAtHuGG2nqMjrjrVf+w9JGrf2oNLsv7Qxj7X9nTzcdPv4z+tXqKAKepaRpus26wavp9rfwq25Y7qBZVB9cMDzVmGGK3hSG3jSKKMBURFCqo9AB0p9FAEVtaW9lAIbOCK3iBLCOJAq5JyTgepJJ9zVWbQtJuNONhcaXZS2TOXNs9ujRliSS20jGSSTn1NX6KAIbWztrG1S1sreK2t4xhIYUCIo9ABwKqWehaXpLzz6NpVhZ3EwJd4IFiMh/2ioyefrT7bVoLvWL7TY0kE1isTSMwG0+YCRjnP8ACc8Cr1AKxj6V4fgtdKa31FYb6a4uDd3LyRAq8xYNuCnOApChe4CrzkZrYoooArDTbFdPexWztxZyBle3ES+WwbJYFcYOcnPrk082lsZIZDbxF4FKxNsGYwRghT2BAHSpqKAM648PaLd6dFYXekWE9nCcxW0lsjRxn/ZUjA/Cr8cUcMKxQoscaKFVFGAoHQAelOooAqjTLBba3t1sbYQWrK8EQhXbEy9CoxhSOxHSpBZ2ommmFtCJbhQsz+WN0gGQAx7gZPX1qO61G1srqztrmXZLeymK3XaTvcIzkZA4+VWPOOlOtbsXZnCwzxeTKYj50RTeRj5lz1XngigCLT9F0rSYJYdL0yzsopjmSO2t1jVz6kKBmls9H0zTxCNP060tRAjJF5ECp5aswZlXA4BIBIHUjNXKKAKr6Vp8lrcWz2Fs0F0xeeIwqVmY9SwxhicDk06xsLPTLRLXTbSC0t0+7DbxiNF+ijgVYooAqS6Tp00FzBNp9rJFeNvuY3hUrO2AMuMfMcADJ9BT7HT7PS7RbXTbSCzt0+7DbxCNF+igYqxRQAUUVn6TrNvrH237Mkq/Yrt7STzABl0xkjBPHPt9KA2NCiiigAooooAKKKKACiiigDkviVcXVv4RH2VlWOW8giumecwr5LSAMGkAJRTwCwHAJrkr60vdE0rX1gTTNG0+SK08+x0nUGmNujTbZZseWnlhoickf3M9ea9YkjSaJopkWSNwVZGGQwPUEd6qWOjaXpdo9rpmm2dnbyEl4beBY0bPXKgAGhaX/r5eg+qPOdb0jRrDVNUsvDMFvF5nhW8Jt7Vvl5K7W2g4Bbnnq2Oc4rXj1Czn1jwEkF1DK7WssoVHDEp9mxuwO2a6Cy8Kafpmvw6hpVvbWMEdrJbm1trZY1Yu6MX+XAz8mOnOetW7Pw9ounz+fYaRYWs28yeZBbIjbiMFsgdSDjNO/u2/reX+ZEld/wBdo/5HmFjNbHWPDGr6VbWtv/aGpkG+m1HfqF5GyybkljEYG3OON524UYHbtPh2obwxdqwBB1W/BB7/AOlSVtp4d0WK7e6i0ewS4klEzzLaoHaQchycZLDPXrVy2tbeziMdpBFAjOzlYkCgsxyzYHckkk9yaE/dt/XT/IqWrv8A11/zPKhp+l6R4c1ZdPt7fTbaXxILXUZbVRCyWvmgbSy4KrhgO2Ax6V0+iWlhpHxDuNN8OJHBYHTVmurW2AEMU3mYjYAcKzLvzjqFBrqF0rTluLqdbC1E14oW5kEK7pwBgBzjLAA45o07StO0e3NvpNha2MJbcY7aFY1J9cKAM0R0S/rpb/g+opK7f9db/wDA9DlJdI0gfFua7awsxetpImWYxL5hfeULA4znbhc+mBXOeGdFsLDwp4E1e0h8vUZbiGOW6DEySRuj5jJ7p0wvQYGK9Qn02xuryC7ubO3mubbd5E0kSs8WRg7WIyMjg4oTTbGK2t7eOyt0htSGgiWJQsRHQqMYXGT0pR0t/XVv9bDet/P/ACt/wTyZbbUtUfVNRa30aHVrfWHRNVu9VeKe1CzYji2eUQqMgUbN2HDZPJrtfiBHaS2uhx6i6pbPrECyFpCgIIYYJyOCePfOK35dE0qfVI9Sn0yzkv4hiO6e3UyoPZyMj86h1zRE1tbFJnUR2t2twyPHvEoAYFCM993v9KOkV2a/T/IHvJ90/wBTzrWLKxsl8XaRoYEGlLFYM8Fs22OC4eYhwmPuEqEJAxjg963LvQtFXxpYaBf2duuirp8k9pZS8wzXHmfvGZTw7BSDzk/Mx966+30PSbPTjYWml2cFkW3G2it0WMnOc7QMZyAfwqTUdL0/V7b7Nq1jbX0G4N5VzCsi5HfDAjNHVP8Arb9Ogd/6/q/X1PLVFjeReHrXUJ/O0VPEt1b2bzSnbJAIJgibs/Mm7KDJ5AA5FWppNN0qDxLplmJRog1Czt4Le1uBFEk8m3zId/SOMnZuA6bmA5OK9Gn0jTbq2it7nT7WaCEERRSQqyxgqV+UEYHykjjsSKSPRdLh0o6ZDptnHp5BU2iwKIiD1GzGP0p30+757f5f11Vtb/0t/wDM8ku/Ls7HxrpzRafpdjBDp8j2ml3hkht2aVg7A7E2MQqkgAdAa3NWs9M0nXL628MrFFb3Xh67mvordsoxG3ypWA43HLjd1YZ64ru4fD2jW0LQ2+kWEUTIsbIlsiqVUllXAHQEkgdiafa6HpNjDcRWWl2VtHdEm4SG3RBNng7gB83XvUy1Xy/SxUXZ39P0PMbv/kHy/wDYgN/IVsWeiaLceOdCmu9Os3uJtAZ/MeFd7sphUHOMkhSRnsDXcnSdOZSrafalTb/ZSDCv+p/559Puf7PSibS7CdrZ5LK1eSz5tXeFWMBxjKf3eOOMVo5Ju/r+PN/8l+BnGLUeX+to/wDyP4nAeEoprzxLZ6DdB2TwcJUZnB+dnyls2e/7jcT7mtfxHpGkXPxH8M3N9YWcs7LcBZZolLEoqsnJGcqckenJrd0HRpdKW7nvrsXt/fTedcTrF5akhQqqqZO1QqjjJ7nPNXrzTrLUPJ+32dvdeRIJYvPiV/LcdGXI4I9RzU32/r1K7nlaaLYf8Ijq+tiH/iZ23iCd4Lvcd8OLzGEP8IIzkDg5Oaj8eT20lv4o1OztbVrzTHEa6jqGo+VPaSrGrKtsgjOByOCy7mJ6ivV/7MsPsslt9it/IkkMrxeUu13LbixGMEluc+vNV7rw/o19dvdX2kWFzcPGYmmmtkd2QjBUsRkjHbpSjpby/wCB/kVfVt9X+r0OatNJ0ofGK5vDYWgvTpEMyTeUokLmSVWcHGc7doJ9MCl8Z/Yr7xDp2mXNhb6nN9mmuFtNRuxBZ7QVBdvkcu4zx8pABY8cGusk02xlvLe7lsrd7m1BEEzRKXhBGCFbGVyOOKZqGkabqyxrqun2t6sTb4xcwrIEb1G4HB96OiXa/wCv+YvP0/Jf18znPhrdTXPw8t3MqTtHNdRRFJjKmxJ5FQK5ALKFAAOOQBWP4UstAfRNA1q+uTB4gupwJ7mN83FxcHPmQScElQdwKkYULxtxmvQba0trKExWdvFbxlmcpEgUFmOWOB3JJJPcmoItG0uDVJNSh02zjv5RiS6SBRK49C+Mn86q/vXF0a/r+keaWb2s3h+y026tRfPea9qXlWlxceTazFZpSRM21sqByFwckDjio7BFvvCN3prXun2sKeIjDbWYuHmspQFVvspkCghCS38IGRjBHB9Nn0LSLqwaxutKsprRpDK1vJbo0ZckkttIxkkk565Jpf7E0r7HPaf2ZZ/Zrg5mh+zrslOAMsuMHhQOewHpU/1+X+Q3r+P43/zPOzHYSeGNU0aHyNBeHVoIZbX7Q01i8hCOIVdQpSNxgEYXBJyOcGvefZbXRL/TbfTY9Mmtdb0wz2tpc+daIWnjIMXyrtyBll2jnnHOT6bFo2lwaWdNg020jsGBU2qQKIiD1GwDH6U2DQtItbBbG20uyhtEkEq28duixq4IIYKBjIIBz6iqi7NP0/C3+Qmrq3r+N/8AM848R6LpdtafEm8t9OtYrkWPEyQqH+eDc/OM8nk+pp2rWtxrPi7UbO907S9QittOt2tF1DUntjboynfNGBE/zbuN4II2gV6XLp1jOlyk9nbyLdrtuVeJSJhjGHyPmGOOe1RX+iaVqqwjVNMs70QHMIuLdJPLPqu4HH4VPSw+t/66f5HDaDpEeqeMrCTxA8GqXdpoFlKJ45TJFJKJZcSjoGPGQxHc461r+Pb5fDzaX4nZSU0+WSGbC5JjlQgDj/posVdWtrbpcm5SCJZzGIzKEAYoCSFz1wCSce5oubW3vIDDdwRzxEhjHKgZSQQQcH0IB+opt3/ru/8AIOt/T8rHl+hafdWmuaZ4Pv5mmkt7sa5MzDO5DHk/+TLMfyo8L/8AIR8Jf9hHWv8A0ZLXqH2WD7X9q8iP7Rs8vztg37M527uuM84qGLStPgaFobC2jaBneIpCoMbOSXK8cFiTnHXPNO+n9en5WJauvu/X9Wzn/ht/yTvT/rN/6OeuR0nTtH074YaAzWbSXGsyW8UgNx5S3TAMyxzSEEiLgjaB6KAc4r1S2tbeyt1t7OCK3hXO2OJAqjJycAcdSTUEmkabNpf9mS6fayWG0L9kaBTFgdBsxjH4VL3v6FR0jY8ikhV7DVtK8u0tbSPxHpiJaaZeNJDbbnj3qj7UKnPJAAwSfrWr4l0200S08d2GkwJaWb+H0uDbxDbH5p89S4XoCQq5PfFeixaDo8EYSHSrGNA0bBUtkAzHzGcY6r29O1TT6bY3RnNzZW8xuIhDN5kSt5sYz8jZHK/MeDxyfWqTsrf1sl+g0+v9b3OW8Hq58Qaq2vov/CQgKSQdyLaH/ViEkZ2Aghu5cEn+GsrxoLDUfEGpQTWNnfTWGnpI7atqH2eC0Vi+JIQI3O/jl+MYUA9a9BaztmvI7treE3MSGOOYoN6KcZUN1AOBx7CoLvRtM1C6hur/AE20uri3/wBTNNArvH/ukjI/ColqhR90x/Dt1Pe/CvTbq7laaebR45JJHOS7GEEkn1JrkbbS9HsfBvhOxTTlurjVo45GguLoxQXci2+f9IcqxYAdFweQOMDj02G0trazS0t7eKK2RPLSGNAqKuMbQo4Ax2qC60bS77Tk0+9020uLKMKEtpYFeNQOBhSMDHark05Sa62/X/MSVkl2v+h5RaQx3+mafp03kCzi8YeTHBY3bSQxJ5DMY0kwp2gkjGB3GMVoavbRaBF4q07Ss6dpYuNOaaO3JRIIpXCzsuMbAUBJIxjk16PHo2lw7fK02zTbMJ12wKMSBdofp94Lxnrjip/sdr5k8n2aHfcKFmbyxmUAEAMe4AJ6+tK+n3fPRf5B1T/rdv8AU8x1e2stA17WV8ExwwXUPhiaRILNsiN94KsEHAY9enzY71o21nouk694Vk8ItH5mol/tTQPvN3b+SzGWU5+Yh9nznJy2M812un6HpOkkHS9LsrIhSo+zW6R4BOSPlA4JANLZaLpem3E8+nabZ2k1wczSQQKjSn1YgZP40J2Vv63b/UVt/wCuiX6Hl0Ph7TU8FeF9RigaO+uNThgmuo5GWWSKSVleMuDnYQcbegrrPC9lbaP4+8RaXpcCWlgttZ3CW0Q2xpI/mhmC9BkIucdcV1I02xFtDbiyt/IgcSRReUu2NgchlGMAg85FSJa28d1JdRwRLcTKqSTKgDuq52gnqQMnHpk0LRNf10/yKev9ef8AloefX+l+HNS8UeMG8Ri3Y20UEgaaXBt18n/WJz8rZH3hg8YzVbRI4/EeoaPbeOUS5T/hHre4gt737ssxJ86QqeC6jy/ddx6ZrsT4R0241u+1DVLW01A3MkUsSXNsr+QyIFypbPJxnIxWlqOkabrECwatp9rfRK25Y7qBZFB9QGB5pLRf12f+f4fcf1+X+X4/f5nbwf23oujWr3VrqEKXt6LHT9XdxDqNujlYyXCtkouCpIbI5wcZFjT5rK7m8GRWdvJDBFq99btbyzecqFYJ1ZEf+KMHIX2wMDGK9EvdI03UrEWWo6fa3dquMQTwK8Yx0+UjHFPTTLCNbVY7K3VbM5tgsSjyOCvycfLwSOOxNNPuH/B/G/8AmeVQ6Xpem+Gpf7NsrW1k/wCExiik8iJUO1L4bFOOwB4HYHitW8gI8UTeDAp8i/1KPVcAYAtuZJR+M0eD7Siu7OiaU1xNcNplmZp5EllkNum6R0OUZjjJKnkE9O1WTbQG7W6MEZuFQxrMUG8KSCVz1wSAce1EXZJf1sv1Q5at/wBdX+j0PI57bUtUm12+aDR4tVtdUdItUvNWeGeyCyDykCeSQqFdvy7sPuJPWu88dwpdeGktpr+Gy8+6hQefu8mc7wfJkK8hXxtJ9+/Q68+iaVdalFqNzplnNfQjEV1Jbq0qfRyMirNzbQXltJb3cMc8Ei7XilQMrj0IPBFL7KXb/gf1/mH2m+/9f1+h5l9p0vTdD1rSpdNfTWW+tYZrLTr8fZC8pXaqyFV8tG/jG0HB6HdznSr9m03x/pcVtp+n20WnW7/YdLuzNDDI3mhiPkTYxCrkBewPevVIdC0m30t9Nt9LsorB877VLdFibPXKAYP5UkPh/Rra3eC30ixihkiELxpbIqtGCSEIAwVBYnHTk+tO61v/AFsLp/Xc4u68J6JF8SNMsE0+MWV7ptxLd2xyY7p43iCPKvSRhvblsnnPYVkWNtYXEXh7TdUKtYQ+INRtYoppDtKKJgkZyeV6DaeCOK9Wa0t2u47poImuI0ZEmKDeitglQ3UA4GR7CsjUfCthqF1YMYLZLa1nmnltTbqUuDIjK24dMktkkg5ov/Xzv+Wgraf12scDdR21pFqGn6QQNJtPFGmrbRocxwuZIjIiegDHoOASRUWqWt/q2oeKLiWDR11CyvGS21O+1V4JtNQKpiKqImCqfvcMA+SDXqUWjaZBYw2UOnWkdpA6yRW6QKI42U7gyrjAIPII780l1omlX1/DfXumWdxd2/8Aqbia3V5I/wDdYjI/ChO39eUf8vxG/wCvx/zOc+IkP2rwvpsNyT+91awSQxOV6zoDtYYI+o5rnPE2m2eiWfjyw0mBLSzk8PpcG3iG2MSHz1ZwvQEhVye+K9PuLW3u0VLuCKdUdZFWVAwV1OVYZ7ggEHsajn02xuvP+02VvN9oiEM3mRK3mxjPyNkcr8x4PHJ9aE9Leb/Jf5DWlvl+DucI1lpGp+K9X/4SgxP9h063exW4k2iCIoxeVDkbW3jBccjaOayvC2j6frd54Ut9Ut1u7YeFQ3kyndG/7yP7y9G/HPPPWu08R+FJ9cu4JYLqwiWFNsYu9LS5aA/34WJUo3TruHA4rV0rQ7DR7Ozt7SBc2dstrFM4Bk8sY+Ut1wSAT70K17/1tJfqTa0eX0/T/I8tj+1TWHhzR2trW/0z7bqUAtNRvGhhmaKdlhjZtj7tqBsIRg7f9mraaL9oPh/SdY+xy2R8QXCx2lnetcJBH9klPkFyqnAbcNuMbSB04r0qbRtLuNPewuNNtJbORi727wK0bMWLElSMEliST6nNOh0rT7eK1igsLaKOzJa2RIVAgJBGUAHy8MRx2J9aaeruN67ef6/5nOfEfTLGT4V6zbvZwvDa2EjQRtGCIiiHaVHYjse1ZkvhzRL34gaZp7WFs+mR6FI0doigQHMydUHykck4IxnnrXfyRpNE0cqK8bgqyMMhgeoIqtaaRpun+V9g0+1tfJjMUXkwqmxCclRgcDPOBxml1u/60a/UT2sv61T/AEPM7M2s+gaJotzajUm+26jHbWd9d+VaPHDO6KJSVcttXG1cHpntkVdPhTU9F8P2V00clqniqeFI7W6aSJIgkxEaSYUsg+70HHGMcV6jc6Do95ZCzu9KsZ7USGUQS2yMm8ksW2kYySSc9ck1JHpGmxbPK0+1TZMZ02wKNsmNu8ccNjjPXFF9bv8ArVP9Bvay8/xT/wAzA8I2FtpHiHxJpumxLbWMU8MkVtHxHEXiBbavRQSM4HGa4rx5PbSW/ijU7O1tWvNMcRrqOoaj5U9pKsasq2yCM4HI4LLuYnqK9cjt4IppZooY0lmIMrqoDPgYGT3wOOapXXh/Rr67e6vtIsLm4eMxNNNbI7shGCpYjJGO3SktGmxqyMrx+PM+G2shiRus2yQcHpWDruk6Ja6rY6Fa6PaXm20lu/smo3nk2ZG5Q0rEo5eXPcg4BJyCc1381rb3Nq1tcQRywOu1opEDKw9CDxioL/SNN1Xyv7U0+1vfIbfF9ogWTy29V3A4PuKOpKukeW6DaweIG8DQ6sVvoPI1NSvnGSOVFdVVSxx5iYA6jkAZFWDb29vaRaJO3laAPFEtpNCXIjWHyi6RE54QylRt6cgdDivS4dK062eJ7ewtYmhLmJkhVTGXOX24HG48nHU9aWTS7Ca2uLaWxtngumLTxNCpWYnGSwxhicDr6U763/rdMLaJf1s1+tzy/UEstJm8XQaDKtrYJcaZFdm1lIFtCz4mC4P7sBCcgYwCTxWhqdnp2javqNh4Yjit7Obw9dTXtva48pWG0RSEDgMwMgz1YDnOK76z0fTdPheKw060tY3QIyQQKgZRnAIA5AyePem2eh6Tp1pNa6fpdla28+fNhgt0RJMjB3KBg5HrUy1TXr+Vv+COHu2/rrc8/PhbR4dU8GJFZhV1GB474B2/0xRBvAm5/eYYA/Nn8q6DwFFHZSeI9NtV8qzsdXeK2gX7sKGGJ9qjsNzscDgZrpzZWpe3c20Ja1z5DeWMxZGDt/u8ccdqdDa29s8z28EUTTv5krRoFMj4A3NjqcADJ7AVbl7zff8AzTJStFJ/1ozyabRbE+EPFGtmHOp2muXUttdFjvgK3A+4f4Qe4HXPOam1y1u9a8UeKUu7PS5pLIItnc3+qPbSWERiVhLEBE235yxLggkrg8CvTjplgbWa2NjbGCdzJNF5K7ZGJyWYYwSTySajvtE0rVLiGfUtMs7ya3OYZLi3WRoz6qSOPwqeiXl/lr+BX2nLu/1bOFhs7DVfEWpHxpNa3FxY6ZbSWzPLiONShMk8R4wS4PzjBGByKzdP+w3/AIb8JabcWFvqkq6GLkW2p3nkWYQbAZD8jlpB24OASeM12viTwtca9eQzxXdjGIl2p9r0xLl4D3eFyVKN05O4cDir0PhbRU0fT9NuNOt72DTY1S2+1xLKU2gAMCw4PHUU73v/AF3/AMxbKy/rb+v61830yw07WNJ8AXOs21nft/aNzbedLicNGqXGxA7DLKCqkZ64B61oRr9l07WNcUfPo3iea6Y/9McKk3/kNmP4CvQZND0maxFlNpdnJaCQyiBrdDGH3Ft23GM5JOeuTmpl0+zSG4hW0gWK5ZmnQRjbKWGGLDHzEjrnrT5tbr+tU/0E43sv62kv1PL9TN3J4c07UPKhkg8Sa2Z7tLm5a3jkgKMLeN5ArFVISIYwck7e9dV4GsbnTbrWLd49NtLTzo2h07T703C2jFPnHKJsDcMFAxyT3rp5bK1msTZTW0MlqU8swPGChXpt29Me1NsNNsdKtBa6XZ29lbqSRDbRLGgJ9lAFK6V0v62/yG9bN/1v/meZ3kNhZ63da3dJbarH/bKRjUYbhotQspDIqCAIV+aMEgbQwypJ2nqanjOe1lXxBqtla2pu9Pu1iGpX+omO5tpVCEJbxiM4U54G5dxJzkGvUn0PSZNWXVJNMs21BRhbtrdDKB7PjP60y68PaLfXcl1e6RYXFxLH5Uk0tsju6dNpYjJHtRHS3l/wP8v66t638/8Ag/1/kcXqWgaZrGr+M59StVuJYYITCzk/uWFvkOn91s/xDnjrVfS7C30+88A6nax7L/VEKX9zuJkugbRpD5jHl/mUEZzjtXowsrUGci2hBuABMfLH70AYAb14457U0adZBbUCztwLP/j2xEv7j5dvycfL8pI47HFJaX+X6/ncN0r+f6W+48p06z0e08HeHNX0vyxrzanFAk8Um6aTNxtliPOSgTflegAzgYp+oTXKaVqEEKwva3Pi+SG8Se5NvG8ZUEI8gViqs4QHjnOO9d/4f8I6ZoVvat9ltJ9Qt4zH9v8AsyrKykk43ckDnGM1qf2bYm3uIPsVv5N0zPPH5S7ZWbqWGMMT3z1prT+vOP8Al+Inr/XlJfr+Byvg22k0W91iK5Gk6bYmSExafZX5mS1kYEEYZE2B/lIUDk59a7OqEGhaRa6eLG20qyhs1cSC3jt0WMOCCG2gYyCAc+oq/Q9QQUUUUhhRRRQAUUUUAFFFFABRRRQAUUUUAFFFFABRRRQAUUUUAFFFFABRRRQAUUUUAFFFFABRRRQAUUUUAFFFFABRRRQAUUUUAFFFFABRRRQAUUUUAFFFFABRRRQAUUUUAFFFFABRRRQAUUUUAFFFFABRRRQAUUUUAFFFFABRRRQAUUUUAFFFFABRRRQAUUUUAFFFFABRRRQAUUUUAFFFFABRRRQAUUUUAFFFFABRRRQAUUUUAFFFFABRRRQAUUUUAFFFFABRRRQAUUUUAFFFFABRRRQAUUUUAFFFFABRRRQBy3jj4h6J8P7ezl1z7S5vHZYo7aMMxC43NyQMDcO+ea6GwvYNT022v7J/Mt7qJZonxjcjAEH8jWd4k8IaF4ut4IPEWnR3sdu++LczKUPfBUg4OBkdDitWCCK1t47e3jWKGJAkaIMBVAwAB6AUAVtY1ODRdEvdTuziGzgeZ/oozivMvhF4g11tZu9L8WXktxPqlpHrNl5sjNsjkJDRrnoB8uFHA5rsPiL4b1Lxd4V/sTS7iC2juriMXckrsCIA2WC4U5Y4HBwPeueX4VXWi+LNB1vw9rl9dtYSGK4j1i9aUfZiuCkeF4I7DgfTFOG+vp/Xzt9zCW2nr/Xyv95m6DrWqTfBTxlfTaleSXdtcX4guGnYyRBR8oVs5GO2OlYY1I6l4l8M2niLxnqeiWM3hW3uZJo9WNr5s5PVmY4ZiCevJxXS3Hw68W2lhrHh3QdV0lPD2sXEsssl1FIbqAS/fVQPlb2JxWrF8NIV8dadf3EFje6NYaImmxwXSeZJvVshtpXbjHfOfaiNrK/ZfhF3/GwbXXm/xkmvwPPNR8UavL4FaH/hJb5tPtvFMdhBrcdwYZJ7Uq27Mq4DY/vdD17V0GjeIW8P+NdSttB8TXnivQrfRZb+5e5vBd/Z5UztUSj1A+7712HjzwS/iXQtJ0zSY7K3gstSguZIZV2xmJN25QqqRk56YAqGx8BPpPjPVZtMWzi8N61Z+Xe2C5QxzAFd0ahduCpweR1pa2fz/wDSV+uvqPS6v5f+lP8AT8DnNA8P+MNf8KWHi6w8YXy67eBblbK4mxp2wtnyzEFJHyd+ufzr0TxJrknh3w7JqX2M3kkbxJ9njkCly8ipwSP9rvjPt1rhrXwL47tNIg8LWviSxtfD1u4CX1ssseoiINu2ZBCD0yO35V2/ibR59Z8PGwtHRZPPt5A0zHGI5kc5IBOcKfxqnbptf8CY3uubfqUJPE2sfaodNttChl1cwG5uLc3+2KCLeVTMvlnLNg4ULjg5OBk4Oua7qfiS68KxaRFJBp+pyyG4Qai9pPvjVt8ZaNCQFK5yrfMRjgc1qeKPBS6r4jj1qLStG1dzbC2ltdXT5QAxZXRwj7T8xBG3njkYqzB4Vmt7nw08EWnWsWlPO88NnEYY8yRsuI057tzkjufaktrje+hFN43liM97DpJl0K0u/sk9+bkCQMH2M6xbfmRW4JLA8EgHFTL4vuftmuNJo7LpuitIs92s4Z5CkayYSPGScNg5Ixx15xix/DhLXVbjy9D8NX1vcXj3Qvr623XMQd97Jt24kwSQrb1wMcHHPSWWiX9pBr4hu47afUbt57aZE8zycxIoLKwwSCpOOmO9Lp8vx0/4Ifa8r/hr/wAAb4f8Qalq8kRvdHS2trm3+0W91bXguIyOPkc7V2vznA3Dg/NxVa51fXY/iTbaZHb2p0l7GSZma5Ic4dAX2+X1BYgLuwQckgjFV/Dvha/sPE39q3NrpWlJ9naKaDSWbbeuSpEsgKqARg4GGPzH5q1NQ0m+k8YWGq2n2aS2W1ltLqOZ2VgrsjBkwCCfkxg469ab3TXn+tv0Fryu/l+l/wBTNg8cTyQWuqS6OYtAvJ1ghvvtIMvztsSRotvyozEYO4nkEgc43tf1eLQfD19qk43LaQNJtHVyBwo9ycD8a5iDwjrY0mx8NXFxY/2HYzxOtzGz/aJYonDxxFNu1TlVBcMcgfdGeNjxb4em8T21jp5lEen/AGtJr7bKySOiZZVQryCXCknIwBxSaTVl/S01/MrZ3MvwNeanp9rqOi+Irt73UrBUuvNkYkvHKm7GT2WQSIPQKKWw8dX134b0/U5tB8mbVzEmm2gvAzTs6FyWO3CKACc8nA6A/LUg8EnTvE9tqujXVwwe2ltL1b+/nuGeMjKbTIWwVcdMgYZu9VrvwHJe+BPDulXSafdXmiJCfKuozJbTskRjZWyM7SCcNjIIBwcYqrp6+n63/CxNn+f5f53NKHxXePa38MuiSnV7GeOF7K3m8xG8zBRxJtGI8EksVBG1uOmbeha9calfahp2p2KWN/YGMypFP50bK4JVlfapPQggqMYrn38E3h8OXFvYaboOkTy3UUzWVijLBcRoeYpZAqlg3POwY6YPNXvB3ha50DWNVu5bHR9Pt76OAR2ulIVSNk37s/Kob7w+bAz6DHK7/wBdv+D/AFYHcseG7q4n8VeK4p55ZI4L2FYUdyVjBt4yQoPQZJPHc1g6H4r1Gz0+ztVtJdWu9R1fUbeMy3W3yxHLIVyzA/KAoHHQDgHpW3PpGu6Z4h1HUfDo0+4i1Ty2ngvpXi8qRF2b1ZVbcCoXKkDkdear6d4MudOn8PMt1FOdPubq6vJCChkknVyxRecDc54J4HrSW33Dl/X3McvjiYadKs2kFdYj1EaYtglwGR5igkBEpUfJsO4krkAHjPFU7fxRe6ZrHiS78QWssIs7ezEdnDcecjyOZAPKJC/eYquSFORzwM1YuvCOpG61C/s7i1S8/tlNTshIWKMBbpCySYGRkB+RnGQeelV7zwXqniCLXv7ffTom1OO18iOENPHE0LMwD7gu9SSM8DIJGB1L6fd+Sv8AjcHv/Xd/pYtXnja90iy1U63oq217Y6e+oxQRXnmpcRrwRv2DawOARtI+YYJrf0681K70t7i802OzuTkxW7XO/Ix8u9guFJ7gbseprjz4Dnl8P61awaF4Z0a6vtPktIn06M5ZmHV5NilV6fKFbp1NegINsag9QMU3awuv9eX/AATzD/hJfEs/g+zvr+IC4HiIW6LZXXzToLp0MR+RAANoXJJ3AZOOldJ/wm0ljHq6a/pf2S701IXENtP54uBMSsQRiq/MXUrggYPfHNVIvCOrrp0enu9l5Ntro1KGUSPueIztMysu3AYbsDBIPqKn8QeCZPEF9rjTy26wahaWccIkTzNskEkknzocAoSyjGeRu6UtLP1/SP8AwR/a/r+Z/oaWka/e3OsyaTremJp179nFzEIrnz45I920/NtXDKSMjGORgms+8WfxF46vNGmvby00/TbKGZo7O4aB55JWcAl0IYKoj6AjJbnNSeFfDH9j38t3JoHh3SXMXlA6TES785JLlEwvA+XB/wB6p9S0fVbXxK+u+Hfscs1xbrbXdreSNEkgQsUdXVWKkb2GNpBB7Yo00/r+v8wV7P8Artf9SCG81Hws1hpupTHVI7/Uza2lxJKfNjhMTOPMO352BQrnuMEnOadrHjJtKi1lk01rltLmtYgiTBTOZio4yMAjf3646iqt14Y124sba8l1C3utYt9TGoJFKzrbKNhj8lTyyrtY/Ng/NzjnFRTeFNd1C21l7+TT0uNRu7KeNIXcpEsLIWUsVyThDg4GfQUtXv8A1t/wf6sGl1bb/gv9LGtbeJbmPUvsWvafFp0hsXvFZLrzVKo+11ztXkKY2/4ER2yaNv4z1DUYrOLSdCWe/msUv57ea88pbeJyfLBfYcu2DhcADByR3s+NPC8/ia0s47O4S2kimKTM2fntpFKTIMdypyPcCs/xH4GS/wDEa6xbaPomrFrVLV7XVkwsYQsVeNwj4+8QV284HIxR/X5/8BfIP6/L/gv7jo9N1601Lw1Hra7obZoTM4kHzRbc7g2O4IIP0rHsvGN5JLps2p6KbHTtWcR2dx9pEkgZgWQSxhQE3AcYZucA4zWra6FAnhP+xJ4LSGGS3aGWKyh8qIBwd2xecDk1iWvh3xBcHR7HWriwOn6PKkyzWzP5t40YxHuQqBGOhOGbJHYU9Oby0+7r/wAAWvLpvr9/T/gkPgmbWdS8S+Ib7Wxs8i7a0iji1GSSKMBUO0RbFX33n5jkjgdUudb8Qt4r8S6fJFbx6daaWk0Lx3J8yMsJsOB5YJLFBkbsLtBBOTW/4e0e40mfWHuXjYX2ovdReWScIyoADkDn5T61RvtA1KTxNql5aNataanpi2knmyMskTp5u0gBSGB83nkEY71Erunbry/jb/MuL95t9/wv/kZ3hfxXqQsPDNvrOmNHBqloqQXr3fmSvKsO8mRMfLuCsQdzH1wTVuz8bTXL2N4+kmPRNRuBbWt99oBkZiSEdotvyoxGAdxPIyBmpI/C92LLwjA8kB/sUj7Vhjhx9leH5OOfmcHnHGfpWPoPw6XRLyzhGh+GZYLOUOmptbZu3UHKgrtADjj95vPTO2tpWc/L/gmUU1Bd7fiX/iJeQ2q6At9qcumWM2qCO6mjvWtRs8mQ4aRWUgZC9/SsaLxNb6FfaxdeGtTm8Q6LY6TJeTq+oNdJFOrDaizsWILLuyuTjaDgZrsPEGiz6tf6HNA0QTT9QFzKJCcsvlSJhcA5OXHXHepPFWkTa34P1XSbJo45ry0khjaQkIGZSATgE4/Cs46b9/0Rro2l6fm/0M6XxRqifYrMaGg1e/MjwWb3oCpCgXMkkgQ7eWUbVDckcnqGJ41kuLS2hs9KZ9YnupbQ2Mk4VYpIhmQtIAfkAwQQpJ3Lxzw3xb4OGu32m6itjpmpTWMckRs9UTMMqPtyQ21ijAoMHaeCRjnNQReELzT7fTb3R7LRbHUbGaV/sdtG0Ns6SgKyFgud3yqd+3kr92np/X9dtyFey/r+tSWbxHdyahodvfafeadcy6o9pLEkw8p8QO4YMU/exkAdNpz1xgipdN8X3uq35Nnovm6Yt69k9wl0DPE6MVLvDt+VMjruzgg7aSXQdd1C+0W+1S6szLZak93JDFnZFEYHjEaNty5ywJLYzk9OBVGTwhq9z4itby4XSUlt7wTnWbdTHeTQhiRAyBAuCPlJLkEc7c9GrXX9dv8Ag/8ABB7O39b/APAJbPxbJFbzxW1rcX1/c6zdWVrbzXKgfuySzF9g2RgKTjDEZA+apLzx1Np2j6hLe6Ow1PTri3hmsYrgMHEzqqPHIVG4HceoXlSDjrUEXg7VLMi+sp7M6jbavd31ukhby5YpyQY3YDKnBByAcEdxReeENX1Sx1G4vp7NNS1C7s5DFG7GGCKCRWCBiuWJG852jJYDAAzUrZfL9L/r/Vhv4n6v83/X9M2tI1+9utdudJ1fS1sLmKBLmIxXPnJJGzFeTtXawI5GCOeCa57xXeaYnxBsrXxDr0uk6e2lySKBq0lijyiVQOVddxwTxXQX3hqHVPEs11qdva3mnTWC2zW86b9zLKXyVIwR0/Go4PC0Vn4rtryxt7S30y3017NbaNNu1mlV+FAwFwD+J6ULVxfr+Tt+gPql5fp/wTC0HxTcWOizCMz6ylxqrWehvLL813HsDbjIRyi4k+fklU/iPXUPjWSC2uob7Smj1i3uorQWMM4dZnlGYyshC/IRkklQRtbjjnMuvh9cXGhxaZINPvLfS9QNzpcF6hkjeAqR5EoI4A3sFYbsAKccYqaLwRMmlb7LTdB0XUIb2K8totPhPlbowRtkfapfIZxkKNu7vT0/L9Px376h6ef36/hsa8fiHU4bO/8A7R8PXK3toEKQ2bmeO53nC7JCq8gj5gQNo5PBBrD8SeKNS/4RXxVY3lr/AGTq1jpTXcclpdmVSjBwrLJtQhgUORjjjBNaOpaN4n1zQdQhvb2zs55zF5Frbu7wqqMGZXl2q7CQfKcAYHQHnOF/wrzUWtfES29joOkjVtI+xR2+nBlRJcv8zsEG7O4fNtB4xg4yV1/rsNWWv9bo3tBvLmbx9rNvNcSyQR6bYOkTOSqs3nbiB0BOBk98Comhm8UeMdYsrq/vrWw0lYYo4bK5e3aSR03s7OhDHAKgLnHByDWlpWhXNj4s1LVJniMF1ZWtuiqTuDReZuJGMY+cY59elQXekazp3iK71bw2LGcahHGt1a3srxAOgIWRXVW/hwCpHO0ciqlbmJje33fkhltqGpeHptG0fV5BqUmoXs1vFdl8OsSxvIhcbcM+F2nGPX2pupeNJLEaiINKa6ls9St9PSNJwpmMqxkNyMDHmYwT26ioLnwxrn2TSr1dQgv9ZsL+S9YXLOkDiRHRolIDFFVX+U4P3eRzUUXhTWpjeT6jLYCe61q11DbAz7UjiEQK5K5Lfuzg9D14zgC1av5fmv0uN6J27P8AX/gGoniiW1urq316xjsHttOF+zJcearKCwkAO1fu4XnvvHSqieMNUuxFDpnh8XF8ljHeXsEl55a24kBKxhth3yHB4wo45IzU3jDwrL4kk05raeOAQymO735/fWr4MkYx3JRPyNZ/iHwML7xNNrEGj6Fq/wBqgSKSHV4/9SyZw6OEfgg4K4GcDkVPT+vP/gfcH9fl/wAH7zq9I1S31rRrTU7Pd5F3CsqBxhgCM4I9a5T4kaaI/D8+rW99qlrdrLbRg2up3EKBWmRT8iOFyQxGcZro9KsrzTY7SyWHT4rCG1CsLWMxYlyOETkKmM985qHxdo1xr/huXT7N4kleaBw0pIXCSo56A9lP403bm+f6hHzOe16K48M6v4Yt9DfUbv7VqMokguNSlk83/RpMBnkZsICA2OcYyATUt54tuJtLZbyzm0++tdatbC4itrsMuZHjIYOU+ZCsgyNqk8jjrW3rWjXGo6/4fvoHiWLTLqSaYOSGZWheMbcDk5cdccZrI1Hwhf3lxqDxTWwFzrlnqKbmbiOEQ7gfl+8fLbA6cjkU425lfy/Nfpcbtb5f5/8AALDeL72XWr620zRftttptylvdst0FuASFJZIdvzKAw5LKTg4B76niTW5NB02G5hsmvpJrqG2WFZAhJkcLnJ44zXOa/4Q1fWNUkbbpLZnWS21cqY72yQEEom1fn6EAl14PIPfo/EOlT6ta2cVs8atBf29yxkJGVjkDEDAPOBxUraN+6v+F/1/zYn1t2dvxt/X5GKvi7Xn1K+0pPDUJ1KyiS4kX+0v3LxNnaVk8vcXJVhtKAcfe6VLH41fU7fSh4d037bealZ/bhDcT+QkEXAy7hW53HAABzg9AM1eh0S5j8aapq7PF9nvLCC2jUE7wyNKSSMYx+8GOfWuUX4bTRaZoTT6fomsXenaeLKe21FSYXGch0k2MVIOf4OQe2KP6/P/AIAd/wCu3/BL0vi/WtQ1Hw4+i2MCW17cTQXcNzc7HWSNZA8ZxG3ClMhgfmIxwDmnar4vv5dB8TXCaVLb2WlR3Mf2yK9VZZJIxx5Y2Nt4/iPQjo1Wf+EXv7O10B9KttHtptNu5JpbW3Rre3KSI6sEwGO4bgckfMQfu54deeFb648F+JtISW3Fxq0l08DFm2KJfu7jjI98A/jTdr/f9+n/AAQW69V92v8AwCe48S6gb2Wy0LSP7Tks4I5bt5boQ4LjKonyne5Azg7RyOea1Z9ctrXwy+uXiT21tHam5kSaIpJGoXcQVPIbtj1rFk0TXdL1e7vfDx06QajDEtwt47p5Msa7BIu1TvG3Hynb9373NaupaIdY8I3GialdNM11aG3muQgUsxXBfaOBzzih7P8Ar+v68wh05v62M6LxVf2qNceItDfTrL7LJdLcRT/aBGqDcVlwo2PjoAWBwRnPUsfFd819p0etaL/Z1vqpK2UouRK2/aXCSqFARioJGCw4xnpTH0bxDrdhPpniSewgsJLOS2lFiWdrksu0Od6jy8cnaC3J+9gcsttC8QX1/pH/AAkM1gLbR5POR7NnL3cgRkVmVlAjADE7QWyccgdXpf8Arz/r+mLXl8/+Gt+N7lR/iBqEWnRapJ4bY6bJetZb471TMZPNMSMEKgbSwAyWBGemBmrFz43vNNt9bXVtGSK+0q0S8WCC78xLiNiwGHKKQcoQQV9OTSS+Eb+TwXb6QJbb7RFqiXjMWbYUF352M7c528dMZ745ql480a5jtPE+siSIQT6Ilqi5JYOjuxJGMY+cd/Wktvv/AC/zH/wPz/yNX/hLb601CS01rRRZvJZy3do0d2JRMIwCyN8o2OARwNw64JxUx8VSPYeHJoLBWk10fIjT7RCTbvMAW2nI+TbnA657YqsNA1nWNaS78QvZQ29raTW0Edk7uZWlADSNuUbcBcBRu6n5jVLTfDXiVLjwxDqL6WLPQHILwSSGS4XyHiVsFQEPzDK5bud3GCK2t/63/wCB/VxdL+v5K36/1YboPjDVo/CUuoa/ZxT3UmpS2VnFbT7mnf7Q8aocooULtA3c5VdxweKu3Hjl9LsdVOuaX9mv9NWF2gguBLHKkrbY2EhVcDcCGLAbcE8jFUpvAt7eeGrrR74abMkOqPqFi0ymVJt0ryFJoyoAHzleC3r2xVjT/Cd7ZaXf/wBnaX4c0K7uBGEjsLbzI5FU5ZZWKJuVhkYCgrknJo7/ANdv+D/kPr/Xd/obuianqV9JPFq2lLYvGFaOWC5+0QTK2fuvtU5GOQVHUYzWZf8AinVo9V1Wz0nw+t+uliNpXa9ERkDJuwg2HLD0JAP97tR4S8NXWi6jf3c1tp+mQXSRqmmaY7NBGy7t0nKoNzZAOFH3RnNZpTxA/i7xTH4fGnnzfs6Frx3Uwkw/fG0Hf/u/L0+9SlfoEd9TSh8ZTalqmnW2haV9sgvrGO/NzJcCIRRM2DkbSS2OQB1PHHWoo/HEsjQ339k40Ge8FnHf/aP3hcv5YcxbeIy/Gd2eQduKs6D4VfQdSszFMstpaaRFp6lifMZkYncRjGCPesLS/hyulahHEmheGbi3iuTMmpT2ubsJv3BSu3BYdBJv7A7arTmXbX8/8ha2fy/L/M2V8W31xNLc6foUl3pEN0bV7mKfMzMr7HdIQp3IrAgncDwSAapr4w/s+w1KYwzXE39uPp0CXFyqxhzjGX2jy4+vUMewySBViy0LxFpHm6bpFzYRaZJePcrdOWNxCskhkeMR7SrcswDFhgH7pxTB4X1a303VYrd9OmN5q0l4bW6QvDcQuAPKkJUlTxnIDYIHXmpX6frH/g/1YJb6d/wtL/gf8AXVPEOoR6PC+padcabcjVrW1ItrpWSQPKg3JIU+ZPmwQVU8EcdaW78bXMKahf2ujG40XTJniurz7SFk+Q4kaOLad6qc5yyk7TgHvnweBtRTSGgU2NmH1i1v0sLZ3NvaRxOhZIyVHLbCfuqMnoOtT3XhTXF0/VdB06ewXR9UmmdriRnE9ssxJlRUClX5ZsMWXGeQccvp/XaP/BK0/r5/8At3ni7UjrOpWGiaEmof2fbxXLTSXohWRXVjtHyMd3y8Doe5Hfd07VodU8PW2r2qt5N1bLcxq/B2su4A+/NZ1h4emste1m7V4vs97bW8EC7iWXy1dTu4/wBodM1X0PwVYafoWlC907T5dasdPjtftywguGWPYdrkbsdfTg0n8MrfL8f+AKO6v/W3/BKlh46vrvw3p+pzaD5M2rmJNNtBeBmnZ0LksduEUAE55OB0B+WrB8ayQW11DfaU0esW91FaCxhnDrM8ozGVkIX5CMkkqCNrccc0rvwHJe+BPDulXSafdXmiJCfKuozJbTskRjZWyM7SCcNjIIBwcYoi8ETJpW+y03QdF1CG9ivLaLT4T5W6MEbZH2qXyGcZCjbu71UuXmdtr/hp/wAESvZen46/8D/M1V8RarDa3i33hy4F/bmMRw2khmhuPMOAVlKrgA53ZA2jnkEZw/E3inUH8G+LLS4tzpOr6ZYCbdaXRkXa4bY6SbUYHKMCMDGO9aGq6L4n13RrqO9urC3leWForCJ3aBkRsukku1XYP0Py4AA4POcX/hXmonTfFMFvaaFpf9tadFbQW2nqyRRSKZMlyEG7O8fMFB4xt4yRW6lxsmv66nRaBd3E3jfxLBNcSyQwrZ+VGzkrHujYttHQZPXHWm3/AIp1aPVdVs9J8PrfrpYjaV2vREZAybsINhyw9CQD/e7Vd0nRbiw8T61qMzxNDqC24iVSdy+WhVt3GOp4wTWAU8QP4u8Ux+Hxp5837Oha8d1MJMP3xtB3/wC78vT71TK/QzpqyXMbD+J72/tbGfwzo7ajHeWgvBNcTG3iVDjC7trZkOfu44xyRxVKHxbFql94au7RLpIdSsrm5ERlVVGxU+V12ncQTwQwx75qjdeAbmL+y7a3h0vWdPs9Pjshb6yrMkTqf9eqBWDMRwQdvQYYVNpHgvUbCHw0k0tn/wASmzu7eYRFgrGXbsKDb0+XkHp2zRLZ8vnb8f8AgFR3V/62H23j29k8J2Ot3ehLajU3gjsYnvgQ7SjOZH24jUdjyTkcAnbXR6Nf319DMNV0w6fcQybCqy+bHIMAhkfA3DnHKg5B4rHi8O6pa/D/AEjRoH0+e4sbaGG5t7pN9vdqibWQkqSoJ5DbSeBx2qfwf4fudAgvhcLa20d1cebDp9kzNb2i7Qu1CQvUgscKoyenrcrc0rbdPw/4Iley/r+v61OjoooqBhRRRQAUUUUAFFFFABRXMfEXUdT0rwHqN3omwXKR4MjSmMxKeCy/K2WGRgceueOYLbVNR0pbTQNM0w3+ppa/abkXWqu6QqzEDM7oXckhsDb0B6ACgDrqK5GTxxLNY6U+k6NJdXeoXM1o1rLOIjbyxK5cM2CMAoRkZ45GelbGt65/YeipeTWrTXMjxwxWsTjMkzkKqBjgYyep7AmgDWorzjVfEOsWl94ml1W3msTZeH0nWCzv96bt8vzxuU4bAAyU6r0IxVq/uNbv/iVpVgikabDYG8Cx6nJA0rBkG6QJH82CcbCdpBJPpQtbef8Awf8AIHpf+u3+Z3tFebeGvEGp2en6zruvwy3FzLqb2NpbQag8qu/nGNYljZVRACAN/UjJOMYrYvfHN3pVnqK6pomzUrH7O4tbe7EiTxzSiNWSQqvIO4EFRyOuDmjog62/rt+Z2NFczN4l1ZJ7TTYdEhk1qeJ7iS1N9iKCJW2hml2EknIwAp5zzgZqlD48utRvrCy0fQzPdXdtcSulxdCIW0kMqxujkK3G4kblB7cYOQ7f1/XoB2dFcHf+L9du9L0S70TTreGS41NrO8gubvaVdGdGjBEbZUlCd4weBxycdJ4l12Tw/o0d6lkbyV7mC3ECShCTLIsfDEY43Z5xn1FFvzt+X+Ydbf1/WhsUVx9343u9KtdbGs6MtvfaZYHUI4YbvzI7qIZ+6+wEEEYIK8ZHWrEnijVEaysxoSDVr/zJILR70BEhTbmSWQIdpy6jaobk9SOQWA6iiuE1bxVeXVjYNa2dxBqNtrcdnd2Ec4GW2E7d/AZCGVskdO2RitW38WXYGq22o6JKmqadHHL9ks5ftAuEkJCGNiq91YHIGMZ6c0ul/wCtk/1Drb+t2v0OmoridX8T6i2i+JNO1CyGl6paaPJewva3ZlUoVcBg+1CrBl6Y9CCat6T4n1BbrSrLW9JNnHqUP+iXH2oSs7rHvKyLgbGKgngsODzR3/rv/kD0/r0/zOrorznQdeur/U/DM/2m88i60S9nkimuN5Zlki2liFUMQCQDt4zT9H8S+ILq88HJZQRy2GpaY1xMbu9zM+BHlmIh5ZQ3GMBsnO3Ap2f9fP8AyDrb+un+Z6HRXLWfjQ3tro+zTyt7qF9LZzWxm/49jFv81i23kDZxwM7h0zSeKtX17TvEXh220a3tZLe9u3imE1wYzJiGRtv+rbAG0NuBySAMYJNCVw2v5HVUV53B4s1bR/8AhKL2TTpNQ07TtUkM00t5taKEIhIiQg7toySCVHPGTmugPim5PiO/sV0xRYaaqSXWoSXIUKrR7+E2kkjuOBjnPal9lS7q/wCFw6tev4aHSUVyum+Mbq5u9NOoaO1lY6wD9gn+0CR2OwuBIm0bCyAkYLdMHBo0Hxdfa81tcxaLt0q8LrDdRXYkkiK5/wBdHtHl5x2ZiDgHFDug8zqqK868GeLdWi8LeHH1bTpZrS+dbU6hLeb5jKxYKzJg5QkYzuz6rWvd+NrmFNQv7XRjcaLpkzxXV59pCyfIcSNHFtO9VOc5ZSdpwD3dtf6/rqHW39f1ozrqK4geJv7K17xZe3Ms91a2y2X2a3R87mkQgKgJwCzFfT3oXX9Wt/GG/XrF7GG30We6e3tbo3Ecm2ROQMLlwMj7vfgnNLZ6/wBaXEndXX9a2O3ornfD3iPUdZeCS60ZLezu7fz7e6t7wXCY4+STCja+D0G4cHniuiptNbgmnsFFFFIYUUUUAFFFFABRRRQAUUUUAFFFFABRRRQAUUUUAFFFFABRRRQAUUUUAFFFFABRRRQAUUUUAFFFFABRRRQAUUUUAFFFFABRRRQAUUUUAFFFFABRRRQAUUUUAFFFFABRRRQAUUUUAFFFFABRRRQAUUUUAFFFFABRRRQAUUUUAFFFFABRRRQAUUUUAFFFFABRRRQAUUUUAY3i3SLjXvCd/pdm8aT3MexGlJCg5B5wCe3pVTUtI1a28SHW/Dwsppp7VbW5tryRolYIzMjq6qxBG9gRt5BHIxXSUUAclp3hG7sJNEkkuop5bW9ub29kwV3vMsmQg54DPxk9B61q+JtHn1nSUjsZ0gvLa4iurZ5FJTzI2DAMBztPIOOec1sUUB3v1OD1Pwr4j11PEMuoNpdvNqejDT4IoJpHWNwZDlnKAkfOOQo9MHGTvx6Jcp4wtdWLxeRDpbWbLk7i5kVsgYxjCnv+FbtFNaW8v+D/AJg9d/62/wAkcRP4DmvfCN5pV49nJM+rS6jAJYzLC2ZjIqSKQMgg7SPfjNQr4GnbSLuG30bw7os001syppqHlYplkbfJsUnIXhdnB7nPHe0Ulpt/X9WB6u/9b3OQ8V+DRrOuWurxaZpGqyRQNbSWmrJ+7ZS24Mr7HKsDn+E5B7Yp2i+Ep9L8Q6bfrBpdpb22n3FvJb6fEYkV5JY3G1cYIAQgnIJPOBnjraKcfd2/q9/8wepxr+FdVg0OKOzeze9ttal1KNJZGWORGmdthYKSp2v12nkd6n+IYnPhi0EBjSc6rYbC4LKG+0x4z0JGfpXV0UJ2a9U/ut/kD1bfe/43/wAzhtU8J674gtteuNUfT7e8vdLfTbOCCV3ijVsku7lASS2OAvAXvWxrOjag2safrWiG1a+s4ZLZ4LpmSOaJypI3qGKkMikHae4xzkdDRRfRW6B/X5f5I4iXwjrTWou47uy/tebWE1O437zAoVNgjXuflCjJxk5OO1F34U13VYNavby7tLLVNQhht4Y7aR3ijiicvsZ8Kx3lmDEAYB4z37eil0t/WyX5IOt/63v+Z53b+Ar9P7baHT9A0ldT0d7FLfTVZVWU7sM7bF3g7uu0EYxg9a1rPQNdu9U0eTX308W2jKWhNozlriUxmPcwYAIArNwC2SevFddRR0t/XX/MN/69F+hw+g+CtR0s6D9omtW/s3Srmym2Ox3PI8bKVyoyMIc5wenFSaX4U1bSbXwh5T2U02jWjWd2rSOqsjqgZo22kkgx8AgZz1FdpRTu/wCvn/mw63/rp/kcL4X061vviHrmv6dcG404YjtyOYxcOF+0Mh7/AOriBI4zuHrW74k0m/v7rRr3SvszT6ZeGcxXLsiyK0TxsNyqxBAfI47Vu0UJ2SXYO/mcfdeEr+fwv4u01JbcTa3NPJbsWbageNVG/jI5U5wDWjD4dd7zxB9tZGttWjjjAQncFEWxs5H5da36KTV48r2tYL2d/V/ecJ4a8CPo17Z+ZonhmH7EpUala2uLmc7SobbtAjbuTufPPAzT7Dwhq6+JLHUb1NJt5bV2a51GwVo59TBQqFlQKFUZIY/M/K8YruKKbd9xWVrHHWHhG/tfBnh3SJJbY3Gl3cE8zKzbGVHLEKduScHuBUN14U1xdP1XQdOnsF0fVJpna4kZxPbLMSZUVApV+WbDFlxnkHHPb0Uu/n/wP8kPrf8Arr/mzjLzwTcXMuv+VdRQLeizayflzE9uMqXHGRuA6HkZ6VNDo/ia819tU1KfTbBxpstnD9jZ5jHIzqwk+dVDD5fu4GMYyc5HW0Udb/1tYSSSsv61ucXoXhXU7HxGNVltdH0xktpIpo9LLhb+RipEkq7FC4wcD5j8x+b162xN2bCD+0hCt35Y84W5JjD452k4OM9M1PRTvoMKKKKQBRRRQAUUUUAFFFFABRRRQAUUUUAFFFFABRRRQAUUUUAFFFFABRRRQAUUUUAFFFFABRRRQAUUUUAFFFFABRRRQAUUUUAFFFFABRRRQAUUUUAFFFFABRRRQAUUUUAFFFFABRRRQAUUUUAFFFFABRRRQAUUUUAFFFFABRRRQAUUUUAFFFFABRRRQAUUUUAFFFFABRRRQAUUUUAFFFFABRRRQAUUUUAFFFFABRRRQAUUUUAFFFFABRRRQAUUUUAFFFFABRRRQAUUUUAFFFFABRRRQAUUUUAFFFFABRRRQAUUUUAFFFFABRRRQAUUUUAFFFFABRRRQAUUUUAFFFFABRRRQAUUUUAFFFFABRRRQAUUUUAFFFFABRRRQAUUUUAFFFFABRRRQAUUUUAFFFFABRRRQAUUUUAFFFFABRRRQAUUUUAFFFFABRRRQAUUUUAFFFFABRRRQAUUUUAFFFFABRRRQAUUUUAf/9k=)"
      ],
      "metadata": {
        "id": "07DxS0DWg2LM"
      }
    },
    {
      "cell_type": "code",
      "metadata": {
        "id": "ENCfvXeLxIhX",
        "colab": {
          "base_uri": "https://localhost:8080/",
          "height": 426
        },
        "outputId": "b4f457e1-d514-4692-e35f-07fbda5e67d6"
      },
      "source": [
        "# Plot modeling history using the user functions from the beginning of the notebook\n",
        "show_history(h)"
      ],
      "execution_count": 34,
      "outputs": [
        {
          "output_type": "display_data",
          "data": {
            "text/plain": [
              "<Figure size 1152x432 with 2 Axes>"
            ],
            "image/png": "[encoded data removed]"
          },
          "metadata": {}
        }
      ]
    },
    {
      "cell_type": "code",
      "metadata": {
        "id": "kWuzoz8uxIha"
      },
      "source": [
        "# Predict on unseen (test) data\n",
        "test_tweets, test_labels = get_tweet(test)\n",
        "test_seq = get_sequences(tokenizer, test_tweets)\n",
        "test_labels = names_to_ids(test_labels)"
      ],
      "execution_count": 37,
      "outputs": []
    },
    {
      "cell_type": "code",
      "metadata": {
        "id": "7vRVJ_2SxIhc",
        "colab": {
          "base_uri": "https://localhost:8080/"
        },
        "outputId": "2b045343-520f-445e-bcdc-bbdb1c657219"
      },
      "source": [
        "_ = model.evaluate(test_seq, test_labels)"
      ],
      "execution_count": 38,
      "outputs": [
        {
          "output_type": "stream",
          "name": "stdout",
          "text": [
            "63/63 [==============================] - 4s 67ms/step - loss: 0.5600 - accuracy: 0.8670\n"
          ]
        }
      ]
    },
    {
      "cell_type": "code",
      "metadata": {
        "id": "rh638vHG5ej6",
        "colab": {
          "base_uri": "https://localhost:8080/"
        },
        "outputId": "e128fe3a-9573-453e-a9bc-1664bc56a840"
      },
      "source": [
        "# Display random test set observation and its prediction (using random integer generator) \n",
        "i = random.randint(0, len(test_labels))\n",
        "\n",
        "print('Sentence:', test_tweets[i])\n",
        "print('Emotion:', index_to_class[test_labels[i]])\n",
        "\n",
        "p1 = model.predict(np.expand_dims(test_seq[i], axis=0))[0]\n",
        "pred_class = index_to_class[np.argmax(p1).astype('uint8')]\n",
        "\n",
        "print('Predicted emotion:',pred_class)"
      ],
      "execution_count": 40,
      "outputs": [
        {
          "output_type": "stream",
          "name": "stdout",
          "text": [
            "Sentence: i left there feeling brow beaten\n",
            "Emotion: sadness\n",
            "Predicted emotion: sadness\n"
          ]
        }
      ]
    },
    {
      "cell_type": "code",
      "metadata": {
        "id": "hHl5SVCFxIhh"
      },
      "source": [
        "# All predictions in test set\n",
        "\n",
        "preds=model.predict(test_seq) \n",
        "pred_classes=np.argmax(preds,axis=1)"
      ],
      "execution_count": 42,
      "outputs": []
    },
    {
      "cell_type": "code",
      "metadata": {
        "id": "NC8YQ0OexIhj",
        "colab": {
          "base_uri": "https://localhost:8080/",
          "height": 506
        },
        "outputId": "2ae6f417-1dae-411d-924c-2e76f54cd34f"
      },
      "source": [
        "# Evaluate prediction confusion matrix\n",
        "show_confusion_matrix(test_labels, pred_classes, list(classes))"
      ],
      "execution_count": 44,
      "outputs": [
        {
          "output_type": "display_data",
          "data": {
            "text/plain": [
              "<Figure size 576x576 with 2 Axes>"
            ],
            "image/png": "[encoded data removed]"
          },
          "metadata": {}
        }
      ]
    },
    {
      "cell_type": "markdown",
      "source": [
        "## Recommended Next Steps\n",
        "\n",
        "The semantics of \"Love\" and \"Surprise\" were not adequately captured by the model. There are also indications that the model is overfitting. \n",
        "\n",
        "It is recommended to explore additional modeling methods such as reducing variance by considering regularization methods (Dropout layers, batch normalization, etc.). Experimenting with different activation functions, learning rate, and/or optimizers may also prove helpful. Randomized search cross validation is likely a good starting point for model tuning. \n",
        "\n",
        "When exploring model tuning, I will likely use Tensorboard via callbacks."
      ],
      "metadata": {
        "id": "cVazm-059yxP"
      }
    }
  ]
}